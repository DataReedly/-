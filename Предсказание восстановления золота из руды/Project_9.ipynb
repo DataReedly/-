{
  "nbformat": 4,
  "nbformat_minor": 0,
  "metadata": {
    "kernelspec": {
      "display_name": "Python 3",
      "language": "python",
      "name": "python3"
    },
    "language_info": {
      "codemirror_mode": {
        "name": "ipython",
        "version": 3
      },
      "file_extension": ".py",
      "mimetype": "text/x-python",
      "name": "python",
      "nbconvert_exporter": "python",
      "pygments_lexer": "ipython3",
      "version": "3.7.4"
    },
    "colab": {
      "name": "Проект 9.ipynb",
      "provenance": []
    }
  },
  "cells": [
    {
      "cell_type": "markdown",
      "metadata": {
        "id": "ylnbjc8qZnyM"
      },
      "source": [
        "# Описание проекта\n",
        "\n",
        "Подготовьте прототип модели машинного обучения для «Цифры». Компания разрабатывает решения для эффективной работы промышленных предприятий.\n",
        "\n",
        "Модель должна предсказать коэффициент восстановления золота из золотосодержащей руды. В вашем распоряжении данные с параметрами добычи и очистки. \n",
        "\n",
        "Модель поможет оптимизировать производство, чтобы не запускать предприятие с убыточными характеристиками.\n",
        "\n",
        "Вам нужно:\n",
        "\n",
        "1. Подготовить данные;\n",
        "2. Провести исследовательский анализ данных;\n",
        "3. Построить и обучить модель.\n",
        "\n",
        "Чтобы выполнить проект, обращайтесь к библиотекам *pandas*, *matplotlib* и *sklearn.* Вам поможет их документация."
      ]
    },
    {
      "cell_type": "markdown",
      "metadata": {
        "id": "A66BmJ_AZnyN"
      },
      "source": [
        "# 1. Подготовка данных"
      ]
    },
    {
      "cell_type": "code",
      "metadata": {
        "id": "jXpMb7-CZnyO"
      },
      "source": [
        "import pandas as pd\n",
        "import numpy as np\n",
        "from matplotlib import pyplot as plt\n",
        "from matplotlib.pyplot import figure\n",
        "import seaborn as sns\n",
        "from sklearn.preprocessing import StandardScaler\n",
        "from sklearn.metrics import mean_absolute_error\n",
        "from sklearn.metrics import accuracy_score\n",
        "from sklearn.model_selection import GridSearchCV\n",
        "from sklearn.metrics import make_scorer\n",
        "from sklearn.model_selection import cross_val_score\n",
        "from sklearn.model_selection import train_test_split\n",
        "from sklearn.tree import DecisionTreeRegressor\n",
        "from sklearn.ensemble import RandomForestRegressor\n",
        "from sklearn.linear_model import LinearRegression\n",
        "from sklearn.gaussian_process import GaussianProcessRegressor\n",
        "from sklearn.ensemble import GradientBoostingRegressor"
      ],
      "execution_count": 1,
      "outputs": []
    },
    {
      "cell_type": "code",
      "metadata": {
        "id": "Nd_6KYhKZnyW"
      },
      "source": [
        "pd.set_option('display.max_columns', 500)\n",
        "pd.set_option('display.max_rows', 500) "
      ],
      "execution_count": 2,
      "outputs": []
    },
    {
      "cell_type": "code",
      "metadata": {
        "id": "0ZsZF7lqZ9qR",
        "outputId": "450a0ca6-df66-4f0d-c1be-422a7e4daee2",
        "colab": {
          "base_uri": "https://localhost:8080/",
          "height": 34
        }
      },
      "source": [
        "from google.colab import drive\n",
        "drive.mount('/content/drive')"
      ],
      "execution_count": 3,
      "outputs": [
        {
          "output_type": "stream",
          "text": [
            "Drive already mounted at /content/drive; to attempt to forcibly remount, call drive.mount(\"/content/drive\", force_remount=True).\n"
          ],
          "name": "stdout"
        }
      ]
    },
    {
      "cell_type": "code",
      "metadata": {
        "id": "Hwf6g-cWZnyp"
      },
      "source": [
        "df_train = pd.read_csv('/content/drive/My Drive/Colab Notebooks/gold_recovery_train.csv')\n",
        "df_test = pd.read_csv('/content/drive/My Drive/Colab Notebooks/gold_recovery_test.csv')\n",
        "df_full = pd.read_csv('/content/drive/My Drive/Colab Notebooks/gold_recovery_full.csv')"
      ],
      "execution_count": 4,
      "outputs": []
    },
    {
      "cell_type": "code",
      "metadata": {
        "id": "W07grYFRaPA-",
        "outputId": "7b233d31-28da-4506-d671-c30e418b9b10",
        "colab": {
          "base_uri": "https://localhost:8080/",
          "height": 1000
        }
      },
      "source": [
        "df_train.info()"
      ],
      "execution_count": 5,
      "outputs": [
        {
          "output_type": "stream",
          "text": [
            "<class 'pandas.core.frame.DataFrame'>\n",
            "RangeIndex: 16860 entries, 0 to 16859\n",
            "Data columns (total 87 columns):\n",
            " #   Column                                              Non-Null Count  Dtype  \n",
            "---  ------                                              --------------  -----  \n",
            " 0   date                                                16860 non-null  object \n",
            " 1   final.output.concentrate_ag                         16788 non-null  float64\n",
            " 2   final.output.concentrate_pb                         16788 non-null  float64\n",
            " 3   final.output.concentrate_sol                        16490 non-null  float64\n",
            " 4   final.output.concentrate_au                         16789 non-null  float64\n",
            " 5   final.output.recovery                               15339 non-null  float64\n",
            " 6   final.output.tail_ag                                16794 non-null  float64\n",
            " 7   final.output.tail_pb                                16677 non-null  float64\n",
            " 8   final.output.tail_sol                               16715 non-null  float64\n",
            " 9   final.output.tail_au                                16794 non-null  float64\n",
            " 10  primary_cleaner.input.sulfate                       15553 non-null  float64\n",
            " 11  primary_cleaner.input.depressant                    15598 non-null  float64\n",
            " 12  primary_cleaner.input.feed_size                     16860 non-null  float64\n",
            " 13  primary_cleaner.input.xanthate                      15875 non-null  float64\n",
            " 14  primary_cleaner.output.concentrate_ag               16778 non-null  float64\n",
            " 15  primary_cleaner.output.concentrate_pb               16502 non-null  float64\n",
            " 16  primary_cleaner.output.concentrate_sol              16224 non-null  float64\n",
            " 17  primary_cleaner.output.concentrate_au               16778 non-null  float64\n",
            " 18  primary_cleaner.output.tail_ag                      16777 non-null  float64\n",
            " 19  primary_cleaner.output.tail_pb                      16761 non-null  float64\n",
            " 20  primary_cleaner.output.tail_sol                     16579 non-null  float64\n",
            " 21  primary_cleaner.output.tail_au                      16777 non-null  float64\n",
            " 22  primary_cleaner.state.floatbank8_a_air              16820 non-null  float64\n",
            " 23  primary_cleaner.state.floatbank8_a_level            16827 non-null  float64\n",
            " 24  primary_cleaner.state.floatbank8_b_air              16820 non-null  float64\n",
            " 25  primary_cleaner.state.floatbank8_b_level            16833 non-null  float64\n",
            " 26  primary_cleaner.state.floatbank8_c_air              16822 non-null  float64\n",
            " 27  primary_cleaner.state.floatbank8_c_level            16833 non-null  float64\n",
            " 28  primary_cleaner.state.floatbank8_d_air              16821 non-null  float64\n",
            " 29  primary_cleaner.state.floatbank8_d_level            16833 non-null  float64\n",
            " 30  rougher.calculation.sulfate_to_au_concentrate       16833 non-null  float64\n",
            " 31  rougher.calculation.floatbank10_sulfate_to_au_feed  16833 non-null  float64\n",
            " 32  rougher.calculation.floatbank11_sulfate_to_au_feed  16833 non-null  float64\n",
            " 33  rougher.calculation.au_pb_ratio                     15618 non-null  float64\n",
            " 34  rougher.input.feed_ag                               16778 non-null  float64\n",
            " 35  rougher.input.feed_pb                               16632 non-null  float64\n",
            " 36  rougher.input.feed_rate                             16347 non-null  float64\n",
            " 37  rougher.input.feed_size                             16443 non-null  float64\n",
            " 38  rougher.input.feed_sol                              16568 non-null  float64\n",
            " 39  rougher.input.feed_au                               16777 non-null  float64\n",
            " 40  rougher.input.floatbank10_sulfate                   15816 non-null  float64\n",
            " 41  rougher.input.floatbank10_xanthate                  16514 non-null  float64\n",
            " 42  rougher.input.floatbank11_sulfate                   16237 non-null  float64\n",
            " 43  rougher.input.floatbank11_xanthate                  14956 non-null  float64\n",
            " 44  rougher.output.concentrate_ag                       16778 non-null  float64\n",
            " 45  rougher.output.concentrate_pb                       16778 non-null  float64\n",
            " 46  rougher.output.concentrate_sol                      16698 non-null  float64\n",
            " 47  rougher.output.concentrate_au                       16778 non-null  float64\n",
            " 48  rougher.output.recovery                             14287 non-null  float64\n",
            " 49  rougher.output.tail_ag                              14610 non-null  float64\n",
            " 50  rougher.output.tail_pb                              16778 non-null  float64\n",
            " 51  rougher.output.tail_sol                             14611 non-null  float64\n",
            " 52  rougher.output.tail_au                              14611 non-null  float64\n",
            " 53  rougher.state.floatbank10_a_air                     16807 non-null  float64\n",
            " 54  rougher.state.floatbank10_a_level                   16807 non-null  float64\n",
            " 55  rougher.state.floatbank10_b_air                     16807 non-null  float64\n",
            " 56  rougher.state.floatbank10_b_level                   16807 non-null  float64\n",
            " 57  rougher.state.floatbank10_c_air                     16807 non-null  float64\n",
            " 58  rougher.state.floatbank10_c_level                   16814 non-null  float64\n",
            " 59  rougher.state.floatbank10_d_air                     16802 non-null  float64\n",
            " 60  rougher.state.floatbank10_d_level                   16809 non-null  float64\n",
            " 61  rougher.state.floatbank10_e_air                     16257 non-null  float64\n",
            " 62  rougher.state.floatbank10_e_level                   16809 non-null  float64\n",
            " 63  rougher.state.floatbank10_f_air                     16802 non-null  float64\n",
            " 64  rougher.state.floatbank10_f_level                   16802 non-null  float64\n",
            " 65  secondary_cleaner.output.tail_ag                    16776 non-null  float64\n",
            " 66  secondary_cleaner.output.tail_pb                    16764 non-null  float64\n",
            " 67  secondary_cleaner.output.tail_sol                   14874 non-null  float64\n",
            " 68  secondary_cleaner.output.tail_au                    16778 non-null  float64\n",
            " 69  secondary_cleaner.state.floatbank2_a_air            16497 non-null  float64\n",
            " 70  secondary_cleaner.state.floatbank2_a_level          16751 non-null  float64\n",
            " 71  secondary_cleaner.state.floatbank2_b_air            16705 non-null  float64\n",
            " 72  secondary_cleaner.state.floatbank2_b_level          16748 non-null  float64\n",
            " 73  secondary_cleaner.state.floatbank3_a_air            16763 non-null  float64\n",
            " 74  secondary_cleaner.state.floatbank3_a_level          16747 non-null  float64\n",
            " 75  secondary_cleaner.state.floatbank3_b_air            16752 non-null  float64\n",
            " 76  secondary_cleaner.state.floatbank3_b_level          16750 non-null  float64\n",
            " 77  secondary_cleaner.state.floatbank4_a_air            16731 non-null  float64\n",
            " 78  secondary_cleaner.state.floatbank4_a_level          16747 non-null  float64\n",
            " 79  secondary_cleaner.state.floatbank4_b_air            16768 non-null  float64\n",
            " 80  secondary_cleaner.state.floatbank4_b_level          16767 non-null  float64\n",
            " 81  secondary_cleaner.state.floatbank5_a_air            16775 non-null  float64\n",
            " 82  secondary_cleaner.state.floatbank5_a_level          16775 non-null  float64\n",
            " 83  secondary_cleaner.state.floatbank5_b_air            16775 non-null  float64\n",
            " 84  secondary_cleaner.state.floatbank5_b_level          16776 non-null  float64\n",
            " 85  secondary_cleaner.state.floatbank6_a_air            16757 non-null  float64\n",
            " 86  secondary_cleaner.state.floatbank6_a_level          16775 non-null  float64\n",
            "dtypes: float64(86), object(1)\n",
            "memory usage: 11.2+ MB\n"
          ],
          "name": "stdout"
        }
      ]
    },
    {
      "cell_type": "code",
      "metadata": {
        "id": "kKEuIxsGaO-B",
        "outputId": "2d9b7910-1ec4-45c1-d54c-1d818d04e1ee",
        "colab": {
          "base_uri": "https://localhost:8080/",
          "height": 1000
        }
      },
      "source": [
        "df_test.info()"
      ],
      "execution_count": 6,
      "outputs": [
        {
          "output_type": "stream",
          "text": [
            "<class 'pandas.core.frame.DataFrame'>\n",
            "RangeIndex: 5856 entries, 0 to 5855\n",
            "Data columns (total 53 columns):\n",
            " #   Column                                      Non-Null Count  Dtype  \n",
            "---  ------                                      --------------  -----  \n",
            " 0   date                                        5856 non-null   object \n",
            " 1   primary_cleaner.input.sulfate               5554 non-null   float64\n",
            " 2   primary_cleaner.input.depressant            5572 non-null   float64\n",
            " 3   primary_cleaner.input.feed_size             5856 non-null   float64\n",
            " 4   primary_cleaner.input.xanthate              5690 non-null   float64\n",
            " 5   primary_cleaner.state.floatbank8_a_air      5840 non-null   float64\n",
            " 6   primary_cleaner.state.floatbank8_a_level    5840 non-null   float64\n",
            " 7   primary_cleaner.state.floatbank8_b_air      5840 non-null   float64\n",
            " 8   primary_cleaner.state.floatbank8_b_level    5840 non-null   float64\n",
            " 9   primary_cleaner.state.floatbank8_c_air      5840 non-null   float64\n",
            " 10  primary_cleaner.state.floatbank8_c_level    5840 non-null   float64\n",
            " 11  primary_cleaner.state.floatbank8_d_air      5840 non-null   float64\n",
            " 12  primary_cleaner.state.floatbank8_d_level    5840 non-null   float64\n",
            " 13  rougher.input.feed_ag                       5840 non-null   float64\n",
            " 14  rougher.input.feed_pb                       5840 non-null   float64\n",
            " 15  rougher.input.feed_rate                     5816 non-null   float64\n",
            " 16  rougher.input.feed_size                     5834 non-null   float64\n",
            " 17  rougher.input.feed_sol                      5789 non-null   float64\n",
            " 18  rougher.input.feed_au                       5840 non-null   float64\n",
            " 19  rougher.input.floatbank10_sulfate           5599 non-null   float64\n",
            " 20  rougher.input.floatbank10_xanthate          5733 non-null   float64\n",
            " 21  rougher.input.floatbank11_sulfate           5801 non-null   float64\n",
            " 22  rougher.input.floatbank11_xanthate          5503 non-null   float64\n",
            " 23  rougher.state.floatbank10_a_air             5839 non-null   float64\n",
            " 24  rougher.state.floatbank10_a_level           5840 non-null   float64\n",
            " 25  rougher.state.floatbank10_b_air             5839 non-null   float64\n",
            " 26  rougher.state.floatbank10_b_level           5840 non-null   float64\n",
            " 27  rougher.state.floatbank10_c_air             5839 non-null   float64\n",
            " 28  rougher.state.floatbank10_c_level           5840 non-null   float64\n",
            " 29  rougher.state.floatbank10_d_air             5839 non-null   float64\n",
            " 30  rougher.state.floatbank10_d_level           5840 non-null   float64\n",
            " 31  rougher.state.floatbank10_e_air             5839 non-null   float64\n",
            " 32  rougher.state.floatbank10_e_level           5840 non-null   float64\n",
            " 33  rougher.state.floatbank10_f_air             5839 non-null   float64\n",
            " 34  rougher.state.floatbank10_f_level           5840 non-null   float64\n",
            " 35  secondary_cleaner.state.floatbank2_a_air    5836 non-null   float64\n",
            " 36  secondary_cleaner.state.floatbank2_a_level  5840 non-null   float64\n",
            " 37  secondary_cleaner.state.floatbank2_b_air    5833 non-null   float64\n",
            " 38  secondary_cleaner.state.floatbank2_b_level  5840 non-null   float64\n",
            " 39  secondary_cleaner.state.floatbank3_a_air    5822 non-null   float64\n",
            " 40  secondary_cleaner.state.floatbank3_a_level  5840 non-null   float64\n",
            " 41  secondary_cleaner.state.floatbank3_b_air    5840 non-null   float64\n",
            " 42  secondary_cleaner.state.floatbank3_b_level  5840 non-null   float64\n",
            " 43  secondary_cleaner.state.floatbank4_a_air    5840 non-null   float64\n",
            " 44  secondary_cleaner.state.floatbank4_a_level  5840 non-null   float64\n",
            " 45  secondary_cleaner.state.floatbank4_b_air    5840 non-null   float64\n",
            " 46  secondary_cleaner.state.floatbank4_b_level  5840 non-null   float64\n",
            " 47  secondary_cleaner.state.floatbank5_a_air    5840 non-null   float64\n",
            " 48  secondary_cleaner.state.floatbank5_a_level  5840 non-null   float64\n",
            " 49  secondary_cleaner.state.floatbank5_b_air    5840 non-null   float64\n",
            " 50  secondary_cleaner.state.floatbank5_b_level  5840 non-null   float64\n",
            " 51  secondary_cleaner.state.floatbank6_a_air    5840 non-null   float64\n",
            " 52  secondary_cleaner.state.floatbank6_a_level  5840 non-null   float64\n",
            "dtypes: float64(52), object(1)\n",
            "memory usage: 2.4+ MB\n"
          ],
          "name": "stdout"
        }
      ]
    },
    {
      "cell_type": "code",
      "metadata": {
        "id": "yJ__mVpkaO6o",
        "outputId": "42f3aeaa-9e1f-4e4e-b468-7fc5dee0827c",
        "colab": {
          "base_uri": "https://localhost:8080/",
          "height": 1000
        }
      },
      "source": [
        "df_full.info()"
      ],
      "execution_count": 7,
      "outputs": [
        {
          "output_type": "stream",
          "text": [
            "<class 'pandas.core.frame.DataFrame'>\n",
            "RangeIndex: 22716 entries, 0 to 22715\n",
            "Data columns (total 87 columns):\n",
            " #   Column                                              Non-Null Count  Dtype  \n",
            "---  ------                                              --------------  -----  \n",
            " 0   date                                                22716 non-null  object \n",
            " 1   final.output.concentrate_ag                         22627 non-null  float64\n",
            " 2   final.output.concentrate_pb                         22629 non-null  float64\n",
            " 3   final.output.concentrate_sol                        22331 non-null  float64\n",
            " 4   final.output.concentrate_au                         22630 non-null  float64\n",
            " 5   final.output.recovery                               20753 non-null  float64\n",
            " 6   final.output.tail_ag                                22633 non-null  float64\n",
            " 7   final.output.tail_pb                                22516 non-null  float64\n",
            " 8   final.output.tail_sol                               22445 non-null  float64\n",
            " 9   final.output.tail_au                                22635 non-null  float64\n",
            " 10  primary_cleaner.input.sulfate                       21107 non-null  float64\n",
            " 11  primary_cleaner.input.depressant                    21170 non-null  float64\n",
            " 12  primary_cleaner.input.feed_size                     22716 non-null  float64\n",
            " 13  primary_cleaner.input.xanthate                      21565 non-null  float64\n",
            " 14  primary_cleaner.output.concentrate_ag               22618 non-null  float64\n",
            " 15  primary_cleaner.output.concentrate_pb               22268 non-null  float64\n",
            " 16  primary_cleaner.output.concentrate_sol              21918 non-null  float64\n",
            " 17  primary_cleaner.output.concentrate_au               22618 non-null  float64\n",
            " 18  primary_cleaner.output.tail_ag                      22614 non-null  float64\n",
            " 19  primary_cleaner.output.tail_pb                      22594 non-null  float64\n",
            " 20  primary_cleaner.output.tail_sol                     22365 non-null  float64\n",
            " 21  primary_cleaner.output.tail_au                      22617 non-null  float64\n",
            " 22  primary_cleaner.state.floatbank8_a_air              22660 non-null  float64\n",
            " 23  primary_cleaner.state.floatbank8_a_level            22667 non-null  float64\n",
            " 24  primary_cleaner.state.floatbank8_b_air              22660 non-null  float64\n",
            " 25  primary_cleaner.state.floatbank8_b_level            22673 non-null  float64\n",
            " 26  primary_cleaner.state.floatbank8_c_air              22662 non-null  float64\n",
            " 27  primary_cleaner.state.floatbank8_c_level            22673 non-null  float64\n",
            " 28  primary_cleaner.state.floatbank8_d_air              22661 non-null  float64\n",
            " 29  primary_cleaner.state.floatbank8_d_level            22673 non-null  float64\n",
            " 30  rougher.calculation.sulfate_to_au_concentrate       22672 non-null  float64\n",
            " 31  rougher.calculation.floatbank10_sulfate_to_au_feed  22672 non-null  float64\n",
            " 32  rougher.calculation.floatbank11_sulfate_to_au_feed  22672 non-null  float64\n",
            " 33  rougher.calculation.au_pb_ratio                     21089 non-null  float64\n",
            " 34  rougher.input.feed_ag                               22618 non-null  float64\n",
            " 35  rougher.input.feed_pb                               22472 non-null  float64\n",
            " 36  rougher.input.feed_rate                             22163 non-null  float64\n",
            " 37  rougher.input.feed_size                             22277 non-null  float64\n",
            " 38  rougher.input.feed_sol                              22357 non-null  float64\n",
            " 39  rougher.input.feed_au                               22617 non-null  float64\n",
            " 40  rougher.input.floatbank10_sulfate                   21415 non-null  float64\n",
            " 41  rougher.input.floatbank10_xanthate                  22247 non-null  float64\n",
            " 42  rougher.input.floatbank11_sulfate                   22038 non-null  float64\n",
            " 43  rougher.input.floatbank11_xanthate                  20459 non-null  float64\n",
            " 44  rougher.output.concentrate_ag                       22618 non-null  float64\n",
            " 45  rougher.output.concentrate_pb                       22618 non-null  float64\n",
            " 46  rougher.output.concentrate_sol                      22526 non-null  float64\n",
            " 47  rougher.output.concentrate_au                       22618 non-null  float64\n",
            " 48  rougher.output.recovery                             19597 non-null  float64\n",
            " 49  rougher.output.tail_ag                              19979 non-null  float64\n",
            " 50  rougher.output.tail_pb                              22618 non-null  float64\n",
            " 51  rougher.output.tail_sol                             19980 non-null  float64\n",
            " 52  rougher.output.tail_au                              19980 non-null  float64\n",
            " 53  rougher.state.floatbank10_a_air                     22646 non-null  float64\n",
            " 54  rougher.state.floatbank10_a_level                   22647 non-null  float64\n",
            " 55  rougher.state.floatbank10_b_air                     22646 non-null  float64\n",
            " 56  rougher.state.floatbank10_b_level                   22647 non-null  float64\n",
            " 57  rougher.state.floatbank10_c_air                     22646 non-null  float64\n",
            " 58  rougher.state.floatbank10_c_level                   22654 non-null  float64\n",
            " 59  rougher.state.floatbank10_d_air                     22641 non-null  float64\n",
            " 60  rougher.state.floatbank10_d_level                   22649 non-null  float64\n",
            " 61  rougher.state.floatbank10_e_air                     22096 non-null  float64\n",
            " 62  rougher.state.floatbank10_e_level                   22649 non-null  float64\n",
            " 63  rougher.state.floatbank10_f_air                     22641 non-null  float64\n",
            " 64  rougher.state.floatbank10_f_level                   22642 non-null  float64\n",
            " 65  secondary_cleaner.output.tail_ag                    22616 non-null  float64\n",
            " 66  secondary_cleaner.output.tail_pb                    22600 non-null  float64\n",
            " 67  secondary_cleaner.output.tail_sol                   20501 non-null  float64\n",
            " 68  secondary_cleaner.output.tail_au                    22618 non-null  float64\n",
            " 69  secondary_cleaner.state.floatbank2_a_air            22333 non-null  float64\n",
            " 70  secondary_cleaner.state.floatbank2_a_level          22591 non-null  float64\n",
            " 71  secondary_cleaner.state.floatbank2_b_air            22538 non-null  float64\n",
            " 72  secondary_cleaner.state.floatbank2_b_level          22588 non-null  float64\n",
            " 73  secondary_cleaner.state.floatbank3_a_air            22585 non-null  float64\n",
            " 74  secondary_cleaner.state.floatbank3_a_level          22587 non-null  float64\n",
            " 75  secondary_cleaner.state.floatbank3_b_air            22592 non-null  float64\n",
            " 76  secondary_cleaner.state.floatbank3_b_level          22590 non-null  float64\n",
            " 77  secondary_cleaner.state.floatbank4_a_air            22571 non-null  float64\n",
            " 78  secondary_cleaner.state.floatbank4_a_level          22587 non-null  float64\n",
            " 79  secondary_cleaner.state.floatbank4_b_air            22608 non-null  float64\n",
            " 80  secondary_cleaner.state.floatbank4_b_level          22607 non-null  float64\n",
            " 81  secondary_cleaner.state.floatbank5_a_air            22615 non-null  float64\n",
            " 82  secondary_cleaner.state.floatbank5_a_level          22615 non-null  float64\n",
            " 83  secondary_cleaner.state.floatbank5_b_air            22615 non-null  float64\n",
            " 84  secondary_cleaner.state.floatbank5_b_level          22616 non-null  float64\n",
            " 85  secondary_cleaner.state.floatbank6_a_air            22597 non-null  float64\n",
            " 86  secondary_cleaner.state.floatbank6_a_level          22615 non-null  float64\n",
            "dtypes: float64(86), object(1)\n",
            "memory usage: 15.1+ MB\n"
          ],
          "name": "stdout"
        }
      ]
    },
    {
      "cell_type": "code",
      "metadata": {
        "id": "EvSTJpzJZnyx",
        "outputId": "d9ca5062-ef4d-46d3-a62a-e15a4e87c6b5",
        "colab": {
          "base_uri": "https://localhost:8080/",
          "height": 34
        }
      },
      "source": [
        "df_full.duplicated().sum()"
      ],
      "execution_count": 8,
      "outputs": [
        {
          "output_type": "execute_result",
          "data": {
            "text/plain": [
              "0"
            ]
          },
          "metadata": {
            "tags": []
          },
          "execution_count": 8
        }
      ]
    },
    {
      "cell_type": "markdown",
      "metadata": {
        "id": "3PRbjbaQZny5"
      },
      "source": [
        "##### Выводы:\n",
        "1. Дубликаты отстутствуют.\n",
        "2. Есть пропущенные значения во всех датафреймах."
      ]
    },
    {
      "cell_type": "markdown",
      "metadata": {
        "id": "63qntPUyZny6"
      },
      "source": [
        "### Новая переменная для расчёта MAE."
      ]
    },
    {
      "cell_type": "code",
      "metadata": {
        "id": "8K7i99i_Zny7"
      },
      "source": [
        "df_train_mae = df_train.dropna().copy()"
      ],
      "execution_count": 9,
      "outputs": []
    },
    {
      "cell_type": "markdown",
      "metadata": {
        "id": "RE2vh3T6ZnzA"
      },
      "source": [
        "### Функция по расчёту Recovery."
      ]
    },
    {
      "cell_type": "code",
      "metadata": {
        "id": "Nrc57k3wZnzB"
      },
      "source": [
        "def recovery(c,f,t):\n",
        "    try:\n",
        "        result = (c*(f-t))/(f*(c-t))\n",
        "        if result < 0:\n",
        "            return 0\n",
        "        else:\n",
        "            return result\n",
        "    except:\n",
        "        return 0"
      ],
      "execution_count": 10,
      "outputs": []
    },
    {
      "cell_type": "markdown",
      "metadata": {
        "id": "-XK_TRvUZnzF"
      },
      "source": [
        "### Расчёт Recovery."
      ]
    },
    {
      "cell_type": "code",
      "metadata": {
        "id": "5jPqUQ4bZnzG"
      },
      "source": [
        "#df_train_mae['rougher.output.recovery.calculated'] = abs((df_train_mae['rougher.output.concentrate_au']*(df_train_mae['rougher.input.feed_au']-df_train_mae['rougher.output.tail_au']))/(df_train_mae['rougher.input.feed_au']*(df_train_mae['rougher.output.concentrate_au']-df_train_mae['rougher.output.tail_au'])))\n",
        "#с = df_train_mae['rougher.output.concentrate_au']\n",
        "#f = df_train_mae['rougher.input.feed_au']\n",
        "#t = df_train_mae['rougher.output.tail_au']\n",
        "df_train_mae['rougher.output.recovery.calculated'] = df_train_mae.apply(lambda x: recovery(x['rougher.output.concentrate_au'],x['rougher.input.feed_au'],x['rougher.output.tail_au']), axis=1)"
      ],
      "execution_count": 11,
      "outputs": []
    },
    {
      "cell_type": "markdown",
      "metadata": {
        "id": "mvGWnw-cZnzK"
      },
      "source": [
        "### Расчёт MAE."
      ]
    },
    {
      "cell_type": "code",
      "metadata": {
        "id": "kM36EtxLZnzL",
        "outputId": "a42cc2ca-2392-4912-aeaf-e895c8cdd380",
        "colab": {
          "base_uri": "https://localhost:8080/",
          "height": 34
        }
      },
      "source": [
        "print(mean_absolute_error(df_train_mae['rougher.output.recovery'], df_train_mae['rougher.output.recovery.calculated']*100))"
      ],
      "execution_count": 12,
      "outputs": [
        {
          "output_type": "stream",
          "text": [
            "9.555596961987514e-15\n"
          ],
          "name": "stdout"
        }
      ]
    },
    {
      "cell_type": "markdown",
      "metadata": {
        "id": "b5A0LWGfZnzR"
      },
      "source": [
        "##### Вывод: значение MAE получилось очень низкое, можно сказать, равное нулю. Recovery было посчитано верно."
      ]
    },
    {
      "cell_type": "markdown",
      "metadata": {
        "id": "_OS4QbbKZnzR"
      },
      "source": [
        "### Сравнение test и train выборок."
      ]
    },
    {
      "cell_type": "markdown",
      "metadata": {
        "id": "akFE32mqZnzS"
      },
      "source": [
        "##### Разница в столбцах:"
      ]
    },
    {
      "cell_type": "code",
      "metadata": {
        "id": "l_rW0R_dZnzT",
        "outputId": "1b30b584-c5a8-4aa4-859e-1fd4788d461e",
        "colab": {
          "base_uri": "https://localhost:8080/",
          "height": 34
        }
      },
      "source": [
        "print(len(df_train.columns)-len(df_test.columns))"
      ],
      "execution_count": 13,
      "outputs": [
        {
          "output_type": "stream",
          "text": [
            "34\n"
          ],
          "name": "stdout"
        }
      ]
    },
    {
      "cell_type": "code",
      "metadata": {
        "id": "6eOuDka8ZnzX",
        "outputId": "f0e3071d-1424-4004-d936-1680ff4e1743",
        "colab": {
          "base_uri": "https://localhost:8080/",
          "height": 612
        }
      },
      "source": [
        "count=0\n",
        "for i in sorted(set(df_train.columns) - set(df_test.columns)):\n",
        "    count+=1\n",
        "    print(i)\n",
        "print(count)"
      ],
      "execution_count": 14,
      "outputs": [
        {
          "output_type": "stream",
          "text": [
            "final.output.concentrate_ag\n",
            "final.output.concentrate_au\n",
            "final.output.concentrate_pb\n",
            "final.output.concentrate_sol\n",
            "final.output.recovery\n",
            "final.output.tail_ag\n",
            "final.output.tail_au\n",
            "final.output.tail_pb\n",
            "final.output.tail_sol\n",
            "primary_cleaner.output.concentrate_ag\n",
            "primary_cleaner.output.concentrate_au\n",
            "primary_cleaner.output.concentrate_pb\n",
            "primary_cleaner.output.concentrate_sol\n",
            "primary_cleaner.output.tail_ag\n",
            "primary_cleaner.output.tail_au\n",
            "primary_cleaner.output.tail_pb\n",
            "primary_cleaner.output.tail_sol\n",
            "rougher.calculation.au_pb_ratio\n",
            "rougher.calculation.floatbank10_sulfate_to_au_feed\n",
            "rougher.calculation.floatbank11_sulfate_to_au_feed\n",
            "rougher.calculation.sulfate_to_au_concentrate\n",
            "rougher.output.concentrate_ag\n",
            "rougher.output.concentrate_au\n",
            "rougher.output.concentrate_pb\n",
            "rougher.output.concentrate_sol\n",
            "rougher.output.recovery\n",
            "rougher.output.tail_ag\n",
            "rougher.output.tail_au\n",
            "rougher.output.tail_pb\n",
            "rougher.output.tail_sol\n",
            "secondary_cleaner.output.tail_ag\n",
            "secondary_cleaner.output.tail_au\n",
            "secondary_cleaner.output.tail_pb\n",
            "secondary_cleaner.output.tail_sol\n",
            "34\n"
          ],
          "name": "stdout"
        }
      ]
    },
    {
      "cell_type": "markdown",
      "metadata": {
        "id": "-bkDoGvCZnzb"
      },
      "source": [
        "##### Вывод: в тестовой выборке отсутствуют выходные (конечные) данные и некоторые расчётные параметры по каждому этапу технологического процесса. Все они относятся к типу output."
      ]
    },
    {
      "cell_type": "markdown",
      "metadata": {
        "id": "78MtR6YxZnzc"
      },
      "source": [
        "### Предобработка."
      ]
    },
    {
      "cell_type": "markdown",
      "metadata": {
        "id": "4RvH0HZQZnzd"
      },
      "source": [
        "### Проверка количества пропущенных значений df_full."
      ]
    },
    {
      "cell_type": "code",
      "metadata": {
        "id": "Gkuw6lYpZnze",
        "outputId": "59621134-0065-4ed4-fd7e-777201eb0356",
        "colab": {
          "base_uri": "https://localhost:8080/",
          "height": 1000
        }
      },
      "source": [
        "df_full.isna().sum()"
      ],
      "execution_count": 15,
      "outputs": [
        {
          "output_type": "execute_result",
          "data": {
            "text/plain": [
              "date                                                     0\n",
              "final.output.concentrate_ag                             89\n",
              "final.output.concentrate_pb                             87\n",
              "final.output.concentrate_sol                           385\n",
              "final.output.concentrate_au                             86\n",
              "final.output.recovery                                 1963\n",
              "final.output.tail_ag                                    83\n",
              "final.output.tail_pb                                   200\n",
              "final.output.tail_sol                                  271\n",
              "final.output.tail_au                                    81\n",
              "primary_cleaner.input.sulfate                         1609\n",
              "primary_cleaner.input.depressant                      1546\n",
              "primary_cleaner.input.feed_size                          0\n",
              "primary_cleaner.input.xanthate                        1151\n",
              "primary_cleaner.output.concentrate_ag                   98\n",
              "primary_cleaner.output.concentrate_pb                  448\n",
              "primary_cleaner.output.concentrate_sol                 798\n",
              "primary_cleaner.output.concentrate_au                   98\n",
              "primary_cleaner.output.tail_ag                         102\n",
              "primary_cleaner.output.tail_pb                         122\n",
              "primary_cleaner.output.tail_sol                        351\n",
              "primary_cleaner.output.tail_au                          99\n",
              "primary_cleaner.state.floatbank8_a_air                  56\n",
              "primary_cleaner.state.floatbank8_a_level                49\n",
              "primary_cleaner.state.floatbank8_b_air                  56\n",
              "primary_cleaner.state.floatbank8_b_level                43\n",
              "primary_cleaner.state.floatbank8_c_air                  54\n",
              "primary_cleaner.state.floatbank8_c_level                43\n",
              "primary_cleaner.state.floatbank8_d_air                  55\n",
              "primary_cleaner.state.floatbank8_d_level                43\n",
              "rougher.calculation.sulfate_to_au_concentrate           44\n",
              "rougher.calculation.floatbank10_sulfate_to_au_feed      44\n",
              "rougher.calculation.floatbank11_sulfate_to_au_feed      44\n",
              "rougher.calculation.au_pb_ratio                       1627\n",
              "rougher.input.feed_ag                                   98\n",
              "rougher.input.feed_pb                                  244\n",
              "rougher.input.feed_rate                                553\n",
              "rougher.input.feed_size                                439\n",
              "rougher.input.feed_sol                                 359\n",
              "rougher.input.feed_au                                   99\n",
              "rougher.input.floatbank10_sulfate                     1301\n",
              "rougher.input.floatbank10_xanthate                     469\n",
              "rougher.input.floatbank11_sulfate                      678\n",
              "rougher.input.floatbank11_xanthate                    2257\n",
              "rougher.output.concentrate_ag                           98\n",
              "rougher.output.concentrate_pb                           98\n",
              "rougher.output.concentrate_sol                         190\n",
              "rougher.output.concentrate_au                           98\n",
              "rougher.output.recovery                               3119\n",
              "rougher.output.tail_ag                                2737\n",
              "rougher.output.tail_pb                                  98\n",
              "rougher.output.tail_sol                               2736\n",
              "rougher.output.tail_au                                2736\n",
              "rougher.state.floatbank10_a_air                         70\n",
              "rougher.state.floatbank10_a_level                       69\n",
              "rougher.state.floatbank10_b_air                         70\n",
              "rougher.state.floatbank10_b_level                       69\n",
              "rougher.state.floatbank10_c_air                         70\n",
              "rougher.state.floatbank10_c_level                       62\n",
              "rougher.state.floatbank10_d_air                         75\n",
              "rougher.state.floatbank10_d_level                       67\n",
              "rougher.state.floatbank10_e_air                        620\n",
              "rougher.state.floatbank10_e_level                       67\n",
              "rougher.state.floatbank10_f_air                         75\n",
              "rougher.state.floatbank10_f_level                       74\n",
              "secondary_cleaner.output.tail_ag                       100\n",
              "secondary_cleaner.output.tail_pb                       116\n",
              "secondary_cleaner.output.tail_sol                     2215\n",
              "secondary_cleaner.output.tail_au                        98\n",
              "secondary_cleaner.state.floatbank2_a_air               383\n",
              "secondary_cleaner.state.floatbank2_a_level             125\n",
              "secondary_cleaner.state.floatbank2_b_air               178\n",
              "secondary_cleaner.state.floatbank2_b_level             128\n",
              "secondary_cleaner.state.floatbank3_a_air               131\n",
              "secondary_cleaner.state.floatbank3_a_level             129\n",
              "secondary_cleaner.state.floatbank3_b_air               124\n",
              "secondary_cleaner.state.floatbank3_b_level             126\n",
              "secondary_cleaner.state.floatbank4_a_air               145\n",
              "secondary_cleaner.state.floatbank4_a_level             129\n",
              "secondary_cleaner.state.floatbank4_b_air               108\n",
              "secondary_cleaner.state.floatbank4_b_level             109\n",
              "secondary_cleaner.state.floatbank5_a_air               101\n",
              "secondary_cleaner.state.floatbank5_a_level             101\n",
              "secondary_cleaner.state.floatbank5_b_air               101\n",
              "secondary_cleaner.state.floatbank5_b_level             100\n",
              "secondary_cleaner.state.floatbank6_a_air               119\n",
              "secondary_cleaner.state.floatbank6_a_level             101\n",
              "dtype: int64"
            ]
          },
          "metadata": {
            "tags": []
          },
          "execution_count": 15
        }
      ]
    },
    {
      "cell_type": "markdown",
      "metadata": {
        "id": "MYOnVkbLZnzj"
      },
      "source": [
        "##### Итоги:\n",
        "Заполняю значения в rougher.output.recovery по формуле. Остальное можно заполнить методом ffill."
      ]
    },
    {
      "cell_type": "markdown",
      "metadata": {
        "id": "kp-T7ouVZnzk"
      },
      "source": [
        "### Заполняю пропущенные значения в 'rougher.output.recovery' по формуле."
      ]
    },
    {
      "cell_type": "code",
      "metadata": {
        "id": "gg6QtA95Znzl"
      },
      "source": [
        "df_full.loc[df_full['rougher.output.recovery'].isna(),'rougher.output.recovery'] = df_full.loc[df_full['rougher.output.recovery'].isna()].apply(lambda x: recovery(x['rougher.output.concentrate_au'],x['rougher.input.feed_au'],x['rougher.output.tail_au']), axis=1)"
      ],
      "execution_count": 16,
      "outputs": []
    },
    {
      "cell_type": "code",
      "metadata": {
        "id": "m_9bMmoJZnzp",
        "outputId": "e102d5dc-06f4-4fc5-d4ce-8929b1355e42",
        "colab": {
          "base_uri": "https://localhost:8080/",
          "height": 34
        }
      },
      "source": [
        "df_full['rougher.output.recovery'].isna().sum()"
      ],
      "execution_count": 17,
      "outputs": [
        {
          "output_type": "execute_result",
          "data": {
            "text/plain": [
              "2737"
            ]
          },
          "metadata": {
            "tags": []
          },
          "execution_count": 17
        }
      ]
    },
    {
      "cell_type": "markdown",
      "metadata": {
        "id": "KITkG9ZvZnzt"
      },
      "source": [
        "### Проверка количества пропущенных значений df_train."
      ]
    },
    {
      "cell_type": "code",
      "metadata": {
        "id": "CUHi49LlZnzu",
        "outputId": "18a11faa-798c-434d-8cc6-7adca2d95c95",
        "colab": {
          "base_uri": "https://localhost:8080/",
          "height": 1000
        }
      },
      "source": [
        "df_train.isna().sum()"
      ],
      "execution_count": 18,
      "outputs": [
        {
          "output_type": "execute_result",
          "data": {
            "text/plain": [
              "date                                                     0\n",
              "final.output.concentrate_ag                             72\n",
              "final.output.concentrate_pb                             72\n",
              "final.output.concentrate_sol                           370\n",
              "final.output.concentrate_au                             71\n",
              "final.output.recovery                                 1521\n",
              "final.output.tail_ag                                    66\n",
              "final.output.tail_pb                                   183\n",
              "final.output.tail_sol                                  145\n",
              "final.output.tail_au                                    66\n",
              "primary_cleaner.input.sulfate                         1307\n",
              "primary_cleaner.input.depressant                      1262\n",
              "primary_cleaner.input.feed_size                          0\n",
              "primary_cleaner.input.xanthate                         985\n",
              "primary_cleaner.output.concentrate_ag                   82\n",
              "primary_cleaner.output.concentrate_pb                  358\n",
              "primary_cleaner.output.concentrate_sol                 636\n",
              "primary_cleaner.output.concentrate_au                   82\n",
              "primary_cleaner.output.tail_ag                          83\n",
              "primary_cleaner.output.tail_pb                          99\n",
              "primary_cleaner.output.tail_sol                        281\n",
              "primary_cleaner.output.tail_au                          83\n",
              "primary_cleaner.state.floatbank8_a_air                  40\n",
              "primary_cleaner.state.floatbank8_a_level                33\n",
              "primary_cleaner.state.floatbank8_b_air                  40\n",
              "primary_cleaner.state.floatbank8_b_level                27\n",
              "primary_cleaner.state.floatbank8_c_air                  38\n",
              "primary_cleaner.state.floatbank8_c_level                27\n",
              "primary_cleaner.state.floatbank8_d_air                  39\n",
              "primary_cleaner.state.floatbank8_d_level                27\n",
              "rougher.calculation.sulfate_to_au_concentrate           27\n",
              "rougher.calculation.floatbank10_sulfate_to_au_feed      27\n",
              "rougher.calculation.floatbank11_sulfate_to_au_feed      27\n",
              "rougher.calculation.au_pb_ratio                       1242\n",
              "rougher.input.feed_ag                                   82\n",
              "rougher.input.feed_pb                                  228\n",
              "rougher.input.feed_rate                                513\n",
              "rougher.input.feed_size                                417\n",
              "rougher.input.feed_sol                                 292\n",
              "rougher.input.feed_au                                   83\n",
              "rougher.input.floatbank10_sulfate                     1044\n",
              "rougher.input.floatbank10_xanthate                     346\n",
              "rougher.input.floatbank11_sulfate                      623\n",
              "rougher.input.floatbank11_xanthate                    1904\n",
              "rougher.output.concentrate_ag                           82\n",
              "rougher.output.concentrate_pb                           82\n",
              "rougher.output.concentrate_sol                         162\n",
              "rougher.output.concentrate_au                           82\n",
              "rougher.output.recovery                               2573\n",
              "rougher.output.tail_ag                                2250\n",
              "rougher.output.tail_pb                                  82\n",
              "rougher.output.tail_sol                               2249\n",
              "rougher.output.tail_au                                2249\n",
              "rougher.state.floatbank10_a_air                         53\n",
              "rougher.state.floatbank10_a_level                       53\n",
              "rougher.state.floatbank10_b_air                         53\n",
              "rougher.state.floatbank10_b_level                       53\n",
              "rougher.state.floatbank10_c_air                         53\n",
              "rougher.state.floatbank10_c_level                       46\n",
              "rougher.state.floatbank10_d_air                         58\n",
              "rougher.state.floatbank10_d_level                       51\n",
              "rougher.state.floatbank10_e_air                        603\n",
              "rougher.state.floatbank10_e_level                       51\n",
              "rougher.state.floatbank10_f_air                         58\n",
              "rougher.state.floatbank10_f_level                       58\n",
              "secondary_cleaner.output.tail_ag                        84\n",
              "secondary_cleaner.output.tail_pb                        96\n",
              "secondary_cleaner.output.tail_sol                     1986\n",
              "secondary_cleaner.output.tail_au                        82\n",
              "secondary_cleaner.state.floatbank2_a_air               363\n",
              "secondary_cleaner.state.floatbank2_a_level             109\n",
              "secondary_cleaner.state.floatbank2_b_air               155\n",
              "secondary_cleaner.state.floatbank2_b_level             112\n",
              "secondary_cleaner.state.floatbank3_a_air                97\n",
              "secondary_cleaner.state.floatbank3_a_level             113\n",
              "secondary_cleaner.state.floatbank3_b_air               108\n",
              "secondary_cleaner.state.floatbank3_b_level             110\n",
              "secondary_cleaner.state.floatbank4_a_air               129\n",
              "secondary_cleaner.state.floatbank4_a_level             113\n",
              "secondary_cleaner.state.floatbank4_b_air                92\n",
              "secondary_cleaner.state.floatbank4_b_level              93\n",
              "secondary_cleaner.state.floatbank5_a_air                85\n",
              "secondary_cleaner.state.floatbank5_a_level              85\n",
              "secondary_cleaner.state.floatbank5_b_air                85\n",
              "secondary_cleaner.state.floatbank5_b_level              84\n",
              "secondary_cleaner.state.floatbank6_a_air               103\n",
              "secondary_cleaner.state.floatbank6_a_level              85\n",
              "dtype: int64"
            ]
          },
          "metadata": {
            "tags": []
          },
          "execution_count": 18
        }
      ]
    },
    {
      "cell_type": "markdown",
      "metadata": {
        "id": "80smZxBFZnzy"
      },
      "source": [
        "##### Итоги:\n",
        "rougher.output.recovery - 2573 пропущенных значений.  \n",
        "Эти значения можно рассчитать и заполнить. Те, что не удаётся рассчитать - удаляем. \n",
        "Все NaN в других столбцах заполняем последним известным значением в столбце (.fillna(method = 'ffill'))"
      ]
    },
    {
      "cell_type": "markdown",
      "metadata": {
        "id": "v6rzrfIwZnzz"
      },
      "source": [
        "### Заполняю пропущенные значения в 'rougher.output.recovery' по формуле."
      ]
    },
    {
      "cell_type": "code",
      "metadata": {
        "id": "bJQLQUhAZnzz"
      },
      "source": [
        "df_train.loc[df_train['rougher.output.recovery'].isna(),'rougher.output.recovery'] = df_train.loc[df_train['rougher.output.recovery'].isna()].apply(lambda x: recovery(x['rougher.output.concentrate_au'],x['rougher.input.feed_au'],x['rougher.output.tail_au']), axis=1)"
      ],
      "execution_count": 19,
      "outputs": []
    },
    {
      "cell_type": "code",
      "metadata": {
        "id": "1CWukJO7Znz3",
        "outputId": "1a77a59c-bc82-41e7-84d7-af2878a2b16a",
        "colab": {
          "base_uri": "https://localhost:8080/",
          "height": 34
        }
      },
      "source": [
        "df_train['rougher.output.recovery'].isna().sum()"
      ],
      "execution_count": 20,
      "outputs": [
        {
          "output_type": "execute_result",
          "data": {
            "text/plain": [
              "2250"
            ]
          },
          "metadata": {
            "tags": []
          },
          "execution_count": 20
        }
      ]
    },
    {
      "cell_type": "markdown",
      "metadata": {
        "id": "nxSPKXXRZnz7"
      },
      "source": [
        "### Удаляю пропущенные значения в столбцах 'rougher.output.recovery' и 'final.output.recovery'."
      ]
    },
    {
      "cell_type": "code",
      "metadata": {
        "id": "3DKG2ZPfZnz7"
      },
      "source": [
        "df_train.dropna(subset = ['rougher.output.recovery', 'final.output.recovery'], inplace = True) "
      ],
      "execution_count": 21,
      "outputs": []
    },
    {
      "cell_type": "markdown",
      "metadata": {
        "id": "Hni4lFYiZnz_"
      },
      "source": [
        "### Заполняю пропущенные значения в df_train."
      ]
    },
    {
      "cell_type": "code",
      "metadata": {
        "id": "0zw0dYN6Zn0A"
      },
      "source": [
        "df_train = df_train.fillna(method = 'ffill')"
      ],
      "execution_count": 22,
      "outputs": []
    },
    {
      "cell_type": "markdown",
      "metadata": {
        "id": "FKi4elQWZn0D"
      },
      "source": [
        "### Приведение в типу DateTime столбцов 'date' в трёх датафреймах."
      ]
    },
    {
      "cell_type": "code",
      "metadata": {
        "id": "_AdustZvZn0E"
      },
      "source": [
        "df_test['date'] = pd.to_datetime(df_test['date'], format='%Y-%m-%d %H:%M:%S')\n",
        "df_train['date'] = pd.to_datetime(df_train['date'], format='%Y-%m-%d %H:%M:%S')\n",
        "df_full['date'] = pd.to_datetime(df_full['date'], format='%Y-%m-%d %H:%M:%S')"
      ],
      "execution_count": 23,
      "outputs": []
    },
    {
      "cell_type": "markdown",
      "metadata": {
        "id": "U570ysdzZn0I"
      },
      "source": [
        "### Проверка количества пропущенных значений df_test."
      ]
    },
    {
      "cell_type": "code",
      "metadata": {
        "id": "gZiQfRx6Zn0J",
        "outputId": "b39e046d-b5d9-4b50-dc1c-746204d9a4d1",
        "colab": {
          "base_uri": "https://localhost:8080/",
          "height": 935
        }
      },
      "source": [
        "df_test.isna().sum()"
      ],
      "execution_count": 24,
      "outputs": [
        {
          "output_type": "execute_result",
          "data": {
            "text/plain": [
              "date                                            0\n",
              "primary_cleaner.input.sulfate                 302\n",
              "primary_cleaner.input.depressant              284\n",
              "primary_cleaner.input.feed_size                 0\n",
              "primary_cleaner.input.xanthate                166\n",
              "primary_cleaner.state.floatbank8_a_air         16\n",
              "primary_cleaner.state.floatbank8_a_level       16\n",
              "primary_cleaner.state.floatbank8_b_air         16\n",
              "primary_cleaner.state.floatbank8_b_level       16\n",
              "primary_cleaner.state.floatbank8_c_air         16\n",
              "primary_cleaner.state.floatbank8_c_level       16\n",
              "primary_cleaner.state.floatbank8_d_air         16\n",
              "primary_cleaner.state.floatbank8_d_level       16\n",
              "rougher.input.feed_ag                          16\n",
              "rougher.input.feed_pb                          16\n",
              "rougher.input.feed_rate                        40\n",
              "rougher.input.feed_size                        22\n",
              "rougher.input.feed_sol                         67\n",
              "rougher.input.feed_au                          16\n",
              "rougher.input.floatbank10_sulfate             257\n",
              "rougher.input.floatbank10_xanthate            123\n",
              "rougher.input.floatbank11_sulfate              55\n",
              "rougher.input.floatbank11_xanthate            353\n",
              "rougher.state.floatbank10_a_air                17\n",
              "rougher.state.floatbank10_a_level              16\n",
              "rougher.state.floatbank10_b_air                17\n",
              "rougher.state.floatbank10_b_level              16\n",
              "rougher.state.floatbank10_c_air                17\n",
              "rougher.state.floatbank10_c_level              16\n",
              "rougher.state.floatbank10_d_air                17\n",
              "rougher.state.floatbank10_d_level              16\n",
              "rougher.state.floatbank10_e_air                17\n",
              "rougher.state.floatbank10_e_level              16\n",
              "rougher.state.floatbank10_f_air                17\n",
              "rougher.state.floatbank10_f_level              16\n",
              "secondary_cleaner.state.floatbank2_a_air       20\n",
              "secondary_cleaner.state.floatbank2_a_level     16\n",
              "secondary_cleaner.state.floatbank2_b_air       23\n",
              "secondary_cleaner.state.floatbank2_b_level     16\n",
              "secondary_cleaner.state.floatbank3_a_air       34\n",
              "secondary_cleaner.state.floatbank3_a_level     16\n",
              "secondary_cleaner.state.floatbank3_b_air       16\n",
              "secondary_cleaner.state.floatbank3_b_level     16\n",
              "secondary_cleaner.state.floatbank4_a_air       16\n",
              "secondary_cleaner.state.floatbank4_a_level     16\n",
              "secondary_cleaner.state.floatbank4_b_air       16\n",
              "secondary_cleaner.state.floatbank4_b_level     16\n",
              "secondary_cleaner.state.floatbank5_a_air       16\n",
              "secondary_cleaner.state.floatbank5_a_level     16\n",
              "secondary_cleaner.state.floatbank5_b_air       16\n",
              "secondary_cleaner.state.floatbank5_b_level     16\n",
              "secondary_cleaner.state.floatbank6_a_air       16\n",
              "secondary_cleaner.state.floatbank6_a_level     16\n",
              "dtype: int64"
            ]
          },
          "metadata": {
            "tags": []
          },
          "execution_count": 24
        }
      ]
    },
    {
      "cell_type": "markdown",
      "metadata": {
        "id": "x-zZCjQiZn1Q"
      },
      "source": [
        "##### Все NaN заполняем последним известным значением в столбце (.fillna(method = 'ffill'))"
      ]
    },
    {
      "cell_type": "markdown",
      "metadata": {
        "id": "zAr5gTPBZn14"
      },
      "source": [
        "### Заполняю пропущенные значения в df_test."
      ]
    },
    {
      "cell_type": "code",
      "metadata": {
        "id": "cfnEzNzhZn16"
      },
      "source": [
        "df_test = df_test.fillna(method = 'ffill')"
      ],
      "execution_count": 25,
      "outputs": []
    },
    {
      "cell_type": "markdown",
      "metadata": {
        "id": "oxlzd4_XZn2B"
      },
      "source": [
        "### Перенос целевых признаков из full в test."
      ]
    },
    {
      "cell_type": "code",
      "metadata": {
        "id": "M-6TLrKcZn2C"
      },
      "source": [
        "df_test = df_test.merge(df_full[['date','rougher.output.recovery','final.output.recovery']],on='date', how='left')"
      ],
      "execution_count": 26,
      "outputs": []
    },
    {
      "cell_type": "markdown",
      "metadata": {
        "id": "Ml9rKRWnZn2J"
      },
      "source": [
        "### Удаляю пропущенные значения в столбцах 'rougher.output.recovery' и 'final.output.recovery'."
      ]
    },
    {
      "cell_type": "code",
      "metadata": {
        "id": "orYRhvI3Zn2K"
      },
      "source": [
        "df_test.dropna(subset = ['rougher.output.recovery', 'final.output.recovery'], inplace = True) "
      ],
      "execution_count": 27,
      "outputs": []
    },
    {
      "cell_type": "markdown",
      "metadata": {
        "id": "qO-pGh2sZn2S"
      },
      "source": [
        "### Создание датафрейма со столбцами, аналогичными test и подходящим для обучения."
      ]
    },
    {
      "cell_type": "code",
      "metadata": {
        "id": "kunhmJY_Zn2U"
      },
      "source": [
        "df_to_train = df_train[[i for i in sorted(set(df_train.columns)&set(df_test.columns))]]"
      ],
      "execution_count": 28,
      "outputs": []
    },
    {
      "cell_type": "markdown",
      "metadata": {
        "id": "Tc9pYLvwZn2a"
      },
      "source": [
        "### Поскольку метрика sMAPE не работает с нулевыми значениями target и answers, удаляем все нулевые значения в столбцах 'rougher.output.recovery' и 'final.output.recovery' в df_to_train и df_test."
      ]
    },
    {
      "cell_type": "code",
      "metadata": {
        "scrolled": false,
        "id": "lFLRdN0jZn2b"
      },
      "source": [
        "df_to_train = df_to_train.loc[(df_to_train['final.output.recovery']!=0)&(df_to_train['rougher.output.recovery']!=0)]"
      ],
      "execution_count": 29,
      "outputs": []
    },
    {
      "cell_type": "code",
      "metadata": {
        "id": "iHkhoJ_oZn2h"
      },
      "source": [
        "df_test = df_test.loc[(df_test['final.output.recovery']!=0)&(df_test['rougher.output.recovery']!=0)]"
      ],
      "execution_count": 30,
      "outputs": []
    },
    {
      "cell_type": "markdown",
      "metadata": {
        "id": "g3QOfhS2Zn2p"
      },
      "source": [
        "# 2. Анализ данных"
      ]
    },
    {
      "cell_type": "markdown",
      "metadata": {
        "id": "NY687B8iZn2q"
      },
      "source": [
        "### Создание массивов данных для построения графиков оценки изменения концентрации металлов на разных этапах очистки."
      ]
    },
    {
      "cell_type": "code",
      "metadata": {
        "id": "OBTfqzaxZn2r"
      },
      "source": [
        "ag_median = pd.DataFrame({'output':[df_train['rougher.input.feed_ag'].median(),df_train['rougher.output.concentrate_ag'].median(),df_train['primary_cleaner.output.concentrate_ag'].median(),df_train['final.output.concentrate_ag'].median()],\n",
        "                          'tails':[0,df_train['rougher.output.tail_ag'].median(),(df_train['primary_cleaner.output.tail_ag'].median()+df_train['secondary_cleaner.output.tail_ag'].median()),df_train['final.output.tail_ag'].median()],\n",
        "                          'process':['rougher.input','rougher.output','primary_cleaner.output+secondary_cleaner','final.output']})\n",
        "au_median = pd.DataFrame({'output':[df_train['rougher.input.feed_au'].median(),df_train['rougher.output.concentrate_au'].median(),df_train['primary_cleaner.output.concentrate_au'].median(),df_train['final.output.concentrate_au'].median()],\n",
        "                          'tails':[0,df_train['rougher.output.tail_au'].median(),(df_train['primary_cleaner.output.tail_au'].median()+df_train['secondary_cleaner.output.tail_au'].median()),df_train['final.output.tail_au'].median()],\n",
        "                          'process':['rougher.input','rougher.output','primary_cleaner.output+secondary_cleaner','final.output']})\n",
        "pb_median = pd.DataFrame({'output':[df_train['rougher.input.feed_pb'].median(),df_train['rougher.output.concentrate_pb'].median(),df_train['primary_cleaner.output.concentrate_pb'].median(),df_train['final.output.concentrate_pb'].median()],\n",
        "                          'tails':[0,df_train['rougher.output.tail_pb'].median(),(df_train['primary_cleaner.output.tail_pb'].median()+df_train['secondary_cleaner.output.tail_pb'].median()),df_train['final.output.tail_pb'].median()],\n",
        "                          'process':['rougher.input','rougher.output','primary_cleaner.output+secondary_cleaner','final.output']})\n",
        "sol_median = pd.DataFrame({'output':[df_train['rougher.input.feed_sol'].median(),df_train['rougher.output.concentrate_sol'].median(),df_train['primary_cleaner.output.concentrate_sol'].median(),df_train['final.output.concentrate_sol'].median()],\n",
        "                          'tails':[0,df_train['rougher.output.tail_sol'].median(),(df_train['primary_cleaner.output.tail_sol'].median()+df_train['secondary_cleaner.output.tail_sol'].median()),df_train['final.output.tail_sol'].median()],\n",
        "                          'process':['rougher.input','rougher.output','primary_cleaner.output+secondary_cleaner','final.output']})"
      ],
      "execution_count": 31,
      "outputs": []
    },
    {
      "cell_type": "markdown",
      "metadata": {
        "id": "Xsa4y-sZZn20"
      },
      "source": [
        "### Построение графика изменения концентрации металлов на этапах очистки."
      ]
    },
    {
      "cell_type": "code",
      "metadata": {
        "id": "E2dEk3OfZn23",
        "outputId": "29cd21d8-6029-42cf-a51b-cb9a5186b831",
        "colab": {
          "base_uri": "https://localhost:8080/",
          "height": 595
        }
      },
      "source": [
        "plt.figure(figsize=(8,7))\n",
        "plt.plot(ag_median['process'], ag_median['output'],'--',marker='o',label=\"ag\")\n",
        "plt.plot(pb_median['process'], pb_median['output'],'--',marker='o',label=\"pb\")\n",
        "plt.plot(au_median['process'], au_median['output'],'--',marker='o',label=\"au\")\n",
        "plt.plot(sol_median['process'], sol_median['output'],'--',marker='o',label=\"sol\")\n",
        "plt.legend(bbox_to_anchor=(1.05, 1), loc='upper left', borderaxespad=0.)\n",
        "plt.xticks(rotation=45)\n",
        "plt.xlabel('process')\n",
        "plt.ylabel('median')\n",
        "plt.show()"
      ],
      "execution_count": 32,
      "outputs": [
        {
          "output_type": "display_data",
          "data": {
            "image/png": "[encoded data removed]",
            "text/plain": [
              "<Figure size 576x504 with 1 Axes>"
            ]
          },
          "metadata": {
            "tags": [],
            "needs_background": "light"
          }
        }
      ]
    },
    {
      "cell_type": "markdown",
      "metadata": {
        "id": "DTIOS6GiZn3A"
      },
      "source": [
        "##### Выводы:\n",
        "    1. На графике видно, что доля золота в концентрате повышается с каждым этапом обработки.\n",
        "    2. Доля примесей (sol) изначально была высокой и снижается на каждом этапе очистки.\n",
        "    3. Происходит отсеивание серебра (ag) из концетрата.\n",
        "    4. Доля свинца (pb) в концентрате незначительно повышается, скорее всего общее изначальное количество всё таки\n",
        "    понизилось.\n",
        "    5. На выходе получается, что доля каждого рассматриваемого вещества, кроме золота,\n",
        "    не более 10, тогда как концентрация золота значительно увеличилась.\n",
        "    6. Использованы медианные значения для каждого показателя."
      ]
    },
    {
      "cell_type": "markdown",
      "metadata": {
        "id": "IDQgfO0oZn3D"
      },
      "source": [
        "### Сравнение распределения размеров гранул сырья на обучающей и тестовой выборках."
      ]
    },
    {
      "cell_type": "code",
      "metadata": {
        "id": "gUu-ipO4Zn3G",
        "outputId": "8e0d72da-1b37-4e8d-acc0-3f03411cd178",
        "colab": {
          "base_uri": "https://localhost:8080/",
          "height": 785
        }
      },
      "source": [
        "feed_sizes = ['rougher.input.feed_size', 'primary_cleaner.input.feed_size', ]\n",
        "\n",
        "feed_sizes_titles = ['Распределение rougher.input.feed_size',\n",
        "                     'Распределение primary_cleaner.input.feed_size']\n",
        "\n",
        "feed_sizes_legends = ['TRAIN', 'TEST']\n",
        "\n",
        "fig, ax = plt.subplots(2,1, figsize=(15,12))\n",
        "\n",
        "for i in range(2):\n",
        "    a = sns.distplot(df_train[feed_sizes[i]], bins=100, kde=False,\n",
        "                label = feed_sizes_legends[0], ax=ax[i])\n",
        "    ax[i].legend()\n",
        "    a = sns.distplot(df_test[feed_sizes[i]], bins=100, kde=False,\n",
        "                label = feed_sizes_legends[1], ax=ax[i])\n",
        "    ax[i].legend()\n",
        "    a.set_title(feed_sizes_titles[i])"
      ],
      "execution_count": 33,
      "outputs": [
        {
          "output_type": "stream",
          "text": [
            "/usr/local/lib/python3.6/dist-packages/seaborn/distributions.py:2551: FutureWarning: `distplot` is a deprecated function and will be removed in a future version. Please adapt your code to use either `displot` (a figure-level function with similar flexibility) or `histplot` (an axes-level function for histograms).\n",
            "  warnings.warn(msg, FutureWarning)\n"
          ],
          "name": "stderr"
        },
        {
          "output_type": "display_data",
          "data": {
            "image/png": "[encoded data removed]",
            "text/plain": [
              "<Figure size 1080x864 with 2 Axes>"
            ]
          },
          "metadata": {
            "tags": [],
            "needs_background": "light"
          }
        }
      ]
    },
    {
      "cell_type": "markdown",
      "metadata": {
        "id": "uMe70fQOZn3O"
      },
      "source": [
        "##### Выводы:\n",
        "1. Распределения rougher.input.feed_size похожи на распределения Пуассона с разными размерами гранул на train и test.\n",
        "Распределения не сильно отличаются.\n",
        "2. Распределения primary_cleaner.input.feed_size похожи на нормальное, также, с разными размерами гранул на train и test.\n",
        "Распределения не сильно отличаются."
      ]
    },
    {
      "cell_type": "markdown",
      "metadata": {
        "id": "5plgllz7Zn3Q"
      },
      "source": [
        "### Исследование суммарной концентрации всех веществ на разных стадиях: в сырье, в черновом и финальном концентратах в train выборке."
      ]
    },
    {
      "cell_type": "code",
      "metadata": {
        "id": "Cg6Xn4SCZn3R"
      },
      "source": [
        "concentrate = {\n",
        "    '1':['rougher.input.feed_ag','rougher.output.concentrate_ag','primary_cleaner.output.concentrate_ag','final.output.concentrate_ag'],\n",
        "    '2':['rougher.input.feed_au','rougher.output.concentrate_au','primary_cleaner.output.concentrate_au','final.output.concentrate_au'],\n",
        "    '3':['rougher.input.feed_pb','rougher.output.concentrate_pb','primary_cleaner.output.concentrate_pb','final.output.concentrate_pb'],\n",
        "    '4':['rougher.input.feed_sol','rougher.output.concentrate_sol','primary_cleaner.output.concentrate_sol','final.output.concentrate_sol'],\n",
        "}"
      ],
      "execution_count": 34,
      "outputs": []
    },
    {
      "cell_type": "code",
      "metadata": {
        "id": "FDOn14gsZn3b",
        "outputId": "9a5fb5f8-4aef-4a38-9349-1c208a75f9b4",
        "colab": {
          "base_uri": "https://localhost:8080/",
          "height": 787
        }
      },
      "source": [
        "fig, ax = plt.subplots(2,2, figsize=(15,12))\n",
        "\n",
        "set1 = df_train[concentrate['1'][0]]+df_train[concentrate['2'][0]]+df_train[concentrate['3'][0]]+df_train[concentrate['4'][0]]\n",
        "ax1 = sns.distplot(set1, bins=100, kde=False, ax=ax[0,0])\n",
        "ax1.set_title('rougher.input.feed')\n",
        "\n",
        "set2 = df_train[concentrate['1'][1]]+df_train[concentrate['2'][1]]+df_train[concentrate['3'][1]]+df_train[concentrate['4'][1]]\n",
        "ax2 = sns.distplot(set2, bins=100, label = i, kde=False, ax=ax[0,1])\n",
        "ax2.set_title('rougher.output.concentrate')\n",
        "\n",
        "set3 = df_train[concentrate['1'][2]]+df_train[concentrate['2'][2]]+df_train[concentrate['3'][2]]+df_train[concentrate['4'][2]]\n",
        "ax3 = sns.distplot(set3, bins=100, kde=False, ax=ax[1,0])\n",
        "ax3.set_title('primary_cleaner.output.concentrate')\n",
        "\n",
        "set4 = df_train[concentrate['1'][3]]+df_train[concentrate['2'][3]]+df_train[concentrate['3'][3]]+df_train[concentrate['4'][3]]\n",
        "ax4 = sns.distplot(set4, bins=100, label = i, kde=False, ax=ax[1,1])\n",
        "ax4.set_title('final.output.concentrate')"
      ],
      "execution_count": 35,
      "outputs": [
        {
          "output_type": "stream",
          "text": [
            "/usr/local/lib/python3.6/dist-packages/seaborn/distributions.py:2551: FutureWarning: `distplot` is a deprecated function and will be removed in a future version. Please adapt your code to use either `displot` (a figure-level function with similar flexibility) or `histplot` (an axes-level function for histograms).\n",
            "  warnings.warn(msg, FutureWarning)\n"
          ],
          "name": "stderr"
        },
        {
          "output_type": "execute_result",
          "data": {
            "text/plain": [
              "Text(0.5, 1.0, 'final.output.concentrate')"
            ]
          },
          "metadata": {
            "tags": []
          },
          "execution_count": 35
        },
        {
          "output_type": "display_data",
          "data": {
            "image/png": "[encoded data removed]",
            "text/plain": [
              "<Figure size 1080x864 with 4 Axes>"
            ]
          },
          "metadata": {
            "tags": [],
            "needs_background": "light"
          }
        }
      ]
    },
    {
      "cell_type": "markdown",
      "metadata": {
        "id": "E6IyOKV_Zn3f"
      },
      "source": [
        "##### Выводы:\n",
        "1. На первом этапе 'rougher.input.concentrate' есть небольшое количество нулевых показателей.\n",
        "2. На втором этапе 'rougher.output.concentrate' вдруг появляется большое количество нулевых показателей веществ в концентрате.\n",
        "3. На третьем этапе 'primary_cleaner.output.concentrate' количество нулевых показателей снижается.\n",
        "4. На четвертом этапе 'final.output.concentrate' количество нулевых показателей значительно снизилось и оно минимальное.\n",
        "\n",
        "На мой взгляд такого быть не может, так как хоть что-то должно оставаться в растворе на каждом этапе. На входе мы практически не имеем нулевых значений и им неоткуда теоретически взяться. Сам процесс построен таким образом, чтобы увеличивалась концентрация золота, а не полностью растворялась вся порода или полностью уходила в хвосты. Скорее всего это ошибки оценки концентрации. Нулевые значения нужно удалить в выборке df_to_train, предназначенной для обучения моделей. Поскольку в тестовой выборке присутствует только один показатель концентрации веществ 'rougher.input.feed', в df_to_train есть в наличии только он и требуется удалить нулевые значения только в нём."
      ]
    },
    {
      "cell_type": "code",
      "metadata": {
        "id": "If23402fZn3j",
        "outputId": "c64c49f5-cf09-43e4-94e0-e326586c80b8",
        "colab": {
          "base_uri": "https://localhost:8080/",
          "height": 352
        }
      },
      "source": [
        "set1 = df_to_train[concentrate['1'][0]]+df_to_train[concentrate['2'][0]]+df_to_train[concentrate['3'][0]]+df_to_train[concentrate['4'][0]]\n",
        "ax1 = sns.distplot(set1, bins=100, kde=False)\n",
        "ax1.set_title('rougher.input.feed')"
      ],
      "execution_count": 36,
      "outputs": [
        {
          "output_type": "stream",
          "text": [
            "/usr/local/lib/python3.6/dist-packages/seaborn/distributions.py:2551: FutureWarning: `distplot` is a deprecated function and will be removed in a future version. Please adapt your code to use either `displot` (a figure-level function with similar flexibility) or `histplot` (an axes-level function for histograms).\n",
            "  warnings.warn(msg, FutureWarning)\n"
          ],
          "name": "stderr"
        },
        {
          "output_type": "execute_result",
          "data": {
            "text/plain": [
              "Text(0.5, 1.0, 'rougher.input.feed')"
            ]
          },
          "metadata": {
            "tags": []
          },
          "execution_count": 36
        },
        {
          "output_type": "display_data",
          "data": {
            "image/png": "[encoded data removed]",
            "text/plain": [
              "<Figure size 432x288 with 1 Axes>"
            ]
          },
          "metadata": {
            "tags": [],
            "needs_background": "light"
          }
        }
      ]
    },
    {
      "cell_type": "markdown",
      "metadata": {
        "id": "cDpU9gW7Zn3s"
      },
      "source": [
        "##### Вывод: в обучающей выборке есть несколько значений с около нулевыми показателями, которые надо удалить."
      ]
    },
    {
      "cell_type": "markdown",
      "metadata": {
        "id": "wpkzfTu0Zn3u"
      },
      "source": [
        "### Нахождение около-нулевых значений в df_to_train и их удаление."
      ]
    },
    {
      "cell_type": "code",
      "metadata": {
        "id": "1dy3I-W0Zn3v",
        "outputId": "90ca0b9f-46dd-4547-b099-9414845f2e2c",
        "colab": {
          "base_uri": "https://localhost:8080/",
          "height": 221
        }
      },
      "source": [
        "check = df_to_train['rougher.input.feed_ag']+df_to_train['rougher.input.feed_au']+df_to_train['rougher.input.feed_pb']+df_to_train['rougher.input.feed_sol']\n",
        "check = pd.Series(check)\n",
        "check.value_counts().sort_index()"
      ],
      "execution_count": 37,
      "outputs": [
        {
          "output_type": "execute_result",
          "data": {
            "text/plain": [
              "0.040000     5\n",
              "3.714396     1\n",
              "6.424471     1\n",
              "8.217984     1\n",
              "8.429133     1\n",
              "            ..\n",
              "73.668306    1\n",
              "73.795126    1\n",
              "74.336561    1\n",
              "74.428550    1\n",
              "74.458253    1\n",
              "Length: 13892, dtype: int64"
            ]
          },
          "metadata": {
            "tags": []
          },
          "execution_count": 37
        }
      ]
    },
    {
      "cell_type": "code",
      "metadata": {
        "id": "fBunxfWuZn32"
      },
      "source": [
        "df_to_train = df_to_train.loc[check > 0.05]"
      ],
      "execution_count": 38,
      "outputs": []
    },
    {
      "cell_type": "markdown",
      "metadata": {
        "id": "2sAFg7EKZn4C"
      },
      "source": [
        "##### Результат: df_to_train очищена от выбросов."
      ]
    },
    {
      "cell_type": "markdown",
      "metadata": {
        "id": "M40mE7AsZn4C"
      },
      "source": [
        "### Исследование суммарной концентрации всех веществ на разных стадиях: в сырье, в черновом и финальном концентратах в test выборке."
      ]
    },
    {
      "cell_type": "code",
      "metadata": {
        "id": "vl_TRUxsZn4D",
        "outputId": "f2690a72-b235-4fab-bbf1-a8db2fc62207",
        "colab": {
          "base_uri": "https://localhost:8080/",
          "height": 352
        }
      },
      "source": [
        "set1 = df_test[concentrate['1'][0]]+df_test[concentrate['2'][0]]+df_test[concentrate['3'][0]]+df_test[concentrate['4'][0]]\n",
        "ax1 = sns.distplot(set1, bins=100, kde=False)\n",
        "ax1.set_title('rougher.input.feed')"
      ],
      "execution_count": 39,
      "outputs": [
        {
          "output_type": "stream",
          "text": [
            "/usr/local/lib/python3.6/dist-packages/seaborn/distributions.py:2551: FutureWarning: `distplot` is a deprecated function and will be removed in a future version. Please adapt your code to use either `displot` (a figure-level function with similar flexibility) or `histplot` (an axes-level function for histograms).\n",
            "  warnings.warn(msg, FutureWarning)\n"
          ],
          "name": "stderr"
        },
        {
          "output_type": "execute_result",
          "data": {
            "text/plain": [
              "Text(0.5, 1.0, 'rougher.input.feed')"
            ]
          },
          "metadata": {
            "tags": []
          },
          "execution_count": 39
        },
        {
          "output_type": "display_data",
          "data": {
            "image/png": "[encoded data removed]",
            "text/plain": [
              "<Figure size 432x288 with 1 Axes>"
            ]
          },
          "metadata": {
            "tags": [],
            "needs_background": "light"
          }
        }
      ]
    },
    {
      "cell_type": "markdown",
      "metadata": {
        "id": "5bZvm_0uZn4H"
      },
      "source": [
        "##### Вывод: в тествой выборке присутствует большое количество нулевых показателей концентрации веществ. Требуется их удалить."
      ]
    },
    {
      "cell_type": "markdown",
      "metadata": {
        "id": "D-vqMI1pZn4H"
      },
      "source": [
        "### Нахождение около-нулевых значений в df_test и их удаление."
      ]
    },
    {
      "cell_type": "code",
      "metadata": {
        "id": "GLxeo3nFZn4I",
        "outputId": "ab65729c-62cc-49c3-e888-9d9df550b085",
        "colab": {
          "base_uri": "https://localhost:8080/",
          "height": 221
        }
      },
      "source": [
        "check_test = df_test['rougher.input.feed_ag']+df_test['rougher.input.feed_au']+df_test['rougher.input.feed_pb']+df_test['rougher.input.feed_sol']\n",
        "check_test = pd.Series(check_test)\n",
        "check_test.value_counts().sort_index()"
      ],
      "execution_count": 40,
      "outputs": [
        {
          "output_type": "execute_result",
          "data": {
            "text/plain": [
              "8.072476     1\n",
              "10.936233    1\n",
              "13.976035    1\n",
              "18.015442    1\n",
              "19.499847    1\n",
              "            ..\n",
              "75.760801    1\n",
              "76.088616    1\n",
              "76.100011    1\n",
              "76.912967    1\n",
              "76.978947    1\n",
              "Length: 5170, dtype: int64"
            ]
          },
          "metadata": {
            "tags": []
          },
          "execution_count": 40
        }
      ]
    },
    {
      "cell_type": "code",
      "metadata": {
        "id": "FXkp3Wn7Zn4M"
      },
      "source": [
        "df_test = df_test.loc[check_test > 0.01]"
      ],
      "execution_count": 41,
      "outputs": []
    },
    {
      "cell_type": "markdown",
      "metadata": {
        "id": "5dm8U-_AZn4S"
      },
      "source": [
        "##### Результат: df_test очищена от выбросов."
      ]
    },
    {
      "cell_type": "markdown",
      "metadata": {
        "id": "sJ-xaybYZn4U"
      },
      "source": [
        "# 3. Модель"
      ]
    },
    {
      "cell_type": "markdown",
      "metadata": {
        "id": "GAoOybsdZn4V"
      },
      "source": [
        "### Масштабирование признаков."
      ]
    },
    {
      "cell_type": "code",
      "metadata": {
        "id": "TEDPEKMVZn4W"
      },
      "source": [
        "cols = ['primary_cleaner.input.depressant','primary_cleaner.input.feed_size','primary_cleaner.input.sulfate',\n",
        "       'primary_cleaner.input.xanthate','primary_cleaner.state.floatbank8_a_air','primary_cleaner.state.floatbank8_a_level',\n",
        "       'primary_cleaner.state.floatbank8_b_air','primary_cleaner.state.floatbank8_b_level',\n",
        "       'primary_cleaner.state.floatbank8_c_air','primary_cleaner.state.floatbank8_c_level',\n",
        "       'primary_cleaner.state.floatbank8_d_air','primary_cleaner.state.floatbank8_d_level',\n",
        "       'rougher.input.feed_ag','rougher.input.feed_au', 'rougher.input.feed_pb',\n",
        "       'rougher.input.feed_rate', 'rougher.input.feed_size','rougher.input.feed_sol',\n",
        "       'rougher.input.floatbank10_sulfate','rougher.input.floatbank10_xanthate',\n",
        "       'rougher.input.floatbank11_sulfate','rougher.input.floatbank11_xanthate',\n",
        "       'rougher.state.floatbank10_a_air', 'rougher.state.floatbank10_a_level',\n",
        "       'rougher.state.floatbank10_b_air', 'rougher.state.floatbank10_b_level',\n",
        "       'rougher.state.floatbank10_c_air', 'rougher.state.floatbank10_c_level',\n",
        "       'rougher.state.floatbank10_d_air', 'rougher.state.floatbank10_d_level',\n",
        "       'rougher.state.floatbank10_e_air', 'rougher.state.floatbank10_e_level',\n",
        "       'rougher.state.floatbank10_f_air', 'rougher.state.floatbank10_f_level',\n",
        "       'secondary_cleaner.state.floatbank2_a_air','secondary_cleaner.state.floatbank2_a_level',\n",
        "       'secondary_cleaner.state.floatbank2_b_air','secondary_cleaner.state.floatbank2_b_level',\n",
        "       'secondary_cleaner.state.floatbank3_a_air','secondary_cleaner.state.floatbank3_a_level',\n",
        "       'secondary_cleaner.state.floatbank3_b_air','secondary_cleaner.state.floatbank3_b_level',\n",
        "       'secondary_cleaner.state.floatbank4_a_air','secondary_cleaner.state.floatbank4_a_level',\n",
        "       'secondary_cleaner.state.floatbank4_b_air','secondary_cleaner.state.floatbank4_b_level',\n",
        "       'secondary_cleaner.state.floatbank5_a_air','secondary_cleaner.state.floatbank5_a_level',\n",
        "       'secondary_cleaner.state.floatbank5_b_air','secondary_cleaner.state.floatbank5_b_level',\n",
        "       'secondary_cleaner.state.floatbank6_a_air','secondary_cleaner.state.floatbank6_a_level']"
      ],
      "execution_count": 42,
      "outputs": []
    },
    {
      "cell_type": "code",
      "metadata": {
        "id": "Vknrnv_9Zn4i"
      },
      "source": [
        "scaler = StandardScaler()\n",
        "df_to_train[cols] = scaler.fit_transform(df_to_train[cols])\n",
        "df_test[cols] = scaler.fit_transform(df_test[cols])"
      ],
      "execution_count": 43,
      "outputs": []
    },
    {
      "cell_type": "markdown",
      "metadata": {
        "id": "83qww3QUZn4l"
      },
      "source": [
        "### Функция вычисления sMAPE для rougher."
      ]
    },
    {
      "cell_type": "code",
      "metadata": {
        "id": "iczN-RcMZn4m"
      },
      "source": [
        "def smape_rougher(target_rougher, predictions_rougher):\n",
        "    predictions_rougher = pd.Series(predictions_rougher)\n",
        "    target_rougher = target_rougher.reset_index(drop=True)\n",
        "#    predictions_rougher = pd.Series(predictions_rougher, index=target_rougher.index)\n",
        "    smape_rougher = 1/len(target_rougher)*np.sum((abs(target_rougher-predictions_rougher)/((abs(target_rougher)+abs(predictions_rougher))/2))*100)\n",
        "    return smape_rougher"
      ],
      "execution_count": 44,
      "outputs": []
    },
    {
      "cell_type": "markdown",
      "metadata": {
        "id": "NFoCost3Zn4p"
      },
      "source": [
        "### Функция вычисления sMAPE для final."
      ]
    },
    {
      "cell_type": "code",
      "metadata": {
        "id": "nGebSymVZn4q"
      },
      "source": [
        "def smape_final(target_final, predictions_final):\n",
        "    predictions_final = pd.Series(predictions_final)\n",
        "    target_final = target_final.reset_index(drop=True)\n",
        "#    predictions_final = pd.Series(predictions_final, index=target_final.index)\n",
        "    smape_final = 1/len(target_final)*np.sum((abs(target_final-predictions_final)/((abs(target_final)+abs(predictions_final))/2))*100)\n",
        "    return smape_final"
      ],
      "execution_count": 45,
      "outputs": []
    },
    {
      "cell_type": "markdown",
      "metadata": {
        "id": "Xsz6CTwjZn4u"
      },
      "source": [
        "### Функция вычисления итоговой sMAPE."
      ]
    },
    {
      "cell_type": "code",
      "metadata": {
        "id": "WwJUwXBeZn4v"
      },
      "source": [
        "def total_smape(smape_rougher, smape_final):\n",
        "    total_smape = 0.25*smape_rougher+0.75*smape_final\n",
        "    return total_smape"
      ],
      "execution_count": 46,
      "outputs": []
    },
    {
      "cell_type": "markdown",
      "metadata": {
        "id": "ecv7qkkkZn42"
      },
      "source": [
        "### Создание функции оценки моделей с помощью make_scorer."
      ]
    },
    {
      "cell_type": "code",
      "metadata": {
        "id": "QX-n_JQDZn43"
      },
      "source": [
        "my_scorer_cv = make_scorer(smape_rougher, greater_is_better=True)"
      ],
      "execution_count": 47,
      "outputs": []
    },
    {
      "cell_type": "markdown",
      "metadata": {
        "id": "eEjnMu4TZn5C"
      },
      "source": [
        "### Подготовка параметров для GridSearchCV"
      ]
    },
    {
      "cell_type": "code",
      "metadata": {
        "id": "ZN6GS8miZn5C"
      },
      "source": [
        "model_params = {\n",
        "    'DecisionTreeRegressor': {\n",
        "        'model': DecisionTreeRegressor(random_state=12345),\n",
        "        'params' : {\n",
        "            'splitter': ['best', 'random'],\n",
        "            'max_depth': [10,20,50,80,100,120,150,200],\n",
        "            'min_samples_split': range(2,11)\n",
        "        }\n",
        "    },\n",
        "    'RandomForestRegressor': {\n",
        "        'model': RandomForestRegressor(random_state=12345),\n",
        "        'params' : {\n",
        "            'n_estimators': [20,50,100],\n",
        "            'max_depth': [5,10,20,50]\n",
        "        }\n",
        "    },\n",
        "    'LinearRegression' : {\n",
        "        'model': LinearRegression(),\n",
        "        'params': {\n",
        "        }\n",
        "    },\n",
        "    'GradientBoostingRegressor' : {\n",
        "        'model': GradientBoostingRegressor(random_state=12345),\n",
        "        'params': {\n",
        "            'loss': ['ls','lad','huber','quantile']\n",
        "        }\n",
        "    }\n",
        "}"
      ],
      "execution_count": 48,
      "outputs": []
    },
    {
      "cell_type": "markdown",
      "metadata": {
        "id": "xPMTQeX-Zn5F"
      },
      "source": [
        "### Разделение на features_train, target_train_rougher и target_train_final выборки."
      ]
    },
    {
      "cell_type": "code",
      "metadata": {
        "id": "sh6Dbza4Zn5G"
      },
      "source": [
        "features_train = df_to_train.drop(['date','final.output.recovery','rougher.output.recovery'],axis=1).reset_index(drop=True)\n",
        "target_train_rougher = df_to_train['rougher.output.recovery'].reset_index(drop=True)\n",
        "target_train_final = df_to_train['final.output.recovery'].reset_index(drop=True)"
      ],
      "execution_count": 49,
      "outputs": []
    },
    {
      "cell_type": "markdown",
      "metadata": {
        "id": "fEoO7ZOhZn5Q"
      },
      "source": [
        "### Разделение на features_test, target_test_rougher и target_test_final выборки."
      ]
    },
    {
      "cell_type": "code",
      "metadata": {
        "id": "FSAVRathZn5Q"
      },
      "source": [
        "features_test = df_test.drop(['date','final.output.recovery','rougher.output.recovery'],axis=1).reset_index(drop=True)\n",
        "target_test_rougher = df_test['rougher.output.recovery'].reset_index(drop=True)\n",
        "target_test_final = df_test['final.output.recovery'].reset_index(drop=True)"
      ],
      "execution_count": 50,
      "outputs": []
    },
    {
      "cell_type": "markdown",
      "metadata": {
        "id": "tdjL0h5mZn5U"
      },
      "source": [
        "### Нахождение лучшей модели с помощью GridSearchCV."
      ]
    },
    {
      "cell_type": "code",
      "metadata": {
        "scrolled": true,
        "id": "0Yg5uU5FZn5V"
      },
      "source": [
        "#scores = pd.DataFrame()\n",
        "#\n",
        "#for model_name, mp in model_params.items():\n",
        "#    rm =  GridSearchCV(mp['model'], mp['params'],scoring=my_scorer_cv, cv=3, n_jobs=-1, return_train_score=False)\n",
        "#    rm.fit(features_train, target_train_rougher)\n",
        "#    tech_var = pd.DataFrame(columns=['model'])\n",
        "#    tech_var = pd.concat([tech_var, pd.DataFrame(rm.cv_results_)])\n",
        "#    tech_var['model']=model_name\n",
        "#    scores = pd.concat([scores,tech_var],ignore_index=True)"
      ],
      "execution_count": 51,
      "outputs": []
    },
    {
      "cell_type": "code",
      "metadata": {
        "scrolled": true,
        "id": "ppvVKdnSZn5Y"
      },
      "source": [
        "#scores.sort_values('mean_test_score',ascending=True)"
      ],
      "execution_count": 52,
      "outputs": []
    },
    {
      "cell_type": "markdown",
      "metadata": {
        "id": "lq3olX1FZn5b"
      },
      "source": [
        "### Вывод:\n",
        "Лучший результат на GridSearchCV показала модель RandomForestRegressor(n_estimators=100, max_depth=5)."
      ]
    },
    {
      "cell_type": "code",
      "metadata": {
        "id": "Dywe0t6_Zn5c"
      },
      "source": [
        "#model_parameters = {\n",
        "#    'GradientBoostingRegressor' : {\n",
        "#        'model': GradientBoostingRegressor(random_state=12345),\n",
        "#        'params': {\n",
        "#            'loss': ['ls','lad','huber','quantile'],\n",
        "#            'n_estimators': [100,150,200],\n",
        "#            'min_samples_split': [2,3,5],\n",
        "#            'min_samples_leaf': [1,3,6],\n",
        "#            'max_depth': [3,10,30]\n",
        "#        }\n",
        "#    }\n",
        "#}"
      ],
      "execution_count": 53,
      "outputs": []
    },
    {
      "cell_type": "code",
      "metadata": {
        "scrolled": false,
        "id": "F4Xx2hZuZn5f"
      },
      "source": [
        "#scores = pd.DataFrame()\n",
        "#\n",
        "#for model_name, mp in model_parameters.items():\n",
        "#    rm =  GridSearchCV(mp['model'], mp['params'],scoring=my_scorer_cv, cv=2, n_jobs=-1, return_train_score=False)\n",
        "#    rm.fit(features_train, target_train_rougher)\n",
        "#    tech_var = pd.DataFrame(columns=['model'])\n",
        "#    tech_var = pd.concat([tech_var, pd.DataFrame(rm.cv_results_)])\n",
        "#    tech_var['model']=model_name\n",
        "#    scores = pd.concat([scores,tech_var],ignore_index=True)"
      ],
      "execution_count": 54,
      "outputs": []
    },
    {
      "cell_type": "code",
      "metadata": {
        "id": "mOc-pjrZZn5j"
      },
      "source": [
        "#scores.sort_values('mean_test_score',ascending=True)"
      ],
      "execution_count": 55,
      "outputs": []
    },
    {
      "cell_type": "markdown",
      "metadata": {
        "id": "rS-nhtnrZn5o"
      },
      "source": [
        "##### Результат: наилучшие параметры GradientBoostingRegressor: loss='quantile', max_depth=10."
      ]
    },
    {
      "cell_type": "markdown",
      "metadata": {
        "id": "f1NKRqo8Zn5o"
      },
      "source": [
        "### Выбор лучшей модели с помощью кросс-валидации."
      ]
    },
    {
      "cell_type": "code",
      "metadata": {
        "id": "I3lG-lWiZn5p"
      },
      "source": [
        "#to_validate = {\n",
        "#    'GradientBoostingRegressor': GradientBoostingRegressor(loss='quantile', max_depth=10,random_state=12345),\n",
        "#    'RandomForestRegressor': RandomForestRegressor(n_estimators=100, max_depth=5, random_state=12345),\n",
        "#    'LinearRegression': LinearRegression(),\n",
        "#    'DecisionTreeRegressor': DecisionTreeRegressor(splitter='random',min_samples_split=8,max_depth=10,random_state=12345)\n",
        "#}"
      ],
      "execution_count": 56,
      "outputs": []
    },
    {
      "cell_type": "code",
      "metadata": {
        "id": "DnQPa4ilZn5s",
        "outputId": "bfb6f092-55b6-4462-a680-5a5986423137",
        "colab": {
          "base_uri": "https://localhost:8080/",
          "height": 425
        }
      },
      "source": [
        "#for model_name,model in to_validate.items():\n",
        "#    score_rougher = cross_val_score(model, features_train, target_train_rougher, cv=3,scoring=my_scorer_cv).mean()\n",
        "#    score_final = cross_val_score(model, features_train, target_train_final, cv=3,n_jobs=-1,scoring=my_scorer_cv).mean()\n",
        "#    print('Модель:',model_name)\n",
        "#    print('sMAPE для rougher:', score_rougher)\n",
        "#    print('sMAPE для final:', score_final)\n",
        "#    print('Итоговое sMAPE:', total_smape(score_rougher, score_final),'\\n','\\n')"
      ],
      "execution_count": 57,
      "outputs": [
        {
          "output_type": "stream",
          "text": [
            "Модель: GradientBoostingRegressor\n",
            "sMAPE для rougher: 9.628799606159864\n",
            "sMAPE для final: 13.336526447949106\n",
            "Итоговое sMAPE: 12.409594737501797 \n",
            " \n",
            "\n",
            "Модель: RandomForestRegressor\n",
            "sMAPE для rougher: 12.592115720413064\n",
            "sMAPE для final: 10.689360567614498\n",
            "Итоговое sMAPE: 11.165049355814139 \n",
            " \n",
            "\n",
            "Модель: LinearRegression\n",
            "sMAPE для rougher: 11.241594001270764\n",
            "sMAPE для final: 13.125626868962293\n",
            "Итоговое sMAPE: 12.65461865203941 \n",
            " \n",
            "\n",
            "Модель: DecisionTreeRegressor\n",
            "sMAPE для rougher: 36.82548224280882\n",
            "sMAPE для final: 13.38641585201723\n",
            "Итоговое sMAPE: 19.24618244971513 \n",
            " \n",
            "\n"
          ],
          "name": "stdout"
        }
      ]
    },
    {
      "cell_type": "markdown",
      "metadata": {
        "id": "7WcoUEBRZn5u"
      },
      "source": [
        "### Лучшая модель - RandomForestRegressor(n_estimators=100, max_depth=5, random_state=12345)."
      ]
    },
    {
      "cell_type": "markdown",
      "metadata": {
        "id": "oR0d0tf7Zn5v"
      },
      "source": [
        "### Проверка лучшей модели на тестовой выборке."
      ]
    },
    {
      "cell_type": "code",
      "metadata": {
        "id": "NQ28ImZnZn5v",
        "outputId": "a8028894-7500-4573-a81a-8fdf0c1d25ee",
        "colab": {
          "base_uri": "https://localhost:8080/",
          "height": 102
        }
      },
      "source": [
        "rfr = RandomForestRegressor(n_estimators=100, max_depth=5, random_state=12345)\n",
        "score_rougher = cross_val_score(rfr, features_test, target_test_rougher, cv=3,scoring=my_scorer_cv).mean()\n",
        "score_final = cross_val_score(rfr, features_test, target_test_final, cv=3,n_jobs=-1,scoring=my_scorer_cv).mean()\n",
        "print('sMAPE для rougher:', score_rougher)\n",
        "print('sMAPE для final:', score_final)\n",
        "print('Итоговое sMAPE:', total_smape(score_rougher, score_final),'\\n','\\n')"
      ],
      "execution_count": 58,
      "outputs": [
        {
          "output_type": "stream",
          "text": [
            "sMAPE для rougher: 6.708905687487224\n",
            "sMAPE для final: 9.002648231153968\n",
            "Итоговое sMAPE: 8.429212595237281 \n",
            " \n",
            "\n"
          ],
          "name": "stdout"
        }
      ]
    },
    {
      "cell_type": "markdown",
      "metadata": {
        "id": "THzV84L8Zn5y"
      },
      "source": [
        "### На всякий случай, проверяю вторую по показателям модель GradientBoostingRegressor."
      ]
    },
    {
      "cell_type": "code",
      "metadata": {
        "scrolled": false,
        "id": "-36__N_EZn5z",
        "outputId": "01c4e06c-72e6-4a11-9ec4-4781c1bb917b",
        "colab": {
          "base_uri": "https://localhost:8080/",
          "height": 102
        }
      },
      "source": [
        "gbr = GradientBoostingRegressor(loss='quantile', max_depth=10,random_state=12345)\n",
        "score_rougher = cross_val_score(gbr, features_test, target_test_rougher, cv=3,scoring=my_scorer_cv).mean()\n",
        "score_final = cross_val_score(gbr, features_test, target_test_final, cv=3,n_jobs=-1,scoring=my_scorer_cv).mean()\n",
        "print('sMAPE для rougher:', score_rougher)\n",
        "print('sMAPE для final:', score_final)\n",
        "print('Итоговое sMAPE:', total_smape(score_rougher, score_final),'\\n','\\n')"
      ],
      "execution_count": 59,
      "outputs": [
        {
          "output_type": "stream",
          "text": [
            "sMAPE для rougher: 5.49775858111201\n",
            "sMAPE для final: 10.88633772589634\n",
            "Итоговое sMAPE: 9.539192939700257 \n",
            " \n",
            "\n"
          ],
          "name": "stdout"
        }
      ]
    },
    {
      "cell_type": "markdown",
      "metadata": {
        "id": "s_AOGbz0Zn51"
      },
      "source": [
        "### Построение константной модели по медиане для сравнения."
      ]
    },
    {
      "cell_type": "code",
      "metadata": {
        "id": "8zCZOy12Zn52"
      },
      "source": [
        "gbr_rougher = GradientBoostingRegressor(loss='quantile', max_depth=10,random_state=12345).fit(features_train,target_train_rougher)\n",
        "gbr_final = GradientBoostingRegressor(loss='quantile', max_depth=10,random_state=12345).fit(features_train,target_train_final)\n",
        "rfr_rougher = RandomForestRegressor(n_estimators=100, max_depth=5, random_state=12345).fit(features_train,target_train_rougher)\n",
        "rfr_final = RandomForestRegressor(n_estimators=100, max_depth=5, random_state=12345).fit(features_train,target_train_final)"
      ],
      "execution_count": 60,
      "outputs": []
    },
    {
      "cell_type": "code",
      "metadata": {
        "id": "V9iZCKdVZn54"
      },
      "source": [
        "answers_gbr_rougher = gbr_rougher.predict(features_test)\n",
        "answers_gbr_final = gbr_final.predict(features_test)\n",
        "answers_rfr_rougher = rfr_rougher.predict(features_test)\n",
        "answers_rfr_final = rfr_final.predict(features_test)"
      ],
      "execution_count": 61,
      "outputs": []
    },
    {
      "cell_type": "code",
      "metadata": {
        "id": "yKZQnqdLZn56",
        "outputId": "6edeceb7-e9e8-4c25-a29b-8e00c7f017ef",
        "colab": {
          "base_uri": "https://localhost:8080/",
          "height": 224
        }
      },
      "source": [
        "temp=pd.DataFrame()\n",
        "temp['target_rougher'] = target_test_rougher\n",
        "temp['target_final'] = target_test_final\n",
        "temp['median_rougher'] = target_test_rougher.median()\n",
        "temp['median_final'] = target_test_final.median()\n",
        "temp['answers_gbr_rougher'] = answers_gbr_rougher\n",
        "temp['answers_gbr_final'] = answers_gbr_final\n",
        "temp['answers_rfr_rougher'] = answers_rfr_rougher\n",
        "temp['answers_rfr_final'] = answers_rfr_final\n",
        "temp['smape_gbr_rougher'] = (abs(temp['target_rougher']-temp['answers_gbr_rougher'])/((abs(temp['target_rougher'])+abs(temp['answers_gbr_rougher']))/2))*100\n",
        "temp['smape_rfr_rougher'] = (abs(temp['target_rougher']-temp['answers_rfr_rougher'])/((abs(temp['target_rougher'])+abs(temp['answers_rfr_rougher']))/2))*100\n",
        "temp['smape_gbr_final'] = (abs(temp['target_final']-temp['answers_gbr_final'])/((abs(temp['target_final'])+abs(temp['answers_gbr_final']))/2))*100\n",
        "temp['smape_rfr_final'] = (abs(temp['target_final']-temp['answers_rfr_final'])/((abs(temp['target_final'])+abs(temp['answers_rfr_final']))/2))*100\n",
        "temp.head()"
      ],
      "execution_count": 62,
      "outputs": [
        {
          "output_type": "execute_result",
          "data": {
            "text/html": [
              "<div>\n",
              "<style scoped>\n",
              "    .dataframe tbody tr th:only-of-type {\n",
              "        vertical-align: middle;\n",
              "    }\n",
              "\n",
              "    .dataframe tbody tr th {\n",
              "        vertical-align: top;\n",
              "    }\n",
              "\n",
              "    .dataframe thead th {\n",
              "        text-align: right;\n",
              "    }\n",
              "</style>\n",
              "<table border=\"1\" class=\"dataframe\">\n",
              "  <thead>\n",
              "    <tr style=\"text-align: right;\">\n",
              "      <th></th>\n",
              "      <th>target_rougher</th>\n",
              "      <th>target_final</th>\n",
              "      <th>median_rougher</th>\n",
              "      <th>median_final</th>\n",
              "      <th>answers_gbr_rougher</th>\n",
              "      <th>answers_gbr_final</th>\n",
              "      <th>answers_rfr_rougher</th>\n",
              "      <th>answers_rfr_final</th>\n",
              "      <th>smape_gbr_rougher</th>\n",
              "      <th>smape_rfr_rougher</th>\n",
              "      <th>smape_gbr_final</th>\n",
              "      <th>smape_rfr_final</th>\n",
              "    </tr>\n",
              "  </thead>\n",
              "  <tbody>\n",
              "    <tr>\n",
              "      <th>0</th>\n",
              "      <td>89.993421</td>\n",
              "      <td>70.273583</td>\n",
              "      <td>87.457953</td>\n",
              "      <td>69.98349</td>\n",
              "      <td>92.299033</td>\n",
              "      <td>77.219254</td>\n",
              "      <td>81.229077</td>\n",
              "      <td>70.548935</td>\n",
              "      <td>2.529575</td>\n",
              "      <td>10.237374</td>\n",
              "      <td>9.418317</td>\n",
              "      <td>0.391063</td>\n",
              "    </tr>\n",
              "    <tr>\n",
              "      <th>1</th>\n",
              "      <td>88.089657</td>\n",
              "      <td>68.910432</td>\n",
              "      <td>87.457953</td>\n",
              "      <td>69.98349</td>\n",
              "      <td>91.825109</td>\n",
              "      <td>76.936837</td>\n",
              "      <td>81.041384</td>\n",
              "      <td>69.974459</td>\n",
              "      <td>4.152469</td>\n",
              "      <td>8.334689</td>\n",
              "      <td>11.006590</td>\n",
              "      <td>1.532243</td>\n",
              "    </tr>\n",
              "    <tr>\n",
              "      <th>2</th>\n",
              "      <td>88.412756</td>\n",
              "      <td>68.143213</td>\n",
              "      <td>87.457953</td>\n",
              "      <td>69.98349</td>\n",
              "      <td>91.377220</td>\n",
              "      <td>75.873890</td>\n",
              "      <td>81.041384</td>\n",
              "      <td>70.067775</td>\n",
              "      <td>3.297697</td>\n",
              "      <td>8.700138</td>\n",
              "      <td>10.735776</td>\n",
              "      <td>2.784962</td>\n",
              "    </tr>\n",
              "    <tr>\n",
              "      <th>3</th>\n",
              "      <td>87.360133</td>\n",
              "      <td>67.776393</td>\n",
              "      <td>87.457953</td>\n",
              "      <td>69.98349</td>\n",
              "      <td>91.072848</td>\n",
              "      <td>74.613492</td>\n",
              "      <td>81.041384</td>\n",
              "      <td>69.640120</td>\n",
              "      <td>4.161467</td>\n",
              "      <td>7.504386</td>\n",
              "      <td>9.603350</td>\n",
              "      <td>2.712523</td>\n",
              "    </tr>\n",
              "    <tr>\n",
              "      <th>4</th>\n",
              "      <td>83.236367</td>\n",
              "      <td>61.467078</td>\n",
              "      <td>87.457953</td>\n",
              "      <td>69.98349</td>\n",
              "      <td>88.873043</td>\n",
              "      <td>76.331109</td>\n",
              "      <td>80.101456</td>\n",
              "      <td>69.781674</td>\n",
              "      <td>6.550107</td>\n",
              "      <td>3.838562</td>\n",
              "      <td>21.573623</td>\n",
              "      <td>12.669980</td>\n",
              "    </tr>\n",
              "  </tbody>\n",
              "</table>\n",
              "</div>"
            ],
            "text/plain": [
              "   target_rougher  target_final  median_rougher  median_final  \\\n",
              "0       89.993421     70.273583       87.457953      69.98349   \n",
              "1       88.089657     68.910432       87.457953      69.98349   \n",
              "2       88.412756     68.143213       87.457953      69.98349   \n",
              "3       87.360133     67.776393       87.457953      69.98349   \n",
              "4       83.236367     61.467078       87.457953      69.98349   \n",
              "\n",
              "   answers_gbr_rougher  answers_gbr_final  answers_rfr_rougher  \\\n",
              "0            92.299033          77.219254            81.229077   \n",
              "1            91.825109          76.936837            81.041384   \n",
              "2            91.377220          75.873890            81.041384   \n",
              "3            91.072848          74.613492            81.041384   \n",
              "4            88.873043          76.331109            80.101456   \n",
              "\n",
              "   answers_rfr_final  smape_gbr_rougher  smape_rfr_rougher  smape_gbr_final  \\\n",
              "0          70.548935           2.529575          10.237374         9.418317   \n",
              "1          69.974459           4.152469           8.334689        11.006590   \n",
              "2          70.067775           3.297697           8.700138        10.735776   \n",
              "3          69.640120           4.161467           7.504386         9.603350   \n",
              "4          69.781674           6.550107           3.838562        21.573623   \n",
              "\n",
              "   smape_rfr_final  \n",
              "0         0.391063  \n",
              "1         1.532243  \n",
              "2         2.784962  \n",
              "3         2.712523  \n",
              "4        12.669980  "
            ]
          },
          "metadata": {
            "tags": []
          },
          "execution_count": 62
        }
      ]
    },
    {
      "cell_type": "markdown",
      "metadata": {
        "id": "BZPXro7GZn6B"
      },
      "source": [
        "### Вычисление sMAPE вручную"
      ]
    },
    {
      "cell_type": "code",
      "metadata": {
        "id": "1b7YtI2wZn6B",
        "outputId": "21c5f88b-d801-430d-f5a9-f3569960f305",
        "colab": {
          "base_uri": "https://localhost:8080/",
          "height": 51
        }
      },
      "source": [
        "total_gbr_smape_rougher = 0.25*sum(temp['smape_gbr_rougher'])/len(temp['smape_gbr_rougher'])+0.75*sum(temp['smape_gbr_final'])/len(temp['smape_gbr_final'])\n",
        "total_rfr_smape_final = 0.25*sum(temp['smape_rfr_rougher'])/len(temp['smape_rfr_rougher'])+0.75*sum(temp['smape_rfr_final'])/len(temp['smape_rfr_final'])\n",
        "print('Итоговое sMAPE GBR:', total_gbr_smape_rougher)\n",
        "print('Итоговое sMAPE RFR:', total_rfr_smape_final)"
      ],
      "execution_count": 63,
      "outputs": [
        {
          "output_type": "stream",
          "text": [
            "Итоговое sMAPE GBR: 8.76810098344179\n",
            "Итоговое sMAPE RFR: 9.404754197433233\n"
          ],
          "name": "stdout"
        }
      ]
    },
    {
      "cell_type": "markdown",
      "metadata": {
        "id": "jCG0rX8fZn6E"
      },
      "source": [
        "##### sMAPE сошлось, вычисления правильные."
      ]
    },
    {
      "cell_type": "markdown",
      "metadata": {
        "id": "Um4ML_zLZn6E"
      },
      "source": [
        "### Вычисление sMAPE для константной модели по функции."
      ]
    },
    {
      "cell_type": "code",
      "metadata": {
        "id": "d53hRbUSZn6F",
        "outputId": "5e9e17ee-60a8-4e8e-aded-8fa1d461b3f2",
        "colab": {
          "base_uri": "https://localhost:8080/",
          "height": 102
        }
      },
      "source": [
        "score_rougher = smape_rougher(temp['target_rougher'], temp['median_rougher'])\n",
        "score_final = smape_final(temp['target_final'], temp['median_final'])\n",
        "print('sMAPE для rougher:', score_rougher)\n",
        "print('sMAPE для final:', score_final)\n",
        "print('Итоговое sMAPE:', total_smape(score_rougher, score_final),'\\n','\\n')"
      ],
      "execution_count": 64,
      "outputs": [
        {
          "output_type": "stream",
          "text": [
            "sMAPE для rougher: 5.156651036011569\n",
            "sMAPE для final: 7.58817508246967\n",
            "Итоговое sMAPE: 6.980294070855145 \n",
            " \n",
            "\n"
          ],
          "name": "stdout"
        }
      ]
    },
    {
      "cell_type": "markdown",
      "metadata": {
        "id": "fsGs6wnzZn6K"
      },
      "source": [
        "### Константная модель оказалась намного лучше."
      ]
    },
    {
      "cell_type": "markdown",
      "metadata": {
        "id": "dZalBWAPZn6K"
      },
      "source": [
        "### Проверка моделей без кросс-валидации с обучением на train и предсказанием на test."
      ]
    },
    {
      "cell_type": "markdown",
      "metadata": {
        "id": "Zh-sdKVZZn6L"
      },
      "source": [
        "### GradientBoostingRegressor"
      ]
    },
    {
      "cell_type": "code",
      "metadata": {
        "id": "xa7xTY-oZn6M",
        "outputId": "5ba56dd6-95ae-4dd4-c189-70e94de6a881",
        "colab": {
          "base_uri": "https://localhost:8080/",
          "height": 102
        }
      },
      "source": [
        "score_rougher = smape_rougher(target_test_rougher,answers_gbr_rougher)\n",
        "score_final = smape_final(target_test_final,answers_gbr_final)\n",
        "print('sMAPE для rougher:', score_rougher)\n",
        "print('sMAPE для final:', score_final)\n",
        "print('Итоговое sMAPE:', total_smape(score_rougher, score_final),'\\n','\\n')"
      ],
      "execution_count": 65,
      "outputs": [
        {
          "output_type": "stream",
          "text": [
            "sMAPE для rougher: 5.179611542251627\n",
            "sMAPE для final: 9.964264130505189\n",
            "Итоговое sMAPE: 8.768100983441798 \n",
            " \n",
            "\n"
          ],
          "name": "stdout"
        }
      ]
    },
    {
      "cell_type": "markdown",
      "metadata": {
        "id": "hQyJAbS5Zn6Q"
      },
      "source": [
        "### RandomForestRegressor"
      ]
    },
    {
      "cell_type": "code",
      "metadata": {
        "id": "j4JfKx1vZn6R",
        "outputId": "3c6220ba-8e55-4171-bff1-c55e656ba0dd",
        "colab": {
          "base_uri": "https://localhost:8080/",
          "height": 102
        }
      },
      "source": [
        "score_rougher = smape_rougher(target_test_rougher,answers_rfr_rougher)\n",
        "score_final = smape_final(target_test_final,answers_rfr_final)\n",
        "print('sMAPE для rougher:', score_rougher)\n",
        "print('sMAPE для final:', score_final)\n",
        "print('Итоговое sMAPE:', total_smape(score_rougher, score_final),'\\n','\\n')"
      ],
      "execution_count": 66,
      "outputs": [
        {
          "output_type": "stream",
          "text": [
            "sMAPE для rougher: 10.505633566724336\n",
            "sMAPE для final: 9.037794407669539\n",
            "Итоговое sMAPE: 9.404754197433238 \n",
            " \n",
            "\n"
          ],
          "name": "stdout"
        }
      ]
    },
    {
      "cell_type": "markdown",
      "metadata": {
        "id": "mRDnru8mZn6U"
      },
      "source": [
        "# Достичь точности предсказаний константной модели не удалось. Это говорит о том, что распределение правильных ответов в target очень узкое."
      ]
    },
    {
      "cell_type": "markdown",
      "metadata": {
        "id": "cZhXCpnQZn6U"
      },
      "source": [
        "### Посмотрим на распределение значений target_rougher и target_final."
      ]
    },
    {
      "cell_type": "code",
      "metadata": {
        "id": "CL04tCjKZn6V",
        "outputId": "ba623741-dfd1-4650-dc58-d758ccb5ce9a",
        "colab": {
          "base_uri": "https://localhost:8080/",
          "height": 513
        }
      },
      "source": [
        "temp['target_rougher'].plot(kind='hist')\n",
        "plt.show()\n",
        "temp['target_final'].plot(kind='hist')\n",
        "plt.show()"
      ],
      "execution_count": 67,
      "outputs": [
        {
          "output_type": "display_data",
          "data": {
            "image/png": "[encoded data removed]",
            "text/plain": [
              "<Figure size 432x288 with 1 Axes>"
            ]
          },
          "metadata": {
            "tags": [],
            "needs_background": "light"
          }
        },
        {
          "output_type": "display_data",
          "data": {
            "image/png": "[encoded data removed]",
            "text/plain": [
              "<Figure size 432x288 with 1 Axes>"
            ]
          },
          "metadata": {
            "tags": [],
            "needs_background": "light"
          }
        }
      ]
    },
    {
      "cell_type": "code",
      "metadata": {
        "id": "8YWA3lMaZn6Y",
        "outputId": "60c16726-7a37-4c8a-d1d1-1f3e08c3d58e",
        "colab": {
          "base_uri": "https://localhost:8080/",
          "height": 297
        }
      },
      "source": [
        "temp[['target_final','target_rougher']].describe()"
      ],
      "execution_count": 69,
      "outputs": [
        {
          "output_type": "execute_result",
          "data": {
            "text/html": [
              "<div>\n",
              "<style scoped>\n",
              "    .dataframe tbody tr th:only-of-type {\n",
              "        vertical-align: middle;\n",
              "    }\n",
              "\n",
              "    .dataframe tbody tr th {\n",
              "        vertical-align: top;\n",
              "    }\n",
              "\n",
              "    .dataframe thead th {\n",
              "        text-align: right;\n",
              "    }\n",
              "</style>\n",
              "<table border=\"1\" class=\"dataframe\">\n",
              "  <thead>\n",
              "    <tr style=\"text-align: right;\">\n",
              "      <th></th>\n",
              "      <th>target_final</th>\n",
              "      <th>target_rougher</th>\n",
              "    </tr>\n",
              "  </thead>\n",
              "  <tbody>\n",
              "    <tr>\n",
              "      <th>count</th>\n",
              "      <td>5177.000000</td>\n",
              "      <td>5177.000000</td>\n",
              "    </tr>\n",
              "    <tr>\n",
              "      <th>mean</th>\n",
              "      <td>69.112474</td>\n",
              "      <td>86.304096</td>\n",
              "    </tr>\n",
              "    <tr>\n",
              "      <th>std</th>\n",
              "      <td>7.372991</td>\n",
              "      <td>8.004869</td>\n",
              "    </tr>\n",
              "    <tr>\n",
              "      <th>min</th>\n",
              "      <td>2.030917</td>\n",
              "      <td>1.011452</td>\n",
              "    </tr>\n",
              "    <tr>\n",
              "      <th>25%</th>\n",
              "      <td>65.811684</td>\n",
              "      <td>84.711356</td>\n",
              "    </tr>\n",
              "    <tr>\n",
              "      <th>50%</th>\n",
              "      <td>69.983490</td>\n",
              "      <td>87.457953</td>\n",
              "    </tr>\n",
              "    <tr>\n",
              "      <th>75%</th>\n",
              "      <td>73.337229</td>\n",
              "      <td>89.773220</td>\n",
              "    </tr>\n",
              "    <tr>\n",
              "      <th>max</th>\n",
              "      <td>100.000000</td>\n",
              "      <td>99.169699</td>\n",
              "    </tr>\n",
              "  </tbody>\n",
              "</table>\n",
              "</div>"
            ],
            "text/plain": [
              "       target_final  target_rougher\n",
              "count   5177.000000     5177.000000\n",
              "mean      69.112474       86.304096\n",
              "std        7.372991        8.004869\n",
              "min        2.030917        1.011452\n",
              "25%       65.811684       84.711356\n",
              "50%       69.983490       87.457953\n",
              "75%       73.337229       89.773220\n",
              "max      100.000000       99.169699"
            ]
          },
          "metadata": {
            "tags": []
          },
          "execution_count": 69
        }
      ]
    },
    {
      "cell_type": "markdown",
      "metadata": {
        "id": "2IIL0fwRqt1n"
      },
      "source": [
        "### Видно, что распределение, действительно, очень узкое. Разность между третьим и первым квантилем для final - 7,525545, для rougher - 5,061864. Поэтому константная модель показывает лучший результат, чем модель машинного обучения."
      ]
    },
    {
      "cell_type": "markdown",
      "metadata": {
        "id": "q1Oe5EJWZn6e"
      },
      "source": [
        "##### Выводы:\n",
        "1. Была проведена предобработка входных данных.\n",
        "2. В тренировочную и тестовую выборки были добавлены целевые признаки.\n",
        "3. Было проведено заполнение недостающих данных по имеющимся признакам.\n",
        "4. Проведён поиск лучшей модели с помощью GridSearchCV, а также перебором параметров с помощью цикла.\n",
        "5. Найдены наилучшие модели.\n",
        "6. Лучшая модель проверена на тестовой выборке.\n",
        "7. Получено лучшее значение итоговой sMAPE = 8.429212595237281.\n",
        "8. Значение метрики sMAPE константной модели = 6.980294070855145.\n",
        "9. Константная модель показывает лучший результат из-за узкого распределения значений в target."
      ]
    },
    {
      "cell_type": "code",
      "metadata": {
        "id": "HOCTRSbNrgvF"
      },
      "source": [
        ""
      ],
      "execution_count": null,
      "outputs": []
    }
  ]
}