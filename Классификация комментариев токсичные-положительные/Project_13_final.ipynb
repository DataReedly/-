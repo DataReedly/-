{
  "nbformat": 4,
  "nbformat_minor": 0,
  "metadata": {
    "kernelspec": {
      "display_name": "Python 3",
      "language": "python",
      "name": "python3"
    },
    "language_info": {
      "codemirror_mode": {
        "name": "ipython",
        "version": 3
      },
      "file_extension": ".py",
      "mimetype": "text/x-python",
      "name": "python",
      "nbconvert_exporter": "python",
      "pygments_lexer": "ipython3",
      "version": "3.7.6"
    },
    "colab": {
      "name": "Project_13.ipynb",
      "provenance": []
    },
    "widgets": {
      "application/vnd.jupyter.widget-state+json": {
        "1d74654018a34823b4cd4fe0b2fe91a3": {
          "model_module": "@jupyter-widgets/controls",
          "model_name": "HBoxModel",
          "state": {
            "_view_name": "HBoxView",
            "_dom_classes": [],
            "_model_name": "HBoxModel",
            "_view_module": "@jupyter-widgets/controls",
            "_model_module_version": "1.5.0",
            "_view_count": null,
            "_view_module_version": "1.5.0",
            "box_style": "",
            "layout": "IPY_MODEL_0937a267d07b4b84944ec3a8b99747f6",
            "_model_module": "@jupyter-widgets/controls",
            "children": [
              "IPY_MODEL_0a99f466546c4328b4474db18f389a9c",
              "IPY_MODEL_52e7c030993944289b15ab40c54d5095"
            ]
          }
        },
        "0937a267d07b4b84944ec3a8b99747f6": {
          "model_module": "@jupyter-widgets/base",
          "model_name": "LayoutModel",
          "state": {
            "_view_name": "LayoutView",
            "grid_template_rows": null,
            "right": null,
            "justify_content": null,
            "_view_module": "@jupyter-widgets/base",
            "overflow": null,
            "_model_module_version": "1.2.0",
            "_view_count": null,
            "flex_flow": null,
            "width": null,
            "min_width": null,
            "border": null,
            "align_items": null,
            "bottom": null,
            "_model_module": "@jupyter-widgets/base",
            "top": null,
            "grid_column": null,
            "overflow_y": null,
            "overflow_x": null,
            "grid_auto_flow": null,
            "grid_area": null,
            "grid_template_columns": null,
            "flex": null,
            "_model_name": "LayoutModel",
            "justify_items": null,
            "grid_row": null,
            "max_height": null,
            "align_content": null,
            "visibility": null,
            "align_self": null,
            "height": null,
            "min_height": null,
            "padding": null,
            "grid_auto_rows": null,
            "grid_gap": null,
            "max_width": null,
            "order": null,
            "_view_module_version": "1.2.0",
            "grid_template_areas": null,
            "object_position": null,
            "object_fit": null,
            "grid_auto_columns": null,
            "margin": null,
            "display": null,
            "left": null
          }
        },
        "0a99f466546c4328b4474db18f389a9c": {
          "model_module": "@jupyter-widgets/controls",
          "model_name": "FloatProgressModel",
          "state": {
            "_view_name": "ProgressView",
            "style": "IPY_MODEL_cd93998a17a9479aa7e648428c6ca38b",
            "_dom_classes": [],
            "description": "100%",
            "_model_name": "FloatProgressModel",
            "bar_style": "success",
            "max": 159526,
            "_view_module": "@jupyter-widgets/controls",
            "_model_module_version": "1.5.0",
            "value": 159526,
            "_view_count": null,
            "_view_module_version": "1.5.0",
            "orientation": "horizontal",
            "min": 0,
            "description_tooltip": null,
            "_model_module": "@jupyter-widgets/controls",
            "layout": "IPY_MODEL_bd0524a8881847a1a3ebcd9de692e02e"
          }
        },
        "52e7c030993944289b15ab40c54d5095": {
          "model_module": "@jupyter-widgets/controls",
          "model_name": "HTMLModel",
          "state": {
            "_view_name": "HTMLView",
            "style": "IPY_MODEL_e04d2fdd5edb48bc9905ae713f243b4c",
            "_dom_classes": [],
            "description": "",
            "_model_name": "HTMLModel",
            "placeholder": "​",
            "_view_module": "@jupyter-widgets/controls",
            "_model_module_version": "1.5.0",
            "value": " 159526/159526 [04:18&lt;00:00, 617.66it/s]",
            "_view_count": null,
            "_view_module_version": "1.5.0",
            "description_tooltip": null,
            "_model_module": "@jupyter-widgets/controls",
            "layout": "IPY_MODEL_a5e121411e0e424290dadb30f871f527"
          }
        },
        "cd93998a17a9479aa7e648428c6ca38b": {
          "model_module": "@jupyter-widgets/controls",
          "model_name": "ProgressStyleModel",
          "state": {
            "_view_name": "StyleView",
            "_model_name": "ProgressStyleModel",
            "description_width": "initial",
            "_view_module": "@jupyter-widgets/base",
            "_model_module_version": "1.5.0",
            "_view_count": null,
            "_view_module_version": "1.2.0",
            "bar_color": null,
            "_model_module": "@jupyter-widgets/controls"
          }
        },
        "bd0524a8881847a1a3ebcd9de692e02e": {
          "model_module": "@jupyter-widgets/base",
          "model_name": "LayoutModel",
          "state": {
            "_view_name": "LayoutView",
            "grid_template_rows": null,
            "right": null,
            "justify_content": null,
            "_view_module": "@jupyter-widgets/base",
            "overflow": null,
            "_model_module_version": "1.2.0",
            "_view_count": null,
            "flex_flow": null,
            "width": null,
            "min_width": null,
            "border": null,
            "align_items": null,
            "bottom": null,
            "_model_module": "@jupyter-widgets/base",
            "top": null,
            "grid_column": null,
            "overflow_y": null,
            "overflow_x": null,
            "grid_auto_flow": null,
            "grid_area": null,
            "grid_template_columns": null,
            "flex": null,
            "_model_name": "LayoutModel",
            "justify_items": null,
            "grid_row": null,
            "max_height": null,
            "align_content": null,
            "visibility": null,
            "align_self": null,
            "height": null,
            "min_height": null,
            "padding": null,
            "grid_auto_rows": null,
            "grid_gap": null,
            "max_width": null,
            "order": null,
            "_view_module_version": "1.2.0",
            "grid_template_areas": null,
            "object_position": null,
            "object_fit": null,
            "grid_auto_columns": null,
            "margin": null,
            "display": null,
            "left": null
          }
        },
        "e04d2fdd5edb48bc9905ae713f243b4c": {
          "model_module": "@jupyter-widgets/controls",
          "model_name": "DescriptionStyleModel",
          "state": {
            "_view_name": "StyleView",
            "_model_name": "DescriptionStyleModel",
            "description_width": "",
            "_view_module": "@jupyter-widgets/base",
            "_model_module_version": "1.5.0",
            "_view_count": null,
            "_view_module_version": "1.2.0",
            "_model_module": "@jupyter-widgets/controls"
          }
        },
        "a5e121411e0e424290dadb30f871f527": {
          "model_module": "@jupyter-widgets/base",
          "model_name": "LayoutModel",
          "state": {
            "_view_name": "LayoutView",
            "grid_template_rows": null,
            "right": null,
            "justify_content": null,
            "_view_module": "@jupyter-widgets/base",
            "overflow": null,
            "_model_module_version": "1.2.0",
            "_view_count": null,
            "flex_flow": null,
            "width": null,
            "min_width": null,
            "border": null,
            "align_items": null,
            "bottom": null,
            "_model_module": "@jupyter-widgets/base",
            "top": null,
            "grid_column": null,
            "overflow_y": null,
            "overflow_x": null,
            "grid_auto_flow": null,
            "grid_area": null,
            "grid_template_columns": null,
            "flex": null,
            "_model_name": "LayoutModel",
            "justify_items": null,
            "grid_row": null,
            "max_height": null,
            "align_content": null,
            "visibility": null,
            "align_self": null,
            "height": null,
            "min_height": null,
            "padding": null,
            "grid_auto_rows": null,
            "grid_gap": null,
            "max_width": null,
            "order": null,
            "_view_module_version": "1.2.0",
            "grid_template_areas": null,
            "object_position": null,
            "object_fit": null,
            "grid_auto_columns": null,
            "margin": null,
            "display": null,
            "left": null
          }
        }
      }
    }
  },
  "cells": [
    {
      "cell_type": "markdown",
      "metadata": {
        "id": "cgKWpN4hF-I-"
      },
      "source": [
        "# 1. Подготовка"
      ]
    },
    {
      "cell_type": "code",
      "metadata": {
        "id": "puaNKWYXF-I_",
        "outputId": "1d3484be-2315-46a3-9659-80995fa8364b",
        "colab": {
          "base_uri": "https://localhost:8080/",
          "height": 255
        }
      },
      "source": [
        "!pip install catboost\n",
        "import pandas as pd\n",
        "import re\n",
        "import nltk\n",
        "from nltk.corpus import stopwords\n",
        "from pymystem3 import Mystem\n",
        "from tqdm import notebook\n",
        "from sklearn.feature_extraction.text import TfidfVectorizer\n",
        "from sklearn.feature_extraction.text import CountVectorizer\n",
        "from sklearn.model_selection import train_test_split\n",
        "from sklearn.metrics import f1_score\n",
        "from sklearn.linear_model import LogisticRegression\n",
        "import lightgbm as lgb\n",
        "import xgboost as xgb\n",
        "from catboost import CatBoostClassifier\n",
        "from sklearn.neighbors import KNeighborsClassifier\n",
        "from sklearn.svm import SVC"
      ],
      "execution_count": 1,
      "outputs": [
        {
          "output_type": "stream",
          "text": [
            "Requirement already satisfied: catboost in /usr/local/lib/python3.6/dist-packages (0.24.2)\n",
            "Requirement already satisfied: graphviz in /usr/local/lib/python3.6/dist-packages (from catboost) (0.10.1)\n",
            "Requirement already satisfied: plotly in /usr/local/lib/python3.6/dist-packages (from catboost) (4.4.1)\n",
            "Requirement already satisfied: six in /usr/local/lib/python3.6/dist-packages (from catboost) (1.15.0)\n",
            "Requirement already satisfied: pandas>=0.24.0 in /usr/local/lib/python3.6/dist-packages (from catboost) (1.1.2)\n",
            "Requirement already satisfied: matplotlib in /usr/local/lib/python3.6/dist-packages (from catboost) (3.2.2)\n",
            "Requirement already satisfied: scipy in /usr/local/lib/python3.6/dist-packages (from catboost) (1.4.1)\n",
            "Requirement already satisfied: numpy>=1.16.0 in /usr/local/lib/python3.6/dist-packages (from catboost) (1.18.5)\n",
            "Requirement already satisfied: retrying>=1.3.3 in /usr/local/lib/python3.6/dist-packages (from plotly->catboost) (1.3.3)\n",
            "Requirement already satisfied: pytz>=2017.2 in /usr/local/lib/python3.6/dist-packages (from pandas>=0.24.0->catboost) (2018.9)\n",
            "Requirement already satisfied: python-dateutil>=2.7.3 in /usr/local/lib/python3.6/dist-packages (from pandas>=0.24.0->catboost) (2.8.1)\n",
            "Requirement already satisfied: kiwisolver>=1.0.1 in /usr/local/lib/python3.6/dist-packages (from matplotlib->catboost) (1.2.0)\n",
            "Requirement already satisfied: pyparsing!=2.0.4,!=2.1.2,!=2.1.6,>=2.0.1 in /usr/local/lib/python3.6/dist-packages (from matplotlib->catboost) (2.4.7)\n",
            "Requirement already satisfied: cycler>=0.10 in /usr/local/lib/python3.6/dist-packages (from matplotlib->catboost) (0.10.0)\n"
          ],
          "name": "stdout"
        }
      ]
    },
    {
      "cell_type": "code",
      "metadata": {
        "id": "tq3RsV8AGd5B",
        "outputId": "346f91f4-d517-49bd-95d0-dc691e2d56fc",
        "colab": {
          "base_uri": "https://localhost:8080/",
          "height": 34
        }
      },
      "source": [
        "from google.colab import drive\n",
        "drive.mount('/content/drive')"
      ],
      "execution_count": 2,
      "outputs": [
        {
          "output_type": "stream",
          "text": [
            "Drive already mounted at /content/drive; to attempt to forcibly remount, call drive.mount(\"/content/drive\", force_remount=True).\n"
          ],
          "name": "stdout"
        }
      ]
    },
    {
      "cell_type": "code",
      "metadata": {
        "id": "O8YehKhwF-JF"
      },
      "source": [
        "pd.set_option('display.max_colwidth', None)"
      ],
      "execution_count": 3,
      "outputs": []
    },
    {
      "cell_type": "markdown",
      "metadata": {
        "id": "ZUpP_ymbF-JJ"
      },
      "source": [
        "## Загрузка данных."
      ]
    },
    {
      "cell_type": "code",
      "metadata": {
        "id": "1wDrrlofF-JK"
      },
      "source": [
        "df = pd.read_csv('/content/drive/My Drive/Colab Notebooks/toxic_comments.csv')"
      ],
      "execution_count": 4,
      "outputs": []
    },
    {
      "cell_type": "markdown",
      "metadata": {
        "id": "Ll_kNKbzF-JO"
      },
      "source": [
        "## Ознакомление."
      ]
    },
    {
      "cell_type": "code",
      "metadata": {
        "id": "9wqw7hlOF-JP",
        "outputId": "fc7b5cd2-b472-4bc5-d42a-4f5b13945ab2",
        "colab": {
          "base_uri": "https://localhost:8080/",
          "height": 170
        }
      },
      "source": [
        "df.info()"
      ],
      "execution_count": 5,
      "outputs": [
        {
          "output_type": "stream",
          "text": [
            "<class 'pandas.core.frame.DataFrame'>\n",
            "RangeIndex: 159571 entries, 0 to 159570\n",
            "Data columns (total 2 columns):\n",
            " #   Column  Non-Null Count   Dtype \n",
            "---  ------  --------------   ----- \n",
            " 0   text    159571 non-null  object\n",
            " 1   toxic   159571 non-null  int64 \n",
            "dtypes: int64(1), object(1)\n",
            "memory usage: 2.4+ MB\n"
          ],
          "name": "stdout"
        }
      ]
    },
    {
      "cell_type": "markdown",
      "metadata": {
        "id": "HNHp35h4F-JV"
      },
      "source": [
        "## Приведение всех значений в нижний регистр."
      ]
    },
    {
      "cell_type": "code",
      "metadata": {
        "id": "otpNOc39F-JW"
      },
      "source": [
        "df['text'] = df['text'].str.lower()"
      ],
      "execution_count": 6,
      "outputs": []
    },
    {
      "cell_type": "markdown",
      "metadata": {
        "id": "AX9Xt8NsF-Ja"
      },
      "source": [
        "## Проверка и удаление дубликатов."
      ]
    },
    {
      "cell_type": "code",
      "metadata": {
        "id": "jlbh7GJ1F-Jb",
        "outputId": "5e5269f4-09a5-470b-c3fc-ed60c0b94e42",
        "colab": {
          "base_uri": "https://localhost:8080/",
          "height": 51
        }
      },
      "source": [
        "print(df.duplicated().sum())\n",
        "df = df.drop_duplicates().reset_index(drop = True)\n",
        "print(df.duplicated().sum())"
      ],
      "execution_count": 7,
      "outputs": [
        {
          "output_type": "stream",
          "text": [
            "45\n",
            "0\n"
          ],
          "name": "stdout"
        }
      ]
    },
    {
      "cell_type": "markdown",
      "metadata": {
        "id": "Y7th30vUF-Jg"
      },
      "source": [
        "##### Дубликаты удалены."
      ]
    },
    {
      "cell_type": "markdown",
      "metadata": {
        "id": "AKGvH8tpF-Ji"
      },
      "source": [
        "## Удаление лишних символов."
      ]
    },
    {
      "cell_type": "code",
      "metadata": {
        "id": "0U9Yi6VHF-Jj"
      },
      "source": [
        "df['text'] = df['text'].str.replace(r'\\n',' ')\n",
        "df['text'] = df['text'].str.replace(r'\\t',' ')\n",
        "#df['text'] = df['text'].str.replace(r'@',' ')\n",
        "df['text'] = df['text'].str.strip()"
      ],
      "execution_count": 8,
      "outputs": []
    },
    {
      "cell_type": "code",
      "metadata": {
        "id": "OGMs3QGbF-Jn",
        "outputId": "46d8fe5b-49b9-4db8-cbf2-70de58ed037b",
        "colab": {
          "base_uri": "https://localhost:8080/",
          "height": 151,
          "referenced_widgets": [
            "1d74654018a34823b4cd4fe0b2fe91a3",
            "0937a267d07b4b84944ec3a8b99747f6",
            "0a99f466546c4328b4474db18f389a9c",
            "52e7c030993944289b15ab40c54d5095",
            "cd93998a17a9479aa7e648428c6ca38b",
            "bd0524a8881847a1a3ebcd9de692e02e",
            "e04d2fdd5edb48bc9905ae713f243b4c",
            "a5e121411e0e424290dadb30f871f527"
          ]
        }
      },
      "source": [
        "for i in notebook.tqdm(range(len(df))):\n",
        "    df['text'][i] = ' '.join((\"\".join([a for a in df['text'][i] if a.isalpha() or a==\" \"])).split())"
      ],
      "execution_count": 9,
      "outputs": [
        {
          "output_type": "display_data",
          "data": {
            "application/vnd.jupyter.widget-view+json": {
              "model_id": "1d74654018a34823b4cd4fe0b2fe91a3",
              "version_minor": 0,
              "version_major": 2
            },
            "text/plain": [
              "HBox(children=(FloatProgress(value=0.0, max=159526.0), HTML(value='')))"
            ]
          },
          "metadata": {
            "tags": []
          }
        },
        {
          "output_type": "stream",
          "text": [
            "/usr/local/lib/python3.6/dist-packages/ipykernel_launcher.py:2: SettingWithCopyWarning: \n",
            "A value is trying to be set on a copy of a slice from a DataFrame\n",
            "\n",
            "See the caveats in the documentation: https://pandas.pydata.org/pandas-docs/stable/user_guide/indexing.html#returning-a-view-versus-a-copy\n",
            "  \n"
          ],
          "name": "stderr"
        },
        {
          "output_type": "stream",
          "text": [
            "\n"
          ],
          "name": "stdout"
        }
      ]
    },
    {
      "cell_type": "markdown",
      "metadata": {
        "id": "FopV-B_ZF-Jt"
      },
      "source": [
        "## Проверка баланса классов."
      ]
    },
    {
      "cell_type": "code",
      "metadata": {
        "id": "W9DZl_J2F-Ju",
        "outputId": "d414c08c-6236-48be-994b-b67b049151ec",
        "colab": {
          "base_uri": "https://localhost:8080/",
          "height": 68
        }
      },
      "source": [
        "print('Положительный класс:',df[df['toxic']==1]['toxic'].count())\n",
        "print('Отрицательный класс:',df[df['toxic']==0]['toxic'].count())\n",
        "print('Отрицательных в {} раз больше положительных'.format(round(df[df['toxic']==0]['toxic'].count()/df[df['toxic']==1]['toxic'].count(),5)))"
      ],
      "execution_count": 10,
      "outputs": [
        {
          "output_type": "stream",
          "text": [
            "Положительный класс: 16210\n",
            "Отрицательный класс: 143316\n",
            "Отрицательных в 8.84121 раз больше положительных\n"
          ],
          "name": "stdout"
        }
      ]
    },
    {
      "cell_type": "markdown",
      "metadata": {
        "id": "DqowsUF8F-Jy"
      },
      "source": [
        "##### Наблюдается дисбаланс классов. Чтобы не увеличивать и без того большую выборку, буду указывать class_weight='balanced' при обучении моделей."
      ]
    },
    {
      "cell_type": "markdown",
      "metadata": {
        "id": "4nRcXCfAF-Jz"
      },
      "source": [
        "## Создание target."
      ]
    },
    {
      "cell_type": "code",
      "metadata": {
        "id": "jupRA6KLF-J0"
      },
      "source": [
        "features = df['text']\n",
        "target = df['toxic']"
      ],
      "execution_count": 11,
      "outputs": []
    },
    {
      "cell_type": "markdown",
      "metadata": {
        "id": "tkTurm7XF-J5"
      },
      "source": [
        "## Разбиение на train, valid, test."
      ]
    },
    {
      "cell_type": "code",
      "metadata": {
        "id": "7fYpdTz9F-J6"
      },
      "source": [
        "x_train, x_to_split, y_train, y_to_split = train_test_split(features, target, test_size=0.4, random_state=12345)\n",
        "x_valid, x_test, y_valid, y_test = train_test_split(x_to_split, y_to_split, test_size=0.5, random_state=12345)"
      ],
      "execution_count": 12,
      "outputs": []
    },
    {
      "cell_type": "code",
      "metadata": {
        "id": "0HHOnwxXF-J_",
        "outputId": "01f231ec-9aa0-4839-f42e-b9c92c46a248",
        "colab": {
          "base_uri": "https://localhost:8080/",
          "height": 119
        }
      },
      "source": [
        "del x_to_split, y_to_split\n",
        "print(x_train.shape)\n",
        "print(y_train.shape)\n",
        "print(x_valid.shape)\n",
        "print(y_valid.shape)\n",
        "print(x_test.shape)\n",
        "print(y_test.shape)"
      ],
      "execution_count": 13,
      "outputs": [
        {
          "output_type": "stream",
          "text": [
            "(95715,)\n",
            "(95715,)\n",
            "(31905,)\n",
            "(31905,)\n",
            "(31906,)\n",
            "(31906,)\n"
          ],
          "name": "stdout"
        }
      ]
    },
    {
      "cell_type": "markdown",
      "metadata": {
        "id": "8ptUAHSZF-KD"
      },
      "source": [
        "## Создание массива TF-IDF для обучения регрессии."
      ]
    },
    {
      "cell_type": "code",
      "metadata": {
        "id": "LpiekqoTF-KE",
        "outputId": "ec2177d1-9678-47ac-ae24-6349e64868ca",
        "colab": {
          "base_uri": "https://localhost:8080/",
          "height": 51
        }
      },
      "source": [
        "nltk.download('stopwords')\n",
        "stop_words = set(stopwords.words('english'))"
      ],
      "execution_count": 14,
      "outputs": [
        {
          "output_type": "stream",
          "text": [
            "[nltk_data] Downloading package stopwords to /root/nltk_data...\n",
            "[nltk_data]   Package stopwords is already up-to-date!\n"
          ],
          "name": "stdout"
        }
      ]
    },
    {
      "cell_type": "code",
      "metadata": {
        "id": "zpoozvIMF-KI"
      },
      "source": [
        "count_tf_idf = TfidfVectorizer(stop_words=stop_words)\n",
        "tfidf_train = count_tf_idf.fit_transform(x_train)\n",
        "tfidf_valid = count_tf_idf.transform(x_valid)\n",
        "tfidf_test = count_tf_idf.transform(x_test)\n",
        "del x_train, x_valid, x_test, features, target"
      ],
      "execution_count": 15,
      "outputs": []
    },
    {
      "cell_type": "markdown",
      "metadata": {
        "id": "Tbgz0pfZF-KN"
      },
      "source": [
        "# 2. Обучение"
      ]
    },
    {
      "cell_type": "markdown",
      "metadata": {
        "id": "a5q_vrAEF-KN"
      },
      "source": [
        "## LogisticRegression."
      ]
    },
    {
      "cell_type": "code",
      "metadata": {
        "id": "QVOarF44F-KO"
      },
      "source": [
        "#solver = ['newton-cg', 'lbfgs', 'liblinear', 'sag', 'saga']\n",
        "#c = [1,5,10,20,30]"
      ],
      "execution_count": 16,
      "outputs": []
    },
    {
      "cell_type": "code",
      "metadata": {
        "id": "IrN0wEjUF-KS"
      },
      "source": [
        "#%%time\n",
        "#result = pd.DataFrame(columns = ['solver','c','f1_score'])\n",
        "#for i in solver:\n",
        "#    for k in c:\n",
        "#        model = LogisticRegression(solver=i, C=k,random_state=12345, class_weight='balanced', n_jobs=-1).fit(tfidf_train, y_train)\n",
        "#        answers = model.predict(tfidf_valid)\n",
        "#        f1 = f1_score(y_valid, answers)\n",
        "#        result = result.append({'solver':i,'c':k,'f1_score':round(f1,5)}, ignore_index=True)\n",
        "#print(result.sort_values('f1_score', ascending=False))"
      ],
      "execution_count": 17,
      "outputs": []
    },
    {
      "cell_type": "markdown",
      "metadata": {
        "id": "DHSJbQVhF-KV"
      },
      "source": [
        "##### Лучшая модель LogisticRegression: solver='sag', C=20. F1_score = 0.77399"
      ]
    },
    {
      "cell_type": "markdown",
      "metadata": {
        "id": "iOOCDhsKF-KX"
      },
      "source": [
        "## LightGBM."
      ]
    },
    {
      "cell_type": "code",
      "metadata": {
        "id": "ft5bJ1eOF-KX"
      },
      "source": [
        "#num_leaves = [31,40,50,60]\n",
        "#min_child_samples=[20,30,40,50]\n",
        "#max_depth =[10,20,30,50,100,150]"
      ],
      "execution_count": 18,
      "outputs": []
    },
    {
      "cell_type": "code",
      "metadata": {
        "id": "ht_LqX7CF-Kb"
      },
      "source": [
        "#%%time\n",
        "#acc = pd.DataFrame(columns = ['num_leaves','max_depth','min_child_samples','f1_score'])\n",
        "#counter = 0\n",
        "#for i in max_depth:\n",
        "#    for j in min_child_samples:\n",
        "#        for k in num_leaves:\n",
        "#            gbm = lgb.LGBMClassifier(max_depth=i,min_child_samples=j,num_leaves=k,random_state=12345, n_jobs=-1,class_weight='balanced').fit(tfidf_train, y_train)\n",
        "#            answers_gbm = gbm.predict(tfidf_valid, num_iteration=gbm.best_iteration_)\n",
        "#            f1 = f1_score(y_valid, answers_gbm)\n",
        "#            acc = acc.append({'num_leaves':k,'max_depth':i, 'min_child_samples':j,'f1_score':round(f1,5)}, ignore_index=True)\n",
        "#            print(counter)\n",
        "#            counter += 1\n",
        "#print(acc.sort_values('f1_score', ascending=False))"
      ],
      "execution_count": 19,
      "outputs": []
    },
    {
      "cell_type": "markdown",
      "metadata": {
        "id": "kL4yTGpWF-Kf"
      },
      "source": [
        "##### Лучшая модель LightGBM - num_leaves=60, max_depth=100, min_child_samples=10, f1_score=0.72898. Модель не достигла необходимой точности."
      ]
    },
    {
      "cell_type": "markdown",
      "metadata": {
        "id": "VCWXw-MeF-Kg"
      },
      "source": [
        "## Catboost."
      ]
    },
    {
      "cell_type": "code",
      "metadata": {
        "id": "KpP20q1DF-Kh"
      },
      "source": [
        "#iterations = [1000,1500]\n",
        "#depth = [3,7,10]"
      ],
      "execution_count": 20,
      "outputs": []
    },
    {
      "cell_type": "code",
      "metadata": {
        "id": "9QomJYXOF-Kn"
      },
      "source": [
        "#%%time\n",
        "#acc1 = pd.DataFrame(columns = ['depth','iterations','f1_score'])\n",
        "#counter = 0\n",
        "#for i in iterations:\n",
        "#    for j in depth:\n",
        "#        cbc = CatBoostClassifier(iterations=i, depth=j, random_state=12345, verbose=500,class_weights=[0.1, 9]).fit(tfidf_train, y_train)\n",
        "#        answers_cbr = cbc.predict(tfidf_valid)\n",
        "#        f1 = f1_score(y_valid, answers_cbr)\n",
        "#        acc1 = acc1.append({'iterations':i, 'depth':j,'f1_score':round(f1,5)}, ignore_index=True)\n",
        "#        print(counter)\n",
        "#        counter += 1\n",
        "#print(acc1.sort_values('f1_score', ascending=False))"
      ],
      "execution_count": 21,
      "outputs": []
    },
    {
      "cell_type": "markdown",
      "metadata": {
        "id": "M-adp-EUF-Kt"
      },
      "source": [
        "##### Обучить модели не смог - ЮпитерХаб крашился:)"
      ]
    },
    {
      "cell_type": "markdown",
      "metadata": {
        "id": "YcVkFMFOF-Ku"
      },
      "source": [
        "## XGBoost."
      ]
    },
    {
      "cell_type": "code",
      "metadata": {
        "id": "WBhZU7nzF-Kv"
      },
      "source": [
        "#booster = ['gbtree','gblinear']\n",
        "#max_depth = [10,15,20,30,40]"
      ],
      "execution_count": 22,
      "outputs": []
    },
    {
      "cell_type": "code",
      "metadata": {
        "id": "ngA2urJJF-Ky"
      },
      "source": [
        "#%%time\n",
        "#acc = pd.DataFrame(columns = ['booster','max_depth','f1_score'])\n",
        "#for i in booster:\n",
        "#    for j in max_depth:\n",
        "#        xgbc = xgb.XGBClassifier(scale_pos_weight=8.85,booster=i,max_depth=j,random_state=12345,n_jobs=-1).fit(tfidf_train, y_train)\n",
        "#        answers_xgc = xgbc.predict(tfidf_valid)\n",
        "#        f1 = f1_score(y_valid, answers_xgc)\n",
        "#        acc = acc.append({'booster':i, 'max_depth':j,'f1_score':round(f1,5)}, ignore_index=True)\n",
        "#print(acc.sort_values('f1_score', ascending=False))"
      ],
      "execution_count": 23,
      "outputs": []
    },
    {
      "cell_type": "markdown",
      "metadata": {
        "id": "kalXmFOYF-K2"
      },
      "source": [
        "##### Лучшая модель XGBoost - booster='gbtree', max_depth=30, f1_score=0.71620. Модель не достигла необходимой точности."
      ]
    },
    {
      "cell_type": "markdown",
      "metadata": {
        "id": "f9KJ7yvaF-K3"
      },
      "source": [
        "## KNeighborsClassifier."
      ]
    },
    {
      "cell_type": "code",
      "metadata": {
        "id": "WaGjj4cOF-K4"
      },
      "source": [
        "#n_neighbors = [5,10,15]\n",
        "#weights = ['uniform', 'distance']\n",
        "#leaf_size = [30,40,50]"
      ],
      "execution_count": 24,
      "outputs": []
    },
    {
      "cell_type": "code",
      "metadata": {
        "id": "ge9VVnUxF-K7"
      },
      "source": [
        "#%%time\n",
        "#accknn = pd.DataFrame(columns = ['n_neighbors','weights','leaf_size','f1_score'])\n",
        "#for i in weights:\n",
        "#    for j in n_neighbors:\n",
        "#        for k in leaf_size:\n",
        "#            knn = KNeighborsClassifier(weights=i, n_neighbors=j, leaf_size=k, n_jobs=-1).fit(tfidf_train, y_train)\n",
        "#            answers_knn = knn.predict(tfidf_valid)\n",
        "#            f1 = f1_score(y_valid, answers_knn)\n",
        "#            accknn = accknn.append({'weights':i, 'n_neighbors':j,'leaf_size':k,'f1_score':round(f1,5)}, ignore_index=True)\n",
        "#print(accknn.sort_values('f1_score', ascending=False))"
      ],
      "execution_count": 25,
      "outputs": []
    },
    {
      "cell_type": "markdown",
      "metadata": {
        "id": "m1Lczt3AF-LB"
      },
      "source": [
        "##### Лучшая модель KNeighborsClassifier - weights='distance', n_neighbors=15, leaf_size=50, f1_score=0.67931. Модель не достигла необходимой точности."
      ]
    },
    {
      "cell_type": "markdown",
      "metadata": {
        "id": "EV2UD9pRF-LC"
      },
      "source": [
        "## Проверка на test - выборке."
      ]
    },
    {
      "cell_type": "code",
      "metadata": {
        "id": "CYDw7duCF-LD",
        "outputId": "c2a5b1f6-313a-4aa7-c1b9-4f1ed2a9fa11",
        "colab": {
          "base_uri": "https://localhost:8080/",
          "height": 68
        }
      },
      "source": [
        "model = LogisticRegression(max_iter=2000, solver='sag', C=20,random_state=12345, class_weight='balanced', n_jobs=-1).fit(tfidf_train, y_train)\n",
        "answers = model.predict(tfidf_test)\n",
        "f1 = f1_score(y_test, answers)\n",
        "print('F1 score:', round(f1,5))"
      ],
      "execution_count": 27,
      "outputs": [
        {
          "output_type": "stream",
          "text": [
            "F1 score: 0.76251\n"
          ],
          "name": "stdout"
        },
        {
          "output_type": "stream",
          "text": [
            "/usr/local/lib/python3.6/dist-packages/sklearn/linear_model/_sag.py:330: ConvergenceWarning: The max_iter was reached which means the coef_ did not converge\n",
            "  \"the coef_ did not converge\", ConvergenceWarning)\n"
          ],
          "name": "stderr"
        }
      ]
    },
    {
      "cell_type": "markdown",
      "metadata": {
        "id": "8PDHAZBNF-LH"
      },
      "source": [
        "# 3. Выводы"
      ]
    },
    {
      "cell_type": "markdown",
      "metadata": {
        "id": "viZzeT-CF-LI"
      },
      "source": [
        "1. Была проведена загрузка датасета с токсичными комментариями.\n",
        "2. Датасет очищен от посторонних символов.\n",
        "3. Был рассчитан признак TF-IDF.\n",
        "4. Был выявлен дисбаланс классов для обучения моделей с учётом этого.\n",
        "5. Были обучены модели LogisticRegression, XGBoost, LightGBM.\n",
        "6. Требуемой метрики f1 score больше 0,75 достигла модель LogisticRegression.\n",
        "7. Это было протестировано на тестовой выборке.\n",
        "8. По всей видимости, именно LogisticRegression проще всего воспринимать подобные векторы. С этим и связаны её наилучшие показатели.  \n",
        "9. Скорее всего с использованием лемматизации показатели были бы выше."
      ]
    }
  ]
}