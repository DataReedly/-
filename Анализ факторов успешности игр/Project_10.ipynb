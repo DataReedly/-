{
  "nbformat": 4,
  "nbformat_minor": 0,
  "metadata": {
    "kernelspec": {
      "display_name": "Python 3",
      "language": "python",
      "name": "python3"
    },
    "language_info": {
      "codemirror_mode": {
        "name": "ipython",
        "version": 3
      },
      "file_extension": ".py",
      "mimetype": "text/x-python",
      "name": "python",
      "nbconvert_exporter": "python",
      "pygments_lexer": "ipython3",
      "version": "3.7.4"
    },
    "colab": {
      "name": "Сборный проект 1.ipynb",
      "provenance": []
    }
  },
  "cells": [
    {
      "cell_type": "markdown",
      "metadata": {
        "id": "MXGC95hYakBE"
      },
      "source": [
        "#### Описание столбцов данных в датасете:\n",
        "•\tName — название игры  \n",
        "•\tPlatform — платформа  \n",
        "•\tYear_of_Release — год выпуска  \n",
        "•\tGenre — жанр игры  \n",
        "•\tNA_sales — продажи в Северной Америке (миллионы долларов)  \n",
        "•\tEU_sales — продажи в Европе (миллионы долларов)  \n",
        "•\tJP_sales — продажи в Японии (миллионы долларов)  \n",
        "•\tOther_sales — продажи в других странах (миллионы долларов)  \n",
        "•\tCritic_Score — оценка критиков (максимум 100)  \n",
        "•\tUser_Score — оценка пользователей (максимум 10)  \n",
        "•\tRating — рейтинг от организации ESRB (англ. Entertainment Software Rating Board). Эта ассоциация определяет рейтинг компьютерных игр и присваивает им подходящую возрастную категорию."
      ]
    },
    {
      "cell_type": "markdown",
      "metadata": {
        "id": "v4oa4meAakBF"
      },
      "source": [
        "### План работы:\n",
        "    1. Ознакомление с данными.\n",
        "    2. Предобработка данных.\n",
        "    3. Анализ, визуализация.\n",
        "    4. Вывод."
      ]
    },
    {
      "cell_type": "markdown",
      "metadata": {
        "id": "KkFaklfpakBJ"
      },
      "source": [
        "## Предобработка данных."
      ]
    },
    {
      "cell_type": "markdown",
      "metadata": {
        "id": "v6cOG8lAakBK"
      },
      "source": [
        "### Ознакомление."
      ]
    },
    {
      "cell_type": "code",
      "metadata": {
        "id": "HyIKY9a2s0n4",
        "outputId": "e2e035b8-8c24-42f5-ffee-b2b938435688",
        "colab": {
          "base_uri": "https://localhost:8080/",
          "height": 34
        }
      },
      "source": [
        "from google.colab import drive\n",
        "drive.mount('/content/drive')"
      ],
      "execution_count": 1,
      "outputs": [
        {
          "output_type": "stream",
          "text": [
            "Drive already mounted at /content/drive; to attempt to forcibly remount, call drive.mount(\"/content/drive\", force_remount=True).\n"
          ],
          "name": "stdout"
        }
      ]
    },
    {
      "cell_type": "code",
      "metadata": {
        "id": "_fL42PuCakBL"
      },
      "source": [
        "import pandas as pd\n",
        "import numpy as np\n",
        "import matplotlib.pyplot as plt\n",
        "import seaborn as sns\n",
        "from scipy import stats as st\n",
        "df = pd.read_csv('/content/drive/My Drive/Colab Notebooks/games.csv')\n",
        "#pd.options.display.max_rows = 1000"
      ],
      "execution_count": 2,
      "outputs": []
    },
    {
      "cell_type": "markdown",
      "metadata": {
        "id": "BZPwx_X6akBR"
      },
      "source": [
        "#### Перевожу названия столбцов в нижний регистр."
      ]
    },
    {
      "cell_type": "code",
      "metadata": {
        "id": "5Vy7cq8xakBS"
      },
      "source": [
        "df.columns = df.columns.str.lower()"
      ],
      "execution_count": 3,
      "outputs": []
    },
    {
      "cell_type": "code",
      "metadata": {
        "id": "9R4ALqf7akBW",
        "outputId": "59b8040f-7929-4a39-e2ef-111ef5320e7a",
        "colab": {
          "base_uri": "https://localhost:8080/",
          "height": 323
        }
      },
      "source": [
        "df.info()"
      ],
      "execution_count": 4,
      "outputs": [
        {
          "output_type": "stream",
          "text": [
            "<class 'pandas.core.frame.DataFrame'>\n",
            "RangeIndex: 16715 entries, 0 to 16714\n",
            "Data columns (total 11 columns):\n",
            " #   Column           Non-Null Count  Dtype  \n",
            "---  ------           --------------  -----  \n",
            " 0   name             16713 non-null  object \n",
            " 1   platform         16715 non-null  object \n",
            " 2   year_of_release  16446 non-null  float64\n",
            " 3   genre            16713 non-null  object \n",
            " 4   na_sales         16715 non-null  float64\n",
            " 5   eu_sales         16715 non-null  float64\n",
            " 6   jp_sales         16715 non-null  float64\n",
            " 7   other_sales      16715 non-null  float64\n",
            " 8   critic_score     8137 non-null   float64\n",
            " 9   user_score       10014 non-null  object \n",
            " 10  rating           9949 non-null   object \n",
            "dtypes: float64(6), object(5)\n",
            "memory usage: 1.4+ MB\n"
          ],
          "name": "stdout"
        }
      ]
    },
    {
      "cell_type": "markdown",
      "metadata": {
        "id": "3v3j_9OKakBc"
      },
      "source": [
        "#### Удаляю две строки в столбце 'name', в которых отсутствуют названия игр и информация о жанре. Это ошибка в базе данных."
      ]
    },
    {
      "cell_type": "code",
      "metadata": {
        "id": "6qD4eIt1akBd",
        "outputId": "83edf8d2-7d90-4375-dcc4-dac93d382763",
        "colab": {
          "base_uri": "https://localhost:8080/",
          "height": 49
        }
      },
      "source": [
        "df.dropna(subset = ['name'], inplace = True) \n",
        "df[df['name'].isna()]"
      ],
      "execution_count": 5,
      "outputs": [
        {
          "output_type": "execute_result",
          "data": {
            "text/html": [
              "<div>\n",
              "<style scoped>\n",
              "    .dataframe tbody tr th:only-of-type {\n",
              "        vertical-align: middle;\n",
              "    }\n",
              "\n",
              "    .dataframe tbody tr th {\n",
              "        vertical-align: top;\n",
              "    }\n",
              "\n",
              "    .dataframe thead th {\n",
              "        text-align: right;\n",
              "    }\n",
              "</style>\n",
              "<table border=\"1\" class=\"dataframe\">\n",
              "  <thead>\n",
              "    <tr style=\"text-align: right;\">\n",
              "      <th></th>\n",
              "      <th>name</th>\n",
              "      <th>platform</th>\n",
              "      <th>year_of_release</th>\n",
              "      <th>genre</th>\n",
              "      <th>na_sales</th>\n",
              "      <th>eu_sales</th>\n",
              "      <th>jp_sales</th>\n",
              "      <th>other_sales</th>\n",
              "      <th>critic_score</th>\n",
              "      <th>user_score</th>\n",
              "      <th>rating</th>\n",
              "    </tr>\n",
              "  </thead>\n",
              "  <tbody>\n",
              "  </tbody>\n",
              "</table>\n",
              "</div>"
            ],
            "text/plain": [
              "Empty DataFrame\n",
              "Columns: [name, platform, year_of_release, genre, na_sales, eu_sales, jp_sales, other_sales, critic_score, user_score, rating]\n",
              "Index: []"
            ]
          },
          "metadata": {
            "tags": []
          },
          "execution_count": 5
        }
      ]
    },
    {
      "cell_type": "markdown",
      "metadata": {
        "id": "aAAfobDeakBi"
      },
      "source": [
        "#### 269 записей не содержат год выпуска. Заполню значением 3000, чтобы всегда было понятно, что это выброс. Также эти данные пригодны для анализа по другим признакам."
      ]
    },
    {
      "cell_type": "code",
      "metadata": {
        "scrolled": false,
        "id": "g24Cqjc0akBi",
        "outputId": "ad812a26-1ec2-4c5a-c221-813487a8dd3d",
        "colab": {
          "base_uri": "https://localhost:8080/",
          "height": 49
        }
      },
      "source": [
        "df.loc[df['year_of_release'].isna(),'year_of_release'] = 3000\n",
        "df[df['year_of_release'].isna()]"
      ],
      "execution_count": 6,
      "outputs": [
        {
          "output_type": "execute_result",
          "data": {
            "text/html": [
              "<div>\n",
              "<style scoped>\n",
              "    .dataframe tbody tr th:only-of-type {\n",
              "        vertical-align: middle;\n",
              "    }\n",
              "\n",
              "    .dataframe tbody tr th {\n",
              "        vertical-align: top;\n",
              "    }\n",
              "\n",
              "    .dataframe thead th {\n",
              "        text-align: right;\n",
              "    }\n",
              "</style>\n",
              "<table border=\"1\" class=\"dataframe\">\n",
              "  <thead>\n",
              "    <tr style=\"text-align: right;\">\n",
              "      <th></th>\n",
              "      <th>name</th>\n",
              "      <th>platform</th>\n",
              "      <th>year_of_release</th>\n",
              "      <th>genre</th>\n",
              "      <th>na_sales</th>\n",
              "      <th>eu_sales</th>\n",
              "      <th>jp_sales</th>\n",
              "      <th>other_sales</th>\n",
              "      <th>critic_score</th>\n",
              "      <th>user_score</th>\n",
              "      <th>rating</th>\n",
              "    </tr>\n",
              "  </thead>\n",
              "  <tbody>\n",
              "  </tbody>\n",
              "</table>\n",
              "</div>"
            ],
            "text/plain": [
              "Empty DataFrame\n",
              "Columns: [name, platform, year_of_release, genre, na_sales, eu_sales, jp_sales, other_sales, critic_score, user_score, rating]\n",
              "Index: []"
            ]
          },
          "metadata": {
            "tags": []
          },
          "execution_count": 6
        }
      ]
    },
    {
      "cell_type": "markdown",
      "metadata": {
        "id": "Esxe5xP1akBo"
      },
      "source": [
        "#### Перевожу все строки в нижний регистр."
      ]
    },
    {
      "cell_type": "code",
      "metadata": {
        "id": "MZhxL61HakBp"
      },
      "source": [
        "df['name'] = df['name'].str.lower()\n",
        "df['platform'] = df['platform'].str.lower()\n",
        "df['genre'] = df['genre'].str.lower()"
      ],
      "execution_count": 7,
      "outputs": []
    },
    {
      "cell_type": "markdown",
      "metadata": {
        "id": "d7fEMoZaakBt"
      },
      "source": [
        "#### Заполняю все NaN в столбцах critic_score, user_score, rating значением 3000, чтобы легко было определить выброс."
      ]
    },
    {
      "cell_type": "code",
      "metadata": {
        "id": "KlXd-8q7akBt"
      },
      "source": [
        "df.loc[df['critic_score'].isnull(), 'critic_score'] = 3000\n",
        "df.loc[df['user_score'].isnull(), 'user_score'] = 3000\n",
        "df.loc[df['rating'].isnull(), 'rating'] = 'NEIZVESTNO'"
      ],
      "execution_count": 8,
      "outputs": []
    },
    {
      "cell_type": "markdown",
      "metadata": {
        "id": "yr2g2ClnakBx"
      },
      "source": [
        "#### В столбце user_score 'TBD' = to be determined, означает, что рейтинг будет определён позднее. Заменю также на 3000."
      ]
    },
    {
      "cell_type": "code",
      "metadata": {
        "id": "c2TLGatBakBz"
      },
      "source": [
        "df.loc[df['user_score'] == 'tbd', 'user_score'] = 3000"
      ],
      "execution_count": 9,
      "outputs": []
    },
    {
      "cell_type": "markdown",
      "metadata": {
        "id": "LUloEhneakB3"
      },
      "source": [
        "#### Привожу все столбцы к нужным типам данных."
      ]
    },
    {
      "cell_type": "code",
      "metadata": {
        "id": "jKE5z2u9akB3"
      },
      "source": [
        "df['year_of_release'] = df['year_of_release'].astype('int')\n",
        "df['critic_score'] = df['critic_score'].astype('int')\n",
        "df['user_score'] = df['user_score'].astype('float')"
      ],
      "execution_count": 10,
      "outputs": []
    },
    {
      "cell_type": "markdown",
      "metadata": {
        "id": "GHaliAmuakB7"
      },
      "source": [
        "### Причины появления пропусков:\n",
        "    1. year_of_release - непонятно. По идее должны быть полные данные.\n",
        "    2. user_score - tbd - рейтинг не успел сформироваться. Отсутствие рейтинга в других случаях на мой взгляд является ошибкой.\n",
        "    3. rating - скорее всего ошибка загрузки или игра не пользуется популярностью."
      ]
    },
    {
      "cell_type": "markdown",
      "metadata": {
        "id": "Dec-auK8akB8"
      },
      "source": [
        "#### Подсчёт общих продаж во всех регионах."
      ]
    },
    {
      "cell_type": "code",
      "metadata": {
        "id": "nnovnCyQakB9"
      },
      "source": [
        "df['total_sales'] = df['na_sales'] + df['eu_sales'] + df['jp_sales'] + df['other_sales']"
      ],
      "execution_count": 11,
      "outputs": []
    },
    {
      "cell_type": "markdown",
      "metadata": {
        "id": "o8pF0DxnakCB"
      },
      "source": [
        "#### Проверка на дубликаты - отсутствуют."
      ]
    },
    {
      "cell_type": "code",
      "metadata": {
        "id": "ezPp0pYZakCC",
        "outputId": "e569aad9-163b-4309-c4d6-4d083d354c93",
        "colab": {
          "base_uri": "https://localhost:8080/",
          "height": 34
        }
      },
      "source": [
        "print(df.duplicated().sum())"
      ],
      "execution_count": 12,
      "outputs": [
        {
          "output_type": "stream",
          "text": [
            "0\n"
          ],
          "name": "stdout"
        }
      ]
    },
    {
      "cell_type": "markdown",
      "metadata": {
        "id": "zc9la0Q8akCL"
      },
      "source": [
        "##### Исправление ошибки в дате продаж игры на платформе ds. Загуглил - данная игра была выпущена в 2007 году."
      ]
    },
    {
      "cell_type": "code",
      "metadata": {
        "id": "-mVHMMZbakCL"
      },
      "source": [
        "df.loc[(df['platform']=='ds')&(df['year_of_release']==1985),'year_of_release']=2007"
      ],
      "execution_count": 13,
      "outputs": []
    },
    {
      "cell_type": "markdown",
      "metadata": {
        "id": "gVUBV6DgakCQ"
      },
      "source": [
        "## Анализ данных."
      ]
    },
    {
      "cell_type": "markdown",
      "metadata": {
        "id": "6UIqHE5-akCQ"
      },
      "source": [
        "#### Подсчёт выпуска игр по годам."
      ]
    },
    {
      "cell_type": "markdown",
      "metadata": {
        "id": "TeIl64V9akCR"
      },
      "source": [
        "##### График выпуска игр."
      ]
    },
    {
      "cell_type": "code",
      "metadata": {
        "id": "i9nyvtHHakCS",
        "outputId": "04ff2858-75f7-4cfc-d2b4-891349a93d96",
        "colab": {
          "base_uri": "https://localhost:8080/",
          "height": 560
        }
      },
      "source": [
        "#df.groupby('year_of_release')['total_sales'].sum().plot()\n",
        "plt.xlim(1980, 2017)\n",
        "sns.distplot(df.loc[df['year_of_release']<3000]['year_of_release'], bins=37)\n",
        "plt.show() \n",
        "df.loc[df['year_of_release']<3000]['year_of_release'].plot(kind='hist', range=(1980, 2016),bins=37,rot=45,figsize=(10, 3),xticks=[1980 + i for i in range(1, 37, 1)])"
      ],
      "execution_count": 14,
      "outputs": [
        {
          "output_type": "stream",
          "text": [
            "/usr/local/lib/python3.6/dist-packages/seaborn/distributions.py:2551: FutureWarning: `distplot` is a deprecated function and will be removed in a future version. Please adapt your code to use either `displot` (a figure-level function with similar flexibility) or `histplot` (an axes-level function for histograms).\n",
            "  warnings.warn(msg, FutureWarning)\n"
          ],
          "name": "stderr"
        },
        {
          "output_type": "display_data",
          "data": {
            "image/png": "[encoded data removed]",
            "text/plain": [
              "<Figure size 432x288 with 1 Axes>"
            ]
          },
          "metadata": {
            "tags": [],
            "needs_background": "light"
          }
        },
        {
          "output_type": "execute_result",
          "data": {
            "text/plain": [
              "<matplotlib.axes._subplots.AxesSubplot at 0x7f3b22cc27f0>"
            ]
          },
          "metadata": {
            "tags": []
          },
          "execution_count": 14
        },
        {
          "output_type": "display_data",
          "data": {
            "image/png": "[encoded data removed]",
            "text/plain": [
              "<Figure size 720x216 with 1 Axes>"
            ]
          },
          "metadata": {
            "tags": [],
            "needs_background": "light"
          }
        }
      ]
    },
    {
      "cell_type": "markdown",
      "metadata": {
        "id": "7fuoAj90akCW"
      },
      "source": [
        "#### Подсчёт выпуска игр по годам."
      ]
    },
    {
      "cell_type": "code",
      "metadata": {
        "id": "ANEHNULMakCX",
        "outputId": "f8983b7e-e689-4ba2-94b9-aef2b2e9afd1",
        "colab": {
          "base_uri": "https://localhost:8080/",
          "height": 765
        }
      },
      "source": [
        "cct = df['year_of_release'].value_counts().reset_index()\n",
        "print(cct,'\\n','\\n')\n",
        "print(df[df['year_of_release']<2000]['year_of_release'].count() / len(df))\n",
        "print(df[df['year_of_release']<2000]['year_of_release'].count())\n",
        "print(len(df))"
      ],
      "execution_count": 15,
      "outputs": [
        {
          "output_type": "stream",
          "text": [
            "    index  year_of_release\n",
            "0    2008             1427\n",
            "1    2009             1426\n",
            "2    2010             1255\n",
            "3    2007             1198\n",
            "4    2011             1136\n",
            "5    2006             1006\n",
            "6    2005              939\n",
            "7    2002              829\n",
            "8    2003              775\n",
            "9    2004              762\n",
            "10   2012              653\n",
            "11   2015              606\n",
            "12   2014              581\n",
            "13   2013              544\n",
            "14   2016              502\n",
            "15   2001              482\n",
            "16   1998              379\n",
            "17   2000              350\n",
            "18   1999              338\n",
            "19   1997              289\n",
            "20   3000              269\n",
            "21   1996              263\n",
            "22   1995              219\n",
            "23   1994              121\n",
            "24   1993               60\n",
            "25   1981               46\n",
            "26   1992               43\n",
            "27   1991               41\n",
            "28   1982               36\n",
            "29   1986               21\n",
            "30   1983               17\n",
            "31   1989               17\n",
            "32   1987               16\n",
            "33   1990               16\n",
            "34   1988               15\n",
            "35   1984               14\n",
            "36   1985               13\n",
            "37   1980                9 \n",
            " \n",
            "\n",
            "0.1180518159516544\n",
            "1973\n",
            "16713\n"
          ],
          "name": "stdout"
        }
      ]
    },
    {
      "cell_type": "markdown",
      "metadata": {
        "id": "_7YejyuRakCb"
      },
      "source": [
        "##### Вывод:\n",
        "График похож скорее на распределение Пуассона наоборот. Но что мне скажет вид распределения в данном случае? На мой взгляд математические методы определения лет для анализа тут не очень уместны. Имеет смысл анализировать данные, начиная с 2000 года. В этот момент игры начали развиваться более обширно и это видно по графику. Ниже этого находится 1973 значений, ~11.81% от общего количества. Также не подлежат анализу значения года выпуска = 3000 (269 зачений, 1,61% от общего количества), которым были заполнены отсутствующие значения."
      ]
    },
    {
      "cell_type": "markdown",
      "metadata": {
        "id": "y5VDpwpYakCc"
      },
      "source": [
        "#### Анализ продаж по платформам."
      ]
    },
    {
      "cell_type": "code",
      "metadata": {
        "id": "fB6QnZkMakCd",
        "outputId": "6f792c34-d6e9-4082-e159-82891c0a70ab",
        "colab": {
          "base_uri": "https://localhost:8080/",
          "height": 221
        }
      },
      "source": [
        "platforms = df.groupby('platform')['total_sales'].sum().sort_values(ascending=False)\n",
        "platforms.head(10)"
      ],
      "execution_count": 16,
      "outputs": [
        {
          "output_type": "execute_result",
          "data": {
            "text/plain": [
              "platform\n",
              "ps2     1255.77\n",
              "x360     971.42\n",
              "ps3      939.65\n",
              "wii      907.51\n",
              "ds       806.12\n",
              "ps       730.86\n",
              "gba      317.85\n",
              "ps4      314.14\n",
              "psp      294.05\n",
              "pc       259.52\n",
              "Name: total_sales, dtype: float64"
            ]
          },
          "metadata": {
            "tags": []
          },
          "execution_count": 16
        }
      ]
    },
    {
      "cell_type": "code",
      "metadata": {
        "id": "J3zS6CF6akCh",
        "outputId": "e7c9d926-1177-471a-f66f-f45e2ca85920",
        "colab": {
          "base_uri": "https://localhost:8080/",
          "height": 366
        }
      },
      "source": [
        "platforms.plot(kind='bar',rot=45,figsize=(10, 5),legend=True)"
      ],
      "execution_count": 17,
      "outputs": [
        {
          "output_type": "execute_result",
          "data": {
            "text/plain": [
              "<matplotlib.axes._subplots.AxesSubplot at 0x7f3b25adae48>"
            ]
          },
          "metadata": {
            "tags": []
          },
          "execution_count": 17
        },
        {
          "output_type": "display_data",
          "data": {
            "image/png": "[encoded data removed]",
            "text/plain": [
              "<Figure size 720x360 with 1 Axes>"
            ]
          },
          "metadata": {
            "tags": [],
            "needs_background": "light"
          }
        }
      ]
    },
    {
      "cell_type": "code",
      "metadata": {
        "id": "XQZjVTbVakCl",
        "outputId": "c59a891f-ec5e-4592-fa55-d5fb12f726e9",
        "colab": {
          "base_uri": "https://localhost:8080/",
          "height": 323
        }
      },
      "source": [
        "plats = platforms.index[0:6]\n",
        "plat_pivot = df[(df['platform'].isin(plats))&(df['year_of_release']!=3000)].pivot_table(index=['platform','year_of_release'],values='total_sales', aggfunc='sum').sort_index().reset_index()\n",
        "display(plat_pivot.head())\n",
        "display(plat_pivot['platform'].value_counts())"
      ],
      "execution_count": 18,
      "outputs": [
        {
          "output_type": "display_data",
          "data": {
            "text/html": [
              "<div>\n",
              "<style scoped>\n",
              "    .dataframe tbody tr th:only-of-type {\n",
              "        vertical-align: middle;\n",
              "    }\n",
              "\n",
              "    .dataframe tbody tr th {\n",
              "        vertical-align: top;\n",
              "    }\n",
              "\n",
              "    .dataframe thead th {\n",
              "        text-align: right;\n",
              "    }\n",
              "</style>\n",
              "<table border=\"1\" class=\"dataframe\">\n",
              "  <thead>\n",
              "    <tr style=\"text-align: right;\">\n",
              "      <th></th>\n",
              "      <th>platform</th>\n",
              "      <th>year_of_release</th>\n",
              "      <th>total_sales</th>\n",
              "    </tr>\n",
              "  </thead>\n",
              "  <tbody>\n",
              "    <tr>\n",
              "      <th>0</th>\n",
              "      <td>ds</td>\n",
              "      <td>2004</td>\n",
              "      <td>17.27</td>\n",
              "    </tr>\n",
              "    <tr>\n",
              "      <th>1</th>\n",
              "      <td>ds</td>\n",
              "      <td>2005</td>\n",
              "      <td>130.14</td>\n",
              "    </tr>\n",
              "    <tr>\n",
              "      <th>2</th>\n",
              "      <td>ds</td>\n",
              "      <td>2006</td>\n",
              "      <td>119.81</td>\n",
              "    </tr>\n",
              "    <tr>\n",
              "      <th>3</th>\n",
              "      <td>ds</td>\n",
              "      <td>2007</td>\n",
              "      <td>146.96</td>\n",
              "    </tr>\n",
              "    <tr>\n",
              "      <th>4</th>\n",
              "      <td>ds</td>\n",
              "      <td>2008</td>\n",
              "      <td>145.31</td>\n",
              "    </tr>\n",
              "  </tbody>\n",
              "</table>\n",
              "</div>"
            ],
            "text/plain": [
              "  platform  year_of_release  total_sales\n",
              "0       ds             2004        17.27\n",
              "1       ds             2005       130.14\n",
              "2       ds             2006       119.81\n",
              "3       ds             2007       146.96\n",
              "4       ds             2008       145.31"
            ]
          },
          "metadata": {
            "tags": []
          }
        },
        {
          "output_type": "display_data",
          "data": {
            "text/plain": [
              "ps2     12\n",
              "x360    12\n",
              "wii     11\n",
              "ps3     11\n",
              "ds      10\n",
              "ps      10\n",
              "Name: platform, dtype: int64"
            ]
          },
          "metadata": {
            "tags": []
          }
        }
      ]
    },
    {
      "cell_type": "markdown",
      "metadata": {
        "id": "ki0cXkG7akCo"
      },
      "source": [
        "##### Вывод:\n",
        "Выделил 6 основных платформ, имеющих максимальные продажи. Это  ps, ps2, ps3, x360, wii, ds. Игровые платформы в среднем продаются в течение 11 лет. Также замечена ошибка: в платформе ds у одной игры указан год продаж 1985. При этом платформа была анонсирована в 2004 году."
      ]
    },
    {
      "cell_type": "markdown",
      "metadata": {
        "id": "Tc0DraIkakCq"
      },
      "source": [
        "#### Определение актуального периода для построения прогноза продаж в 2017 году."
      ]
    },
    {
      "cell_type": "code",
      "metadata": {
        "id": "baMFSp-_akCq",
        "outputId": "937c81df-f404-4b67-b86c-3412bc0789b9",
        "colab": {
          "base_uri": "https://localhost:8080/",
          "height": 369
        }
      },
      "source": [
        "y_pivot = df.loc[df['year_of_release']<3000].pivot_table(index='year_of_release', values='total_sales', aggfunc='sum')\n",
        "y_pivot.plot(use_index=True, y='total_sales', grid=True, xticks=[1980 + i for i in range(1, 37, 1)],figsize=(10, 5),rot=90)"
      ],
      "execution_count": 19,
      "outputs": [
        {
          "output_type": "execute_result",
          "data": {
            "text/plain": [
              "<matplotlib.axes._subplots.AxesSubplot at 0x7f3b22a885f8>"
            ]
          },
          "metadata": {
            "tags": []
          },
          "execution_count": 19
        },
        {
          "output_type": "display_data",
          "data": {
            "image/png": "[encoded data removed]",
            "text/plain": [
              "<Figure size 720x360 with 1 Axes>"
            ]
          },
          "metadata": {
            "tags": [],
            "needs_background": "light"
          }
        }
      ]
    },
    {
      "cell_type": "code",
      "metadata": {
        "id": "G7OjvknEakCu",
        "outputId": "7c0cf0b8-2274-4451-d56b-336f9ab69c08",
        "colab": {
          "base_uri": "https://localhost:8080/",
          "height": 170
        }
      },
      "source": [
        "y_pivot['total_sales'].describe()"
      ],
      "execution_count": 20,
      "outputs": [
        {
          "output_type": "execute_result",
          "data": {
            "text/plain": [
              "count     37.000000\n",
              "mean     238.226216\n",
              "std      207.598522\n",
              "min       11.380000\n",
              "25%       49.370000\n",
              "50%      201.070000\n",
              "75%      361.240000\n",
              "max      671.500000\n",
              "Name: total_sales, dtype: float64"
            ]
          },
          "metadata": {
            "tags": []
          },
          "execution_count": 20
        }
      ]
    },
    {
      "cell_type": "markdown",
      "metadata": {
        "id": "rq8oNxbyakCy"
      },
      "source": [
        "##### Выводы:\n",
        "График продаж также не похож на график нормального распределения. Это подтверждают значения метода describe(), которые показывают, что нормальное распределение находится с 1981 до 2001 года. По моему мнению, этот график говорит о том, что популярность игр на платформах уходит в прошлое и постепенно уступает первенство играм на мобильном телефоне. Этот фактор предстоит также учитывать.\n",
        "  \n",
        "**В итоге**, основываясь на 11-ти летнем цикле жизни игровой платформы на рынке, считаю, что анализировать надо примерно с половины этого цикла, отсчитывая его от 2016 года, т.е. с 2010 года."
      ]
    },
    {
      "cell_type": "markdown",
      "metadata": {
        "id": "B001CHYSakC0"
      },
      "source": [
        "#### Выбор лидирующих  платформ к 2016 году."
      ]
    },
    {
      "cell_type": "code",
      "metadata": {
        "id": "L1o1Z0kRakC0",
        "outputId": "fe577e18-b6a4-46e2-ec85-c15968abd456",
        "colab": {
          "base_uri": "https://localhost:8080/",
          "height": 456
        }
      },
      "source": [
        "sns.catplot(x=\"year_of_release\", y=\"total_sales\", hue=\"platform\", kind=\"bar\", data=plat_pivot, height=6, aspect=2.5);"
      ],
      "execution_count": 21,
      "outputs": [
        {
          "output_type": "display_data",
          "data": {
            "image/png": "[encoded data removed]",
            "text/plain": [
              "<Figure size 1140.75x432 with 1 Axes>"
            ]
          },
          "metadata": {
            "tags": [],
            "needs_background": "light"
          }
        }
      ]
    },
    {
      "cell_type": "markdown",
      "metadata": {
        "id": "6QjqWzWJakC4"
      },
      "source": [
        "##### Промежуточный вывод:\n",
        "Все платформы, которые ранее были выбраны в качестве лидеров по продажам в предыдущем задании, к 2016 году пришли к окончанию своего цикла жизни на рынке, который в среднем равен 11 годам. Поэтому, в дальнейшем анализе рассмотрены не будут. Требуется посмотреть на другие платформы."
      ]
    },
    {
      "cell_type": "markdown",
      "metadata": {
        "id": "oVziaXjfakC5"
      },
      "source": [
        "##### Подготовка данных."
      ]
    },
    {
      "cell_type": "code",
      "metadata": {
        "scrolled": false,
        "id": "PeF-2VMhakC5",
        "outputId": "38ed66ff-54fa-4a90-940f-b0b11e8c008b",
        "colab": {
          "base_uri": "https://localhost:8080/",
          "height": 340
        }
      },
      "source": [
        "p_pivot_new = df[~(df['platform'].isin(plats))&(df['year_of_release']<3000)&(df['year_of_release']>=2010)].pivot_table(index=['platform','year_of_release'],values='total_sales', aggfunc='sum').sort_index().reset_index()\n",
        "display(p_pivot_new.head())\n",
        "display(p_pivot_new['platform'].value_counts())"
      ],
      "execution_count": 22,
      "outputs": [
        {
          "output_type": "display_data",
          "data": {
            "text/html": [
              "<div>\n",
              "<style scoped>\n",
              "    .dataframe tbody tr th:only-of-type {\n",
              "        vertical-align: middle;\n",
              "    }\n",
              "\n",
              "    .dataframe tbody tr th {\n",
              "        vertical-align: top;\n",
              "    }\n",
              "\n",
              "    .dataframe thead th {\n",
              "        text-align: right;\n",
              "    }\n",
              "</style>\n",
              "<table border=\"1\" class=\"dataframe\">\n",
              "  <thead>\n",
              "    <tr style=\"text-align: right;\">\n",
              "      <th></th>\n",
              "      <th>platform</th>\n",
              "      <th>year_of_release</th>\n",
              "      <th>total_sales</th>\n",
              "    </tr>\n",
              "  </thead>\n",
              "  <tbody>\n",
              "    <tr>\n",
              "      <th>0</th>\n",
              "      <td>3ds</td>\n",
              "      <td>2011</td>\n",
              "      <td>63.20</td>\n",
              "    </tr>\n",
              "    <tr>\n",
              "      <th>1</th>\n",
              "      <td>3ds</td>\n",
              "      <td>2012</td>\n",
              "      <td>51.36</td>\n",
              "    </tr>\n",
              "    <tr>\n",
              "      <th>2</th>\n",
              "      <td>3ds</td>\n",
              "      <td>2013</td>\n",
              "      <td>56.57</td>\n",
              "    </tr>\n",
              "    <tr>\n",
              "      <th>3</th>\n",
              "      <td>3ds</td>\n",
              "      <td>2014</td>\n",
              "      <td>43.76</td>\n",
              "    </tr>\n",
              "    <tr>\n",
              "      <th>4</th>\n",
              "      <td>3ds</td>\n",
              "      <td>2015</td>\n",
              "      <td>27.78</td>\n",
              "    </tr>\n",
              "  </tbody>\n",
              "</table>\n",
              "</div>"
            ],
            "text/plain": [
              "  platform  year_of_release  total_sales\n",
              "0      3ds             2011        63.20\n",
              "1      3ds             2012        51.36\n",
              "2      3ds             2013        56.57\n",
              "3      3ds             2014        43.76\n",
              "4      3ds             2015        27.78"
            ]
          },
          "metadata": {
            "tags": []
          }
        },
        {
          "output_type": "display_data",
          "data": {
            "text/plain": [
              "pc      7\n",
              "psp     6\n",
              "psv     6\n",
              "3ds     6\n",
              "wiiu    5\n",
              "ps4     4\n",
              "xone    4\n",
              "Name: platform, dtype: int64"
            ]
          },
          "metadata": {
            "tags": []
          }
        }
      ]
    },
    {
      "cell_type": "code",
      "metadata": {
        "id": "aiZcm4ktakC9",
        "outputId": "da05b7bf-bde7-403a-ab38-94cf11ee4377",
        "colab": {
          "base_uri": "https://localhost:8080/",
          "height": 456
        }
      },
      "source": [
        "sns.catplot(x=\"year_of_release\", y=\"total_sales\", hue=\"platform\", kind=\"bar\", data=p_pivot_new, height=6, aspect=2);"
      ],
      "execution_count": 23,
      "outputs": [
        {
          "output_type": "display_data",
          "data": {
            "image/png": "[encoded data removed]",
            "text/plain": [
              "<Figure size 924.125x432 with 1 Axes>"
            ]
          },
          "metadata": {
            "tags": [],
            "needs_background": "light"
          }
        }
      ]
    },
    {
      "cell_type": "markdown",
      "metadata": {
        "id": "wUx4zn5takDA"
      },
      "source": [
        "#### Данные о продажах игр, выпущенных в 2016 году, по платформам."
      ]
    },
    {
      "cell_type": "code",
      "metadata": {
        "id": "Fz97mvsKakDB",
        "outputId": "3cda848f-72a4-4c39-99de-e8d50be6e16b",
        "colab": {
          "base_uri": "https://localhost:8080/",
          "height": 235
        }
      },
      "source": [
        "p_pivot_new.loc[p_pivot_new['year_of_release']==2016].sort_values('total_sales', ascending=False)"
      ],
      "execution_count": 24,
      "outputs": [
        {
          "output_type": "execute_result",
          "data": {
            "text/html": [
              "<div>\n",
              "<style scoped>\n",
              "    .dataframe tbody tr th:only-of-type {\n",
              "        vertical-align: middle;\n",
              "    }\n",
              "\n",
              "    .dataframe tbody tr th {\n",
              "        vertical-align: top;\n",
              "    }\n",
              "\n",
              "    .dataframe thead th {\n",
              "        text-align: right;\n",
              "    }\n",
              "</style>\n",
              "<table border=\"1\" class=\"dataframe\">\n",
              "  <thead>\n",
              "    <tr style=\"text-align: right;\">\n",
              "      <th></th>\n",
              "      <th>platform</th>\n",
              "      <th>year_of_release</th>\n",
              "      <th>total_sales</th>\n",
              "    </tr>\n",
              "  </thead>\n",
              "  <tbody>\n",
              "    <tr>\n",
              "      <th>16</th>\n",
              "      <td>ps4</td>\n",
              "      <td>2016</td>\n",
              "      <td>69.25</td>\n",
              "    </tr>\n",
              "    <tr>\n",
              "      <th>37</th>\n",
              "      <td>xone</td>\n",
              "      <td>2016</td>\n",
              "      <td>26.15</td>\n",
              "    </tr>\n",
              "    <tr>\n",
              "      <th>5</th>\n",
              "      <td>3ds</td>\n",
              "      <td>2016</td>\n",
              "      <td>15.14</td>\n",
              "    </tr>\n",
              "    <tr>\n",
              "      <th>12</th>\n",
              "      <td>pc</td>\n",
              "      <td>2016</td>\n",
              "      <td>5.25</td>\n",
              "    </tr>\n",
              "    <tr>\n",
              "      <th>33</th>\n",
              "      <td>wiiu</td>\n",
              "      <td>2016</td>\n",
              "      <td>4.60</td>\n",
              "    </tr>\n",
              "    <tr>\n",
              "      <th>28</th>\n",
              "      <td>psv</td>\n",
              "      <td>2016</td>\n",
              "      <td>4.25</td>\n",
              "    </tr>\n",
              "  </tbody>\n",
              "</table>\n",
              "</div>"
            ],
            "text/plain": [
              "   platform  year_of_release  total_sales\n",
              "16      ps4             2016        69.25\n",
              "37     xone             2016        26.15\n",
              "5       3ds             2016        15.14\n",
              "12       pc             2016         5.25\n",
              "33     wiiu             2016         4.60\n",
              "28      psv             2016         4.25"
            ]
          },
          "metadata": {
            "tags": []
          },
          "execution_count": 24
        }
      ]
    },
    {
      "cell_type": "markdown",
      "metadata": {
        "id": "toHHLFzDakDF"
      },
      "source": [
        "##### Выводы:\n",
        "Итого, \"в живых\" остались следующие платформы: pc, psv, psp, 3ds, wiiu, xone, ps4.  \n",
        "Как видно на графике и в таблице, на 2016 год актуальными являются следующие платформы (в порядке убывания):\n",
        "    1. ps4\n",
        "    2. xone\n",
        "    3. 3ds\n",
        "    4. pc\n",
        "    5. wiiu\n",
        "    6. psv\n",
        "    \n",
        "Для платформы psp игры перестали выпускаться ещё в 2015 году."
      ]
    },
    {
      "cell_type": "markdown",
      "metadata": {
        "id": "_li8N0SxakDH"
      },
      "source": [
        "#### Ящик с усами - графики продаж игр по платформам."
      ]
    },
    {
      "cell_type": "markdown",
      "metadata": {
        "id": "r2RWIxr8akDH"
      },
      "source": [
        "##### Присвою переменную с актуальными для анализа платформами и сделаю по ним срез данных по всем годам."
      ]
    },
    {
      "cell_type": "code",
      "metadata": {
        "id": "FFTHDcASakDI"
      },
      "source": [
        "p_2016 = p_pivot_new[p_pivot_new['year_of_release']==2016]['platform'].unique().tolist()\n",
        "platforms_actual = df.loc[df['platform'].isin(p_2016)]"
      ],
      "execution_count": 25,
      "outputs": []
    },
    {
      "cell_type": "code",
      "metadata": {
        "scrolled": true,
        "id": "As2y35LUakDL",
        "outputId": "b99f44b6-e7dc-4d86-ac2f-c36c30e8fc99",
        "colab": {
          "base_uri": "https://localhost:8080/",
          "height": 436
        }
      },
      "source": [
        "g = sns.catplot(y=\"platform\", x=\"total_sales\", data=platforms_actual, kind=\"box\", orient=\"h\", height=6, aspect=3)"
      ],
      "execution_count": 26,
      "outputs": [
        {
          "output_type": "display_data",
          "data": {
            "image/png": "[encoded data removed]",
            "text/plain": [
              "<Figure size 1296x432 with 1 Axes>"
            ]
          },
          "metadata": {
            "tags": [],
            "needs_background": "light"
          }
        }
      ]
    },
    {
      "cell_type": "markdown",
      "metadata": {
        "id": "w5KpNUMZakDQ"
      },
      "source": [
        "##### Общие, средние и медианные продажи по платформам"
      ]
    },
    {
      "cell_type": "code",
      "metadata": {
        "id": "8LNYASwHakDS",
        "outputId": "2377f301-555e-4257-a5e3-6ea61862c4e0",
        "colab": {
          "base_uri": "https://localhost:8080/",
          "height": 235
        }
      },
      "source": [
        "data_actual=pd.DataFrame(columns=['platform','total','mean','median','difference'])\n",
        "\n",
        "for row in p_2016:\n",
        "    s_mean = round(platforms_actual.loc[platforms_actual['platform']==row]['total_sales'].mean(),2)\n",
        "    s_median = round(platforms_actual.loc[platforms_actual['platform']==row]['total_sales'].median(),2)\n",
        "    tot = round(platforms_actual.loc[platforms_actual['platform']==row]['total_sales'].sum(),2)    \n",
        "    diff = round(s_mean - s_median,2)\n",
        "    data_actual = data_actual.append({'platform':row,'mean':s_mean,'median':s_median,'difference':diff,'total':tot}, ignore_index=True)\n",
        "data_actual.sort_values('total',ascending=False,inplace=True)\n",
        "data_actual"
      ],
      "execution_count": 27,
      "outputs": [
        {
          "output_type": "execute_result",
          "data": {
            "text/html": [
              "<div>\n",
              "<style scoped>\n",
              "    .dataframe tbody tr th:only-of-type {\n",
              "        vertical-align: middle;\n",
              "    }\n",
              "\n",
              "    .dataframe tbody tr th {\n",
              "        vertical-align: top;\n",
              "    }\n",
              "\n",
              "    .dataframe thead th {\n",
              "        text-align: right;\n",
              "    }\n",
              "</style>\n",
              "<table border=\"1\" class=\"dataframe\">\n",
              "  <thead>\n",
              "    <tr style=\"text-align: right;\">\n",
              "      <th></th>\n",
              "      <th>platform</th>\n",
              "      <th>total</th>\n",
              "      <th>mean</th>\n",
              "      <th>median</th>\n",
              "      <th>difference</th>\n",
              "    </tr>\n",
              "  </thead>\n",
              "  <tbody>\n",
              "    <tr>\n",
              "      <th>2</th>\n",
              "      <td>ps4</td>\n",
              "      <td>314.14</td>\n",
              "      <td>0.80</td>\n",
              "      <td>0.20</td>\n",
              "      <td>0.60</td>\n",
              "    </tr>\n",
              "    <tr>\n",
              "      <th>1</th>\n",
              "      <td>pc</td>\n",
              "      <td>259.52</td>\n",
              "      <td>0.27</td>\n",
              "      <td>0.05</td>\n",
              "      <td>0.22</td>\n",
              "    </tr>\n",
              "    <tr>\n",
              "      <th>0</th>\n",
              "      <td>3ds</td>\n",
              "      <td>259.00</td>\n",
              "      <td>0.50</td>\n",
              "      <td>0.12</td>\n",
              "      <td>0.38</td>\n",
              "    </tr>\n",
              "    <tr>\n",
              "      <th>5</th>\n",
              "      <td>xone</td>\n",
              "      <td>159.32</td>\n",
              "      <td>0.65</td>\n",
              "      <td>0.22</td>\n",
              "      <td>0.43</td>\n",
              "    </tr>\n",
              "    <tr>\n",
              "      <th>4</th>\n",
              "      <td>wiiu</td>\n",
              "      <td>82.19</td>\n",
              "      <td>0.56</td>\n",
              "      <td>0.22</td>\n",
              "      <td>0.34</td>\n",
              "    </tr>\n",
              "    <tr>\n",
              "      <th>3</th>\n",
              "      <td>psv</td>\n",
              "      <td>54.07</td>\n",
              "      <td>0.13</td>\n",
              "      <td>0.06</td>\n",
              "      <td>0.07</td>\n",
              "    </tr>\n",
              "  </tbody>\n",
              "</table>\n",
              "</div>"
            ],
            "text/plain": [
              "  platform   total  mean  median  difference\n",
              "2      ps4  314.14  0.80    0.20        0.60\n",
              "1       pc  259.52  0.27    0.05        0.22\n",
              "0      3ds  259.00  0.50    0.12        0.38\n",
              "5     xone  159.32  0.65    0.22        0.43\n",
              "4     wiiu   82.19  0.56    0.22        0.34\n",
              "3      psv   54.07  0.13    0.06        0.07"
            ]
          },
          "metadata": {
            "tags": []
          },
          "execution_count": 27
        }
      ]
    },
    {
      "cell_type": "markdown",
      "metadata": {
        "id": "dPId99I2akDZ"
      },
      "source": [
        "##### Выводы:\n",
        "1. Несмотря на существенно отличающийся объём продаж, графики платформ ps4 и xone в плане \"усов\" очень похожи.\n",
        "2. Графики продаж pc и psv довольно похожи. Однако, объём продаж у pc практически в пять раз выше.\n",
        "3. Медианные продажи для xone и wiiu одинаковые, несмотря на практически двухкратную разницу в объёме продаж.\n",
        "4. Несмотря на низкие средние и медианные продажи игр на pc, по объёму продаж данная платформа находится на втором месте.  \n",
        "\n",
        "Таким образом, анализируя график, можно иметь понимание о совокупном объёме продаж по количеству выбросов справа, несмотря на размер \"усов\", IQR, медиану и положение 1 и 3 квартилей."
      ]
    },
    {
      "cell_type": "markdown",
      "metadata": {
        "id": "AS0MCXuMakDa"
      },
      "source": [
        "#### Влияние отзывов пользователей и критиков на продажи по платформам."
      ]
    },
    {
      "cell_type": "markdown",
      "metadata": {
        "id": "rh6n2MsdakDb"
      },
      "source": [
        "##### Подготовка данных."
      ]
    },
    {
      "cell_type": "code",
      "metadata": {
        "id": "hjwgtnymakDd",
        "outputId": "6f21c650-b840-4bd2-8620-cf9bc4373940",
        "colab": {
          "base_uri": "https://localhost:8080/",
          "height": 419
        }
      },
      "source": [
        "p_score = platforms_actual.loc[(platforms_actual['critic_score']!=3000)&(platforms_actual['user_score']!=3000)]\n",
        "p_score = p_score[['platform','critic_score','user_score','total_sales']]\n",
        "p_score"
      ],
      "execution_count": 28,
      "outputs": [
        {
          "output_type": "execute_result",
          "data": {
            "text/html": [
              "<div>\n",
              "<style scoped>\n",
              "    .dataframe tbody tr th:only-of-type {\n",
              "        vertical-align: middle;\n",
              "    }\n",
              "\n",
              "    .dataframe tbody tr th {\n",
              "        vertical-align: top;\n",
              "    }\n",
              "\n",
              "    .dataframe thead th {\n",
              "        text-align: right;\n",
              "    }\n",
              "</style>\n",
              "<table border=\"1\" class=\"dataframe\">\n",
              "  <thead>\n",
              "    <tr style=\"text-align: right;\">\n",
              "      <th></th>\n",
              "      <th>platform</th>\n",
              "      <th>critic_score</th>\n",
              "      <th>user_score</th>\n",
              "      <th>total_sales</th>\n",
              "    </tr>\n",
              "  </thead>\n",
              "  <tbody>\n",
              "    <tr>\n",
              "      <th>40</th>\n",
              "      <td>3ds</td>\n",
              "      <td>85</td>\n",
              "      <td>8.2</td>\n",
              "      <td>12.65</td>\n",
              "    </tr>\n",
              "    <tr>\n",
              "      <th>42</th>\n",
              "      <td>ps4</td>\n",
              "      <td>97</td>\n",
              "      <td>8.3</td>\n",
              "      <td>12.62</td>\n",
              "    </tr>\n",
              "    <tr>\n",
              "      <th>53</th>\n",
              "      <td>3ds</td>\n",
              "      <td>90</td>\n",
              "      <td>8.4</td>\n",
              "      <td>10.81</td>\n",
              "    </tr>\n",
              "    <tr>\n",
              "      <th>62</th>\n",
              "      <td>3ds</td>\n",
              "      <td>78</td>\n",
              "      <td>7.2</td>\n",
              "      <td>9.90</td>\n",
              "    </tr>\n",
              "    <tr>\n",
              "      <th>73</th>\n",
              "      <td>3ds</td>\n",
              "      <td>88</td>\n",
              "      <td>8.7</td>\n",
              "      <td>9.17</td>\n",
              "    </tr>\n",
              "    <tr>\n",
              "      <th>...</th>\n",
              "      <td>...</td>\n",
              "      <td>...</td>\n",
              "      <td>...</td>\n",
              "      <td>...</td>\n",
              "    </tr>\n",
              "    <tr>\n",
              "      <th>16660</th>\n",
              "      <td>xone</td>\n",
              "      <td>74</td>\n",
              "      <td>6.7</td>\n",
              "      <td>0.01</td>\n",
              "    </tr>\n",
              "    <tr>\n",
              "      <th>16692</th>\n",
              "      <td>pc</td>\n",
              "      <td>80</td>\n",
              "      <td>7.6</td>\n",
              "      <td>0.01</td>\n",
              "    </tr>\n",
              "    <tr>\n",
              "      <th>16696</th>\n",
              "      <td>pc</td>\n",
              "      <td>61</td>\n",
              "      <td>5.8</td>\n",
              "      <td>0.01</td>\n",
              "    </tr>\n",
              "    <tr>\n",
              "      <th>16702</th>\n",
              "      <td>pc</td>\n",
              "      <td>60</td>\n",
              "      <td>7.2</td>\n",
              "      <td>0.01</td>\n",
              "    </tr>\n",
              "    <tr>\n",
              "      <th>16705</th>\n",
              "      <td>pc</td>\n",
              "      <td>63</td>\n",
              "      <td>5.8</td>\n",
              "      <td>0.01</td>\n",
              "    </tr>\n",
              "  </tbody>\n",
              "</table>\n",
              "<p>1483 rows × 4 columns</p>\n",
              "</div>"
            ],
            "text/plain": [
              "      platform  critic_score  user_score  total_sales\n",
              "40         3ds            85         8.2        12.65\n",
              "42         ps4            97         8.3        12.62\n",
              "53         3ds            90         8.4        10.81\n",
              "62         3ds            78         7.2         9.90\n",
              "73         3ds            88         8.7         9.17\n",
              "...        ...           ...         ...          ...\n",
              "16660     xone            74         6.7         0.01\n",
              "16692       pc            80         7.6         0.01\n",
              "16696       pc            61         5.8         0.01\n",
              "16702       pc            60         7.2         0.01\n",
              "16705       pc            63         5.8         0.01\n",
              "\n",
              "[1483 rows x 4 columns]"
            ]
          },
          "metadata": {
            "tags": []
          },
          "execution_count": 28
        }
      ]
    },
    {
      "cell_type": "code",
      "metadata": {
        "id": "L0RyScgyakDi",
        "outputId": "bdbc5439-cf84-4258-a61b-e48abb43dc88",
        "colab": {
          "base_uri": "https://localhost:8080/",
          "height": 419
        }
      },
      "source": [
        "g = sns.FacetGrid(p_score, col=\"platform\")\n",
        "g = g.map(plt.scatter, \"critic_score\", \"total_sales\", edgecolor=\"w\")\n",
        "b = sns.FacetGrid(p_score, col=\"platform\")\n",
        "b = b.map(plt.scatter, \"user_score\", \"total_sales\", edgecolor=\"w\")"
      ],
      "execution_count": 29,
      "outputs": [
        {
          "output_type": "display_data",
          "data": {
            "image/png": "[encoded data removed]",
            "text/plain": [
              "<Figure size 1296x216 with 6 Axes>"
            ]
          },
          "metadata": {
            "tags": [],
            "needs_background": "light"
          }
        },
        {
          "output_type": "display_data",
          "data": {
            "image/png": "[encoded data removed]",
            "text/plain": [
              "<Figure size 1296x216 with 6 Axes>"
            ]
          },
          "metadata": {
            "tags": [],
            "needs_background": "light"
          }
        }
      ]
    },
    {
      "cell_type": "code",
      "metadata": {
        "scrolled": false,
        "id": "URvECSLMakDn",
        "outputId": "60a8f26b-8e26-43fa-d525-f6cf1ba415da",
        "colab": {
          "base_uri": "https://localhost:8080/",
          "height": 235
        }
      },
      "source": [
        "correlation=pd.DataFrame(columns=['platform','correlation_critic_score','correlation_user_score'])\n",
        "for row in p_score['platform'].unique().tolist():\n",
        "    data_slice = p_score[p_score['platform']==row]\n",
        "    corr_c = data_slice['total_sales'].corr(data_slice['critic_score'])\n",
        "    corr_u = data_slice['total_sales'].corr(data_slice['user_score'])\n",
        "    correlation = correlation.append({'platform':row,'correlation_critic_score':corr_c,'correlation_user_score':corr_u},ignore_index=True)\n",
        "correlation"
      ],
      "execution_count": 30,
      "outputs": [
        {
          "output_type": "execute_result",
          "data": {
            "text/html": [
              "<div>\n",
              "<style scoped>\n",
              "    .dataframe tbody tr th:only-of-type {\n",
              "        vertical-align: middle;\n",
              "    }\n",
              "\n",
              "    .dataframe tbody tr th {\n",
              "        vertical-align: top;\n",
              "    }\n",
              "\n",
              "    .dataframe thead th {\n",
              "        text-align: right;\n",
              "    }\n",
              "</style>\n",
              "<table border=\"1\" class=\"dataframe\">\n",
              "  <thead>\n",
              "    <tr style=\"text-align: right;\">\n",
              "      <th></th>\n",
              "      <th>platform</th>\n",
              "      <th>correlation_critic_score</th>\n",
              "      <th>correlation_user_score</th>\n",
              "    </tr>\n",
              "  </thead>\n",
              "  <tbody>\n",
              "    <tr>\n",
              "      <th>0</th>\n",
              "      <td>3ds</td>\n",
              "      <td>0.339824</td>\n",
              "      <td>0.233403</td>\n",
              "    </tr>\n",
              "    <tr>\n",
              "      <th>1</th>\n",
              "      <td>ps4</td>\n",
              "      <td>0.405895</td>\n",
              "      <td>-0.033625</td>\n",
              "    </tr>\n",
              "    <tr>\n",
              "      <th>2</th>\n",
              "      <td>pc</td>\n",
              "      <td>0.256409</td>\n",
              "      <td>0.001108</td>\n",
              "    </tr>\n",
              "    <tr>\n",
              "      <th>3</th>\n",
              "      <td>wiiu</td>\n",
              "      <td>0.350882</td>\n",
              "      <td>0.391848</td>\n",
              "    </tr>\n",
              "    <tr>\n",
              "      <th>4</th>\n",
              "      <td>xone</td>\n",
              "      <td>0.410422</td>\n",
              "      <td>-0.094003</td>\n",
              "    </tr>\n",
              "    <tr>\n",
              "      <th>5</th>\n",
              "      <td>psv</td>\n",
              "      <td>0.131349</td>\n",
              "      <td>0.038374</td>\n",
              "    </tr>\n",
              "  </tbody>\n",
              "</table>\n",
              "</div>"
            ],
            "text/plain": [
              "  platform  correlation_critic_score  correlation_user_score\n",
              "0      3ds                  0.339824                0.233403\n",
              "1      ps4                  0.405895               -0.033625\n",
              "2       pc                  0.256409                0.001108\n",
              "3     wiiu                  0.350882                0.391848\n",
              "4     xone                  0.410422               -0.094003\n",
              "5      psv                  0.131349                0.038374"
            ]
          },
          "metadata": {
            "tags": []
          },
          "execution_count": 30
        }
      ]
    },
    {
      "cell_type": "markdown",
      "metadata": {
        "id": "InqKztxOakDq"
      },
      "source": [
        "##### Выводы:\n",
        "Можно сказать, что имеются платформы с играми, чувствительными к отзывам пользователей и критков, а есть платформы, где отзывы практически не влияют на продажи.\n",
        "\n",
        "Влияние оценок критиков и пользователей на продажи платформ:\n",
        "1. 3ds - ниже среднего влияние критиков, ещё меньше влияние пользователей.\n",
        "2. ps4 - среднее влияние критиков, нет влияния пользователей.\n",
        "3. pc - слабое влияние критиков, нет влияния пользователей.\n",
        "4. wiiu - среднее влияние критиков и пользователей.\n",
        "5. xone - среднее влияние критиков, нет влияния пользователей.\n",
        "6. psv - практически отсутствует влияние критиков, нет влияния пользователей."
      ]
    },
    {
      "cell_type": "markdown",
      "metadata": {
        "id": "Cx8pTn2XakDr"
      },
      "source": [
        "#### Соотнесите выводы с продажами игр на других платформах - ранее были выделены платформы-лидеры по продажам, переменная plats."
      ]
    },
    {
      "cell_type": "markdown",
      "metadata": {
        "id": "W6Qw_uIkakDs"
      },
      "source": [
        "##### Подготовка таблицы с общими продажами, медианой, средним продаж по платформам-лидерам за всё время продаж игр."
      ]
    },
    {
      "cell_type": "code",
      "metadata": {
        "id": "AmXQxgvHakDt",
        "outputId": "255cda4b-1e95-4357-e09a-fc8e8a763bbc",
        "colab": {
          "base_uri": "https://localhost:8080/",
          "height": 34
        }
      },
      "source": [
        "plats"
      ],
      "execution_count": 31,
      "outputs": [
        {
          "output_type": "execute_result",
          "data": {
            "text/plain": [
              "Index(['ps2', 'x360', 'ps3', 'wii', 'ds', 'ps'], dtype='object', name='platform')"
            ]
          },
          "metadata": {
            "tags": []
          },
          "execution_count": 31
        }
      ]
    },
    {
      "cell_type": "code",
      "metadata": {
        "id": "Fp2FQzMhakDx"
      },
      "source": [
        "platforms = df[(df['platform'].isin(plats))]"
      ],
      "execution_count": 32,
      "outputs": []
    },
    {
      "cell_type": "code",
      "metadata": {
        "id": "ok8oGhYqakD4",
        "outputId": "85f45cf2-64f6-4f8e-f7fb-98c6a2f74f61",
        "colab": {
          "base_uri": "https://localhost:8080/",
          "height": 235
        }
      },
      "source": [
        "platforms_old=pd.DataFrame(columns=['platform','total','mean','median','difference'])\n",
        "\n",
        "for row in plats:\n",
        "    s_mean = round(platforms.loc[platforms['platform']==row]['total_sales'].mean(),2)\n",
        "    s_median = round(platforms.loc[platforms['platform']==row]['total_sales'].median(),2)\n",
        "    tot = round(platforms.loc[platforms['platform']==row]['total_sales'].sum(),2)    \n",
        "    diff = round(s_mean - s_median,2)\n",
        "    platforms_old = platforms_old.append({'platform':row,'mean':s_mean,'median':s_median,'difference':diff,'total':tot}, ignore_index=True)\n",
        "platforms_old.sort_values('total',ascending=False,inplace=True)\n",
        "platforms_old"
      ],
      "execution_count": 33,
      "outputs": [
        {
          "output_type": "execute_result",
          "data": {
            "text/html": [
              "<div>\n",
              "<style scoped>\n",
              "    .dataframe tbody tr th:only-of-type {\n",
              "        vertical-align: middle;\n",
              "    }\n",
              "\n",
              "    .dataframe tbody tr th {\n",
              "        vertical-align: top;\n",
              "    }\n",
              "\n",
              "    .dataframe thead th {\n",
              "        text-align: right;\n",
              "    }\n",
              "</style>\n",
              "<table border=\"1\" class=\"dataframe\">\n",
              "  <thead>\n",
              "    <tr style=\"text-align: right;\">\n",
              "      <th></th>\n",
              "      <th>platform</th>\n",
              "      <th>total</th>\n",
              "      <th>mean</th>\n",
              "      <th>median</th>\n",
              "      <th>difference</th>\n",
              "    </tr>\n",
              "  </thead>\n",
              "  <tbody>\n",
              "    <tr>\n",
              "      <th>0</th>\n",
              "      <td>ps2</td>\n",
              "      <td>1255.77</td>\n",
              "      <td>0.58</td>\n",
              "      <td>0.23</td>\n",
              "      <td>0.35</td>\n",
              "    </tr>\n",
              "    <tr>\n",
              "      <th>1</th>\n",
              "      <td>x360</td>\n",
              "      <td>971.42</td>\n",
              "      <td>0.77</td>\n",
              "      <td>0.28</td>\n",
              "      <td>0.49</td>\n",
              "    </tr>\n",
              "    <tr>\n",
              "      <th>2</th>\n",
              "      <td>ps3</td>\n",
              "      <td>939.65</td>\n",
              "      <td>0.71</td>\n",
              "      <td>0.27</td>\n",
              "      <td>0.44</td>\n",
              "    </tr>\n",
              "    <tr>\n",
              "      <th>3</th>\n",
              "      <td>wii</td>\n",
              "      <td>907.51</td>\n",
              "      <td>0.69</td>\n",
              "      <td>0.19</td>\n",
              "      <td>0.50</td>\n",
              "    </tr>\n",
              "    <tr>\n",
              "      <th>4</th>\n",
              "      <td>ds</td>\n",
              "      <td>806.12</td>\n",
              "      <td>0.37</td>\n",
              "      <td>0.11</td>\n",
              "      <td>0.26</td>\n",
              "    </tr>\n",
              "    <tr>\n",
              "      <th>5</th>\n",
              "      <td>ps</td>\n",
              "      <td>730.86</td>\n",
              "      <td>0.61</td>\n",
              "      <td>0.26</td>\n",
              "      <td>0.35</td>\n",
              "    </tr>\n",
              "  </tbody>\n",
              "</table>\n",
              "</div>"
            ],
            "text/plain": [
              "  platform    total  mean  median  difference\n",
              "0      ps2  1255.77  0.58    0.23        0.35\n",
              "1     x360   971.42  0.77    0.28        0.49\n",
              "2      ps3   939.65  0.71    0.27        0.44\n",
              "3      wii   907.51  0.69    0.19        0.50\n",
              "4       ds   806.12  0.37    0.11        0.26\n",
              "5       ps   730.86  0.61    0.26        0.35"
            ]
          },
          "metadata": {
            "tags": []
          },
          "execution_count": 33
        }
      ]
    },
    {
      "cell_type": "code",
      "metadata": {
        "id": "Gr2xo7yGakEA",
        "outputId": "1a8e89a3-2dbf-456f-8de9-318a4d2775ef",
        "colab": {
          "base_uri": "https://localhost:8080/",
          "height": 235
        }
      },
      "source": [
        "data_actual"
      ],
      "execution_count": 34,
      "outputs": [
        {
          "output_type": "execute_result",
          "data": {
            "text/html": [
              "<div>\n",
              "<style scoped>\n",
              "    .dataframe tbody tr th:only-of-type {\n",
              "        vertical-align: middle;\n",
              "    }\n",
              "\n",
              "    .dataframe tbody tr th {\n",
              "        vertical-align: top;\n",
              "    }\n",
              "\n",
              "    .dataframe thead th {\n",
              "        text-align: right;\n",
              "    }\n",
              "</style>\n",
              "<table border=\"1\" class=\"dataframe\">\n",
              "  <thead>\n",
              "    <tr style=\"text-align: right;\">\n",
              "      <th></th>\n",
              "      <th>platform</th>\n",
              "      <th>total</th>\n",
              "      <th>mean</th>\n",
              "      <th>median</th>\n",
              "      <th>difference</th>\n",
              "    </tr>\n",
              "  </thead>\n",
              "  <tbody>\n",
              "    <tr>\n",
              "      <th>2</th>\n",
              "      <td>ps4</td>\n",
              "      <td>314.14</td>\n",
              "      <td>0.80</td>\n",
              "      <td>0.20</td>\n",
              "      <td>0.60</td>\n",
              "    </tr>\n",
              "    <tr>\n",
              "      <th>1</th>\n",
              "      <td>pc</td>\n",
              "      <td>259.52</td>\n",
              "      <td>0.27</td>\n",
              "      <td>0.05</td>\n",
              "      <td>0.22</td>\n",
              "    </tr>\n",
              "    <tr>\n",
              "      <th>0</th>\n",
              "      <td>3ds</td>\n",
              "      <td>259.00</td>\n",
              "      <td>0.50</td>\n",
              "      <td>0.12</td>\n",
              "      <td>0.38</td>\n",
              "    </tr>\n",
              "    <tr>\n",
              "      <th>5</th>\n",
              "      <td>xone</td>\n",
              "      <td>159.32</td>\n",
              "      <td>0.65</td>\n",
              "      <td>0.22</td>\n",
              "      <td>0.43</td>\n",
              "    </tr>\n",
              "    <tr>\n",
              "      <th>4</th>\n",
              "      <td>wiiu</td>\n",
              "      <td>82.19</td>\n",
              "      <td>0.56</td>\n",
              "      <td>0.22</td>\n",
              "      <td>0.34</td>\n",
              "    </tr>\n",
              "    <tr>\n",
              "      <th>3</th>\n",
              "      <td>psv</td>\n",
              "      <td>54.07</td>\n",
              "      <td>0.13</td>\n",
              "      <td>0.06</td>\n",
              "      <td>0.07</td>\n",
              "    </tr>\n",
              "  </tbody>\n",
              "</table>\n",
              "</div>"
            ],
            "text/plain": [
              "  platform   total  mean  median  difference\n",
              "2      ps4  314.14  0.80    0.20        0.60\n",
              "1       pc  259.52  0.27    0.05        0.22\n",
              "0      3ds  259.00  0.50    0.12        0.38\n",
              "5     xone  159.32  0.65    0.22        0.43\n",
              "4     wiiu   82.19  0.56    0.22        0.34\n",
              "3      psv   54.07  0.13    0.06        0.07"
            ]
          },
          "metadata": {
            "tags": []
          },
          "execution_count": 34
        }
      ]
    },
    {
      "cell_type": "code",
      "metadata": {
        "id": "GQ0yvVr7akEH",
        "outputId": "f4d9d4fc-7695-4ce0-8a37-50022b018435",
        "colab": {
          "base_uri": "https://localhost:8080/",
          "height": 450
        }
      },
      "source": [
        "e = sns.catplot(y=\"platform\", x=\"total_sales\", data=platforms, kind=\"box\", orient=\"h\", height=6, aspect=3)\n",
        "e.set(xlim=(0,20))"
      ],
      "execution_count": 35,
      "outputs": [
        {
          "output_type": "execute_result",
          "data": {
            "text/plain": [
              "<seaborn.axisgrid.FacetGrid at 0x7f3b22589fd0>"
            ]
          },
          "metadata": {
            "tags": []
          },
          "execution_count": 35
        },
        {
          "output_type": "display_data",
          "data": {
            "image/png": "[encoded data removed]",
            "text/plain": [
              "<Figure size 1296x432 with 1 Axes>"
            ]
          },
          "metadata": {
            "tags": [],
            "needs_background": "light"
          }
        }
      ]
    },
    {
      "cell_type": "markdown",
      "metadata": {
        "id": "F4SnDL18akEO"
      },
      "source": [
        "##### Выводы:\n",
        "1. Объемы продаж платформ-лидеров существенно выше тех, что остались к 2016 году.\n",
        "2. Их медианные продажи в основном выше, чем продажи актуальных к 2016 году платформ, это говорит о том, что в основном продажи каждой игры были выше и постепенно снизились к 2016 году.\n",
        "3. \"Ящики с усами\" платформ-лидеров примерно одинаковы, это говорит о том, что продажи были примерно равны. Так оно и есть, если взглянуть на общую таблицу продаж.\n",
        "4. Графики платформ-лидеров характеризуются большими выбросами справа, такого не наблюдается у платформ, актуальных к 2016 году."
      ]
    },
    {
      "cell_type": "markdown",
      "metadata": {
        "id": "e7wuVoOYakEO"
      },
      "source": [
        "####  Распределение игр по жанрам."
      ]
    },
    {
      "cell_type": "code",
      "metadata": {
        "id": "vQq81lh3akEP",
        "outputId": "0216b237-54ac-460c-b4cf-5cce531dbbce",
        "colab": {
          "base_uri": "https://localhost:8080/",
          "height": 421
        }
      },
      "source": [
        "by_genres = df.pivot_table(index='genre', values=['name','total_sales'],aggfunc={'name':'count','total_sales':'sum'}).sort_values('total_sales',ascending=False).reset_index()\n",
        "by_genres"
      ],
      "execution_count": 36,
      "outputs": [
        {
          "output_type": "execute_result",
          "data": {
            "text/html": [
              "<div>\n",
              "<style scoped>\n",
              "    .dataframe tbody tr th:only-of-type {\n",
              "        vertical-align: middle;\n",
              "    }\n",
              "\n",
              "    .dataframe tbody tr th {\n",
              "        vertical-align: top;\n",
              "    }\n",
              "\n",
              "    .dataframe thead th {\n",
              "        text-align: right;\n",
              "    }\n",
              "</style>\n",
              "<table border=\"1\" class=\"dataframe\">\n",
              "  <thead>\n",
              "    <tr style=\"text-align: right;\">\n",
              "      <th></th>\n",
              "      <th>genre</th>\n",
              "      <th>name</th>\n",
              "      <th>total_sales</th>\n",
              "    </tr>\n",
              "  </thead>\n",
              "  <tbody>\n",
              "    <tr>\n",
              "      <th>0</th>\n",
              "      <td>action</td>\n",
              "      <td>3369</td>\n",
              "      <td>1744.17</td>\n",
              "    </tr>\n",
              "    <tr>\n",
              "      <th>1</th>\n",
              "      <td>sports</td>\n",
              "      <td>2348</td>\n",
              "      <td>1331.27</td>\n",
              "    </tr>\n",
              "    <tr>\n",
              "      <th>2</th>\n",
              "      <td>shooter</td>\n",
              "      <td>1323</td>\n",
              "      <td>1052.45</td>\n",
              "    </tr>\n",
              "    <tr>\n",
              "      <th>3</th>\n",
              "      <td>role-playing</td>\n",
              "      <td>1498</td>\n",
              "      <td>934.56</td>\n",
              "    </tr>\n",
              "    <tr>\n",
              "      <th>4</th>\n",
              "      <td>platform</td>\n",
              "      <td>888</td>\n",
              "      <td>827.77</td>\n",
              "    </tr>\n",
              "    <tr>\n",
              "      <th>5</th>\n",
              "      <td>misc</td>\n",
              "      <td>1750</td>\n",
              "      <td>802.51</td>\n",
              "    </tr>\n",
              "    <tr>\n",
              "      <th>6</th>\n",
              "      <td>racing</td>\n",
              "      <td>1249</td>\n",
              "      <td>728.67</td>\n",
              "    </tr>\n",
              "    <tr>\n",
              "      <th>7</th>\n",
              "      <td>fighting</td>\n",
              "      <td>849</td>\n",
              "      <td>447.53</td>\n",
              "    </tr>\n",
              "    <tr>\n",
              "      <th>8</th>\n",
              "      <td>simulation</td>\n",
              "      <td>873</td>\n",
              "      <td>389.97</td>\n",
              "    </tr>\n",
              "    <tr>\n",
              "      <th>9</th>\n",
              "      <td>puzzle</td>\n",
              "      <td>580</td>\n",
              "      <td>242.57</td>\n",
              "    </tr>\n",
              "    <tr>\n",
              "      <th>10</th>\n",
              "      <td>adventure</td>\n",
              "      <td>1303</td>\n",
              "      <td>237.59</td>\n",
              "    </tr>\n",
              "    <tr>\n",
              "      <th>11</th>\n",
              "      <td>strategy</td>\n",
              "      <td>683</td>\n",
              "      <td>174.23</td>\n",
              "    </tr>\n",
              "  </tbody>\n",
              "</table>\n",
              "</div>"
            ],
            "text/plain": [
              "           genre  name  total_sales\n",
              "0         action  3369      1744.17\n",
              "1         sports  2348      1331.27\n",
              "2        shooter  1323      1052.45\n",
              "3   role-playing  1498       934.56\n",
              "4       platform   888       827.77\n",
              "5           misc  1750       802.51\n",
              "6         racing  1249       728.67\n",
              "7       fighting   849       447.53\n",
              "8     simulation   873       389.97\n",
              "9         puzzle   580       242.57\n",
              "10     adventure  1303       237.59\n",
              "11      strategy   683       174.23"
            ]
          },
          "metadata": {
            "tags": []
          },
          "execution_count": 36
        }
      ]
    },
    {
      "cell_type": "markdown",
      "metadata": {
        "id": "jlQGZSyaakET"
      },
      "source": [
        "##### Выводы:\n",
        "1. Можно чётко выделить жанры с высокими продажами и жанры с низкими продажами.\n",
        "2. Самые высокие продажи у тройки лидеров жанров по продажам - action, sports, shooter.\n",
        "3. Самые низкие продажи у тройки аутсайдеров - puzzle, adventure, strategy.\n",
        "4. Имеются жанры, для которых выпущено очень много игр, но их продажи не оправдали себя."
      ]
    },
    {
      "cell_type": "markdown",
      "metadata": {
        "id": "tVjVgXQTakEU"
      },
      "source": [
        "#### Составить портрет пользователя каждого региона."
      ]
    },
    {
      "cell_type": "markdown",
      "metadata": {
        "id": "kCsOHnzEakEV"
      },
      "source": [
        "##### Выделение топ-5 платформ по количеству проданных игр в каждом регионе."
      ]
    },
    {
      "cell_type": "code",
      "metadata": {
        "id": "ojtqW9VZakEV"
      },
      "source": [
        "eu_platf = df.loc[df['eu_sales']!=0]\n",
        "jp_platf = df.loc[df['jp_sales']!=0]\n",
        "na_platf = df.loc[df['na_sales']!=0]"
      ],
      "execution_count": 37,
      "outputs": []
    },
    {
      "cell_type": "code",
      "metadata": {
        "id": "jEdiYl1eakEY"
      },
      "source": [
        "eu_reg = eu_platf.pivot_table(index='platform', values='eu_sales',aggfunc='count',margins=True,margins_name='total').reset_index()\n",
        "eu_reg['percent_from_total'] = round(eu_reg['eu_sales']*100/eu_reg.iloc[-1, 1], 2)\n",
        "eu_reg.drop(eu_reg.index[-1], inplace=True)"
      ],
      "execution_count": 38,
      "outputs": []
    },
    {
      "cell_type": "code",
      "metadata": {
        "id": "aeq5sWQwakEb"
      },
      "source": [
        "na_reg = na_platf.pivot_table(index='platform', values='na_sales',aggfunc='count',margins=True,margins_name='total').reset_index()\n",
        "na_reg['percent_from_total'] = round(na_reg['na_sales']*100/na_reg.iloc[-1, 1], 2)\n",
        "na_reg.drop(na_reg.index[-1], inplace=True)"
      ],
      "execution_count": 39,
      "outputs": []
    },
    {
      "cell_type": "code",
      "metadata": {
        "id": "Qjqk7oddakEg"
      },
      "source": [
        "jp_reg = jp_platf.pivot_table(index='platform', values='jp_sales',aggfunc='count',margins=True,margins_name='total').reset_index()\n",
        "jp_reg['percent_from_total'] = round(jp_reg['jp_sales']*100/jp_reg.iloc[-1, 1], 2)\n",
        "jp_reg.drop(jp_reg.index[-1], inplace=True)"
      ],
      "execution_count": 40,
      "outputs": []
    },
    {
      "cell_type": "code",
      "metadata": {
        "id": "8hps2Gf9akEm",
        "outputId": "56770fad-4153-42e5-c789-c10c1b455985",
        "colab": {
          "base_uri": "https://localhost:8080/",
          "height": 629
        }
      },
      "source": [
        "print(\"Регион - Европа\")\n",
        "display(eu_reg.sort_values('eu_sales',ascending=False).reset_index().head())\n",
        "print('Регион - Северная Америка')\n",
        "display(na_reg.sort_values('na_sales',ascending=False).reset_index().head())\n",
        "print('Регион - Япония')\n",
        "display(jp_reg.sort_values('jp_sales',ascending=False).reset_index().head())"
      ],
      "execution_count": 41,
      "outputs": [
        {
          "output_type": "stream",
          "text": [
            "Регион - Европа\n"
          ],
          "name": "stdout"
        },
        {
          "output_type": "display_data",
          "data": {
            "text/html": [
              "<div>\n",
              "<style scoped>\n",
              "    .dataframe tbody tr th:only-of-type {\n",
              "        vertical-align: middle;\n",
              "    }\n",
              "\n",
              "    .dataframe tbody tr th {\n",
              "        vertical-align: top;\n",
              "    }\n",
              "\n",
              "    .dataframe thead th {\n",
              "        text-align: right;\n",
              "    }\n",
              "</style>\n",
              "<table border=\"1\" class=\"dataframe\">\n",
              "  <thead>\n",
              "    <tr style=\"text-align: right;\">\n",
              "      <th></th>\n",
              "      <th>index</th>\n",
              "      <th>platform</th>\n",
              "      <th>eu_sales</th>\n",
              "      <th>percent_from_total</th>\n",
              "    </tr>\n",
              "  </thead>\n",
              "  <tbody>\n",
              "    <tr>\n",
              "      <th>0</th>\n",
              "      <td>12</td>\n",
              "      <td>ps2</td>\n",
              "      <td>1635</td>\n",
              "      <td>15.08</td>\n",
              "    </tr>\n",
              "    <tr>\n",
              "      <th>1</th>\n",
              "      <td>22</td>\n",
              "      <td>x360</td>\n",
              "      <td>990</td>\n",
              "      <td>9.13</td>\n",
              "    </tr>\n",
              "    <tr>\n",
              "      <th>2</th>\n",
              "      <td>11</td>\n",
              "      <td>ps</td>\n",
              "      <td>983</td>\n",
              "      <td>9.06</td>\n",
              "    </tr>\n",
              "    <tr>\n",
              "      <th>3</th>\n",
              "      <td>13</td>\n",
              "      <td>ps3</td>\n",
              "      <td>961</td>\n",
              "      <td>8.86</td>\n",
              "    </tr>\n",
              "    <tr>\n",
              "      <th>4</th>\n",
              "      <td>10</td>\n",
              "      <td>pc</td>\n",
              "      <td>908</td>\n",
              "      <td>8.37</td>\n",
              "    </tr>\n",
              "  </tbody>\n",
              "</table>\n",
              "</div>"
            ],
            "text/plain": [
              "   index platform  eu_sales  percent_from_total\n",
              "0     12      ps2      1635               15.08\n",
              "1     22     x360       990                9.13\n",
              "2     11       ps       983                9.06\n",
              "3     13      ps3       961                8.86\n",
              "4     10       pc       908                8.37"
            ]
          },
          "metadata": {
            "tags": []
          }
        },
        {
          "output_type": "stream",
          "text": [
            "Регион - Северная Америка\n"
          ],
          "name": "stdout"
        },
        {
          "output_type": "display_data",
          "data": {
            "text/html": [
              "<div>\n",
              "<style scoped>\n",
              "    .dataframe tbody tr th:only-of-type {\n",
              "        vertical-align: middle;\n",
              "    }\n",
              "\n",
              "    .dataframe tbody tr th {\n",
              "        vertical-align: top;\n",
              "    }\n",
              "\n",
              "    .dataframe thead th {\n",
              "        text-align: right;\n",
              "    }\n",
              "</style>\n",
              "<table border=\"1\" class=\"dataframe\">\n",
              "  <thead>\n",
              "    <tr style=\"text-align: right;\">\n",
              "      <th></th>\n",
              "      <th>index</th>\n",
              "      <th>platform</th>\n",
              "      <th>na_sales</th>\n",
              "      <th>percent_from_total</th>\n",
              "    </tr>\n",
              "  </thead>\n",
              "  <tbody>\n",
              "    <tr>\n",
              "      <th>0</th>\n",
              "      <td>12</td>\n",
              "      <td>ps2</td>\n",
              "      <td>1648</td>\n",
              "      <td>13.50</td>\n",
              "    </tr>\n",
              "    <tr>\n",
              "      <th>1</th>\n",
              "      <td>3</td>\n",
              "      <td>ds</td>\n",
              "      <td>1525</td>\n",
              "      <td>12.49</td>\n",
              "    </tr>\n",
              "    <tr>\n",
              "      <th>2</th>\n",
              "      <td>20</td>\n",
              "      <td>wii</td>\n",
              "      <td>1145</td>\n",
              "      <td>9.38</td>\n",
              "    </tr>\n",
              "    <tr>\n",
              "      <th>3</th>\n",
              "      <td>22</td>\n",
              "      <td>x360</td>\n",
              "      <td>1143</td>\n",
              "      <td>9.36</td>\n",
              "    </tr>\n",
              "    <tr>\n",
              "      <th>4</th>\n",
              "      <td>13</td>\n",
              "      <td>ps3</td>\n",
              "      <td>1008</td>\n",
              "      <td>8.26</td>\n",
              "    </tr>\n",
              "  </tbody>\n",
              "</table>\n",
              "</div>"
            ],
            "text/plain": [
              "   index platform  na_sales  percent_from_total\n",
              "0     12      ps2      1648               13.50\n",
              "1      3       ds      1525               12.49\n",
              "2     20      wii      1145                9.38\n",
              "3     22     x360      1143                9.36\n",
              "4     13      ps3      1008                8.26"
            ]
          },
          "metadata": {
            "tags": []
          }
        },
        {
          "output_type": "stream",
          "text": [
            "Регион - Япония\n"
          ],
          "name": "stdout"
        },
        {
          "output_type": "display_data",
          "data": {
            "text/html": [
              "<div>\n",
              "<style scoped>\n",
              "    .dataframe tbody tr th:only-of-type {\n",
              "        vertical-align: middle;\n",
              "    }\n",
              "\n",
              "    .dataframe tbody tr th {\n",
              "        vertical-align: top;\n",
              "    }\n",
              "\n",
              "    .dataframe thead th {\n",
              "        text-align: right;\n",
              "    }\n",
              "</style>\n",
              "<table border=\"1\" class=\"dataframe\">\n",
              "  <thead>\n",
              "    <tr style=\"text-align: right;\">\n",
              "      <th></th>\n",
              "      <th>index</th>\n",
              "      <th>platform</th>\n",
              "      <th>jp_sales</th>\n",
              "      <th>percent_from_total</th>\n",
              "    </tr>\n",
              "  </thead>\n",
              "  <tbody>\n",
              "    <tr>\n",
              "      <th>0</th>\n",
              "      <td>15</td>\n",
              "      <td>ps2</td>\n",
              "      <td>797</td>\n",
              "      <td>12.85</td>\n",
              "    </tr>\n",
              "    <tr>\n",
              "      <th>1</th>\n",
              "      <td>3</td>\n",
              "      <td>ds</td>\n",
              "      <td>764</td>\n",
              "      <td>12.32</td>\n",
              "    </tr>\n",
              "    <tr>\n",
              "      <th>2</th>\n",
              "      <td>18</td>\n",
              "      <td>psp</td>\n",
              "      <td>764</td>\n",
              "      <td>12.32</td>\n",
              "    </tr>\n",
              "    <tr>\n",
              "      <th>3</th>\n",
              "      <td>16</td>\n",
              "      <td>ps3</td>\n",
              "      <td>714</td>\n",
              "      <td>11.52</td>\n",
              "    </tr>\n",
              "    <tr>\n",
              "      <th>4</th>\n",
              "      <td>14</td>\n",
              "      <td>ps</td>\n",
              "      <td>402</td>\n",
              "      <td>6.48</td>\n",
              "    </tr>\n",
              "  </tbody>\n",
              "</table>\n",
              "</div>"
            ],
            "text/plain": [
              "   index platform  jp_sales  percent_from_total\n",
              "0     15      ps2       797               12.85\n",
              "1      3       ds       764               12.32\n",
              "2     18      psp       764               12.32\n",
              "3     16      ps3       714               11.52\n",
              "4     14       ps       402                6.48"
            ]
          },
          "metadata": {
            "tags": []
          }
        }
      ]
    },
    {
      "cell_type": "markdown",
      "metadata": {
        "id": "Suz7Pv4_akEp"
      },
      "source": [
        "##### Вывод:\n",
        "1. ps2 и ps3 - лидирующие платформы, встречающиеся в выборке каждого региона.\n",
        "2. ps2 стабильно занимала от 12 до 15 процентов рынка региона.\n",
        "3. Другие платформы в топ-5 имеют долю рынка от 9 до 13 процентов.\n",
        "4. Для Японии характерно примерно одинаковое количество проданных игр и примерно одинаковая доля рынка на каждой платформе (исключение - ps).\n",
        "5. Для Северной Америки характерен больший разброс по продажам.\n",
        "6. В Европе наблюдаются примерно процент рынка у лидирующих платформ, за исключением ps2, у которой он значительно выше."
      ]
    },
    {
      "cell_type": "markdown",
      "metadata": {
        "id": "i1vQW8IsakEq"
      },
      "source": [
        "##### Выделение топ-5 жанров по количеству проданных игр в каждом регионе."
      ]
    },
    {
      "cell_type": "code",
      "metadata": {
        "id": "pC21-V9IakEq"
      },
      "source": [
        "eu_gen = eu_platf.pivot_table(index='genre', values='eu_sales',aggfunc='count',margins=True,margins_name='total').reset_index()\n",
        "eu_gen['percent_from_total'] = round(eu_gen['eu_sales']*100/eu_gen.iloc[-1, 1], 2)\n",
        "eu_gen.drop(eu_gen.index[-1], inplace=True)"
      ],
      "execution_count": 42,
      "outputs": []
    },
    {
      "cell_type": "code",
      "metadata": {
        "id": "SsMBWYwKakEu"
      },
      "source": [
        "na_gen = na_platf.pivot_table(index='genre', values='na_sales',aggfunc='count',margins=True,margins_name='total').reset_index()\n",
        "na_gen['percent_from_total'] = round(na_gen['na_sales']*100/na_gen.iloc[-1, 1], 2)\n",
        "na_gen.drop(na_gen.index[-1], inplace=True)"
      ],
      "execution_count": 43,
      "outputs": []
    },
    {
      "cell_type": "code",
      "metadata": {
        "id": "GSvDCOE4akEy"
      },
      "source": [
        "jp_gen = jp_platf.pivot_table(index='genre', values='jp_sales',aggfunc='count',margins=True,margins_name='total').reset_index()\n",
        "jp_gen['percent_from_total'] = round(jp_gen['jp_sales']*100/jp_gen.iloc[-1, 1], 2)\n",
        "jp_gen.drop(jp_gen.index[-1], inplace=True)"
      ],
      "execution_count": 44,
      "outputs": []
    },
    {
      "cell_type": "code",
      "metadata": {
        "id": "4UATljruakE3",
        "outputId": "ce446c9b-871a-4a83-9dbf-972e3626f1a8",
        "colab": {
          "base_uri": "https://localhost:8080/",
          "height": 629
        }
      },
      "source": [
        "print(\"Регион - Европа\")\n",
        "display(eu_gen.sort_values('eu_sales',ascending=False).reset_index().head())\n",
        "print('Регион - Северная Америка')\n",
        "display(na_gen.sort_values('na_sales',ascending=False).reset_index().head())\n",
        "print('Регион - Япония')\n",
        "display(jp_gen.sort_values('jp_sales',ascending=False).reset_index().head())"
      ],
      "execution_count": 45,
      "outputs": [
        {
          "output_type": "stream",
          "text": [
            "Регион - Европа\n"
          ],
          "name": "stdout"
        },
        {
          "output_type": "display_data",
          "data": {
            "text/html": [
              "<div>\n",
              "<style scoped>\n",
              "    .dataframe tbody tr th:only-of-type {\n",
              "        vertical-align: middle;\n",
              "    }\n",
              "\n",
              "    .dataframe tbody tr th {\n",
              "        vertical-align: top;\n",
              "    }\n",
              "\n",
              "    .dataframe thead th {\n",
              "        text-align: right;\n",
              "    }\n",
              "</style>\n",
              "<table border=\"1\" class=\"dataframe\">\n",
              "  <thead>\n",
              "    <tr style=\"text-align: right;\">\n",
              "      <th></th>\n",
              "      <th>index</th>\n",
              "      <th>genre</th>\n",
              "      <th>eu_sales</th>\n",
              "      <th>percent_from_total</th>\n",
              "    </tr>\n",
              "  </thead>\n",
              "  <tbody>\n",
              "    <tr>\n",
              "      <th>0</th>\n",
              "      <td>0</td>\n",
              "      <td>action</td>\n",
              "      <td>2454</td>\n",
              "      <td>22.63</td>\n",
              "    </tr>\n",
              "    <tr>\n",
              "      <th>1</th>\n",
              "      <td>10</td>\n",
              "      <td>sports</td>\n",
              "      <td>1563</td>\n",
              "      <td>14.41</td>\n",
              "    </tr>\n",
              "    <tr>\n",
              "      <th>2</th>\n",
              "      <td>8</td>\n",
              "      <td>shooter</td>\n",
              "      <td>1089</td>\n",
              "      <td>10.04</td>\n",
              "    </tr>\n",
              "    <tr>\n",
              "      <th>3</th>\n",
              "      <td>6</td>\n",
              "      <td>racing</td>\n",
              "      <td>1020</td>\n",
              "      <td>9.41</td>\n",
              "    </tr>\n",
              "    <tr>\n",
              "      <th>4</th>\n",
              "      <td>3</td>\n",
              "      <td>misc</td>\n",
              "      <td>954</td>\n",
              "      <td>8.80</td>\n",
              "    </tr>\n",
              "  </tbody>\n",
              "</table>\n",
              "</div>"
            ],
            "text/plain": [
              "   index    genre  eu_sales  percent_from_total\n",
              "0      0   action      2454               22.63\n",
              "1     10   sports      1563               14.41\n",
              "2      8  shooter      1089               10.04\n",
              "3      6   racing      1020                9.41\n",
              "4      3     misc       954                8.80"
            ]
          },
          "metadata": {
            "tags": []
          }
        },
        {
          "output_type": "stream",
          "text": [
            "Регион - Северная Америка\n"
          ],
          "name": "stdout"
        },
        {
          "output_type": "display_data",
          "data": {
            "text/html": [
              "<div>\n",
              "<style scoped>\n",
              "    .dataframe tbody tr th:only-of-type {\n",
              "        vertical-align: middle;\n",
              "    }\n",
              "\n",
              "    .dataframe tbody tr th {\n",
              "        vertical-align: top;\n",
              "    }\n",
              "\n",
              "    .dataframe thead th {\n",
              "        text-align: right;\n",
              "    }\n",
              "</style>\n",
              "<table border=\"1\" class=\"dataframe\">\n",
              "  <thead>\n",
              "    <tr style=\"text-align: right;\">\n",
              "      <th></th>\n",
              "      <th>index</th>\n",
              "      <th>genre</th>\n",
              "      <th>na_sales</th>\n",
              "      <th>percent_from_total</th>\n",
              "    </tr>\n",
              "  </thead>\n",
              "  <tbody>\n",
              "    <tr>\n",
              "      <th>0</th>\n",
              "      <td>0</td>\n",
              "      <td>action</td>\n",
              "      <td>2617</td>\n",
              "      <td>21.44</td>\n",
              "    </tr>\n",
              "    <tr>\n",
              "      <th>1</th>\n",
              "      <td>10</td>\n",
              "      <td>sports</td>\n",
              "      <td>1861</td>\n",
              "      <td>15.25</td>\n",
              "    </tr>\n",
              "    <tr>\n",
              "      <th>2</th>\n",
              "      <td>3</td>\n",
              "      <td>misc</td>\n",
              "      <td>1220</td>\n",
              "      <td>10.00</td>\n",
              "    </tr>\n",
              "    <tr>\n",
              "      <th>3</th>\n",
              "      <td>8</td>\n",
              "      <td>shooter</td>\n",
              "      <td>1164</td>\n",
              "      <td>9.54</td>\n",
              "    </tr>\n",
              "    <tr>\n",
              "      <th>4</th>\n",
              "      <td>6</td>\n",
              "      <td>racing</td>\n",
              "      <td>1104</td>\n",
              "      <td>9.04</td>\n",
              "    </tr>\n",
              "  </tbody>\n",
              "</table>\n",
              "</div>"
            ],
            "text/plain": [
              "   index    genre  na_sales  percent_from_total\n",
              "0      0   action      2617               21.44\n",
              "1     10   sports      1861               15.25\n",
              "2      3     misc      1220               10.00\n",
              "3      8  shooter      1164                9.54\n",
              "4      6   racing      1104                9.04"
            ]
          },
          "metadata": {
            "tags": []
          }
        },
        {
          "output_type": "stream",
          "text": [
            "Регион - Япония\n"
          ],
          "name": "stdout"
        },
        {
          "output_type": "display_data",
          "data": {
            "text/html": [
              "<div>\n",
              "<style scoped>\n",
              "    .dataframe tbody tr th:only-of-type {\n",
              "        vertical-align: middle;\n",
              "    }\n",
              "\n",
              "    .dataframe tbody tr th {\n",
              "        vertical-align: top;\n",
              "    }\n",
              "\n",
              "    .dataframe thead th {\n",
              "        text-align: right;\n",
              "    }\n",
              "</style>\n",
              "<table border=\"1\" class=\"dataframe\">\n",
              "  <thead>\n",
              "    <tr style=\"text-align: right;\">\n",
              "      <th></th>\n",
              "      <th>index</th>\n",
              "      <th>genre</th>\n",
              "      <th>jp_sales</th>\n",
              "      <th>percent_from_total</th>\n",
              "    </tr>\n",
              "  </thead>\n",
              "  <tbody>\n",
              "    <tr>\n",
              "      <th>0</th>\n",
              "      <td>0</td>\n",
              "      <td>action</td>\n",
              "      <td>1194</td>\n",
              "      <td>19.26</td>\n",
              "    </tr>\n",
              "    <tr>\n",
              "      <th>1</th>\n",
              "      <td>7</td>\n",
              "      <td>role-playing</td>\n",
              "      <td>1061</td>\n",
              "      <td>17.11</td>\n",
              "    </tr>\n",
              "    <tr>\n",
              "      <th>2</th>\n",
              "      <td>1</td>\n",
              "      <td>adventure</td>\n",
              "      <td>753</td>\n",
              "      <td>12.15</td>\n",
              "    </tr>\n",
              "    <tr>\n",
              "      <th>3</th>\n",
              "      <td>10</td>\n",
              "      <td>sports</td>\n",
              "      <td>601</td>\n",
              "      <td>9.69</td>\n",
              "    </tr>\n",
              "    <tr>\n",
              "      <th>4</th>\n",
              "      <td>3</td>\n",
              "      <td>misc</td>\n",
              "      <td>540</td>\n",
              "      <td>8.71</td>\n",
              "    </tr>\n",
              "  </tbody>\n",
              "</table>\n",
              "</div>"
            ],
            "text/plain": [
              "   index         genre  jp_sales  percent_from_total\n",
              "0      0        action      1194               19.26\n",
              "1      7  role-playing      1061               17.11\n",
              "2      1     adventure       753               12.15\n",
              "3     10        sports       601                9.69\n",
              "4      3          misc       540                8.71"
            ]
          },
          "metadata": {
            "tags": []
          }
        }
      ]
    },
    {
      "cell_type": "markdown",
      "metadata": {
        "id": "UszKmAnPakE9"
      },
      "source": [
        "##### Выводы.\n",
        "1. Регионы Европа и Северная Америка идентичны по своим предпочтениям жанров в топ-5.\n",
        "2. Жанры action, sports, misc популярны во всех трёх регионах.\n",
        "3. Средняя доля рынка, рассчитаная по топ-5 жанрам для каждого региона примерно одинакова и равна 13-13,5%.\n",
        "4. Япония отличается в своих предпочтениях по жанрам, отдавая предпочтение тем, которые непопулярны в других регионах."
      ]
    },
    {
      "cell_type": "markdown",
      "metadata": {
        "id": "CcH2cyYbakE-"
      },
      "source": [
        "#### Влияет ли рейтинг ESRB на продажи в отдельном регионе?"
      ]
    },
    {
      "cell_type": "code",
      "metadata": {
        "id": "EosB33qIakE_"
      },
      "source": [
        "ratings = df[df['rating']!='NEIZVESTNO'].copy()"
      ],
      "execution_count": 46,
      "outputs": []
    },
    {
      "cell_type": "code",
      "metadata": {
        "id": "n_RXAnjuakFD"
      },
      "source": [
        "cols= ['na_sales','eu_sales','jp_sales']\n",
        "cols1 = ['na','eu','jp']\n",
        "ratings[cols1] = ratings[cols].astype('bool')\n",
        "rp_na = ratings[ratings['na_sales']!=0].pivot_table(index='rating',values=['na','na_sales'],aggfunc='sum').sort_values('na',ascending=False)\n",
        "rp_eu = ratings[ratings['eu_sales']!=0].pivot_table(index='rating',values=['eu','eu_sales'],aggfunc='sum').sort_values('eu',ascending=False)\n",
        "rp_jp = ratings[ratings['jp_sales']!=0].pivot_table(index='rating',values=['jp','jp_sales'],aggfunc='sum').sort_values('jp',ascending=False)"
      ],
      "execution_count": 47,
      "outputs": []
    },
    {
      "cell_type": "code",
      "metadata": {
        "id": "wmgCquYYakFH",
        "outputId": "06aeb9d0-30a8-4711-9f3a-9b6a22f92bc0",
        "colab": {
          "base_uri": "https://localhost:8080/",
          "height": 880
        }
      },
      "source": [
        "display('Северная Америка', rp_na)\n",
        "display('Европа', rp_eu)\n",
        "display('Япония', rp_jp)"
      ],
      "execution_count": 48,
      "outputs": [
        {
          "output_type": "display_data",
          "data": {
            "application/vnd.google.colaboratory.intrinsic+json": {
              "type": "string"
            },
            "text/plain": [
              "'Северная Америка'"
            ]
          },
          "metadata": {
            "tags": []
          }
        },
        {
          "output_type": "display_data",
          "data": {
            "text/html": [
              "<div>\n",
              "<style scoped>\n",
              "    .dataframe tbody tr th:only-of-type {\n",
              "        vertical-align: middle;\n",
              "    }\n",
              "\n",
              "    .dataframe tbody tr th {\n",
              "        vertical-align: top;\n",
              "    }\n",
              "\n",
              "    .dataframe thead th {\n",
              "        text-align: right;\n",
              "    }\n",
              "</style>\n",
              "<table border=\"1\" class=\"dataframe\">\n",
              "  <thead>\n",
              "    <tr style=\"text-align: right;\">\n",
              "      <th></th>\n",
              "      <th>na</th>\n",
              "      <th>na_sales</th>\n",
              "    </tr>\n",
              "    <tr>\n",
              "      <th>rating</th>\n",
              "      <th></th>\n",
              "      <th></th>\n",
              "    </tr>\n",
              "  </thead>\n",
              "  <tbody>\n",
              "    <tr>\n",
              "      <th>E</th>\n",
              "      <td>3761</td>\n",
              "      <td>1292.99</td>\n",
              "    </tr>\n",
              "    <tr>\n",
              "      <th>T</th>\n",
              "      <td>2650</td>\n",
              "      <td>759.75</td>\n",
              "    </tr>\n",
              "    <tr>\n",
              "      <th>M</th>\n",
              "      <td>1423</td>\n",
              "      <td>748.48</td>\n",
              "    </tr>\n",
              "    <tr>\n",
              "      <th>E10+</th>\n",
              "      <td>1328</td>\n",
              "      <td>353.32</td>\n",
              "    </tr>\n",
              "    <tr>\n",
              "      <th>EC</th>\n",
              "      <td>8</td>\n",
              "      <td>1.53</td>\n",
              "    </tr>\n",
              "    <tr>\n",
              "      <th>K-A</th>\n",
              "      <td>2</td>\n",
              "      <td>2.56</td>\n",
              "    </tr>\n",
              "    <tr>\n",
              "      <th>AO</th>\n",
              "      <td>1</td>\n",
              "      <td>1.26</td>\n",
              "    </tr>\n",
              "  </tbody>\n",
              "</table>\n",
              "</div>"
            ],
            "text/plain": [
              "          na  na_sales\n",
              "rating                \n",
              "E       3761   1292.99\n",
              "T       2650    759.75\n",
              "M       1423    748.48\n",
              "E10+    1328    353.32\n",
              "EC         8      1.53\n",
              "K-A        2      2.56\n",
              "AO         1      1.26"
            ]
          },
          "metadata": {
            "tags": []
          }
        },
        {
          "output_type": "display_data",
          "data": {
            "application/vnd.google.colaboratory.intrinsic+json": {
              "type": "string"
            },
            "text/plain": [
              "'Европа'"
            ]
          },
          "metadata": {
            "tags": []
          }
        },
        {
          "output_type": "display_data",
          "data": {
            "text/html": [
              "<div>\n",
              "<style scoped>\n",
              "    .dataframe tbody tr th:only-of-type {\n",
              "        vertical-align: middle;\n",
              "    }\n",
              "\n",
              "    .dataframe tbody tr th {\n",
              "        vertical-align: top;\n",
              "    }\n",
              "\n",
              "    .dataframe thead th {\n",
              "        text-align: right;\n",
              "    }\n",
              "</style>\n",
              "<table border=\"1\" class=\"dataframe\">\n",
              "  <thead>\n",
              "    <tr style=\"text-align: right;\">\n",
              "      <th></th>\n",
              "      <th>eu</th>\n",
              "      <th>eu_sales</th>\n",
              "    </tr>\n",
              "    <tr>\n",
              "      <th>rating</th>\n",
              "      <th></th>\n",
              "      <th></th>\n",
              "    </tr>\n",
              "  </thead>\n",
              "  <tbody>\n",
              "    <tr>\n",
              "      <th>E</th>\n",
              "      <td>2866</td>\n",
              "      <td>710.25</td>\n",
              "    </tr>\n",
              "    <tr>\n",
              "      <th>T</th>\n",
              "      <td>2434</td>\n",
              "      <td>427.03</td>\n",
              "    </tr>\n",
              "    <tr>\n",
              "      <th>M</th>\n",
              "      <td>1459</td>\n",
              "      <td>483.97</td>\n",
              "    </tr>\n",
              "    <tr>\n",
              "      <th>E10+</th>\n",
              "      <td>1048</td>\n",
              "      <td>188.52</td>\n",
              "    </tr>\n",
              "    <tr>\n",
              "      <th>K-A</th>\n",
              "      <td>3</td>\n",
              "      <td>0.27</td>\n",
              "    </tr>\n",
              "    <tr>\n",
              "      <th>RP</th>\n",
              "      <td>3</td>\n",
              "      <td>0.08</td>\n",
              "    </tr>\n",
              "    <tr>\n",
              "      <th>EC</th>\n",
              "      <td>2</td>\n",
              "      <td>0.11</td>\n",
              "    </tr>\n",
              "    <tr>\n",
              "      <th>AO</th>\n",
              "      <td>1</td>\n",
              "      <td>0.61</td>\n",
              "    </tr>\n",
              "  </tbody>\n",
              "</table>\n",
              "</div>"
            ],
            "text/plain": [
              "          eu  eu_sales\n",
              "rating                \n",
              "E       2866    710.25\n",
              "T       2434    427.03\n",
              "M       1459    483.97\n",
              "E10+    1048    188.52\n",
              "K-A        3      0.27\n",
              "RP         3      0.08\n",
              "EC         2      0.11\n",
              "AO         1      0.61"
            ]
          },
          "metadata": {
            "tags": []
          }
        },
        {
          "output_type": "display_data",
          "data": {
            "application/vnd.google.colaboratory.intrinsic+json": {
              "type": "string"
            },
            "text/plain": [
              "'Япония'"
            ]
          },
          "metadata": {
            "tags": []
          }
        },
        {
          "output_type": "display_data",
          "data": {
            "text/html": [
              "<div>\n",
              "<style scoped>\n",
              "    .dataframe tbody tr th:only-of-type {\n",
              "        vertical-align: middle;\n",
              "    }\n",
              "\n",
              "    .dataframe tbody tr th {\n",
              "        vertical-align: top;\n",
              "    }\n",
              "\n",
              "    .dataframe thead th {\n",
              "        text-align: right;\n",
              "    }\n",
              "</style>\n",
              "<table border=\"1\" class=\"dataframe\">\n",
              "  <thead>\n",
              "    <tr style=\"text-align: right;\">\n",
              "      <th></th>\n",
              "      <th>jp</th>\n",
              "      <th>jp_sales</th>\n",
              "    </tr>\n",
              "    <tr>\n",
              "      <th>rating</th>\n",
              "      <th></th>\n",
              "      <th></th>\n",
              "    </tr>\n",
              "  </thead>\n",
              "  <tbody>\n",
              "    <tr>\n",
              "      <th>T</th>\n",
              "      <td>847</td>\n",
              "      <td>151.40</td>\n",
              "    </tr>\n",
              "    <tr>\n",
              "      <th>E</th>\n",
              "      <td>572</td>\n",
              "      <td>198.11</td>\n",
              "    </tr>\n",
              "    <tr>\n",
              "      <th>M</th>\n",
              "      <td>548</td>\n",
              "      <td>64.24</td>\n",
              "    </tr>\n",
              "    <tr>\n",
              "      <th>E10+</th>\n",
              "      <td>235</td>\n",
              "      <td>40.20</td>\n",
              "    </tr>\n",
              "    <tr>\n",
              "      <th>K-A</th>\n",
              "      <td>1</td>\n",
              "      <td>1.46</td>\n",
              "    </tr>\n",
              "  </tbody>\n",
              "</table>\n",
              "</div>"
            ],
            "text/plain": [
              "         jp  jp_sales\n",
              "rating               \n",
              "T       847    151.40\n",
              "E       572    198.11\n",
              "M       548     64.24\n",
              "E10+    235     40.20\n",
              "K-A       1      1.46"
            ]
          },
          "metadata": {
            "tags": []
          }
        }
      ]
    },
    {
      "cell_type": "markdown",
      "metadata": {
        "id": "ttbieWaEakFK"
      },
      "source": [
        "##### Выводы:\n",
        "1. Самые массовые продажи во всех трёх регионах показывают рейтинги: E, T, M, E10, K-A.\n",
        "2. Трудно сказать, оказывает ли рейтинг влияние на продажи, или это просто самые популярные игры имеют такой рейтинг и сам факт присвоения определённого рейтинга ни о чём не говорит.\n",
        "3. Для более точного понимания, влияет ли рейтинг ESRB на продажи buh, следует анализировать продажи до присвоения рейтинга и после."
      ]
    },
    {
      "cell_type": "markdown",
      "metadata": {
        "id": "l0MObW3TakFL"
      },
      "source": [
        "#### Проверка гипотез."
      ]
    },
    {
      "cell_type": "markdown",
      "metadata": {
        "id": "UsMCxv3EakFN"
      },
      "source": [
        "#### 1.\n",
        "H0 - cредние пользовательские рейтинги платформ Xbox One и PC одинаковые.  \n",
        "H1 - cредние пользовательские рейтинги платформ Xbox One и PC отличаются."
      ]
    },
    {
      "cell_type": "code",
      "metadata": {
        "id": "8IsKdxchakFN"
      },
      "source": [
        "ratings_pc = df[(df['user_score']!=3000)&(df['platform']=='pc')]\n",
        "ratings_xone = df[(df['user_score']!=3000)&(df['platform']=='xone')]"
      ],
      "execution_count": 49,
      "outputs": []
    },
    {
      "cell_type": "code",
      "metadata": {
        "id": "WGtSSUaAakFQ",
        "outputId": "b923a20b-42c5-46cc-a420-d8e1da4ac9a8",
        "colab": {
          "base_uri": "https://localhost:8080/",
          "height": 51
        }
      },
      "source": [
        "alpha = 0.05\n",
        "results = st.ttest_ind(ratings_pc['user_score'], ratings_xone['user_score'])\n",
        "print('p-значение:', results.pvalue)\n",
        "\n",
        "if (results.pvalue < alpha):\n",
        "    print(\"Отвергаем нулевую гипотезу\")\n",
        "else:\n",
        "    print(\"Не получилось отвергнуть нулевую гипотезу\")"
      ],
      "execution_count": 50,
      "outputs": [
        {
          "output_type": "stream",
          "text": [
            "p-значение: 1.3896435533548819e-05\n",
            "Отвергаем нулевую гипотезу\n"
          ],
          "name": "stdout"
        }
      ]
    },
    {
      "cell_type": "markdown",
      "metadata": {
        "id": "OTSRpNA0akFT"
      },
      "source": [
        "#### Вывод:\n",
        "Отвергаем нулевую гипотезу о том, что средние пользовательские рейтинги платформ PC и Xbox One одинаковые."
      ]
    },
    {
      "cell_type": "markdown",
      "metadata": {
        "id": "A9xZPyRyakFV"
      },
      "source": [
        "#### 2.\n",
        "H0 - средние пользовательские рейтинги жанров Action и Sports одинаковые.  \n",
        "H1 - средние пользовательские рейтинги жанров Action и Sports разные."
      ]
    },
    {
      "cell_type": "code",
      "metadata": {
        "id": "mNK1_1LFakFV"
      },
      "source": [
        "ratings_action = df[(df['user_score']!=3000)&(df['genre']=='action')]\n",
        "ratings_sports = df[(df['user_score']!=3000)&(df['genre']=='sports')]"
      ],
      "execution_count": 51,
      "outputs": []
    },
    {
      "cell_type": "code",
      "metadata": {
        "id": "zcM3OnhcakFa",
        "outputId": "2f85be76-4770-45ef-eb68-10f19ac77a7b",
        "colab": {
          "base_uri": "https://localhost:8080/",
          "height": 51
        }
      },
      "source": [
        "alpha = 0.05\n",
        "results = st.ttest_ind(ratings_action['user_score'], ratings_sports['user_score'])\n",
        "print('p-значение:', results.pvalue)\n",
        "\n",
        "if (results.pvalue < alpha):\n",
        "    print(\"Отвергаем нулевую гипотезу\")\n",
        "else:\n",
        "    print(\"Не получилось отвергнуть нулевую гипотезу\")"
      ],
      "execution_count": 52,
      "outputs": [
        {
          "output_type": "stream",
          "text": [
            "p-значение: 0.10406951359049141\n",
            "Не получилось отвергнуть нулевую гипотезу\n"
          ],
          "name": "stdout"
        }
      ]
    },
    {
      "cell_type": "markdown",
      "metadata": {
        "id": "OwH3BjTqakFg"
      },
      "source": [
        "#### Вывод:\n",
        "Не получилось отвергнуть нулевую гипотезу H0 - средние пользовательские рейтинги жанров Action и Sports одинаковые. C вероятностью 11,48% такое равенство можно получить случайно."
      ]
    },
    {
      "cell_type": "markdown",
      "metadata": {
        "id": "TYswvpU0akFi"
      },
      "source": [
        "# Выводы:\n",
        "Было проведено исследование исторических данных продаж игр для разных платформ с 1980 по 2016 годы.\n",
        "1. По результатам исследования получены данные о том, что среднее время актуального присутствия платформы на рынке составляет примерно 11 лет.\n",
        "2. Наиболее популярные по продажам за всё время платформы: ps2, x360, ps3, wii, ds, ps.\n",
        "3. Продажи игр достигли своего пика в 2008 году и с того времени неуклонно падают.\n",
        "4. В 2016 году актуальными остаются платформы pc, psv, 3ds, wiiu, xone, ps4.\n",
        "5. Продажи по ним будут ниже, чем в 2016 году.\n",
        "6. Наиболее популярные жанры - action, sports, shooter/\n",
        "7. Для некоторых платформ характерно среднее или слабое влияние на продажи рейтинга игр от критиков.\n",
        "8. Влияние рейтинга от пользователей на продажи игр выражено значительно слабее. Можно сказать, практически отсутствует.\n",
        "9. Регионы Северная Америка и Европа похожи по своим предпочтениям по жанрам игр, Япония от них существенно отличается.\n",
        "10. В целом, считаю снижение продаж игр закономерным, вследствие переноса интереса пользователей в сторону:\n",
        "            * Игр на мобильных платформах (Android, IOS).\n",
        "            * Бесплатных онлайн-игр с донатами."
      ]
    }
  ]
}