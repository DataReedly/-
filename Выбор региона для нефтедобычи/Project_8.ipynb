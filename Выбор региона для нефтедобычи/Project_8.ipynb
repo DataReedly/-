{
  "nbformat": 4,
  "nbformat_minor": 0,
  "metadata": {
    "kernelspec": {
      "display_name": "Python 3",
      "language": "python",
      "name": "python3"
    },
    "language_info": {
      "codemirror_mode": {
        "name": "ipython",
        "version": 3
      },
      "file_extension": ".py",
      "mimetype": "text/x-python",
      "name": "python",
      "nbconvert_exporter": "python",
      "pygments_lexer": "ipython3",
      "version": "3.7.4"
    },
    "colab": {
      "name": "Проект 8.ipynb",
      "provenance": [],
      "collapsed_sections": []
    }
  },
  "cells": [
    {
      "cell_type": "markdown",
      "metadata": {
        "id": "_IrYTtygwWMw"
      },
      "source": [
        "# Описание проекта"
      ]
    },
    {
      "cell_type": "markdown",
      "metadata": {
        "id": "m5W9DscNwWMz"
      },
      "source": [
        "Допустим, вы работаете в добывающей компании «ГлавРосГосНефть». Нужно решить, где бурить новую скважину.\n",
        "\n",
        "Вам предоставлены пробы нефти в трёх регионах: в каждом 10 000 месторождений, где измерили качество нефти и объём её запасов. Постройте модель машинного обучения, которая поможет определить регион, где добыча принесёт наибольшую прибыль. Проанализируйте возможную прибыль и риски техникой *Bootstrap.*\n",
        "\n",
        "Шаги для выбора локации:\n",
        "\n",
        "- В избранном регионе ищут месторождения, для каждого определяют значения признаков;\n",
        "- Строят модель и оценивают объём запасов;\n",
        "- Выбирают месторождения с самым высокими оценками значений. Количество месторождений зависит от бюджета компании и стоимости разработки одной скважины;\n",
        "- Прибыль равна суммарной прибыли отобранных месторождений."
      ]
    },
    {
      "cell_type": "markdown",
      "metadata": {
        "id": "2mSCxiqtwWM1"
      },
      "source": [
        "# 1. Загрузка и подготовка данных"
      ]
    },
    {
      "cell_type": "markdown",
      "metadata": {
        "id": "7JpE9zmvwWM3"
      },
      "source": [
        "##### Импорт библиотек и ознакомление с данными."
      ]
    },
    {
      "cell_type": "code",
      "metadata": {
        "id": "DEGUAp-ywWM5"
      },
      "source": [
        "import pandas as pd\n",
        "from sklearn.preprocessing import StandardScaler\n",
        "from sklearn.model_selection import train_test_split\n",
        "from sklearn.metrics import mean_squared_error\n",
        "from sklearn.linear_model import LinearRegression\n",
        "from scipy import stats as st\n",
        "import numpy as np\n",
        "pd.set_option('display.max_rows', 300)"
      ],
      "execution_count": 1,
      "outputs": []
    },
    {
      "cell_type": "code",
      "metadata": {
        "id": "iQ25QBjHwccz",
        "outputId": "68d646c5-150f-4900-ce98-5c5c9ea8cc1b",
        "colab": {
          "base_uri": "https://localhost:8080/",
          "height": 34
        }
      },
      "source": [
        "from google.colab import drive\n",
        "drive.mount('/content/drive')"
      ],
      "execution_count": 2,
      "outputs": [
        {
          "output_type": "stream",
          "text": [
            "Mounted at /content/drive\n"
          ],
          "name": "stdout"
        }
      ]
    },
    {
      "cell_type": "code",
      "metadata": {
        "id": "gx6FOmqqwWNI"
      },
      "source": [
        "region1 = pd.read_csv('/content/drive/My Drive/Colab Notebooks/geo_data_0.csv')\n",
        "region2 = pd.read_csv('/content/drive/My Drive/Colab Notebooks/geo_data_1.csv')\n",
        "region3 = pd.read_csv('/content/drive/My Drive/Colab Notebooks/geo_data_2.csv')"
      ],
      "execution_count": 3,
      "outputs": []
    },
    {
      "cell_type": "code",
      "metadata": {
        "id": "qL2pOGsqwWNT",
        "outputId": "d5db3f2e-d487-47ef-d3b5-f7e0435c5140",
        "colab": {
          "base_uri": "https://localhost:8080/",
          "height": 323
        }
      },
      "source": [
        "print(region1.isna().sum())\n",
        "print(region2.isna().sum())\n",
        "print(region3.isna().sum())"
      ],
      "execution_count": 4,
      "outputs": [
        {
          "output_type": "stream",
          "text": [
            "id         0\n",
            "f0         0\n",
            "f1         0\n",
            "f2         0\n",
            "product    0\n",
            "dtype: int64\n",
            "id         0\n",
            "f0         0\n",
            "f1         0\n",
            "f2         0\n",
            "product    0\n",
            "dtype: int64\n",
            "id         0\n",
            "f0         0\n",
            "f1         0\n",
            "f2         0\n",
            "product    0\n",
            "dtype: int64\n"
          ],
          "name": "stdout"
        }
      ]
    },
    {
      "cell_type": "code",
      "metadata": {
        "id": "bFEALQfMwWNf",
        "outputId": "2d59d703-7c6c-40a3-c1fe-bda8a1c24bd0",
        "colab": {
          "base_uri": "https://localhost:8080/",
          "height": 68
        }
      },
      "source": [
        "print(region1.duplicated().sum())\n",
        "print(region2.duplicated().sum())\n",
        "print(region3.duplicated().sum())"
      ],
      "execution_count": 5,
      "outputs": [
        {
          "output_type": "stream",
          "text": [
            "0\n",
            "0\n",
            "0\n"
          ],
          "name": "stdout"
        }
      ]
    },
    {
      "cell_type": "markdown",
      "metadata": {
        "id": "g96y09eWwWNp"
      },
      "source": [
        "##### Вывод: пропусков нет, данные приведены к нужным типам и готовы для подготовки моделей."
      ]
    },
    {
      "cell_type": "markdown",
      "metadata": {
        "id": "W_01u7MlwWNs"
      },
      "source": [
        "##### Удалю столбцы id."
      ]
    },
    {
      "cell_type": "code",
      "metadata": {
        "id": "DK5spF7OwWNu"
      },
      "source": [
        "region1 = region1.drop('id',axis=1)\n",
        "region2 = region2.drop('id',axis=1)\n",
        "region3 = region3.drop('id',axis=1)"
      ],
      "execution_count": 6,
      "outputs": []
    },
    {
      "cell_type": "markdown",
      "metadata": {
        "id": "9wJ6sraWwWN5"
      },
      "source": [
        "##### Разобью выборки на features и target."
      ]
    },
    {
      "cell_type": "code",
      "metadata": {
        "id": "1qqn4ctKwWN8"
      },
      "source": [
        "features_region1 = region1.drop('product',axis=1).copy()\n",
        "target_region1 = region1['product'].copy()\n",
        "features_region2 = region2.drop('product',axis=1).copy()\n",
        "target_region2 = region2['product'].copy()\n",
        "features_region3 = region3.drop('product',axis=1).copy()\n",
        "target_region3 = region3['product'].copy()"
      ],
      "execution_count": 7,
      "outputs": []
    },
    {
      "cell_type": "markdown",
      "metadata": {
        "id": "_sSQukeRwWOE"
      },
      "source": [
        "##### Разобью датасеты на обучающие и валидационные."
      ]
    },
    {
      "cell_type": "code",
      "metadata": {
        "id": "Crvum1QWwWOH"
      },
      "source": [
        "features_train_region1, features_valid_region1, target_train_region1, target_valid_region1 = train_test_split(\n",
        "    features_region1, target_region1, test_size=0.25, random_state=12345)\n",
        "features_train_region2, features_valid_region2, target_train_region2, target_valid_region2 = train_test_split(\n",
        "    features_region2, target_region2, test_size=0.25, random_state=12345)\n",
        "features_train_region3, features_valid_region3, target_train_region3, target_valid_region3 = train_test_split(\n",
        "    features_region3, target_region3, test_size=0.25, random_state=12345)"
      ],
      "execution_count": 8,
      "outputs": []
    },
    {
      "cell_type": "markdown",
      "metadata": {
        "id": "Oj3aRa2ewWOP"
      },
      "source": [
        "##### Масштабирую все числовые данные."
      ]
    },
    {
      "cell_type": "code",
      "metadata": {
        "id": "I1IG7qctwWOQ",
        "outputId": "42102b1c-cd84-47d0-ef23-c1242f93a67b",
        "colab": {
          "base_uri": "https://localhost:8080/",
          "height": 1000
        }
      },
      "source": [
        "scaler = StandardScaler()\n",
        "cols=['f0','f1','f2']\n",
        "features_train_region1[cols] = scaler.fit_transform(features_train_region1[cols])\n",
        "features_valid_region1[cols] = scaler.transform(features_valid_region1[cols])\n",
        "features_train_region2[cols] = scaler.fit_transform(features_train_region2[cols])\n",
        "features_valid_region2[cols] = scaler.transform(features_valid_region2[cols])\n",
        "features_train_region3[cols] = scaler.fit_transform(features_train_region3[cols])\n",
        "features_valid_region3[cols] = scaler.transform(features_valid_region3[cols])"
      ],
      "execution_count": 9,
      "outputs": [
        {
          "output_type": "stream",
          "text": [
            "/usr/local/lib/python3.6/dist-packages/ipykernel_launcher.py:3: SettingWithCopyWarning: \n",
            "A value is trying to be set on a copy of a slice from a DataFrame.\n",
            "Try using .loc[row_indexer,col_indexer] = value instead\n",
            "\n",
            "See the caveats in the documentation: https://pandas.pydata.org/pandas-docs/stable/user_guide/indexing.html#returning-a-view-versus-a-copy\n",
            "  This is separate from the ipykernel package so we can avoid doing imports until\n",
            "/usr/local/lib/python3.6/dist-packages/pandas/core/frame.py:3072: SettingWithCopyWarning: \n",
            "A value is trying to be set on a copy of a slice from a DataFrame\n",
            "\n",
            "See the caveats in the documentation: https://pandas.pydata.org/pandas-docs/stable/user_guide/indexing.html#returning-a-view-versus-a-copy\n",
            "  self.iloc._setitem_with_indexer((slice(None), indexer), value)\n",
            "/usr/local/lib/python3.6/dist-packages/pandas/core/frame.py:3037: SettingWithCopyWarning: \n",
            "A value is trying to be set on a copy of a slice from a DataFrame\n",
            "\n",
            "See the caveats in the documentation: https://pandas.pydata.org/pandas-docs/stable/user_guide/indexing.html#returning-a-view-versus-a-copy\n",
            "  self._setitem_array(key, value)\n",
            "/usr/local/lib/python3.6/dist-packages/ipykernel_launcher.py:4: SettingWithCopyWarning: \n",
            "A value is trying to be set on a copy of a slice from a DataFrame.\n",
            "Try using .loc[row_indexer,col_indexer] = value instead\n",
            "\n",
            "See the caveats in the documentation: https://pandas.pydata.org/pandas-docs/stable/user_guide/indexing.html#returning-a-view-versus-a-copy\n",
            "  after removing the cwd from sys.path.\n",
            "/usr/local/lib/python3.6/dist-packages/pandas/core/frame.py:3072: SettingWithCopyWarning: \n",
            "A value is trying to be set on a copy of a slice from a DataFrame\n",
            "\n",
            "See the caveats in the documentation: https://pandas.pydata.org/pandas-docs/stable/user_guide/indexing.html#returning-a-view-versus-a-copy\n",
            "  self.iloc._setitem_with_indexer((slice(None), indexer), value)\n",
            "/usr/local/lib/python3.6/dist-packages/pandas/core/frame.py:3037: SettingWithCopyWarning: \n",
            "A value is trying to be set on a copy of a slice from a DataFrame\n",
            "\n",
            "See the caveats in the documentation: https://pandas.pydata.org/pandas-docs/stable/user_guide/indexing.html#returning-a-view-versus-a-copy\n",
            "  self._setitem_array(key, value)\n",
            "/usr/local/lib/python3.6/dist-packages/ipykernel_launcher.py:5: SettingWithCopyWarning: \n",
            "A value is trying to be set on a copy of a slice from a DataFrame.\n",
            "Try using .loc[row_indexer,col_indexer] = value instead\n",
            "\n",
            "See the caveats in the documentation: https://pandas.pydata.org/pandas-docs/stable/user_guide/indexing.html#returning-a-view-versus-a-copy\n",
            "  \"\"\"\n",
            "/usr/local/lib/python3.6/dist-packages/pandas/core/frame.py:3072: SettingWithCopyWarning: \n",
            "A value is trying to be set on a copy of a slice from a DataFrame\n",
            "\n",
            "See the caveats in the documentation: https://pandas.pydata.org/pandas-docs/stable/user_guide/indexing.html#returning-a-view-versus-a-copy\n",
            "  self.iloc._setitem_with_indexer((slice(None), indexer), value)\n",
            "/usr/local/lib/python3.6/dist-packages/pandas/core/frame.py:3037: SettingWithCopyWarning: \n",
            "A value is trying to be set on a copy of a slice from a DataFrame\n",
            "\n",
            "See the caveats in the documentation: https://pandas.pydata.org/pandas-docs/stable/user_guide/indexing.html#returning-a-view-versus-a-copy\n",
            "  self._setitem_array(key, value)\n",
            "/usr/local/lib/python3.6/dist-packages/ipykernel_launcher.py:6: SettingWithCopyWarning: \n",
            "A value is trying to be set on a copy of a slice from a DataFrame.\n",
            "Try using .loc[row_indexer,col_indexer] = value instead\n",
            "\n",
            "See the caveats in the documentation: https://pandas.pydata.org/pandas-docs/stable/user_guide/indexing.html#returning-a-view-versus-a-copy\n",
            "  \n",
            "/usr/local/lib/python3.6/dist-packages/pandas/core/frame.py:3072: SettingWithCopyWarning: \n",
            "A value is trying to be set on a copy of a slice from a DataFrame\n",
            "\n",
            "See the caveats in the documentation: https://pandas.pydata.org/pandas-docs/stable/user_guide/indexing.html#returning-a-view-versus-a-copy\n",
            "  self.iloc._setitem_with_indexer((slice(None), indexer), value)\n",
            "/usr/local/lib/python3.6/dist-packages/pandas/core/frame.py:3037: SettingWithCopyWarning: \n",
            "A value is trying to be set on a copy of a slice from a DataFrame\n",
            "\n",
            "See the caveats in the documentation: https://pandas.pydata.org/pandas-docs/stable/user_guide/indexing.html#returning-a-view-versus-a-copy\n",
            "  self._setitem_array(key, value)\n",
            "/usr/local/lib/python3.6/dist-packages/ipykernel_launcher.py:7: SettingWithCopyWarning: \n",
            "A value is trying to be set on a copy of a slice from a DataFrame.\n",
            "Try using .loc[row_indexer,col_indexer] = value instead\n",
            "\n",
            "See the caveats in the documentation: https://pandas.pydata.org/pandas-docs/stable/user_guide/indexing.html#returning-a-view-versus-a-copy\n",
            "  import sys\n",
            "/usr/local/lib/python3.6/dist-packages/pandas/core/frame.py:3072: SettingWithCopyWarning: \n",
            "A value is trying to be set on a copy of a slice from a DataFrame\n",
            "\n",
            "See the caveats in the documentation: https://pandas.pydata.org/pandas-docs/stable/user_guide/indexing.html#returning-a-view-versus-a-copy\n",
            "  self.iloc._setitem_with_indexer((slice(None), indexer), value)\n",
            "/usr/local/lib/python3.6/dist-packages/pandas/core/frame.py:3037: SettingWithCopyWarning: \n",
            "A value is trying to be set on a copy of a slice from a DataFrame\n",
            "\n",
            "See the caveats in the documentation: https://pandas.pydata.org/pandas-docs/stable/user_guide/indexing.html#returning-a-view-versus-a-copy\n",
            "  self._setitem_array(key, value)\n",
            "/usr/local/lib/python3.6/dist-packages/ipykernel_launcher.py:8: SettingWithCopyWarning: \n",
            "A value is trying to be set on a copy of a slice from a DataFrame.\n",
            "Try using .loc[row_indexer,col_indexer] = value instead\n",
            "\n",
            "See the caveats in the documentation: https://pandas.pydata.org/pandas-docs/stable/user_guide/indexing.html#returning-a-view-versus-a-copy\n",
            "  \n",
            "/usr/local/lib/python3.6/dist-packages/pandas/core/frame.py:3072: SettingWithCopyWarning: \n",
            "A value is trying to be set on a copy of a slice from a DataFrame\n",
            "\n",
            "See the caveats in the documentation: https://pandas.pydata.org/pandas-docs/stable/user_guide/indexing.html#returning-a-view-versus-a-copy\n",
            "  self.iloc._setitem_with_indexer((slice(None), indexer), value)\n",
            "/usr/local/lib/python3.6/dist-packages/pandas/core/frame.py:3037: SettingWithCopyWarning: \n",
            "A value is trying to be set on a copy of a slice from a DataFrame\n",
            "\n",
            "See the caveats in the documentation: https://pandas.pydata.org/pandas-docs/stable/user_guide/indexing.html#returning-a-view-versus-a-copy\n",
            "  self._setitem_array(key, value)\n"
          ],
          "name": "stderr"
        }
      ]
    },
    {
      "cell_type": "markdown",
      "metadata": {
        "id": "s2o0ybK5wWOZ"
      },
      "source": [
        "##### Данные загружены. Предобработка проведена."
      ]
    },
    {
      "cell_type": "markdown",
      "metadata": {
        "id": "w5Q0RnkMwWOb"
      },
      "source": [
        "# 2. Обучение и проверка модели"
      ]
    },
    {
      "cell_type": "markdown",
      "metadata": {
        "id": "DPIXjlq8wWOc"
      },
      "source": [
        "##### Создание функции вывода результатов обучения."
      ]
    },
    {
      "cell_type": "code",
      "metadata": {
        "id": "kTWWg-nbwWOe"
      },
      "source": [
        "#def total(model_name, features_train, target_train, features_valid, target_valid):\n",
        "#    model_name.fit(features_train, target_train)\n",
        "#    answers = model_name.predict(features_valid)\n",
        "#    rmse = round((mean_squared_error(target_valid, answers)**0.5),4)\n",
        "#    predicted_mean = round(answers.mean(),4)\n",
        "#    return rmse, predicted_mean"
      ],
      "execution_count": 10,
      "outputs": []
    },
    {
      "cell_type": "markdown",
      "metadata": {
        "id": "EhZAg3zUwWOk"
      },
      "source": [
        "##### Обучение моделей и предсказания по выборкам."
      ]
    },
    {
      "cell_type": "code",
      "metadata": {
        "id": "uOvPLc99wWOk"
      },
      "source": [
        "#model = LinearRegression()\n",
        "#rmse1, mean1 = total(model,features_train_region1,target_train_region1,features_valid_region1,target_valid_region1)\n",
        "#print('Средний предсказанный запас сырья, первый регион:', mean1)\n",
        "#print('RMSE модели, первый регион:', rmse1)\n",
        "#rmse2, mean2 = total(model,features_train_region2,target_train_region2,features_valid_region2,target_valid_region2)\n",
        "#print('Средний предсказанный запас сырья, второй регион:', mean2)\n",
        "#print('RMSE модели, второй регион:', rmse2)\n",
        "#rmse3, mean3 = total(model,features_train_region3,target_train_region3,features_valid_region3,target_valid_region3)\n",
        "#print('Средний предсказанный запас сырья, третий регион:', mean3)\n",
        "#print('RMSE модели, третий регион:', rmse3)"
      ],
      "execution_count": 11,
      "outputs": []
    },
    {
      "cell_type": "markdown",
      "metadata": {
        "id": "rAVc9iuBwWOt"
      },
      "source": [
        "##### Обучение моделей, проведение предсказаний на валидационных выборках, вывод показателя RMSE."
      ]
    },
    {
      "cell_type": "code",
      "metadata": {
        "id": "JREUOc60wWOt",
        "outputId": "269128a5-0d67-4045-f2ba-e68e34c83cd2",
        "colab": {
          "base_uri": "https://localhost:8080/",
          "height": 119
        }
      },
      "source": [
        "model_1 = LinearRegression().fit(features_train_region1,target_train_region1)\n",
        "answers_1 = model_1.predict(features_valid_region1)\n",
        "rmse_region1 = mean_squared_error(target_valid_region1, answers_1)\n",
        "print('Средний предсказанный запас сырья, первый регион:', round(answers_1.mean(),4))\n",
        "print('RMSE модели, первый регион:', round(rmse_region1**0.5,4))\n",
        "model_2 = LinearRegression().fit(features_train_region2,target_train_region2)\n",
        "answers_2 = model_2.predict(features_valid_region2)\n",
        "rmse_region2 = mean_squared_error(target_valid_region2, answers_2)\n",
        "print('Средний предсказанный запас сырья, второй регион:', round(answers_2.mean(),4))\n",
        "print('RMSE модели, второй регион:', round(rmse_region2**0.5,4))\n",
        "model_3 = LinearRegression().fit(features_train_region3,target_train_region3)\n",
        "answers_3 = model_3.predict(features_valid_region3)\n",
        "rmse_region3 = mean_squared_error(target_valid_region3, answers_3)\n",
        "print('Средний предсказанный запас сырья, третий регион:', round(answers_3.mean(),4))\n",
        "print('RMSE модели, третий регион:', round(rmse_region3**0.5,4))"
      ],
      "execution_count": 12,
      "outputs": [
        {
          "output_type": "stream",
          "text": [
            "Средний предсказанный запас сырья, первый регион: 92.5926\n",
            "RMSE модели, первый регион: 37.5794\n",
            "Средний предсказанный запас сырья, второй регион: 68.7285\n",
            "RMSE модели, второй регион: 0.8931\n",
            "Средний предсказанный запас сырья, третий регион: 94.965\n",
            "RMSE модели, третий регион: 40.0297\n"
          ],
          "name": "stdout"
        }
      ]
    },
    {
      "cell_type": "markdown",
      "metadata": {
        "id": "2t9a9wFjwWPN"
      },
      "source": [
        "##### Результат:\n",
        "* Модель осуществила предсказания запасов нефти по регионам.  \n",
        "* Для второго региона RMSE меньше 1 тыс баррелей, на мой взгляд это хороший показатель.\n",
        "* При этом средний запас по скважине для данного региона является минимальным, по сравнению с двумя другими."
      ]
    },
    {
      "cell_type": "markdown",
      "metadata": {
        "id": "jhSY7qvIwWPQ"
      },
      "source": [
        "# 3. Подготовка к расчёту прибыли"
      ]
    },
    {
      "cell_type": "markdown",
      "metadata": {
        "id": "7KzAgJADwWPR"
      },
      "source": [
        "##### Бюджет на 1 регион в переменной budget. Стоимость 1000 баррелей нефти в переменной oil_cost."
      ]
    },
    {
      "cell_type": "code",
      "metadata": {
        "id": "qKlbjtAfwWPT"
      },
      "source": [
        "budget = 10000000000\n",
        "oil_cost = 450000"
      ],
      "execution_count": 13,
      "outputs": []
    },
    {
      "cell_type": "markdown",
      "metadata": {
        "id": "bliCSVQMwWPh"
      },
      "source": [
        "##### Расчёт бюджета на 1 скважину, с учетом планов запуска 200 скважин в каждом регионе."
      ]
    },
    {
      "cell_type": "code",
      "metadata": {
        "id": "upQMN_yzwWPi",
        "outputId": "28690b02-1272-49b4-b9b5-a59e235cf8b0",
        "colab": {
          "base_uri": "https://localhost:8080/",
          "height": 34
        }
      },
      "source": [
        "budget_per_well = int(budget / 200)\n",
        "budget_per_well"
      ],
      "execution_count": 14,
      "outputs": [
        {
          "output_type": "execute_result",
          "data": {
            "text/plain": [
              "50000000"
            ]
          },
          "metadata": {
            "tags": []
          },
          "execution_count": 14
        }
      ]
    },
    {
      "cell_type": "markdown",
      "metadata": {
        "id": "8LAUPtm7wWPp"
      },
      "source": [
        "##### Расчёт необходимого количества сырья в одной скважине только для покрытия убытков на открытие 200 скважин в регионе."
      ]
    },
    {
      "cell_type": "code",
      "metadata": {
        "id": "NA5_v_X9wWPq",
        "outputId": "6e13dbf2-0abf-4c2c-ce5c-851b8283489d",
        "colab": {
          "base_uri": "https://localhost:8080/",
          "height": 34
        }
      },
      "source": [
        "needed_oil_per_well = budget_per_well / oil_cost\n",
        "needed_oil_per_well"
      ],
      "execution_count": 15,
      "outputs": [
        {
          "output_type": "execute_result",
          "data": {
            "text/plain": [
              "111.11111111111111"
            ]
          },
          "metadata": {
            "tags": []
          },
          "execution_count": 15
        }
      ]
    },
    {
      "cell_type": "markdown",
      "metadata": {
        "id": "ZDim3-srwWPy"
      },
      "source": [
        "##### Расчёт необходимого запаса нефти в 200 лучших скважинах в регионе."
      ]
    },
    {
      "cell_type": "code",
      "metadata": {
        "id": "jlHyeJ9fwWP0",
        "outputId": "af66fd14-7a55-4c9a-b0dc-35e0e76b01e0",
        "colab": {
          "base_uri": "https://localhost:8080/",
          "height": 34
        }
      },
      "source": [
        "needed_oil_per_region = budget / oil_cost\n",
        "needed_oil_per_region"
      ],
      "execution_count": 16,
      "outputs": [
        {
          "output_type": "execute_result",
          "data": {
            "text/plain": [
              "22222.222222222223"
            ]
          },
          "metadata": {
            "tags": []
          },
          "execution_count": 16
        }
      ]
    },
    {
      "cell_type": "markdown",
      "metadata": {
        "id": "SxDzt9hRwWP5"
      },
      "source": [
        "##### Промежуточные оценки:\n",
        "1. Для покрытия всех убытков на запуск 200 скважин в регионе в каждой из них должно быть запасов сырья минимум на 111 тыс. баррелей в каждой.\n",
        "    * Средний предсказанный запас по скважинам на первый регион - 92.5926 тыс баррелей.\n",
        "    * Средний предсказанный запас по скважинам на второй регион - 68.7285 тыс баррелей.\n",
        "    * Средний предсказанный запас по скважинам на третий регион - 94.9650 тыс баррелей.  \n",
        "    \n",
        "Как видно из предсказаний модели, средний запас можно считать явно недостаточным для каждого региона. Остаётся надеяться на большой разброс показателей запасов между самыми крупными и самыми мелкими скважинами.\n",
        "2. Для безубыточного запуска 2 каждом регионе необходим совокупный запас сырья минимум в 22222 тыс. баррелей на 200 самых крупных скважин."
      ]
    },
    {
      "cell_type": "markdown",
      "metadata": {
        "id": "HNcw2SzYwWP6"
      },
      "source": [
        "# 4. Расчёт прибыли и рисков "
      ]
    },
    {
      "cell_type": "markdown",
      "metadata": {
        "id": "Tobtpb-VwWP7"
      },
      "source": [
        "##### Выбор скважин с максимальными значениями предсказаний."
      ]
    },
    {
      "cell_type": "markdown",
      "metadata": {
        "id": "0FszAdZ3wWP8"
      },
      "source": [
        "##### Присвоение индекса переменным с предсказаниями."
      ]
    },
    {
      "cell_type": "code",
      "metadata": {
        "id": "gwZzoAYAwWP9"
      },
      "source": [
        "answers_1 = pd.Series(answers_1, index = target_valid_region1.index).copy()\n",
        "answers_2 = pd.Series(answers_2, index = target_valid_region2.index).copy()\n",
        "answers_3 = pd.Series(answers_3, index = target_valid_region3.index).copy()"
      ],
      "execution_count": 17,
      "outputs": []
    },
    {
      "cell_type": "markdown",
      "metadata": {
        "id": "f583huLcwWQB"
      },
      "source": [
        "##### Функция revenue с вычислением прибыли по 200 лучшим скважинам из выборки."
      ]
    },
    {
      "cell_type": "code",
      "metadata": {
        "id": "hzY-KD44wWQB"
      },
      "source": [
        "def revenue(targs, preds):\n",
        "    preds_sorted = preds.sort_values(ascending=False)\n",
        "    selected = targs[preds_sorted.index][:200]\n",
        "    profit = (450000 * selected.sum()) - budget\n",
        "    return profit"
      ],
      "execution_count": 18,
      "outputs": []
    },
    {
      "cell_type": "markdown",
      "metadata": {
        "id": "88eCn-fQwWQH"
      },
      "source": [
        "##### Функция bootstrap с выводом 1000 выборок по 500 скважин с вычислением прибыли с помощью функции revenue."
      ]
    },
    {
      "cell_type": "code",
      "metadata": {
        "id": "8py9Z1w0wWQH"
      },
      "source": [
        "def bootstrap(targets, predictions):\n",
        "    state = np.random.RandomState(12345)\n",
        "    values = []\n",
        "    count = 0\n",
        "    for i in range(1000):\n",
        "        target_subsample = targets.sample(n=500, replace=True, random_state=state)\n",
        "        preds_subsample = predictions[target_subsample.index]\n",
        "        income = revenue(target_subsample, preds_subsample)\n",
        "        values.append(income)\n",
        "        if income < 0:\n",
        "            count += 1\n",
        "    possibility_of_loss = round(count/1000,6)\n",
        "    values = pd.Series(values)\n",
        "    confidence_interval = st.t.interval(0.95, len(values)-1, values.mean(),values.sem())\n",
        "    return round(values.mean(), 2), confidence_interval, possibility_of_loss"
      ],
      "execution_count": 19,
      "outputs": []
    },
    {
      "cell_type": "markdown",
      "metadata": {
        "id": "KXa4iWA3wWQO"
      },
      "source": [
        "##### Применение функции bootstrap для каждого региона."
      ]
    },
    {
      "cell_type": "code",
      "metadata": {
        "scrolled": true,
        "id": "FP-6N0QDwWQP",
        "outputId": "f2bf2e3c-4cef-4722-b7e4-8268dd7c5067",
        "colab": {
          "base_uri": "https://localhost:8080/",
          "height": 272
        }
      },
      "source": [
        "values_region1, confidence_interval_region1, loss_risk1 = bootstrap(target_valid_region1,answers_1)\n",
        "print('Первый регион:','\\n','Доверительный интервал -',confidence_interval_region1,'\\n','Валовая прибыль -', values_region1,'\\n','Риск убытков -', loss_risk1,'\\n')\n",
        "values_region2, confidence_interval_region2, loss_risk2 = bootstrap(target_valid_region2,answers_2)\n",
        "print('Второй регион:','\\n','Доверительный интервал -',confidence_interval_region2,'\\n','Валовая прибыль -', values_region2,'\\n','Риск убытков -', loss_risk2,'\\n')\n",
        "values_region3, confidence_interval_region3, loss_risk3 = bootstrap(target_valid_region3,answers_3)\n",
        "print('Третий регион:','\\n','Доверительный интервал -',confidence_interval_region3,'\\n','Валовая прибыль -', values_region3,'\\n','Риск убытков -', loss_risk3,'\\n')"
      ],
      "execution_count": 20,
      "outputs": [
        {
          "output_type": "stream",
          "text": [
            "Первый регион: \n",
            " Доверительный интервал - (408732207.0686982, 443144846.7524858) \n",
            " Валовая прибыль - 425938526.91 \n",
            " Риск убытков - 0.06 \n",
            "\n",
            "Второй регион: \n",
            " Доверительный интервал - (501621476.1763219, 528824070.7102582) \n",
            " Валовая прибыль - 515222773.44 \n",
            " Риск убытков - 0.01 \n",
            "\n",
            "Третий регион: \n",
            " Доверительный интервал - (417453552.04135805, 452563173.52415365) \n",
            " Валовая прибыль - 435008362.78 \n",
            " Риск убытков - 0.064 \n",
            "\n"
          ],
          "name": "stdout"
        }
      ]
    },
    {
      "cell_type": "markdown",
      "metadata": {
        "id": "5PoDpVfqwWQU"
      },
      "source": [
        "### Результаты исследования:\n",
        "1. Были заданы следущие параметры: \n",
        "    - Бюджет запуска скважин на 1 регион - 10 млрд. руб.\n",
        "    - Выручка с 1 тыс. баррелей нефти - 450 тыс. руб.\n",
        "    - Применена техника bootstrap с 1000 итераций по 500 скважин для получения репрезентативной выборки скважин.\n",
        "    - Для оценки выручки и валовой прибыли по каждому региону использовались по 200 скважин с самыми лучшими показателями.\n",
        "    - Исследованы три региона с известными данными о запасах нефти.\n",
        "2. В результате проверки всех параметров, удовлетворяет условиях второй регион с прогнозируемой валовой прибылью 515222773.44 рублей при риске убытков около 1%.\n",
        "3. По остальным регионам прогнозируется уровень риска убытка более 2.5%."
      ]
    }
  ]
}
