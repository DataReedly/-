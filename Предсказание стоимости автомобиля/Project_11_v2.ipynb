{
  "nbformat": 4,
  "nbformat_minor": 0,
  "metadata": {
    "kernelspec": {
      "display_name": "Python 3",
      "language": "python",
      "name": "python3"
    },
    "language_info": {
      "codemirror_mode": {
        "name": "ipython",
        "version": 3
      },
      "file_extension": ".py",
      "mimetype": "text/x-python",
      "name": "python",
      "nbconvert_exporter": "python",
      "pygments_lexer": "ipython3",
      "version": "3.7.6"
    },
    "colab": {
      "name": "Project_11_v1.ipynb",
      "provenance": [],
      "collapsed_sections": []
    },
    "accelerator": "GPU"
  },
  "cells": [
    {
      "cell_type": "markdown",
      "metadata": {
        "id": "G_IiBZKT7hM1"
      },
      "source": [
        "# 1. Подготовка данных"
      ]
    },
    {
      "cell_type": "code",
      "metadata": {
        "id": "m9ZXv5207hM2",
        "outputId": "038d23d2-5126-434a-e4bb-0e63d2c73b51",
        "colab": {
          "base_uri": "https://localhost:8080/",
          "height": 255
        }
      },
      "source": [
        "!pip install catboost\n",
        "import pandas as pd\n",
        "import numpy as np\n",
        "import matplotlib.pyplot as plt\n",
        "from sklearn.preprocessing import StandardScaler\n",
        "from sklearn.preprocessing import OneHotEncoder\n",
        "from sklearn.preprocessing import OrdinalEncoder\n",
        "from sklearn.model_selection import train_test_split\n",
        "from sklearn.metrics import mean_squared_error\n",
        "import seaborn as sns\n",
        "import lightgbm as lgb\n",
        "import xgboost as xgb\n",
        "from catboost import CatBoostRegressor\n",
        "from catboost import Pool, CatBoost"
      ],
      "execution_count": 1,
      "outputs": [
        {
          "output_type": "stream",
          "text": [
            "Requirement already satisfied: catboost in /usr/local/lib/python3.6/dist-packages (0.24.2)\n",
            "Requirement already satisfied: numpy>=1.16.0 in /usr/local/lib/python3.6/dist-packages (from catboost) (1.18.5)\n",
            "Requirement already satisfied: scipy in /usr/local/lib/python3.6/dist-packages (from catboost) (1.4.1)\n",
            "Requirement already satisfied: matplotlib in /usr/local/lib/python3.6/dist-packages (from catboost) (3.2.2)\n",
            "Requirement already satisfied: pandas>=0.24.0 in /usr/local/lib/python3.6/dist-packages (from catboost) (1.1.2)\n",
            "Requirement already satisfied: plotly in /usr/local/lib/python3.6/dist-packages (from catboost) (4.4.1)\n",
            "Requirement already satisfied: six in /usr/local/lib/python3.6/dist-packages (from catboost) (1.15.0)\n",
            "Requirement already satisfied: graphviz in /usr/local/lib/python3.6/dist-packages (from catboost) (0.10.1)\n",
            "Requirement already satisfied: python-dateutil>=2.1 in /usr/local/lib/python3.6/dist-packages (from matplotlib->catboost) (2.8.1)\n",
            "Requirement already satisfied: cycler>=0.10 in /usr/local/lib/python3.6/dist-packages (from matplotlib->catboost) (0.10.0)\n",
            "Requirement already satisfied: pyparsing!=2.0.4,!=2.1.2,!=2.1.6,>=2.0.1 in /usr/local/lib/python3.6/dist-packages (from matplotlib->catboost) (2.4.7)\n",
            "Requirement already satisfied: kiwisolver>=1.0.1 in /usr/local/lib/python3.6/dist-packages (from matplotlib->catboost) (1.2.0)\n",
            "Requirement already satisfied: pytz>=2017.2 in /usr/local/lib/python3.6/dist-packages (from pandas>=0.24.0->catboost) (2018.9)\n",
            "Requirement already satisfied: retrying>=1.3.3 in /usr/local/lib/python3.6/dist-packages (from plotly->catboost) (1.3.3)\n"
          ],
          "name": "stdout"
        }
      ]
    },
    {
      "cell_type": "code",
      "metadata": {
        "id": "MB_tHq-D7hNC"
      },
      "source": [
        "pd.options.display.max_rows = 1000"
      ],
      "execution_count": 2,
      "outputs": []
    },
    {
      "cell_type": "code",
      "metadata": {
        "id": "WNKH15AC9UNz",
        "outputId": "5fa432ec-1842-4f83-9881-10c732bf3dd6",
        "colab": {
          "base_uri": "https://localhost:8080/",
          "height": 34
        }
      },
      "source": [
        "from google.colab import drive\n",
        "drive.mount('/content/drive')"
      ],
      "execution_count": 3,
      "outputs": [
        {
          "output_type": "stream",
          "text": [
            "Drive already mounted at /content/drive; to attempt to forcibly remount, call drive.mount(\"/content/drive\", force_remount=True).\n"
          ],
          "name": "stdout"
        }
      ]
    },
    {
      "cell_type": "markdown",
      "metadata": {
        "id": "u_sV09Ps7hNL"
      },
      "source": [
        "### Чтение данных."
      ]
    },
    {
      "cell_type": "code",
      "metadata": {
        "id": "xD3yicqJ7hNN"
      },
      "source": [
        "date_columns = ['DateCrawled', 'DateCreated', 'LastSeen']\n",
        "df = pd.read_csv('/content/drive/My Drive/Colab Notebooks/autos.csv', parse_dates=date_columns)"
      ],
      "execution_count": 4,
      "outputs": []
    },
    {
      "cell_type": "markdown",
      "metadata": {
        "id": "H4uH3XLI7hNV"
      },
      "source": [
        "### Переводим названия столбцов в нижний регистр."
      ]
    },
    {
      "cell_type": "code",
      "metadata": {
        "id": "dWjfrcoL7hNW"
      },
      "source": [
        "df.columns = df.columns.str.lower()"
      ],
      "execution_count": 5,
      "outputs": []
    },
    {
      "cell_type": "markdown",
      "metadata": {
        "id": "cDoAPO2u7hNb"
      },
      "source": [
        "### Удаляем дубликаты."
      ]
    },
    {
      "cell_type": "code",
      "metadata": {
        "id": "wyX8sN5d7hNb",
        "outputId": "aec39354-6427-4a8f-b58d-b16a9fbcac71",
        "colab": {
          "base_uri": "https://localhost:8080/",
          "height": 51
        }
      },
      "source": [
        "print(df.duplicated().sum())\n",
        "df = df.drop_duplicates().reset_index(drop=True)\n",
        "print(df.duplicated().sum())"
      ],
      "execution_count": 6,
      "outputs": [
        {
          "output_type": "stream",
          "text": [
            "4\n",
            "0\n"
          ],
          "name": "stdout"
        }
      ]
    },
    {
      "cell_type": "markdown",
      "metadata": {
        "id": "DSQTcGm57hNi"
      },
      "source": [
        "### Ознакомление."
      ]
    },
    {
      "cell_type": "code",
      "metadata": {
        "id": "CJxgwOTt7hNj",
        "outputId": "def33432-7a4d-4f90-af6a-63f059b8cb81",
        "colab": {
          "base_uri": "https://localhost:8080/",
          "height": 408
        }
      },
      "source": [
        "df.info()"
      ],
      "execution_count": 7,
      "outputs": [
        {
          "output_type": "stream",
          "text": [
            "<class 'pandas.core.frame.DataFrame'>\n",
            "RangeIndex: 354365 entries, 0 to 354364\n",
            "Data columns (total 16 columns):\n",
            " #   Column             Non-Null Count   Dtype         \n",
            "---  ------             --------------   -----         \n",
            " 0   datecrawled        354365 non-null  datetime64[ns]\n",
            " 1   price              354365 non-null  int64         \n",
            " 2   vehicletype        316875 non-null  object        \n",
            " 3   registrationyear   354365 non-null  int64         \n",
            " 4   gearbox            334532 non-null  object        \n",
            " 5   power              354365 non-null  int64         \n",
            " 6   model              334660 non-null  object        \n",
            " 7   kilometer          354365 non-null  int64         \n",
            " 8   registrationmonth  354365 non-null  int64         \n",
            " 9   fueltype           321470 non-null  object        \n",
            " 10  brand              354365 non-null  object        \n",
            " 11  notrepaired        283211 non-null  object        \n",
            " 12  datecreated        354365 non-null  datetime64[ns]\n",
            " 13  numberofpictures   354365 non-null  int64         \n",
            " 14  postalcode         354365 non-null  int64         \n",
            " 15  lastseen           354365 non-null  datetime64[ns]\n",
            "dtypes: datetime64[ns](3), int64(7), object(6)\n",
            "memory usage: 43.3+ MB\n"
          ],
          "name": "stdout"
        }
      ]
    },
    {
      "cell_type": "markdown",
      "metadata": {
        "id": "3xGHaV-oZGV4"
      },
      "source": [
        "##### Имеются пропущенные значения."
      ]
    },
    {
      "cell_type": "code",
      "metadata": {
        "id": "N1gla_oDY5Vw",
        "outputId": "6bf2b074-0abd-4c70-8ac9-17a68be2d6e5",
        "colab": {
          "base_uri": "https://localhost:8080/",
          "height": 306
        }
      },
      "source": [
        "df.isna().sum()"
      ],
      "execution_count": 8,
      "outputs": [
        {
          "output_type": "execute_result",
          "data": {
            "text/plain": [
              "datecrawled              0\n",
              "price                    0\n",
              "vehicletype          37490\n",
              "registrationyear         0\n",
              "gearbox              19833\n",
              "power                    0\n",
              "model                19705\n",
              "kilometer                0\n",
              "registrationmonth        0\n",
              "fueltype             32895\n",
              "brand                    0\n",
              "notrepaired          71154\n",
              "datecreated              0\n",
              "numberofpictures         0\n",
              "postalcode               0\n",
              "lastseen                 0\n",
              "dtype: int64"
            ]
          },
          "metadata": {
            "tags": []
          },
          "execution_count": 8
        }
      ]
    },
    {
      "cell_type": "markdown",
      "metadata": {
        "id": "rTv9O8Cpb_Jd"
      },
      "source": [
        "### Пропущенные значения notrepaired заполним типом no_info."
      ]
    },
    {
      "cell_type": "code",
      "metadata": {
        "id": "ocV8g3HpZZL2"
      },
      "source": [
        "df['notrepaired'] = df['notrepaired'].fillna('unknown')"
      ],
      "execution_count": 9,
      "outputs": []
    },
    {
      "cell_type": "markdown",
      "metadata": {
        "id": "CuhSCnf37hNp"
      },
      "source": [
        "##### Пропущенные значения обработаны."
      ]
    },
    {
      "cell_type": "markdown",
      "metadata": {
        "id": "4biu5rJL7hN1"
      },
      "source": [
        "### Проверка на выбросы registrationyear."
      ]
    },
    {
      "cell_type": "code",
      "metadata": {
        "scrolled": false,
        "id": "iCNQKP-k7hN1",
        "outputId": "24330564-ef2e-4d12-f0e5-56c930f9d487",
        "colab": {
          "base_uri": "https://localhost:8080/",
          "height": 170
        }
      },
      "source": [
        "print(df['registrationyear'].describe())"
      ],
      "execution_count": 10,
      "outputs": [
        {
          "output_type": "stream",
          "text": [
            "count    354365.000000\n",
            "mean       2004.234481\n",
            "std          90.228466\n",
            "min        1000.000000\n",
            "25%        1999.000000\n",
            "50%        2003.000000\n",
            "75%        2008.000000\n",
            "max        9999.000000\n",
            "Name: registrationyear, dtype: float64\n"
          ],
          "name": "stdout"
        }
      ]
    },
    {
      "cell_type": "code",
      "metadata": {
        "id": "FATToPIYgfJL",
        "outputId": "6bafb076-a4ab-45fe-e23e-587ba4463d93",
        "colab": {
          "base_uri": "https://localhost:8080/",
          "height": 1000
        }
      },
      "source": [
        "df['registrationyear'].value_counts().sort_index()"
      ],
      "execution_count": 11,
      "outputs": [
        {
          "output_type": "execute_result",
          "data": {
            "text/plain": [
              "1000       37\n",
              "1001        1\n",
              "1039        1\n",
              "1111        3\n",
              "1200        1\n",
              "1234        4\n",
              "1253        1\n",
              "1255        1\n",
              "1300        2\n",
              "1400        1\n",
              "1500        5\n",
              "1600        2\n",
              "1602        1\n",
              "1688        1\n",
              "1800        5\n",
              "1910      101\n",
              "1915        1\n",
              "1919        1\n",
              "1920        1\n",
              "1923        2\n",
              "1925        1\n",
              "1927        1\n",
              "1928        2\n",
              "1929        7\n",
              "1930        3\n",
              "1931        1\n",
              "1932        3\n",
              "1933        3\n",
              "1934        3\n",
              "1935        4\n",
              "1936        3\n",
              "1937       11\n",
              "1938        8\n",
              "1940        2\n",
              "1941        2\n",
              "1942        3\n",
              "1943        4\n",
              "1944        2\n",
              "1945        4\n",
              "1946        1\n",
              "1947        2\n",
              "1948        3\n",
              "1949        1\n",
              "1950       18\n",
              "1951       12\n",
              "1952        9\n",
              "1953       14\n",
              "1954       11\n",
              "1955       15\n",
              "1956       27\n",
              "1957       13\n",
              "1958       25\n",
              "1959       32\n",
              "1960      188\n",
              "1961       41\n",
              "1962       46\n",
              "1963       57\n",
              "1964       64\n",
              "1965       82\n",
              "1966      113\n",
              "1967       99\n",
              "1968      108\n",
              "1969      118\n",
              "1970      333\n",
              "1971      167\n",
              "1972      213\n",
              "1973      173\n",
              "1974      169\n",
              "1975      143\n",
              "1976      175\n",
              "1977      173\n",
              "1978      285\n",
              "1979      283\n",
              "1980      588\n",
              "1981      263\n",
              "1982      316\n",
              "1983      430\n",
              "1984      399\n",
              "1985      756\n",
              "1986      538\n",
              "1987      667\n",
              "1988      942\n",
              "1989     1318\n",
              "1990     2806\n",
              "1991     2762\n",
              "1992     3002\n",
              "1993     3438\n",
              "1994     4841\n",
              "1995     9607\n",
              "1996    10835\n",
              "1997    14666\n",
              "1998    17899\n",
              "1999    22727\n",
              "2000    24490\n",
              "2001    20123\n",
              "2002    19091\n",
              "2003    19762\n",
              "2004    19611\n",
              "2005    22109\n",
              "2006    19900\n",
              "2007    17183\n",
              "2008    15391\n",
              "2009    14503\n",
              "2010    10764\n",
              "2011     9909\n",
              "2012     7178\n",
              "2013     4131\n",
              "2014     2537\n",
              "2015     1302\n",
              "2016     9599\n",
              "2017    10441\n",
              "2018     3959\n",
              "2019       25\n",
              "2066        1\n",
              "2200        1\n",
              "2222        2\n",
              "2290        1\n",
              "2500        4\n",
              "2800        2\n",
              "2900        1\n",
              "3000        7\n",
              "3200        1\n",
              "3500        1\n",
              "3700        1\n",
              "3800        1\n",
              "4000        3\n",
              "4100        1\n",
              "4500        2\n",
              "4800        1\n",
              "5000       17\n",
              "5300        1\n",
              "5555        2\n",
              "5600        1\n",
              "5900        1\n",
              "5911        2\n",
              "6000        5\n",
              "6500        1\n",
              "7000        4\n",
              "7100        1\n",
              "7500        1\n",
              "7800        1\n",
              "8000        2\n",
              "8200        1\n",
              "8455        1\n",
              "8500        1\n",
              "8888        1\n",
              "9000        3\n",
              "9229        1\n",
              "9450        1\n",
              "9996        1\n",
              "9999       26\n",
              "Name: registrationyear, dtype: int64"
            ]
          },
          "metadata": {
            "tags": []
          },
          "execution_count": 11
        }
      ]
    },
    {
      "cell_type": "markdown",
      "metadata": {
        "id": "v85PllXPfqg0"
      },
      "source": [
        "##### Видим большое количество аномальных значений."
      ]
    },
    {
      "cell_type": "markdown",
      "metadata": {
        "id": "juoTjepSfwXL"
      },
      "source": [
        "### Проверим распределение дат создания объявлений - datecreated."
      ]
    },
    {
      "cell_type": "code",
      "metadata": {
        "id": "RytTSJYSfYXj",
        "outputId": "968eaf5e-eea4-46c3-a85d-87257f4df00e",
        "colab": {
          "base_uri": "https://localhost:8080/",
          "height": 1000
        }
      },
      "source": [
        "df['datecreated'].value_counts().sort_index()"
      ],
      "execution_count": 12,
      "outputs": [
        {
          "output_type": "execute_result",
          "data": {
            "text/plain": [
              "2014-03-10        1\n",
              "2015-03-20        1\n",
              "2015-06-18        1\n",
              "2015-08-07        1\n",
              "2015-08-10        1\n",
              "2015-09-04        2\n",
              "2015-09-09        1\n",
              "2015-11-02        1\n",
              "2015-11-08        1\n",
              "2015-11-10        1\n",
              "2015-11-12        1\n",
              "2015-11-17        1\n",
              "2015-11-23        2\n",
              "2015-11-24        2\n",
              "2015-12-05        3\n",
              "2015-12-06        1\n",
              "2015-12-17        1\n",
              "2015-12-27        1\n",
              "2015-12-30        3\n",
              "2016-01-02        4\n",
              "2016-01-03        1\n",
              "2016-01-06        1\n",
              "2016-01-07        3\n",
              "2016-01-08        1\n",
              "2016-01-10        4\n",
              "2016-01-13        3\n",
              "2016-01-15        1\n",
              "2016-01-16        1\n",
              "2016-01-17        3\n",
              "2016-01-18        1\n",
              "2016-01-19        3\n",
              "2016-01-20        2\n",
              "2016-01-22        2\n",
              "2016-01-23        3\n",
              "2016-01-24        2\n",
              "2016-01-25        4\n",
              "2016-01-26        3\n",
              "2016-01-27        4\n",
              "2016-01-28        6\n",
              "2016-01-29        5\n",
              "2016-01-30        6\n",
              "2016-01-31        7\n",
              "2016-02-01        3\n",
              "2016-02-02       13\n",
              "2016-02-03        4\n",
              "2016-02-04        2\n",
              "2016-02-05        7\n",
              "2016-02-06        3\n",
              "2016-02-07        6\n",
              "2016-02-08        2\n",
              "2016-02-09        9\n",
              "2016-02-10        6\n",
              "2016-02-11        4\n",
              "2016-02-12       14\n",
              "2016-02-13        6\n",
              "2016-02-14       14\n",
              "2016-02-15        6\n",
              "2016-02-16        9\n",
              "2016-02-17        8\n",
              "2016-02-18       21\n",
              "2016-02-19       22\n",
              "2016-02-20       12\n",
              "2016-02-21       23\n",
              "2016-02-22       11\n",
              "2016-02-23       12\n",
              "2016-02-24       22\n",
              "2016-02-25       20\n",
              "2016-02-26       21\n",
              "2016-02-27       22\n",
              "2016-02-28       49\n",
              "2016-02-29       46\n",
              "2016-03-01       50\n",
              "2016-03-02       37\n",
              "2016-03-03      396\n",
              "2016-03-04      601\n",
              "2016-03-05     8186\n",
              "2016-03-06     5505\n",
              "2016-03-07    12244\n",
              "2016-03-08    11853\n",
              "2016-03-09    12153\n",
              "2016-03-10    11546\n",
              "2016-03-11    11647\n",
              "2016-03-12    12840\n",
              "2016-03-13     6016\n",
              "2016-03-14    12478\n",
              "2016-03-15    11804\n",
              "2016-03-16    10803\n",
              "2016-03-17    11119\n",
              "2016-03-18     4989\n",
              "2016-03-19    12197\n",
              "2016-03-20    12918\n",
              "2016-03-21    12691\n",
              "2016-03-22    11451\n",
              "2016-03-23    11312\n",
              "2016-03-24    10591\n",
              "2016-03-25    11692\n",
              "2016-03-26    11386\n",
              "2016-03-27    10578\n",
              "2016-03-28    12474\n",
              "2016-03-29    12088\n",
              "2016-03-30    11820\n",
              "2016-03-31    11289\n",
              "2016-04-01    11963\n",
              "2016-04-02    12362\n",
              "2016-04-03    13718\n",
              "2016-04-04    13317\n",
              "2016-04-05     4104\n",
              "2016-04-06     1105\n",
              "2016-04-07      549\n",
              "Name: datecreated, dtype: int64"
            ]
          },
          "metadata": {
            "tags": []
          },
          "execution_count": 12
        }
      ]
    },
    {
      "cell_type": "markdown",
      "metadata": {
        "id": "TS42jkvmf9cL"
      },
      "source": [
        "##### Самая поздняя дата создания объявления - 04.2016. Все даты регистрации автомобиля позднее 04.2016 ошибочны, т.к. дата регистрации автомобиля не модет быть позже даты создания объявления. Удалим все строки с датой регистрации автомобиля позднее 04.2016 и ранее 1980 года."
      ]
    },
    {
      "cell_type": "code",
      "metadata": {
        "id": "CsByY5GM31vF"
      },
      "source": [
        "df = df[(df['registrationyear']>=1980)&(df['registrationyear']<2017)]\n",
        "df.drop(df[(df['registrationyear']==2016)&(df['registrationmonth']>4)].index, inplace=True)"
      ],
      "execution_count": 13,
      "outputs": []
    },
    {
      "cell_type": "code",
      "metadata": {
        "id": "3zYVcJkYeapW",
        "outputId": "1d6abdab-cbcc-4062-bde6-759c90a38368",
        "colab": {
          "base_uri": "https://localhost:8080/",
          "height": 417
        }
      },
      "source": [
        "f, ax = plt.subplots(figsize=(7, 5))\n",
        "sns.histplot(data=df, x='registrationyear', bins=37)\n",
        "ax.set_xticks([1980+i for i in range(0,37)])\n",
        "plt.xticks(rotation=90)"
      ],
      "execution_count": 14,
      "outputs": [
        {
          "output_type": "execute_result",
          "data": {
            "text/plain": [
              "(array([1980, 1981, 1982, 1983, 1984, 1985, 1986, 1987, 1988, 1989, 1990,\n",
              "        1991, 1992, 1993, 1994, 1995, 1996, 1997, 1998, 1999, 2000, 2001,\n",
              "        2002, 2003, 2004, 2005, 2006, 2007, 2008, 2009, 2010, 2011, 2012,\n",
              "        2013, 2014, 2015, 2016]), <a list of 37 Text major ticklabel objects>)"
            ]
          },
          "metadata": {
            "tags": []
          },
          "execution_count": 14
        },
        {
          "output_type": "display_data",
          "data": {
            "image/png": "[encoded data removed]",
            "text/plain": [
              "<Figure size 504x360 with 1 Axes>"
            ]
          },
          "metadata": {
            "tags": [],
            "needs_background": "light"
          }
        }
      ]
    },
    {
      "cell_type": "markdown",
      "metadata": {
        "id": "jrxIgTjF7FAA"
      },
      "source": [
        "### Ознакомимся с распределением цен."
      ]
    },
    {
      "cell_type": "code",
      "metadata": {
        "id": "RCa9sg4B7hOL",
        "outputId": "b69d70e7-3d7d-441a-b9c3-1bf23c8ef8f7",
        "colab": {
          "base_uri": "https://localhost:8080/",
          "height": 170
        }
      },
      "source": [
        "df['price'].describe()"
      ],
      "execution_count": 15,
      "outputs": [
        {
          "output_type": "execute_result",
          "data": {
            "text/plain": [
              "count    331693.000000\n",
              "mean       4476.674051\n",
              "std        4537.810548\n",
              "min           0.000000\n",
              "25%        1100.000000\n",
              "50%        2800.000000\n",
              "75%        6500.000000\n",
              "max       20000.000000\n",
              "Name: price, dtype: float64"
            ]
          },
          "metadata": {
            "tags": []
          },
          "execution_count": 15
        }
      ]
    },
    {
      "cell_type": "code",
      "metadata": {
        "id": "CZtR0qSc7gPM",
        "outputId": "716979a6-037e-456f-e062-159c47e38fc2",
        "colab": {
          "base_uri": "https://localhost:8080/",
          "height": 389
        }
      },
      "source": [
        "f, ax = plt.subplots(figsize=(7, 5))\n",
        "sns.histplot(data=df, x='price')\n",
        "#ax.set_xticks([1980+i for i in range(0,37)])\n",
        "plt.xticks(rotation=90)"
      ],
      "execution_count": 16,
      "outputs": [
        {
          "output_type": "execute_result",
          "data": {
            "text/plain": [
              "(array([-2500.,     0.,  2500.,  5000.,  7500., 10000., 12500., 15000.,\n",
              "        17500., 20000., 22500.]), <a list of 11 Text major ticklabel objects>)"
            ]
          },
          "metadata": {
            "tags": []
          },
          "execution_count": 16
        },
        {
          "output_type": "display_data",
          "data": {
            "image/png": "[encoded data removed]",
            "text/plain": [
              "<Figure size 504x360 with 1 Axes>"
            ]
          },
          "metadata": {
            "tags": [],
            "needs_background": "light"
          }
        }
      ]
    },
    {
      "cell_type": "code",
      "metadata": {
        "id": "g8BgU6V5SmZv",
        "outputId": "47ed2334-4280-45b2-f4ab-4ca73446d88d",
        "colab": {
          "base_uri": "https://localhost:8080/",
          "height": 279
        }
      },
      "source": [
        "ax = sns.boxplot(x=df['price'])"
      ],
      "execution_count": 17,
      "outputs": [
        {
          "output_type": "display_data",
          "data": {
            "image/png": "[encoded data removed]",
            "text/plain": [
              "<Figure size 432x288 with 1 Axes>"
            ]
          },
          "metadata": {
            "tags": [],
            "needs_background": "light"
          }
        }
      ]
    },
    {
      "cell_type": "markdown",
      "metadata": {
        "id": "Q6-w9z5-7hOP"
      },
      "source": [
        "##### Есть много низких значений цены, в том числе 0. Удаляем все автомобили, дешевле 100$ как выбросы. Есть очень дорогие автомобили, думаю их оставить."
      ]
    },
    {
      "cell_type": "code",
      "metadata": {
        "id": "Tk7Gx42LEQL4"
      },
      "source": [
        "df = df[df['price']>=1]\n",
        "df = df[df['price']<=15000]"
      ],
      "execution_count": 18,
      "outputs": []
    },
    {
      "cell_type": "markdown",
      "metadata": {
        "id": "blzIajNAE75_"
      },
      "source": [
        "### Посмотрим на мощность автомобилей."
      ]
    },
    {
      "cell_type": "code",
      "metadata": {
        "scrolled": false,
        "id": "O3VttLap7hOQ",
        "outputId": "7073b2aa-a88c-4bb3-fa49-ba7019acc5d5",
        "colab": {
          "base_uri": "https://localhost:8080/",
          "height": 170
        }
      },
      "source": [
        "print(df['power'].describe())"
      ],
      "execution_count": 19,
      "outputs": [
        {
          "output_type": "stream",
          "text": [
            "count    307942.000000\n",
            "mean        109.313585\n",
            "std         182.031962\n",
            "min           0.000000\n",
            "25%          69.000000\n",
            "50%         103.000000\n",
            "75%         140.000000\n",
            "max       20000.000000\n",
            "Name: power, dtype: float64\n"
          ],
          "name": "stdout"
        }
      ]
    },
    {
      "cell_type": "markdown",
      "metadata": {
        "id": "NqsqXQgqFH3-"
      },
      "source": [
        "##### Есть нулевые и аномально-высокие показатели мощности. Удалю все, что больше 1500."
      ]
    },
    {
      "cell_type": "code",
      "metadata": {
        "id": "W6YHqsdqGNoX"
      },
      "source": [
        "pd.set_option('display.max_columns', 500) "
      ],
      "execution_count": 20,
      "outputs": []
    },
    {
      "cell_type": "code",
      "metadata": {
        "id": "5v-TO7WGFQ9K"
      },
      "source": [
        "df = df[df['power']<=1500]"
      ],
      "execution_count": 21,
      "outputs": []
    },
    {
      "cell_type": "markdown",
      "metadata": {
        "id": "dFtOuWd77hOT"
      },
      "source": [
        "### Заполню нулевые значения мощности по медиане, если это возможно"
      ]
    },
    {
      "cell_type": "code",
      "metadata": {
        "id": "jBJIbw6VHuYX",
        "outputId": "4a4a6ccb-ab50-423e-eabe-5c03ca429554",
        "colab": {
          "base_uri": "https://localhost:8080/",
          "height": 34
        }
      },
      "source": [
        "df[df['power']==0]['model'].count()"
      ],
      "execution_count": 22,
      "outputs": [
        {
          "output_type": "execute_result",
          "data": {
            "text/plain": [
              "26632"
            ]
          },
          "metadata": {
            "tags": []
          },
          "execution_count": 22
        }
      ]
    },
    {
      "cell_type": "code",
      "metadata": {
        "id": "s4zhROy87hOV"
      },
      "source": [
        "models = pd.Series(df[df['power']<1]['model'].unique())\n",
        "for model in models:\n",
        "    try:\n",
        "      medians = int(df[(df['model']==model)&(df['power']>=1)]['power'].median())\n",
        "      df.loc[((df['model']==model)&(df['power']<1)),'power'] = medians\n",
        "    except:\n",
        "      0\n",
        "del models"
      ],
      "execution_count": 23,
      "outputs": []
    },
    {
      "cell_type": "code",
      "metadata": {
        "id": "oUZxqvynI_NH"
      },
      "source": [
        "#df = df[df['power']>=1]"
      ],
      "execution_count": 24,
      "outputs": []
    },
    {
      "cell_type": "code",
      "metadata": {
        "id": "X4NKHKiqMNgY",
        "outputId": "3b14a373-871c-4194-c93d-e803fe018384",
        "colab": {
          "base_uri": "https://localhost:8080/",
          "height": 34
        }
      },
      "source": [
        "df[df['power']==0]['model'].count()"
      ],
      "execution_count": 25,
      "outputs": [
        {
          "output_type": "execute_result",
          "data": {
            "text/plain": [
              "0"
            ]
          },
          "metadata": {
            "tags": []
          },
          "execution_count": 25
        }
      ]
    },
    {
      "cell_type": "markdown",
      "metadata": {
        "id": "ivTSrOjP7hOh"
      },
      "source": [
        "### Пробег."
      ]
    },
    {
      "cell_type": "code",
      "metadata": {
        "id": "tqN0EQfm7hOi",
        "outputId": "876b1f2b-598a-42b1-d868-617b940cda5d",
        "colab": {
          "base_uri": "https://localhost:8080/",
          "height": 255
        }
      },
      "source": [
        "df['kilometer'].value_counts().sort_index(ascending=False)"
      ],
      "execution_count": 26,
      "outputs": [
        {
          "output_type": "execute_result",
          "data": {
            "text/plain": [
              "150000    212147\n",
              "125000     32156\n",
              "100000     12570\n",
              "90000       9834\n",
              "80000       8358\n",
              "70000       7018\n",
              "60000       5956\n",
              "50000       4805\n",
              "40000       3735\n",
              "30000       3295\n",
              "20000       2853\n",
              "10000        745\n",
              "5000        4305\n",
              "Name: kilometer, dtype: int64"
            ]
          },
          "metadata": {
            "tags": []
          },
          "execution_count": 26
        }
      ]
    },
    {
      "cell_type": "markdown",
      "metadata": {
        "id": "HXkl2VuH7hOm"
      },
      "source": [
        "##### В значениях пробега аномалий не выявлено. Странно, что всё кратно 5000, видимо, это округление."
      ]
    },
    {
      "cell_type": "markdown",
      "metadata": {
        "id": "UvlinPa2b281"
      },
      "source": [
        "### Создание новых признаков."
      ]
    },
    {
      "cell_type": "markdown",
      "metadata": {
        "id": "uTs-hmY_cOL3"
      },
      "source": [
        "##### Время продажи."
      ]
    },
    {
      "cell_type": "code",
      "metadata": {
        "id": "moz1-NTXcSKt"
      },
      "source": [
        "df['saletime'] = round((pd.to_datetime(df['lastseen']) - pd.to_datetime(df['datecreated']))/np.timedelta64(1,'D'),0).astype('int')"
      ],
      "execution_count": 27,
      "outputs": []
    },
    {
      "cell_type": "markdown",
      "metadata": {
        "id": "TPSksKNKLG7X"
      },
      "source": [
        "### Удаляем пропущенные значения."
      ]
    },
    {
      "cell_type": "code",
      "metadata": {
        "id": "dB8xq4jNLGF-"
      },
      "source": [
        "df = df.dropna()"
      ],
      "execution_count": 28,
      "outputs": []
    },
    {
      "cell_type": "markdown",
      "metadata": {
        "id": "nS-0BMJx7hOn"
      },
      "source": [
        "### Масштабирование признаков."
      ]
    },
    {
      "cell_type": "code",
      "metadata": {
        "id": "BaqV-xY27hOn"
      },
      "source": [
        "cols = ['power', 'kilometer', 'postalcode','saletime']\n",
        "scaler = StandardScaler()\n",
        "df[cols] = scaler.fit_transform(df[cols])"
      ],
      "execution_count": 29,
      "outputs": []
    },
    {
      "cell_type": "markdown",
      "metadata": {
        "id": "Yfmg201j7hOt"
      },
      "source": [
        "### Разбиение на features и target и удаление ненужных столбцов."
      ]
    },
    {
      "cell_type": "code",
      "metadata": {
        "id": "0F9vP66_7hOu"
      },
      "source": [
        "df = df.reset_index(drop=True)\n",
        "target = df['price']\n",
        "features = df.drop(['price','datecrawled','datecreated','lastseen','numberofpictures','postalcode','registrationmonth'], axis=1)"
      ],
      "execution_count": 30,
      "outputs": []
    },
    {
      "cell_type": "markdown",
      "metadata": {
        "id": "xI3JhiPX7hO6"
      },
      "source": [
        "# 2. Обучение моделей и подбор гиперпараметров."
      ]
    },
    {
      "cell_type": "markdown",
      "metadata": {
        "id": "i2TMZ8dJ7hPX"
      },
      "source": [
        "### LightGBM."
      ]
    },
    {
      "cell_type": "markdown",
      "metadata": {
        "id": "A0Xy1VJy7hPY"
      },
      "source": [
        "##### Подгтовка данных."
      ]
    },
    {
      "cell_type": "code",
      "metadata": {
        "id": "Jb9-M7uB7hPZ"
      },
      "source": [
        "encoder = OrdinalEncoder()\n",
        "cols = ['registrationyear','model','brand','gearbox','fueltype','vehicletype','notrepaired']\n",
        "df_ordinal = features.copy()\n",
        "df_ordinal[cols] = pd.DataFrame(encoder.fit_transform(features[cols]), columns=cols, index=features.index)\n",
        "#del xgbfeatures_train, xgbfeatures_valid, xgbfeatures_test"
      ],
      "execution_count": 31,
      "outputs": []
    },
    {
      "cell_type": "markdown",
      "metadata": {
        "id": "SUh7-bT27hPg"
      },
      "source": [
        "##### Разбиение на train, valid и test выборки."
      ]
    },
    {
      "cell_type": "code",
      "metadata": {
        "id": "999O0YBa7hPh"
      },
      "source": [
        "gbmx_train, gbmx_split, gbmy_train, gbmy_split = train_test_split(\n",
        "    df_ordinal, target, test_size=0.4, random_state=12345)\n",
        "gbmx_valid, gbmx_test, gbmy_valid, gbmy_test = train_test_split(\n",
        "    gbmx_split, gbmy_split, test_size=0.5, random_state=12345)\n",
        "del gbmx_split, gbmy_split, df_ordinal"
      ],
      "execution_count": 32,
      "outputs": []
    },
    {
      "cell_type": "markdown",
      "metadata": {
        "id": "FbEQLSRx7hPm"
      },
      "source": [
        "##### Проверка размеров выборок."
      ]
    },
    {
      "cell_type": "code",
      "metadata": {
        "id": "ptWap4vw7hPm",
        "outputId": "94ea5d46-0240-4c12-f029-def710170f4c",
        "colab": {
          "base_uri": "https://localhost:8080/",
          "height": 119
        }
      },
      "source": [
        "print(gbmx_train.shape)\n",
        "print(gbmy_train.shape)\n",
        "print(gbmx_valid.shape)\n",
        "print(gbmy_valid.shape)\n",
        "print(gbmx_test.shape)\n",
        "print(gbmy_test.shape)"
      ],
      "execution_count": 33,
      "outputs": [
        {
          "output_type": "stream",
          "text": [
            "(158097, 10)\n",
            "(158097,)\n",
            "(52699, 10)\n",
            "(52699,)\n",
            "(52700, 10)\n",
            "(52700,)\n"
          ],
          "name": "stdout"
        }
      ]
    },
    {
      "cell_type": "markdown",
      "metadata": {
        "id": "bU9XD4NB7hPt"
      },
      "source": [
        "##### Обучение."
      ]
    },
    {
      "cell_type": "code",
      "metadata": {
        "id": "ngCQ-qq97hPu"
      },
      "source": [
        "#num_leaves = [40,50,60,70,80]\n",
        "#min_child_samples=[10,20,30,40,50]\n",
        "#max_depth =[30,50,100,150,200]"
      ],
      "execution_count": 34,
      "outputs": []
    },
    {
      "cell_type": "code",
      "metadata": {
        "scrolled": false,
        "id": "KUDF4jsO7hPy"
      },
      "source": [
        "#%%time\n",
        "#acc = pd.DataFrame(columns = ['num_leaves','max_depth','min_child_samples','RMSE'])\n",
        "#counter = 0\n",
        "#for i in max_depth:\n",
        "#    for j in min_child_samples:\n",
        "#        for k in num_leaves:\n",
        "#            gbm = lgb.LGBMRegressor(max_depth=i,min_child_samples=j,num_leaves=k,random_state=12345, n_jobs=-1).fit(gbmx_train, gbmy_train)\n",
        "#            answers_gbm = gbm.predict(gbmx_valid, num_iteration=gbm.best_iteration_)\n",
        "#            rmse_gbm = mean_squared_error(gbmy_valid, answers_gbm)**0.5\n",
        "#            acc = acc.append({'num_leaves':k,'max_depth':i, 'min_child_samples':j,'RMSE':round(rmse_gbm,5)}, ignore_index=True)\n",
        "#            print(counter)\n",
        "#            counter += 1\n",
        "#print(acc.sort_values('RMSE', ascending=True))"
      ],
      "execution_count": 35,
      "outputs": []
    },
    {
      "cell_type": "markdown",
      "metadata": {
        "id": "6-629iFWsaEI"
      },
      "source": [
        "#### Визуализация важности признаков."
      ]
    },
    {
      "cell_type": "code",
      "metadata": {
        "id": "XkidFfd5sZiI",
        "outputId": "cdd4c3ba-0031-47c0-d974-b65f57185b82",
        "colab": {
          "base_uri": "https://localhost:8080/",
          "height": 513
        }
      },
      "source": [
        "gbm = lgb.LGBMRegressor(max_depth=50,min_child_samples=20,num_leaves=80,random_state=12345, n_jobs=-1).fit(gbmx_train, gbmy_train)\n",
        "feature_imp = pd.DataFrame(sorted(zip(gbm.feature_importances_,gbmx_train.columns)), columns=['Value','Feature'])\n",
        "\n",
        "plt.figure(figsize=(10, 7))\n",
        "sns.barplot(x=\"Value\", y=\"Feature\", data=feature_imp.sort_values(by=\"Value\", ascending=False))\n",
        "plt.title('LightGBM Features')\n",
        "plt.tight_layout()\n",
        "plt.show()\n",
        "#plt.savefig('lgbm_importances-01.png')"
      ],
      "execution_count": 36,
      "outputs": [
        {
          "output_type": "display_data",
          "data": {
            "image/png": "[encoded data removed]",
            "text/plain": [
              "<Figure size 720x504 with 1 Axes>"
            ]
          },
          "metadata": {
            "tags": [],
            "needs_background": "light"
          }
        }
      ]
    },
    {
      "cell_type": "markdown",
      "metadata": {
        "id": "Ps5oC7e77hP2"
      },
      "source": [
        "##### Лучший результат: LGBMRegressor(max_depth=50,min_child_samples=20,num_leaves=80)"
      ]
    },
    {
      "cell_type": "markdown",
      "metadata": {
        "id": "XExgG4HG7hP3"
      },
      "source": [
        "### Catboost."
      ]
    },
    {
      "cell_type": "code",
      "metadata": {
        "id": "rc7hGtC9momZ"
      },
      "source": [
        "x_train, x_split, y_train, y_split = train_test_split(\n",
        "    features, target, test_size=0.4, random_state=12345)\n",
        "x_valid, x_test, y_valid, y_test = train_test_split(\n",
        "    x_split, y_split, test_size=0.5, random_state=12345)\n",
        "del x_split, y_split"
      ],
      "execution_count": 37,
      "outputs": []
    },
    {
      "cell_type": "code",
      "metadata": {
        "id": "NQBS9B_H7hP4"
      },
      "source": [
        "iterations = [3000,4000]\n",
        "depth = [14,15]\n",
        "#cat_features = ['vehicletype','gearbox','model','fueltype','brand','notrepaired','yearcreated']"
      ],
      "execution_count": 38,
      "outputs": []
    },
    {
      "cell_type": "code",
      "metadata": {
        "scrolled": true,
        "id": "XvcSwSc17hP-"
      },
      "source": [
        "#%%time\n",
        "#acc = pd.DataFrame(columns = ['depth','iterations','RMSE'])\n",
        "#counter = 0\n",
        "#for i in iterations:\n",
        "#    for j in depth:\n",
        "#        cbr = CatBoostRegressor(iterations=i, depth=j, random_state=12345,loss_function='RMSE', verbose=500,task_type='GPU').fit(gbmx_train, gbmy_train)\n",
        "#        answers_cbr = cbr.predict(gbmx_valid)\n",
        "#        rmse_cbr = mean_squared_error(gbmy_valid, answers_cbr)**0.5\n",
        "#        acc = acc.append({'iterations':i, 'depth':j,'RMSE':round(rmse_cbr,5)}, ignore_index=True)\n",
        "#        print(counter)\n",
        "#        counter += 1\n",
        "#print(acc.sort_values('RMSE', ascending=True))"
      ],
      "execution_count": 39,
      "outputs": []
    },
    {
      "cell_type": "markdown",
      "metadata": {
        "id": "oKUqg0pd7hQB"
      },
      "source": [
        "##### Лучший результат: CatBoostRegressor(iterations=3000, depth=14)"
      ]
    },
    {
      "cell_type": "markdown",
      "metadata": {
        "id": "hYHTaHF34-u0"
      },
      "source": [
        "### Визуализация важности признаков."
      ]
    },
    {
      "cell_type": "code",
      "metadata": {
        "id": "EL_GQLp10gHQ",
        "outputId": "06da2b13-bf94-4a7a-b1f1-e6cd4d4e5519",
        "colab": {
          "base_uri": "https://localhost:8080/",
          "height": 68
        }
      },
      "source": [
        "cbr = CatBoostRegressor(iterations=500, depth=15, random_state=12345,loss_function='RMSE', verbose=500,task_type='GPU').fit(gbmx_train, gbmy_train)"
      ],
      "execution_count": 40,
      "outputs": [
        {
          "output_type": "stream",
          "text": [
            "Learning rate set to 0.127236\n",
            "0:\tlearn: 3384.2255786\ttotal: 220ms\tremaining: 1m 49s\n",
            "499:\tlearn: 1022.8771873\ttotal: 25.5s\tremaining: 0us\n"
          ],
          "name": "stdout"
        }
      ]
    },
    {
      "cell_type": "code",
      "metadata": {
        "id": "axXmz5KT0bl3"
      },
      "source": [
        "features = pd.DataFrame(columns=['name','importance'])\n",
        "features['importance'] = cbr.get_feature_importance()\n",
        "features['name'] = gbmx_train.columns\n",
        "features = features.sort_values('importance',ascending=False)"
      ],
      "execution_count": 41,
      "outputs": []
    },
    {
      "cell_type": "code",
      "metadata": {
        "id": "y72WbX_h0tzm",
        "outputId": "b5ab58fc-3efb-4ab3-f10b-dcdf4e244993",
        "colab": {
          "base_uri": "https://localhost:8080/",
          "height": 461
        }
      },
      "source": [
        "fig, ax = plt.subplots(1, 1, figsize=(10, 6))\n",
        "ax.bar(x=np.arange(len(features)), height=features['importance'])\n",
        "ax.set_xticklabels(features['name'], rotation=90)\n",
        "ax.set_xticks(np.arange(len(features)))\n",
        "ax.set_ylabel('Feature importance')"
      ],
      "execution_count": 42,
      "outputs": [
        {
          "output_type": "execute_result",
          "data": {
            "text/plain": [
              "Text(0, 0.5, 'Feature importance')"
            ]
          },
          "metadata": {
            "tags": []
          },
          "execution_count": 42
        },
        {
          "output_type": "display_data",
          "data": {
            "image/png": "[encoded data removed]",
            "text/plain": [
              "<Figure size 720x432 with 1 Axes>"
            ]
          },
          "metadata": {
            "tags": [],
            "needs_background": "light"
          }
        }
      ]
    },
    {
      "cell_type": "markdown",
      "metadata": {
        "id": "De4t8Mzl7hQD"
      },
      "source": [
        "### Результаты:\n",
        "2. LightGBM RMSE = 1549.21 \n",
        "3. Catboost RMSE = 1589.65\n",
        "\n",
        "Проверим на тестовой выборке."
      ]
    },
    {
      "cell_type": "markdown",
      "metadata": {
        "id": "_Z2Ctv997hQF"
      },
      "source": [
        "# 3. Анализ моделей"
      ]
    },
    {
      "cell_type": "markdown",
      "metadata": {
        "id": "YEtQKaWh7hQG"
      },
      "source": [
        "### Предсказание по медианному и среднему значению target_test."
      ]
    },
    {
      "cell_type": "code",
      "metadata": {
        "id": "6pEu0z7u7hQI",
        "outputId": "979421e2-6b7f-490e-87f0-0c9d5e59fd62",
        "colab": {
          "base_uri": "https://localhost:8080/",
          "height": 51
        }
      },
      "source": [
        "print('По медиане:',mean_squared_error(gbmy_test, ([gbmy_test.median()]*len(gbmy_test)))**0.5)\n",
        "print('По среднему:',mean_squared_error(gbmy_test, ([gbmy_test.mean()]*len(gbmy_test)))**0.5)"
      ],
      "execution_count": 43,
      "outputs": [
        {
          "output_type": "stream",
          "text": [
            "По медиане: 3919.302630766984\n",
            "По среднему: 3708.8885566540393\n"
          ],
          "name": "stdout"
        }
      ]
    },
    {
      "cell_type": "markdown",
      "metadata": {
        "id": "xWDVu8z07hQV"
      },
      "source": [
        "### Обучение выбранных моделей на тренировочных выборках."
      ]
    },
    {
      "cell_type": "markdown",
      "metadata": {
        "id": "mgUnMIwsA84L"
      },
      "source": [
        "#### LightGBM."
      ]
    },
    {
      "cell_type": "code",
      "metadata": {
        "id": "U1tJV0b3BAmp",
        "outputId": "3065221f-25d7-4a92-83d2-f4ce975f82cb",
        "colab": {
          "base_uri": "https://localhost:8080/",
          "height": 68
        }
      },
      "source": [
        "%%time\n",
        "lgbm = lgb.LGBMRegressor(max_depth=50,min_child_samples=20,num_leaves=80,random_state=12345, n_jobs=-1).fit(gbmx_train, gbmy_train)\n",
        "answers_gbm = lgbm.predict(gbmx_test, num_iteration=lgbm.best_iteration_)\n",
        "rmse_gbm = mean_squared_error(gbmy_test, answers_gbm)**0.5\n",
        "print('LightGBM RMSE на тестовой выборке:', rmse_gbm)"
      ],
      "execution_count": 44,
      "outputs": [
        {
          "output_type": "stream",
          "text": [
            "LightGBM RMSE на тестовой выборке: 1298.874462054607\n",
            "CPU times: user 3.05 s, sys: 46.4 ms, total: 3.09 s\n",
            "Wall time: 1.6 s\n"
          ],
          "name": "stdout"
        }
      ]
    },
    {
      "cell_type": "markdown",
      "metadata": {
        "id": "C2VUcKIxBpLC"
      },
      "source": [
        "#### CatBoost."
      ]
    },
    {
      "cell_type": "code",
      "metadata": {
        "id": "N1pdUpU-7hQW",
        "outputId": "be21fcdf-2eae-449f-f137-cf23d9fd4c7a",
        "colab": {
          "base_uri": "https://localhost:8080/",
          "height": 272
        }
      },
      "source": [
        "%%time\n",
        "cbr = CatBoostRegressor(depth=15,iterations=3500, random_state=12345,loss_function='RMSE', verbose=500, task_type='GPU').fit(pd.concat([gbmx_train,gbmx_valid]), pd.concat([gbmy_train,gbmy_valid]), use_best_model=True, eval_set=(gbmx_test,gbmy_test))\n",
        "answers_cbr = cbr.predict(gbmx_test)\n",
        "rmse_cbr = mean_squared_error(gbmy_test, answers_cbr)**0.5\n",
        "print('Catboost RMSE на тестовой выборке:', rmse_cbr)"
      ],
      "execution_count": 45,
      "outputs": [
        {
          "output_type": "stream",
          "text": [
            "Learning rate set to 0.052956\n",
            "0:\tlearn: 3579.3843950\ttest: 3564.5009498\tbest: 3564.5009498 (0)\ttotal: 200ms\tremaining: 11m 38s\n",
            "500:\tlearn: 1173.6513385\ttest: 1333.2081773\tbest: 1333.1497034 (499)\ttotal: 25.8s\tremaining: 2m 34s\n",
            "1000:\tlearn: 1089.0278987\ttest: 1329.4634711\tbest: 1327.3087486 (769)\ttotal: 52.4s\tremaining: 2m 10s\n",
            "1500:\tlearn: 1069.8253460\ttest: 1332.1222320\tbest: 1327.3087486 (769)\ttotal: 1m 19s\tremaining: 1m 45s\n",
            "2000:\tlearn: 1064.1715955\ttest: 1331.6446491\tbest: 1327.3087486 (769)\ttotal: 1m 46s\tremaining: 1m 19s\n",
            "2500:\tlearn: 1016.1113241\ttest: 1333.4260763\tbest: 1327.3087486 (769)\ttotal: 2m 13s\tremaining: 53.2s\n",
            "3000:\tlearn: 1001.6079995\ttest: 1336.6451183\tbest: 1327.3087486 (769)\ttotal: 2m 40s\tremaining: 26.6s\n",
            "3499:\tlearn: 996.3672927\ttest: 1338.3887636\tbest: 1327.3087486 (769)\ttotal: 3m 6s\tremaining: 0us\n",
            "bestTest = 1327.308749\n",
            "bestIteration = 769\n",
            "Shrink model to first 770 iterations.\n",
            "Catboost RMSE на тестовой выборке: 1327.3088014570908\n",
            "CPU times: user 2min 23s, sys: 2min 23s, total: 4min 46s\n",
            "Wall time: 3min 9s\n"
          ],
          "name": "stdout"
        }
      ]
    },
    {
      "cell_type": "markdown",
      "metadata": {
        "id": "77t09DwX7hQz"
      },
      "source": [
        "### Показатели на тестовой выборке:\n",
        "1. LightGBM RMSE на тестовой выборке: 1298.87\n",
        "2. Catboost RMSE на тестовой выборке: 1327.31\n",
        "3. По медиане RMSE: 3919.302630766984\n",
        "4. По среднему RMSE: 3708.8885566540393"
      ]
    }
  ]
}