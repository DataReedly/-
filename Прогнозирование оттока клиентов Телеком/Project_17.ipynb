{
  "nbformat": 4,
  "nbformat_minor": 0,
  "metadata": {
    "kernelspec": {
      "display_name": "Python 3",
      "language": "python",
      "name": "python3"
    },
    "language_info": {
      "codemirror_mode": {
        "name": "ipython",
        "version": 3
      },
      "file_extension": ".py",
      "mimetype": "text/x-python",
      "name": "python",
      "nbconvert_exporter": "python",
      "pygments_lexer": "ipython3",
      "version": "3.7.6"
    },
    "colab": {
      "name": "Выпускной проект итоговая версия.ipynb",
      "provenance": []
    }
  },
  "cells": [
    {
      "cell_type": "markdown",
      "metadata": {
        "id": "nmCd1GbpgSYP"
      },
      "source": [
        "# Импорт библиотек"
      ]
    },
    {
      "cell_type": "code",
      "metadata": {
        "id": "EkyYgNLNgSYQ",
        "outputId": "c80bc301-2954-4c14-9f51-8449a61c299c",
        "colab": {
          "base_uri": "https://localhost:8080/",
          "height": 255
        }
      },
      "source": [
        "!pip install catboost\n",
        "import pandas as pd\n",
        "import numpy as np\n",
        "import matplotlib.pyplot as plt\n",
        "import seaborn as sns\n",
        "from sklearn.preprocessing import StandardScaler\n",
        "from sklearn.model_selection import train_test_split\n",
        "from sklearn.metrics import roc_auc_score\n",
        "from sklearn.metrics import accuracy_score\n",
        "from sklearn.decomposition import PCA\n",
        "from sklearn.ensemble import RandomForestClassifier\n",
        "from sklearn.neighbors import KNeighborsClassifier\n",
        "from sklearn.svm import SVC\n",
        "from catboost import Pool, CatBoostClassifier"
      ],
      "execution_count": 1,
      "outputs": [
        {
          "output_type": "stream",
          "text": [
            "Requirement already satisfied: catboost in /usr/local/lib/python3.6/dist-packages (0.24.2)\n",
            "Requirement already satisfied: matplotlib in /usr/local/lib/python3.6/dist-packages (from catboost) (3.2.2)\n",
            "Requirement already satisfied: plotly in /usr/local/lib/python3.6/dist-packages (from catboost) (4.4.1)\n",
            "Requirement already satisfied: pandas>=0.24.0 in /usr/local/lib/python3.6/dist-packages (from catboost) (1.1.3)\n",
            "Requirement already satisfied: six in /usr/local/lib/python3.6/dist-packages (from catboost) (1.15.0)\n",
            "Requirement already satisfied: numpy>=1.16.0 in /usr/local/lib/python3.6/dist-packages (from catboost) (1.18.5)\n",
            "Requirement already satisfied: scipy in /usr/local/lib/python3.6/dist-packages (from catboost) (1.4.1)\n",
            "Requirement already satisfied: graphviz in /usr/local/lib/python3.6/dist-packages (from catboost) (0.10.1)\n",
            "Requirement already satisfied: pyparsing!=2.0.4,!=2.1.2,!=2.1.6,>=2.0.1 in /usr/local/lib/python3.6/dist-packages (from matplotlib->catboost) (2.4.7)\n",
            "Requirement already satisfied: cycler>=0.10 in /usr/local/lib/python3.6/dist-packages (from matplotlib->catboost) (0.10.0)\n",
            "Requirement already satisfied: python-dateutil>=2.1 in /usr/local/lib/python3.6/dist-packages (from matplotlib->catboost) (2.8.1)\n",
            "Requirement already satisfied: kiwisolver>=1.0.1 in /usr/local/lib/python3.6/dist-packages (from matplotlib->catboost) (1.2.0)\n",
            "Requirement already satisfied: retrying>=1.3.3 in /usr/local/lib/python3.6/dist-packages (from plotly->catboost) (1.3.3)\n",
            "Requirement already satisfied: pytz>=2017.2 in /usr/local/lib/python3.6/dist-packages (from pandas>=0.24.0->catboost) (2018.9)\n"
          ],
          "name": "stdout"
        }
      ]
    },
    {
      "cell_type": "code",
      "metadata": {
        "id": "rHsr5DfrgSYW"
      },
      "source": [
        "pd.set_option('display.max_columns', 500) "
      ],
      "execution_count": 2,
      "outputs": []
    },
    {
      "cell_type": "code",
      "metadata": {
        "id": "iByndRTNhSVk",
        "outputId": "b4a4324b-ef1c-48a4-f04d-fdae36bbf06a",
        "colab": {
          "base_uri": "https://localhost:8080/",
          "height": 34
        }
      },
      "source": [
        "from google.colab import drive\n",
        "drive.mount('/content/drive')"
      ],
      "execution_count": 3,
      "outputs": [
        {
          "output_type": "stream",
          "text": [
            "Drive already mounted at /content/drive; to attempt to forcibly remount, call drive.mount(\"/content/drive\", force_remount=True).\n"
          ],
          "name": "stdout"
        }
      ]
    },
    {
      "cell_type": "markdown",
      "metadata": {
        "id": "UTL23lxtgSYc"
      },
      "source": [
        "# Чтение данных, ознакомление, анализ, предобработка"
      ]
    },
    {
      "cell_type": "code",
      "metadata": {
        "id": "qVfxNb77gSYc"
      },
      "source": [
        "contract = pd.read_csv('/content/drive/My Drive/Colab Notebooks/contract.csv')\n",
        "personal = pd.read_csv('/content/drive/My Drive/Colab Notebooks/personal.csv')\n",
        "internet = pd.read_csv('/content/drive/My Drive/Colab Notebooks/internet.csv')\n",
        "phone = pd.read_csv('/content/drive/My Drive/Colab Notebooks/phone.csv')"
      ],
      "execution_count": 4,
      "outputs": []
    },
    {
      "cell_type": "markdown",
      "metadata": {
        "id": "jZhN2rH4gSYh"
      },
      "source": [
        "### Contract"
      ]
    },
    {
      "cell_type": "code",
      "metadata": {
        "id": "1kd9XeTIgSYh",
        "outputId": "bab464e5-c5a6-48f5-9f7a-7087822deae1",
        "colab": {
          "base_uri": "https://localhost:8080/",
          "height": 204
        }
      },
      "source": [
        "contract.head()"
      ],
      "execution_count": 5,
      "outputs": [
        {
          "output_type": "execute_result",
          "data": {
            "text/html": [
              "<div>\n",
              "<style scoped>\n",
              "    .dataframe tbody tr th:only-of-type {\n",
              "        vertical-align: middle;\n",
              "    }\n",
              "\n",
              "    .dataframe tbody tr th {\n",
              "        vertical-align: top;\n",
              "    }\n",
              "\n",
              "    .dataframe thead th {\n",
              "        text-align: right;\n",
              "    }\n",
              "</style>\n",
              "<table border=\"1\" class=\"dataframe\">\n",
              "  <thead>\n",
              "    <tr style=\"text-align: right;\">\n",
              "      <th></th>\n",
              "      <th>customerID</th>\n",
              "      <th>BeginDate</th>\n",
              "      <th>EndDate</th>\n",
              "      <th>Type</th>\n",
              "      <th>PaperlessBilling</th>\n",
              "      <th>PaymentMethod</th>\n",
              "      <th>MonthlyCharges</th>\n",
              "      <th>TotalCharges</th>\n",
              "    </tr>\n",
              "  </thead>\n",
              "  <tbody>\n",
              "    <tr>\n",
              "      <th>0</th>\n",
              "      <td>7590-VHVEG</td>\n",
              "      <td>2020-01-01</td>\n",
              "      <td>No</td>\n",
              "      <td>Month-to-month</td>\n",
              "      <td>Yes</td>\n",
              "      <td>Electronic check</td>\n",
              "      <td>29.85</td>\n",
              "      <td>29.85</td>\n",
              "    </tr>\n",
              "    <tr>\n",
              "      <th>1</th>\n",
              "      <td>5575-GNVDE</td>\n",
              "      <td>2017-04-01</td>\n",
              "      <td>No</td>\n",
              "      <td>One year</td>\n",
              "      <td>No</td>\n",
              "      <td>Mailed check</td>\n",
              "      <td>56.95</td>\n",
              "      <td>1889.5</td>\n",
              "    </tr>\n",
              "    <tr>\n",
              "      <th>2</th>\n",
              "      <td>3668-QPYBK</td>\n",
              "      <td>2019-10-01</td>\n",
              "      <td>2019-12-01 00:00:00</td>\n",
              "      <td>Month-to-month</td>\n",
              "      <td>Yes</td>\n",
              "      <td>Mailed check</td>\n",
              "      <td>53.85</td>\n",
              "      <td>108.15</td>\n",
              "    </tr>\n",
              "    <tr>\n",
              "      <th>3</th>\n",
              "      <td>7795-CFOCW</td>\n",
              "      <td>2016-05-01</td>\n",
              "      <td>No</td>\n",
              "      <td>One year</td>\n",
              "      <td>No</td>\n",
              "      <td>Bank transfer (automatic)</td>\n",
              "      <td>42.30</td>\n",
              "      <td>1840.75</td>\n",
              "    </tr>\n",
              "    <tr>\n",
              "      <th>4</th>\n",
              "      <td>9237-HQITU</td>\n",
              "      <td>2019-09-01</td>\n",
              "      <td>2019-11-01 00:00:00</td>\n",
              "      <td>Month-to-month</td>\n",
              "      <td>Yes</td>\n",
              "      <td>Electronic check</td>\n",
              "      <td>70.70</td>\n",
              "      <td>151.65</td>\n",
              "    </tr>\n",
              "  </tbody>\n",
              "</table>\n",
              "</div>"
            ],
            "text/plain": [
              "   customerID   BeginDate              EndDate            Type  \\\n",
              "0  7590-VHVEG  2020-01-01                   No  Month-to-month   \n",
              "1  5575-GNVDE  2017-04-01                   No        One year   \n",
              "2  3668-QPYBK  2019-10-01  2019-12-01 00:00:00  Month-to-month   \n",
              "3  7795-CFOCW  2016-05-01                   No        One year   \n",
              "4  9237-HQITU  2019-09-01  2019-11-01 00:00:00  Month-to-month   \n",
              "\n",
              "  PaperlessBilling              PaymentMethod  MonthlyCharges TotalCharges  \n",
              "0              Yes           Electronic check           29.85        29.85  \n",
              "1               No               Mailed check           56.95       1889.5  \n",
              "2              Yes               Mailed check           53.85       108.15  \n",
              "3               No  Bank transfer (automatic)           42.30      1840.75  \n",
              "4              Yes           Electronic check           70.70       151.65  "
            ]
          },
          "metadata": {
            "tags": []
          },
          "execution_count": 5
        }
      ]
    },
    {
      "cell_type": "code",
      "metadata": {
        "id": "YxNhePeogSYo",
        "outputId": "1b880ac4-570b-476f-9dee-82435ef533e5",
        "colab": {
          "base_uri": "https://localhost:8080/",
          "height": 272
        }
      },
      "source": [
        "contract.info()"
      ],
      "execution_count": 6,
      "outputs": [
        {
          "output_type": "stream",
          "text": [
            "<class 'pandas.core.frame.DataFrame'>\n",
            "RangeIndex: 7043 entries, 0 to 7042\n",
            "Data columns (total 8 columns):\n",
            " #   Column            Non-Null Count  Dtype  \n",
            "---  ------            --------------  -----  \n",
            " 0   customerID        7043 non-null   object \n",
            " 1   BeginDate         7043 non-null   object \n",
            " 2   EndDate           7043 non-null   object \n",
            " 3   Type              7043 non-null   object \n",
            " 4   PaperlessBilling  7043 non-null   object \n",
            " 5   PaymentMethod     7043 non-null   object \n",
            " 6   MonthlyCharges    7043 non-null   float64\n",
            " 7   TotalCharges      7043 non-null   object \n",
            "dtypes: float64(1), object(7)\n",
            "memory usage: 440.3+ KB\n"
          ],
          "name": "stdout"
        }
      ]
    },
    {
      "cell_type": "markdown",
      "metadata": {
        "id": "XgdmFcnqgSYs"
      },
      "source": [
        "##### Выводы:\n",
        "1. Названия столбцов указаны в верхнем регистре - перевести в нижний.\n",
        "2. Значения в столбцах имеют верхний регистр - перевести в нижний.\n",
        "3. Пропусков нет.\n",
        "4. После перевода данных в нижний регистр - проверить на дубликаты.\n",
        "5. Столбцы привести к нужным типам данных."
      ]
    },
    {
      "cell_type": "code",
      "metadata": {
        "id": "758x96HqgSYt"
      },
      "source": [
        "contract.columns = contract.columns.str.lower()\n",
        "cols = ['type','paperlessbilling','paymentmethod']\n",
        "for i in cols:\n",
        "    contract[i] = contract[i].str.lower()\n",
        "contract['begindate'] = pd.to_datetime(contract['begindate'])"
      ],
      "execution_count": 7,
      "outputs": []
    },
    {
      "cell_type": "markdown",
      "metadata": {
        "id": "VX_d6BdogSY0"
      },
      "source": [
        "##### В строках столбца 'totalcharges' пропущены значение. Заполним их."
      ]
    },
    {
      "cell_type": "code",
      "metadata": {
        "id": "YvSzCzbSgSY2"
      },
      "source": [
        "def isfloat(value): \n",
        "    try:\n",
        "        float(value)\n",
        "        return True\n",
        "    except ValueError:\n",
        "        return False"
      ],
      "execution_count": 8,
      "outputs": []
    },
    {
      "cell_type": "code",
      "metadata": {
        "id": "qaOGlUU-gSY7"
      },
      "source": [
        "contract['condition'] = contract['totalcharges'].apply(isfloat)"
      ],
      "execution_count": 9,
      "outputs": []
    },
    {
      "cell_type": "code",
      "metadata": {
        "id": "llI2MCrHgSY_",
        "outputId": "5fc53ba6-a032-49bb-86fc-690238f26bd7",
        "colab": {
          "base_uri": "https://localhost:8080/",
          "height": 390
        }
      },
      "source": [
        "contract[contract['condition']==False]"
      ],
      "execution_count": 10,
      "outputs": [
        {
          "output_type": "execute_result",
          "data": {
            "text/html": [
              "<div>\n",
              "<style scoped>\n",
              "    .dataframe tbody tr th:only-of-type {\n",
              "        vertical-align: middle;\n",
              "    }\n",
              "\n",
              "    .dataframe tbody tr th {\n",
              "        vertical-align: top;\n",
              "    }\n",
              "\n",
              "    .dataframe thead th {\n",
              "        text-align: right;\n",
              "    }\n",
              "</style>\n",
              "<table border=\"1\" class=\"dataframe\">\n",
              "  <thead>\n",
              "    <tr style=\"text-align: right;\">\n",
              "      <th></th>\n",
              "      <th>customerid</th>\n",
              "      <th>begindate</th>\n",
              "      <th>enddate</th>\n",
              "      <th>type</th>\n",
              "      <th>paperlessbilling</th>\n",
              "      <th>paymentmethod</th>\n",
              "      <th>monthlycharges</th>\n",
              "      <th>totalcharges</th>\n",
              "      <th>condition</th>\n",
              "    </tr>\n",
              "  </thead>\n",
              "  <tbody>\n",
              "    <tr>\n",
              "      <th>488</th>\n",
              "      <td>4472-LVYGI</td>\n",
              "      <td>2020-02-01</td>\n",
              "      <td>No</td>\n",
              "      <td>two year</td>\n",
              "      <td>yes</td>\n",
              "      <td>bank transfer (automatic)</td>\n",
              "      <td>52.55</td>\n",
              "      <td></td>\n",
              "      <td>False</td>\n",
              "    </tr>\n",
              "    <tr>\n",
              "      <th>753</th>\n",
              "      <td>3115-CZMZD</td>\n",
              "      <td>2020-02-01</td>\n",
              "      <td>No</td>\n",
              "      <td>two year</td>\n",
              "      <td>no</td>\n",
              "      <td>mailed check</td>\n",
              "      <td>20.25</td>\n",
              "      <td></td>\n",
              "      <td>False</td>\n",
              "    </tr>\n",
              "    <tr>\n",
              "      <th>936</th>\n",
              "      <td>5709-LVOEQ</td>\n",
              "      <td>2020-02-01</td>\n",
              "      <td>No</td>\n",
              "      <td>two year</td>\n",
              "      <td>no</td>\n",
              "      <td>mailed check</td>\n",
              "      <td>80.85</td>\n",
              "      <td></td>\n",
              "      <td>False</td>\n",
              "    </tr>\n",
              "    <tr>\n",
              "      <th>1082</th>\n",
              "      <td>4367-NUYAO</td>\n",
              "      <td>2020-02-01</td>\n",
              "      <td>No</td>\n",
              "      <td>two year</td>\n",
              "      <td>no</td>\n",
              "      <td>mailed check</td>\n",
              "      <td>25.75</td>\n",
              "      <td></td>\n",
              "      <td>False</td>\n",
              "    </tr>\n",
              "    <tr>\n",
              "      <th>1340</th>\n",
              "      <td>1371-DWPAZ</td>\n",
              "      <td>2020-02-01</td>\n",
              "      <td>No</td>\n",
              "      <td>two year</td>\n",
              "      <td>no</td>\n",
              "      <td>credit card (automatic)</td>\n",
              "      <td>56.05</td>\n",
              "      <td></td>\n",
              "      <td>False</td>\n",
              "    </tr>\n",
              "    <tr>\n",
              "      <th>3331</th>\n",
              "      <td>7644-OMVMY</td>\n",
              "      <td>2020-02-01</td>\n",
              "      <td>No</td>\n",
              "      <td>two year</td>\n",
              "      <td>no</td>\n",
              "      <td>mailed check</td>\n",
              "      <td>19.85</td>\n",
              "      <td></td>\n",
              "      <td>False</td>\n",
              "    </tr>\n",
              "    <tr>\n",
              "      <th>3826</th>\n",
              "      <td>3213-VVOLG</td>\n",
              "      <td>2020-02-01</td>\n",
              "      <td>No</td>\n",
              "      <td>two year</td>\n",
              "      <td>no</td>\n",
              "      <td>mailed check</td>\n",
              "      <td>25.35</td>\n",
              "      <td></td>\n",
              "      <td>False</td>\n",
              "    </tr>\n",
              "    <tr>\n",
              "      <th>4380</th>\n",
              "      <td>2520-SGTTA</td>\n",
              "      <td>2020-02-01</td>\n",
              "      <td>No</td>\n",
              "      <td>two year</td>\n",
              "      <td>no</td>\n",
              "      <td>mailed check</td>\n",
              "      <td>20.00</td>\n",
              "      <td></td>\n",
              "      <td>False</td>\n",
              "    </tr>\n",
              "    <tr>\n",
              "      <th>5218</th>\n",
              "      <td>2923-ARZLG</td>\n",
              "      <td>2020-02-01</td>\n",
              "      <td>No</td>\n",
              "      <td>one year</td>\n",
              "      <td>yes</td>\n",
              "      <td>mailed check</td>\n",
              "      <td>19.70</td>\n",
              "      <td></td>\n",
              "      <td>False</td>\n",
              "    </tr>\n",
              "    <tr>\n",
              "      <th>6670</th>\n",
              "      <td>4075-WKNIU</td>\n",
              "      <td>2020-02-01</td>\n",
              "      <td>No</td>\n",
              "      <td>two year</td>\n",
              "      <td>no</td>\n",
              "      <td>mailed check</td>\n",
              "      <td>73.35</td>\n",
              "      <td></td>\n",
              "      <td>False</td>\n",
              "    </tr>\n",
              "    <tr>\n",
              "      <th>6754</th>\n",
              "      <td>2775-SEFEE</td>\n",
              "      <td>2020-02-01</td>\n",
              "      <td>No</td>\n",
              "      <td>two year</td>\n",
              "      <td>yes</td>\n",
              "      <td>bank transfer (automatic)</td>\n",
              "      <td>61.90</td>\n",
              "      <td></td>\n",
              "      <td>False</td>\n",
              "    </tr>\n",
              "  </tbody>\n",
              "</table>\n",
              "</div>"
            ],
            "text/plain": [
              "      customerid  begindate enddate      type paperlessbilling  \\\n",
              "488   4472-LVYGI 2020-02-01      No  two year              yes   \n",
              "753   3115-CZMZD 2020-02-01      No  two year               no   \n",
              "936   5709-LVOEQ 2020-02-01      No  two year               no   \n",
              "1082  4367-NUYAO 2020-02-01      No  two year               no   \n",
              "1340  1371-DWPAZ 2020-02-01      No  two year               no   \n",
              "3331  7644-OMVMY 2020-02-01      No  two year               no   \n",
              "3826  3213-VVOLG 2020-02-01      No  two year               no   \n",
              "4380  2520-SGTTA 2020-02-01      No  two year               no   \n",
              "5218  2923-ARZLG 2020-02-01      No  one year              yes   \n",
              "6670  4075-WKNIU 2020-02-01      No  two year               no   \n",
              "6754  2775-SEFEE 2020-02-01      No  two year              yes   \n",
              "\n",
              "                  paymentmethod  monthlycharges totalcharges  condition  \n",
              "488   bank transfer (automatic)           52.55                   False  \n",
              "753                mailed check           20.25                   False  \n",
              "936                mailed check           80.85                   False  \n",
              "1082               mailed check           25.75                   False  \n",
              "1340    credit card (automatic)           56.05                   False  \n",
              "3331               mailed check           19.85                   False  \n",
              "3826               mailed check           25.35                   False  \n",
              "4380               mailed check           20.00                   False  \n",
              "5218               mailed check           19.70                   False  \n",
              "6670               mailed check           73.35                   False  \n",
              "6754  bank transfer (automatic)           61.90                   False  "
            ]
          },
          "metadata": {
            "tags": []
          },
          "execution_count": 10
        }
      ]
    },
    {
      "cell_type": "markdown",
      "metadata": {
        "id": "YQFjza3Jkbio"
      },
      "source": [
        "##### Видим, что у 12 новых контрактов отсутсвуют значения в totalcharges. Их легко рассчитать, умножив monthlycharges на 12 или 24, в зависимости от типа контракта (one year, two year), который определяет количество месяцев предоплаты."
      ]
    },
    {
      "cell_type": "code",
      "metadata": {
        "id": "ehdPzl6wgSZD"
      },
      "source": [
        "contract.loc[contract['condition']==False,'totalcharges'] = contract.loc[contract['condition']==False,'monthlycharges']*24\n",
        "contract = contract.drop('condition',axis=1)\n",
        "contract.loc[5218,'totalcharges'] = contract.loc[5218,'monthlycharges']*12"
      ],
      "execution_count": 11,
      "outputs": []
    },
    {
      "cell_type": "markdown",
      "metadata": {
        "id": "SsxaR58BgSZL"
      },
      "source": [
        "##### Значения заполнены, переводим в тип столбца float."
      ]
    },
    {
      "cell_type": "code",
      "metadata": {
        "id": "dPTH-47KgSZL"
      },
      "source": [
        "contract['totalcharges'] = contract['totalcharges'].astype('float')"
      ],
      "execution_count": 12,
      "outputs": []
    },
    {
      "cell_type": "code",
      "metadata": {
        "id": "jjlgTIw4gSZQ",
        "outputId": "9dfc606d-1103-457d-a3a8-0cc90bdb5dfc",
        "colab": {
          "base_uri": "https://localhost:8080/",
          "height": 34
        }
      },
      "source": [
        "contract.duplicated().sum()"
      ],
      "execution_count": 13,
      "outputs": [
        {
          "output_type": "execute_result",
          "data": {
            "text/plain": [
              "0"
            ]
          },
          "metadata": {
            "tags": []
          },
          "execution_count": 13
        }
      ]
    },
    {
      "cell_type": "markdown",
      "metadata": {
        "id": "lo0gHbuVgSZW"
      },
      "source": [
        "##### Дубликатов нет."
      ]
    },
    {
      "cell_type": "markdown",
      "metadata": {
        "id": "dBNi5dYpgSZX"
      },
      "source": [
        "##### Посмотрим распределения на выбросы и аномальные значения."
      ]
    },
    {
      "cell_type": "code",
      "metadata": {
        "id": "Bz86c1zbgSZX",
        "outputId": "9df93e35-89ed-4534-be6f-02b13e0286a2",
        "colab": {
          "base_uri": "https://localhost:8080/",
          "height": 204
        }
      },
      "source": [
        "contract.head()"
      ],
      "execution_count": 14,
      "outputs": [
        {
          "output_type": "execute_result",
          "data": {
            "text/html": [
              "<div>\n",
              "<style scoped>\n",
              "    .dataframe tbody tr th:only-of-type {\n",
              "        vertical-align: middle;\n",
              "    }\n",
              "\n",
              "    .dataframe tbody tr th {\n",
              "        vertical-align: top;\n",
              "    }\n",
              "\n",
              "    .dataframe thead th {\n",
              "        text-align: right;\n",
              "    }\n",
              "</style>\n",
              "<table border=\"1\" class=\"dataframe\">\n",
              "  <thead>\n",
              "    <tr style=\"text-align: right;\">\n",
              "      <th></th>\n",
              "      <th>customerid</th>\n",
              "      <th>begindate</th>\n",
              "      <th>enddate</th>\n",
              "      <th>type</th>\n",
              "      <th>paperlessbilling</th>\n",
              "      <th>paymentmethod</th>\n",
              "      <th>monthlycharges</th>\n",
              "      <th>totalcharges</th>\n",
              "    </tr>\n",
              "  </thead>\n",
              "  <tbody>\n",
              "    <tr>\n",
              "      <th>0</th>\n",
              "      <td>7590-VHVEG</td>\n",
              "      <td>2020-01-01</td>\n",
              "      <td>No</td>\n",
              "      <td>month-to-month</td>\n",
              "      <td>yes</td>\n",
              "      <td>electronic check</td>\n",
              "      <td>29.85</td>\n",
              "      <td>29.85</td>\n",
              "    </tr>\n",
              "    <tr>\n",
              "      <th>1</th>\n",
              "      <td>5575-GNVDE</td>\n",
              "      <td>2017-04-01</td>\n",
              "      <td>No</td>\n",
              "      <td>one year</td>\n",
              "      <td>no</td>\n",
              "      <td>mailed check</td>\n",
              "      <td>56.95</td>\n",
              "      <td>1889.50</td>\n",
              "    </tr>\n",
              "    <tr>\n",
              "      <th>2</th>\n",
              "      <td>3668-QPYBK</td>\n",
              "      <td>2019-10-01</td>\n",
              "      <td>2019-12-01 00:00:00</td>\n",
              "      <td>month-to-month</td>\n",
              "      <td>yes</td>\n",
              "      <td>mailed check</td>\n",
              "      <td>53.85</td>\n",
              "      <td>108.15</td>\n",
              "    </tr>\n",
              "    <tr>\n",
              "      <th>3</th>\n",
              "      <td>7795-CFOCW</td>\n",
              "      <td>2016-05-01</td>\n",
              "      <td>No</td>\n",
              "      <td>one year</td>\n",
              "      <td>no</td>\n",
              "      <td>bank transfer (automatic)</td>\n",
              "      <td>42.30</td>\n",
              "      <td>1840.75</td>\n",
              "    </tr>\n",
              "    <tr>\n",
              "      <th>4</th>\n",
              "      <td>9237-HQITU</td>\n",
              "      <td>2019-09-01</td>\n",
              "      <td>2019-11-01 00:00:00</td>\n",
              "      <td>month-to-month</td>\n",
              "      <td>yes</td>\n",
              "      <td>electronic check</td>\n",
              "      <td>70.70</td>\n",
              "      <td>151.65</td>\n",
              "    </tr>\n",
              "  </tbody>\n",
              "</table>\n",
              "</div>"
            ],
            "text/plain": [
              "   customerid  begindate              enddate            type  \\\n",
              "0  7590-VHVEG 2020-01-01                   No  month-to-month   \n",
              "1  5575-GNVDE 2017-04-01                   No        one year   \n",
              "2  3668-QPYBK 2019-10-01  2019-12-01 00:00:00  month-to-month   \n",
              "3  7795-CFOCW 2016-05-01                   No        one year   \n",
              "4  9237-HQITU 2019-09-01  2019-11-01 00:00:00  month-to-month   \n",
              "\n",
              "  paperlessbilling              paymentmethod  monthlycharges  totalcharges  \n",
              "0              yes           electronic check           29.85         29.85  \n",
              "1               no               mailed check           56.95       1889.50  \n",
              "2              yes               mailed check           53.85        108.15  \n",
              "3               no  bank transfer (automatic)           42.30       1840.75  \n",
              "4              yes           electronic check           70.70        151.65  "
            ]
          },
          "metadata": {
            "tags": []
          },
          "execution_count": 14
        }
      ]
    },
    {
      "cell_type": "code",
      "metadata": {
        "id": "jodz-kTBgSZc",
        "outputId": "a8128181-9382-4027-fa7b-51529aa1b34c",
        "colab": {
          "base_uri": "https://localhost:8080/",
          "height": 51
        }
      },
      "source": [
        "contract['enddate'].unique()"
      ],
      "execution_count": 15,
      "outputs": [
        {
          "output_type": "execute_result",
          "data": {
            "text/plain": [
              "array(['No', '2019-12-01 00:00:00', '2019-11-01 00:00:00',\n",
              "       '2019-10-01 00:00:00', '2020-01-01 00:00:00'], dtype=object)"
            ]
          },
          "metadata": {
            "tags": []
          },
          "execution_count": 15
        }
      ]
    },
    {
      "cell_type": "code",
      "metadata": {
        "id": "s5LGX8_FgSZg",
        "outputId": "2d0065a5-e8da-4656-a900-af799b36ee72",
        "colab": {
          "base_uri": "https://localhost:8080/",
          "height": 119
        }
      },
      "source": [
        "counts = contract['enddate'].value_counts()\n",
        "counts"
      ],
      "execution_count": 16,
      "outputs": [
        {
          "output_type": "execute_result",
          "data": {
            "text/plain": [
              "No                     5174\n",
              "2019-11-01 00:00:00     485\n",
              "2019-12-01 00:00:00     466\n",
              "2020-01-01 00:00:00     460\n",
              "2019-10-01 00:00:00     458\n",
              "Name: enddate, dtype: int64"
            ]
          },
          "metadata": {
            "tags": []
          },
          "execution_count": 16
        }
      ]
    },
    {
      "cell_type": "code",
      "metadata": {
        "id": "fnsTrAwrgSZl",
        "outputId": "b13985de-016e-4c52-cdf4-e2f8429c7fb0",
        "colab": {
          "base_uri": "https://localhost:8080/",
          "height": 68
        }
      },
      "source": [
        "print('Положительных классов - ',counts.iloc[1:].sum()/counts.sum()*100)\n",
        "print('Отрицательных классов - ',counts.iloc[0]/counts.sum()*100)\n",
        "print(counts.sum())"
      ],
      "execution_count": 17,
      "outputs": [
        {
          "output_type": "stream",
          "text": [
            "Положительных классов -  26.536987079369588\n",
            "Отрицательных классов -  73.4630129206304\n",
            "7043\n"
          ],
          "name": "stdout"
        }
      ]
    },
    {
      "cell_type": "code",
      "metadata": {
        "id": "fkcFIl1YgSZp",
        "outputId": "8b34b524-691d-45ba-ff49-7c9a32ff08be",
        "colab": {
          "base_uri": "https://localhost:8080/",
          "height": 34
        }
      },
      "source": [
        "contract['type'].unique()"
      ],
      "execution_count": 18,
      "outputs": [
        {
          "output_type": "execute_result",
          "data": {
            "text/plain": [
              "array(['month-to-month', 'one year', 'two year'], dtype=object)"
            ]
          },
          "metadata": {
            "tags": []
          },
          "execution_count": 18
        }
      ]
    },
    {
      "cell_type": "code",
      "metadata": {
        "id": "4yh9Y5ZUgSZt",
        "outputId": "3788c0d9-3d2c-4ee1-d3c9-460e48ba0397",
        "colab": {
          "base_uri": "https://localhost:8080/",
          "height": 34
        }
      },
      "source": [
        "contract['paperlessbilling'].unique()"
      ],
      "execution_count": 19,
      "outputs": [
        {
          "output_type": "execute_result",
          "data": {
            "text/plain": [
              "array(['yes', 'no'], dtype=object)"
            ]
          },
          "metadata": {
            "tags": []
          },
          "execution_count": 19
        }
      ]
    },
    {
      "cell_type": "code",
      "metadata": {
        "id": "QTavK1uqgSZz",
        "outputId": "f996ca4c-24e3-41ce-b588-39213fd5e17d",
        "colab": {
          "base_uri": "https://localhost:8080/",
          "height": 51
        }
      },
      "source": [
        "contract['paymentmethod'].unique()"
      ],
      "execution_count": 20,
      "outputs": [
        {
          "output_type": "execute_result",
          "data": {
            "text/plain": [
              "array(['electronic check', 'mailed check', 'bank transfer (automatic)',\n",
              "       'credit card (automatic)'], dtype=object)"
            ]
          },
          "metadata": {
            "tags": []
          },
          "execution_count": 20
        }
      ]
    },
    {
      "cell_type": "markdown",
      "metadata": {
        "id": "OmOM_bJogSZ3"
      },
      "source": [
        "##### Вижу, что есть клиенты с автоматическим списанием и отправкой чека для оплаты."
      ]
    },
    {
      "cell_type": "code",
      "metadata": {
        "id": "T_J5a4DDgSZ4",
        "outputId": "158b1da9-f137-4088-8057-fbe0f2536259",
        "colab": {
          "base_uri": "https://localhost:8080/",
          "height": 313
        }
      },
      "source": [
        "fig, ax = plt.subplots(2,1,constrained_layout=True)\n",
        "ax[0].boxplot(contract['monthlycharges'], vert=False)\n",
        "ax[0].set_title('monthlycharges')\n",
        "ax[0].grid(True)\n",
        "ax[1].boxplot(contract['totalcharges'], vert=False)\n",
        "ax[1].set_title('totalcharges')\n",
        "ax[1].grid(True)\n",
        "plt.show()"
      ],
      "execution_count": 21,
      "outputs": [
        {
          "output_type": "display_data",
          "data": {
            "image/png": "[encoded data removed]",
            "text/plain": [
              "<Figure size 432x288 with 2 Axes>"
            ]
          },
          "metadata": {
            "tags": [],
            "needs_background": "light"
          }
        }
      ]
    },
    {
      "cell_type": "markdown",
      "metadata": {
        "id": "GY5qNNiugSZ8"
      },
      "source": [
        "##### Выбросов и аномальных значений нет. Но значения столбца totalcharges не равны умножению monthlycharges на количество месяцев использования сервиса. Это нормально в связи с тем, что где-то были применены скидки."
      ]
    },
    {
      "cell_type": "markdown",
      "metadata": {
        "id": "B3x-9JUngSZ9"
      },
      "source": [
        "##### Столбец paperlessbilling сделаем также бинарным."
      ]
    },
    {
      "cell_type": "code",
      "metadata": {
        "id": "iT2SJ5TFgSZ9"
      },
      "source": [
        "contract['paperlessbilling'] = contract['paperlessbilling'].map({'yes':1,'no':0})"
      ],
      "execution_count": 22,
      "outputs": []
    },
    {
      "cell_type": "code",
      "metadata": {
        "id": "PUXvTq3ngSaC",
        "outputId": "693249c5-234e-4b7c-8a17-44fe93bb474d",
        "colab": {
          "base_uri": "https://localhost:8080/",
          "height": 34
        }
      },
      "source": [
        "contract['paperlessbilling'].unique()"
      ],
      "execution_count": 23,
      "outputs": [
        {
          "output_type": "execute_result",
          "data": {
            "text/plain": [
              "array([1, 0])"
            ]
          },
          "metadata": {
            "tags": []
          },
          "execution_count": 23
        }
      ]
    },
    {
      "cell_type": "markdown",
      "metadata": {
        "id": "MWHTYyimgSaH"
      },
      "source": [
        "##### Создадим target - закрыт контракт (1) или нет (0) в столбце contractclosed."
      ]
    },
    {
      "cell_type": "code",
      "metadata": {
        "id": "3rtBy7UBgSaI"
      },
      "source": [
        "def cclsd(rows):\n",
        "    if rows['enddate'] == 'No':\n",
        "        return 0\n",
        "    else:\n",
        "        return 1"
      ],
      "execution_count": 24,
      "outputs": []
    },
    {
      "cell_type": "code",
      "metadata": {
        "id": "vYdRYXsUgSaM"
      },
      "source": [
        "contract['contractclosed'] = contract.apply(cclsd,axis=1)"
      ],
      "execution_count": 25,
      "outputs": []
    },
    {
      "cell_type": "markdown",
      "metadata": {
        "id": "9Cum4ArpgSaQ"
      },
      "source": [
        "##### Создадим признак - время пользования сервисом."
      ]
    },
    {
      "cell_type": "code",
      "metadata": {
        "id": "nGjnLv6sgSaR"
      },
      "source": [
        "def usagetime(row):\n",
        "    if row['enddate'] == 'No':\n",
        "        return int(round(((pd.to_datetime('2020-02-01') - pd.to_datetime(row['begindate']))/np.timedelta64(1,'D')),0))\n",
        "    else:\n",
        "        return int(round(((pd.to_datetime(row['enddate']) - pd.to_datetime(row['begindate']))/np.timedelta64(1,'D')),0))"
      ],
      "execution_count": 26,
      "outputs": []
    },
    {
      "cell_type": "code",
      "metadata": {
        "id": "hrxji3ingSaU"
      },
      "source": [
        "contract['usageperiod'] = contract.apply(usagetime, axis=1)"
      ],
      "execution_count": 27,
      "outputs": []
    },
    {
      "cell_type": "markdown",
      "metadata": {
        "id": "eVK3Ti-igSaY"
      },
      "source": [
        "##### Создам признак - newclient, который подключился в течение последних 6 месяцев."
      ]
    },
    {
      "cell_type": "code",
      "metadata": {
        "id": "I8NUpJVrgSab"
      },
      "source": [
        "def newclnt(rows):\n",
        "    if pd.to_datetime(rows['begindate'])>=pd.to_datetime('2019-08-01'):\n",
        "        return 1\n",
        "    else:\n",
        "        return 0\n",
        "contract['newclient'] = contract.apply(newclnt,axis=1)"
      ],
      "execution_count": 28,
      "outputs": []
    },
    {
      "cell_type": "markdown",
      "metadata": {
        "id": "VSCbZYAFgSaf"
      },
      "source": [
        "### Personal"
      ]
    },
    {
      "cell_type": "markdown",
      "metadata": {
        "id": "vnkEQembgSaf"
      },
      "source": [
        "# Привести столбцы к признакам"
      ]
    },
    {
      "cell_type": "code",
      "metadata": {
        "id": "QCpMMkhugSag",
        "outputId": "ff33e73f-e1ae-4045-f1d0-b0057759a3aa",
        "colab": {
          "base_uri": "https://localhost:8080/",
          "height": 204
        }
      },
      "source": [
        "personal.head()"
      ],
      "execution_count": 29,
      "outputs": [
        {
          "output_type": "execute_result",
          "data": {
            "text/html": [
              "<div>\n",
              "<style scoped>\n",
              "    .dataframe tbody tr th:only-of-type {\n",
              "        vertical-align: middle;\n",
              "    }\n",
              "\n",
              "    .dataframe tbody tr th {\n",
              "        vertical-align: top;\n",
              "    }\n",
              "\n",
              "    .dataframe thead th {\n",
              "        text-align: right;\n",
              "    }\n",
              "</style>\n",
              "<table border=\"1\" class=\"dataframe\">\n",
              "  <thead>\n",
              "    <tr style=\"text-align: right;\">\n",
              "      <th></th>\n",
              "      <th>customerID</th>\n",
              "      <th>gender</th>\n",
              "      <th>SeniorCitizen</th>\n",
              "      <th>Partner</th>\n",
              "      <th>Dependents</th>\n",
              "    </tr>\n",
              "  </thead>\n",
              "  <tbody>\n",
              "    <tr>\n",
              "      <th>0</th>\n",
              "      <td>7590-VHVEG</td>\n",
              "      <td>Female</td>\n",
              "      <td>0</td>\n",
              "      <td>Yes</td>\n",
              "      <td>No</td>\n",
              "    </tr>\n",
              "    <tr>\n",
              "      <th>1</th>\n",
              "      <td>5575-GNVDE</td>\n",
              "      <td>Male</td>\n",
              "      <td>0</td>\n",
              "      <td>No</td>\n",
              "      <td>No</td>\n",
              "    </tr>\n",
              "    <tr>\n",
              "      <th>2</th>\n",
              "      <td>3668-QPYBK</td>\n",
              "      <td>Male</td>\n",
              "      <td>0</td>\n",
              "      <td>No</td>\n",
              "      <td>No</td>\n",
              "    </tr>\n",
              "    <tr>\n",
              "      <th>3</th>\n",
              "      <td>7795-CFOCW</td>\n",
              "      <td>Male</td>\n",
              "      <td>0</td>\n",
              "      <td>No</td>\n",
              "      <td>No</td>\n",
              "    </tr>\n",
              "    <tr>\n",
              "      <th>4</th>\n",
              "      <td>9237-HQITU</td>\n",
              "      <td>Female</td>\n",
              "      <td>0</td>\n",
              "      <td>No</td>\n",
              "      <td>No</td>\n",
              "    </tr>\n",
              "  </tbody>\n",
              "</table>\n",
              "</div>"
            ],
            "text/plain": [
              "   customerID  gender  SeniorCitizen Partner Dependents\n",
              "0  7590-VHVEG  Female              0     Yes         No\n",
              "1  5575-GNVDE    Male              0      No         No\n",
              "2  3668-QPYBK    Male              0      No         No\n",
              "3  7795-CFOCW    Male              0      No         No\n",
              "4  9237-HQITU  Female              0      No         No"
            ]
          },
          "metadata": {
            "tags": []
          },
          "execution_count": 29
        }
      ]
    },
    {
      "cell_type": "markdown",
      "metadata": {
        "id": "RgdMFeV7gSaj"
      },
      "source": [
        "##### Приведем все столбцы к нижнему регистру."
      ]
    },
    {
      "cell_type": "code",
      "metadata": {
        "id": "mo58pxeHgSak"
      },
      "source": [
        "personal.columns = personal.columns.str.lower()"
      ],
      "execution_count": 30,
      "outputs": []
    },
    {
      "cell_type": "code",
      "metadata": {
        "id": "yv0ybq2UgSan",
        "outputId": "720ee0a6-df4e-4172-acc2-a43398d1abe3",
        "colab": {
          "base_uri": "https://localhost:8080/",
          "height": 221
        }
      },
      "source": [
        "personal.info()"
      ],
      "execution_count": 31,
      "outputs": [
        {
          "output_type": "stream",
          "text": [
            "<class 'pandas.core.frame.DataFrame'>\n",
            "RangeIndex: 7043 entries, 0 to 7042\n",
            "Data columns (total 5 columns):\n",
            " #   Column         Non-Null Count  Dtype \n",
            "---  ------         --------------  ----- \n",
            " 0   customerid     7043 non-null   object\n",
            " 1   gender         7043 non-null   object\n",
            " 2   seniorcitizen  7043 non-null   int64 \n",
            " 3   partner        7043 non-null   object\n",
            " 4   dependents     7043 non-null   object\n",
            "dtypes: int64(1), object(4)\n",
            "memory usage: 275.2+ KB\n"
          ],
          "name": "stdout"
        }
      ]
    },
    {
      "cell_type": "markdown",
      "metadata": {
        "id": "lU-81UiCgSas"
      },
      "source": [
        "##### Типы данных правильные, пропусков нет."
      ]
    },
    {
      "cell_type": "code",
      "metadata": {
        "id": "3alkdQkdgSas",
        "outputId": "f80c2c74-dd33-4b3a-e8e6-42f073aa26b1",
        "colab": {
          "base_uri": "https://localhost:8080/",
          "height": 51
        }
      },
      "source": [
        "print(set(contract['customerid']).difference(set(personal['customerid'])))\n",
        "print(set(personal['customerid']).difference(set(contract['customerid'])))"
      ],
      "execution_count": 32,
      "outputs": [
        {
          "output_type": "stream",
          "text": [
            "set()\n",
            "set()\n"
          ],
          "name": "stdout"
        }
      ]
    },
    {
      "cell_type": "markdown",
      "metadata": {
        "id": "Sk2QPiMggSax"
      },
      "source": [
        "##### Все customerid совпадают в двух таблицах."
      ]
    },
    {
      "cell_type": "markdown",
      "metadata": {
        "id": "ngD_b2UNgSay"
      },
      "source": [
        "##### Столбец gender переведём в бинарный ismale."
      ]
    },
    {
      "cell_type": "code",
      "metadata": {
        "id": "j2ZmnR6RgSaz"
      },
      "source": [
        "personal['ismale'] = pd.get_dummies(personal['gender'], drop_first=True)"
      ],
      "execution_count": 33,
      "outputs": []
    },
    {
      "cell_type": "code",
      "metadata": {
        "id": "OJvh7p10gSa3"
      },
      "source": [
        "personal = personal.drop('gender',axis=1)"
      ],
      "execution_count": 34,
      "outputs": []
    },
    {
      "cell_type": "markdown",
      "metadata": {
        "id": "neaCN9q-gSa7"
      },
      "source": [
        "##### Переведём все Yes и No в 1 и 0."
      ]
    },
    {
      "cell_type": "code",
      "metadata": {
        "id": "1Qjiyy-NgSa7"
      },
      "source": [
        "cols = ['partner','dependents']\n",
        "for i in cols:\n",
        "    personal[i] = personal[i].map({'Yes':1,'No':0})"
      ],
      "execution_count": 35,
      "outputs": []
    },
    {
      "cell_type": "code",
      "metadata": {
        "id": "fePpUu-ggSa_",
        "outputId": "b18b64c9-78ab-4e45-8fc1-15469de6c274",
        "colab": {
          "base_uri": "https://localhost:8080/",
          "height": 204
        }
      },
      "source": [
        "personal.head()"
      ],
      "execution_count": 36,
      "outputs": [
        {
          "output_type": "execute_result",
          "data": {
            "text/html": [
              "<div>\n",
              "<style scoped>\n",
              "    .dataframe tbody tr th:only-of-type {\n",
              "        vertical-align: middle;\n",
              "    }\n",
              "\n",
              "    .dataframe tbody tr th {\n",
              "        vertical-align: top;\n",
              "    }\n",
              "\n",
              "    .dataframe thead th {\n",
              "        text-align: right;\n",
              "    }\n",
              "</style>\n",
              "<table border=\"1\" class=\"dataframe\">\n",
              "  <thead>\n",
              "    <tr style=\"text-align: right;\">\n",
              "      <th></th>\n",
              "      <th>customerid</th>\n",
              "      <th>seniorcitizen</th>\n",
              "      <th>partner</th>\n",
              "      <th>dependents</th>\n",
              "      <th>ismale</th>\n",
              "    </tr>\n",
              "  </thead>\n",
              "  <tbody>\n",
              "    <tr>\n",
              "      <th>0</th>\n",
              "      <td>7590-VHVEG</td>\n",
              "      <td>0</td>\n",
              "      <td>1</td>\n",
              "      <td>0</td>\n",
              "      <td>0</td>\n",
              "    </tr>\n",
              "    <tr>\n",
              "      <th>1</th>\n",
              "      <td>5575-GNVDE</td>\n",
              "      <td>0</td>\n",
              "      <td>0</td>\n",
              "      <td>0</td>\n",
              "      <td>1</td>\n",
              "    </tr>\n",
              "    <tr>\n",
              "      <th>2</th>\n",
              "      <td>3668-QPYBK</td>\n",
              "      <td>0</td>\n",
              "      <td>0</td>\n",
              "      <td>0</td>\n",
              "      <td>1</td>\n",
              "    </tr>\n",
              "    <tr>\n",
              "      <th>3</th>\n",
              "      <td>7795-CFOCW</td>\n",
              "      <td>0</td>\n",
              "      <td>0</td>\n",
              "      <td>0</td>\n",
              "      <td>1</td>\n",
              "    </tr>\n",
              "    <tr>\n",
              "      <th>4</th>\n",
              "      <td>9237-HQITU</td>\n",
              "      <td>0</td>\n",
              "      <td>0</td>\n",
              "      <td>0</td>\n",
              "      <td>0</td>\n",
              "    </tr>\n",
              "  </tbody>\n",
              "</table>\n",
              "</div>"
            ],
            "text/plain": [
              "   customerid  seniorcitizen  partner  dependents  ismale\n",
              "0  7590-VHVEG              0        1           0       0\n",
              "1  5575-GNVDE              0        0           0       1\n",
              "2  3668-QPYBK              0        0           0       1\n",
              "3  7795-CFOCW              0        0           0       1\n",
              "4  9237-HQITU              0        0           0       0"
            ]
          },
          "metadata": {
            "tags": []
          },
          "execution_count": 36
        }
      ]
    },
    {
      "cell_type": "markdown",
      "metadata": {
        "id": "RuEj7IfEgSbH"
      },
      "source": [
        "### Создам новый признак - hasfamily, если есть дети и партнер."
      ]
    },
    {
      "cell_type": "code",
      "metadata": {
        "id": "Wu302dZugSbI"
      },
      "source": [
        "def family(row):\n",
        "    if ((row['partner']==1)&(row['dependents']==1)):\n",
        "        return 1\n",
        "    else:\n",
        "        return 0"
      ],
      "execution_count": 37,
      "outputs": []
    },
    {
      "cell_type": "code",
      "metadata": {
        "id": "Db1lBbkDgSbQ"
      },
      "source": [
        "personal['hasfamily'] = personal.apply(family,axis=1)"
      ],
      "execution_count": 38,
      "outputs": []
    },
    {
      "cell_type": "markdown",
      "metadata": {
        "id": "Z6d281thgSbZ"
      },
      "source": [
        "### Internet"
      ]
    },
    {
      "cell_type": "code",
      "metadata": {
        "id": "PKzcsuohgSba",
        "outputId": "aee84722-36d2-434e-e7e8-2873612804a1",
        "colab": {
          "base_uri": "https://localhost:8080/",
          "height": 204
        }
      },
      "source": [
        "internet.head()"
      ],
      "execution_count": 39,
      "outputs": [
        {
          "output_type": "execute_result",
          "data": {
            "text/html": [
              "<div>\n",
              "<style scoped>\n",
              "    .dataframe tbody tr th:only-of-type {\n",
              "        vertical-align: middle;\n",
              "    }\n",
              "\n",
              "    .dataframe tbody tr th {\n",
              "        vertical-align: top;\n",
              "    }\n",
              "\n",
              "    .dataframe thead th {\n",
              "        text-align: right;\n",
              "    }\n",
              "</style>\n",
              "<table border=\"1\" class=\"dataframe\">\n",
              "  <thead>\n",
              "    <tr style=\"text-align: right;\">\n",
              "      <th></th>\n",
              "      <th>customerID</th>\n",
              "      <th>InternetService</th>\n",
              "      <th>OnlineSecurity</th>\n",
              "      <th>OnlineBackup</th>\n",
              "      <th>DeviceProtection</th>\n",
              "      <th>TechSupport</th>\n",
              "      <th>StreamingTV</th>\n",
              "      <th>StreamingMovies</th>\n",
              "    </tr>\n",
              "  </thead>\n",
              "  <tbody>\n",
              "    <tr>\n",
              "      <th>0</th>\n",
              "      <td>7590-VHVEG</td>\n",
              "      <td>DSL</td>\n",
              "      <td>No</td>\n",
              "      <td>Yes</td>\n",
              "      <td>No</td>\n",
              "      <td>No</td>\n",
              "      <td>No</td>\n",
              "      <td>No</td>\n",
              "    </tr>\n",
              "    <tr>\n",
              "      <th>1</th>\n",
              "      <td>5575-GNVDE</td>\n",
              "      <td>DSL</td>\n",
              "      <td>Yes</td>\n",
              "      <td>No</td>\n",
              "      <td>Yes</td>\n",
              "      <td>No</td>\n",
              "      <td>No</td>\n",
              "      <td>No</td>\n",
              "    </tr>\n",
              "    <tr>\n",
              "      <th>2</th>\n",
              "      <td>3668-QPYBK</td>\n",
              "      <td>DSL</td>\n",
              "      <td>Yes</td>\n",
              "      <td>Yes</td>\n",
              "      <td>No</td>\n",
              "      <td>No</td>\n",
              "      <td>No</td>\n",
              "      <td>No</td>\n",
              "    </tr>\n",
              "    <tr>\n",
              "      <th>3</th>\n",
              "      <td>7795-CFOCW</td>\n",
              "      <td>DSL</td>\n",
              "      <td>Yes</td>\n",
              "      <td>No</td>\n",
              "      <td>Yes</td>\n",
              "      <td>Yes</td>\n",
              "      <td>No</td>\n",
              "      <td>No</td>\n",
              "    </tr>\n",
              "    <tr>\n",
              "      <th>4</th>\n",
              "      <td>9237-HQITU</td>\n",
              "      <td>Fiber optic</td>\n",
              "      <td>No</td>\n",
              "      <td>No</td>\n",
              "      <td>No</td>\n",
              "      <td>No</td>\n",
              "      <td>No</td>\n",
              "      <td>No</td>\n",
              "    </tr>\n",
              "  </tbody>\n",
              "</table>\n",
              "</div>"
            ],
            "text/plain": [
              "   customerID InternetService OnlineSecurity OnlineBackup DeviceProtection  \\\n",
              "0  7590-VHVEG             DSL             No          Yes               No   \n",
              "1  5575-GNVDE             DSL            Yes           No              Yes   \n",
              "2  3668-QPYBK             DSL            Yes          Yes               No   \n",
              "3  7795-CFOCW             DSL            Yes           No              Yes   \n",
              "4  9237-HQITU     Fiber optic             No           No               No   \n",
              "\n",
              "  TechSupport StreamingTV StreamingMovies  \n",
              "0          No          No              No  \n",
              "1          No          No              No  \n",
              "2          No          No              No  \n",
              "3         Yes          No              No  \n",
              "4          No          No              No  "
            ]
          },
          "metadata": {
            "tags": []
          },
          "execution_count": 39
        }
      ]
    },
    {
      "cell_type": "code",
      "metadata": {
        "id": "FDIRcEEPgSbj",
        "outputId": "426c51b0-2642-48b2-bc27-7e8606c8cfac",
        "colab": {
          "base_uri": "https://localhost:8080/",
          "height": 272
        }
      },
      "source": [
        "internet.info()"
      ],
      "execution_count": 40,
      "outputs": [
        {
          "output_type": "stream",
          "text": [
            "<class 'pandas.core.frame.DataFrame'>\n",
            "RangeIndex: 5517 entries, 0 to 5516\n",
            "Data columns (total 8 columns):\n",
            " #   Column            Non-Null Count  Dtype \n",
            "---  ------            --------------  ----- \n",
            " 0   customerID        5517 non-null   object\n",
            " 1   InternetService   5517 non-null   object\n",
            " 2   OnlineSecurity    5517 non-null   object\n",
            " 3   OnlineBackup      5517 non-null   object\n",
            " 4   DeviceProtection  5517 non-null   object\n",
            " 5   TechSupport       5517 non-null   object\n",
            " 6   StreamingTV       5517 non-null   object\n",
            " 7   StreamingMovies   5517 non-null   object\n",
            "dtypes: object(8)\n",
            "memory usage: 344.9+ KB\n"
          ],
          "name": "stdout"
        }
      ]
    },
    {
      "cell_type": "code",
      "metadata": {
        "id": "ygGeGHTDgSbo",
        "outputId": "5fa17997-352b-4b31-b56b-0b5273143bd8",
        "colab": {
          "base_uri": "https://localhost:8080/",
          "height": 136
        }
      },
      "source": [
        "print(internet['InternetService'].unique())\n",
        "print(internet['OnlineSecurity'].unique())\n",
        "print(internet['OnlineBackup'].unique())\n",
        "print(internet['DeviceProtection'].unique())\n",
        "print(internet['TechSupport'].unique())\n",
        "print(internet['StreamingTV'].unique())\n",
        "print(internet['StreamingMovies'].unique())"
      ],
      "execution_count": 41,
      "outputs": [
        {
          "output_type": "stream",
          "text": [
            "['DSL' 'Fiber optic']\n",
            "['No' 'Yes']\n",
            "['Yes' 'No']\n",
            "['No' 'Yes']\n",
            "['No' 'Yes']\n",
            "['No' 'Yes']\n",
            "['No' 'Yes']\n"
          ],
          "name": "stdout"
        }
      ]
    },
    {
      "cell_type": "markdown",
      "metadata": {
        "id": "E1eg6NWdgSbr"
      },
      "source": [
        "##### Значения столбцов в норме."
      ]
    },
    {
      "cell_type": "code",
      "metadata": {
        "id": "cp3fng4agSbs"
      },
      "source": [
        "internet.columns = internet.columns.str.lower()"
      ],
      "execution_count": 42,
      "outputs": []
    },
    {
      "cell_type": "markdown",
      "metadata": {
        "id": "zvHpHfnugSb0"
      },
      "source": [
        "##### Значения yes и no приведём к 1 и 0."
      ]
    },
    {
      "cell_type": "code",
      "metadata": {
        "id": "mL0aUeJggSb1"
      },
      "source": [
        "cols = ['onlinesecurity','onlinebackup','deviceprotection','techsupport','streamingtv','streamingmovies']\n",
        "for i in cols:\n",
        "    internet[i] = internet[i].map({'Yes':1,'No':0})"
      ],
      "execution_count": 43,
      "outputs": []
    },
    {
      "cell_type": "markdown",
      "metadata": {
        "id": "odsn2S-zgSb5"
      },
      "source": [
        "### Создам новый признак - количество сервисов."
      ]
    },
    {
      "cell_type": "code",
      "metadata": {
        "id": "UMIwZf25gSb6"
      },
      "source": [
        "internet['numofservices'] = internet[['onlinesecurity','onlinebackup','deviceprotection','techsupport','streamingtv','streamingmovies']].sum(axis=1).astype('int')\n",
        "#internet = internet.drop(['onlinesecurity','onlinebackup','deviceprotection','techsupport','streamingtv','streamingmovies'],axis=1)"
      ],
      "execution_count": 44,
      "outputs": []
    },
    {
      "cell_type": "markdown",
      "metadata": {
        "id": "l1cq3FFhgScA"
      },
      "source": [
        "##### Расхождений между internet['customerid'] и personal['customerid'] нет."
      ]
    },
    {
      "cell_type": "code",
      "metadata": {
        "id": "ujUsFPnqgScB",
        "outputId": "4de5bf64-21a9-42bc-bf10-3ad959fd1c16",
        "colab": {
          "base_uri": "https://localhost:8080/",
          "height": 34
        }
      },
      "source": [
        "print(len(set(internet['customerid']).difference(set(personal['customerid']))))"
      ],
      "execution_count": 45,
      "outputs": [
        {
          "output_type": "stream",
          "text": [
            "0\n"
          ],
          "name": "stdout"
        }
      ]
    },
    {
      "cell_type": "markdown",
      "metadata": {
        "id": "yLCguBx1gScE"
      },
      "source": [
        "### Phone"
      ]
    },
    {
      "cell_type": "code",
      "metadata": {
        "id": "mZ004cJZgScF",
        "outputId": "c0968700-c7ad-4ca1-febb-8bb4d524887b",
        "colab": {
          "base_uri": "https://localhost:8080/",
          "height": 204
        }
      },
      "source": [
        "phone.head()"
      ],
      "execution_count": 46,
      "outputs": [
        {
          "output_type": "execute_result",
          "data": {
            "text/html": [
              "<div>\n",
              "<style scoped>\n",
              "    .dataframe tbody tr th:only-of-type {\n",
              "        vertical-align: middle;\n",
              "    }\n",
              "\n",
              "    .dataframe tbody tr th {\n",
              "        vertical-align: top;\n",
              "    }\n",
              "\n",
              "    .dataframe thead th {\n",
              "        text-align: right;\n",
              "    }\n",
              "</style>\n",
              "<table border=\"1\" class=\"dataframe\">\n",
              "  <thead>\n",
              "    <tr style=\"text-align: right;\">\n",
              "      <th></th>\n",
              "      <th>customerID</th>\n",
              "      <th>MultipleLines</th>\n",
              "    </tr>\n",
              "  </thead>\n",
              "  <tbody>\n",
              "    <tr>\n",
              "      <th>0</th>\n",
              "      <td>5575-GNVDE</td>\n",
              "      <td>No</td>\n",
              "    </tr>\n",
              "    <tr>\n",
              "      <th>1</th>\n",
              "      <td>3668-QPYBK</td>\n",
              "      <td>No</td>\n",
              "    </tr>\n",
              "    <tr>\n",
              "      <th>2</th>\n",
              "      <td>9237-HQITU</td>\n",
              "      <td>No</td>\n",
              "    </tr>\n",
              "    <tr>\n",
              "      <th>3</th>\n",
              "      <td>9305-CDSKC</td>\n",
              "      <td>Yes</td>\n",
              "    </tr>\n",
              "    <tr>\n",
              "      <th>4</th>\n",
              "      <td>1452-KIOVK</td>\n",
              "      <td>Yes</td>\n",
              "    </tr>\n",
              "  </tbody>\n",
              "</table>\n",
              "</div>"
            ],
            "text/plain": [
              "   customerID MultipleLines\n",
              "0  5575-GNVDE            No\n",
              "1  3668-QPYBK            No\n",
              "2  9237-HQITU            No\n",
              "3  9305-CDSKC           Yes\n",
              "4  1452-KIOVK           Yes"
            ]
          },
          "metadata": {
            "tags": []
          },
          "execution_count": 46
        }
      ]
    },
    {
      "cell_type": "markdown",
      "metadata": {
        "id": "FKxcahFagScK"
      },
      "source": [
        "##### Приведём названия столбцов к нижнему регистру."
      ]
    },
    {
      "cell_type": "code",
      "metadata": {
        "id": "hyNuxKeAgScK"
      },
      "source": [
        "phone.columns = phone.columns.str.lower()"
      ],
      "execution_count": 47,
      "outputs": []
    },
    {
      "cell_type": "code",
      "metadata": {
        "id": "URIbN_oVgScT",
        "outputId": "133f9bff-1153-4a4c-f9ba-66ebac7496af",
        "colab": {
          "base_uri": "https://localhost:8080/",
          "height": 170
        }
      },
      "source": [
        "phone.info()"
      ],
      "execution_count": 48,
      "outputs": [
        {
          "output_type": "stream",
          "text": [
            "<class 'pandas.core.frame.DataFrame'>\n",
            "RangeIndex: 6361 entries, 0 to 6360\n",
            "Data columns (total 2 columns):\n",
            " #   Column         Non-Null Count  Dtype \n",
            "---  ------         --------------  ----- \n",
            " 0   customerid     6361 non-null   object\n",
            " 1   multiplelines  6361 non-null   object\n",
            "dtypes: object(2)\n",
            "memory usage: 99.5+ KB\n"
          ],
          "name": "stdout"
        }
      ]
    },
    {
      "cell_type": "markdown",
      "metadata": {
        "id": "RKH1rN8CgScX"
      },
      "source": [
        "##### Пропущенные значения отсутствуют."
      ]
    },
    {
      "cell_type": "code",
      "metadata": {
        "id": "f0gZJBEPgScn",
        "outputId": "c80bfdf7-5e26-46bf-f02d-34004f919636",
        "colab": {
          "base_uri": "https://localhost:8080/",
          "height": 34
        }
      },
      "source": [
        "print(len(set(phone['customerid']).difference(set(personal['customerid']))))"
      ],
      "execution_count": 51,
      "outputs": [
        {
          "output_type": "stream",
          "text": [
            "0\n"
          ],
          "name": "stdout"
        }
      ]
    },
    {
      "cell_type": "markdown",
      "metadata": {
        "id": "BWrhN0xngScs"
      },
      "source": [
        "##### Расхождений между phone['customerid'] и personal['customerid'] нет."
      ]
    },
    {
      "cell_type": "markdown",
      "metadata": {
        "id": "-4fDf0W1gSct"
      },
      "source": [
        "# План работы:\n",
        "1. После выяснения подробностей про столбцы пойму необходимость каждого признака для обучения модели.\n",
        "    - Неизвестна важность каждого признака для обучения.\n",
        "2. Соберу все таблицы в одну с помощью merge.\n",
        "    - Таким образом получим готовый обучающий датасет.\n",
        "3. Подготовлю данные для обучения моделей.\n",
        "    - Кодирование, масштабирование признаков и т.д.\n",
        "4. Обучение и тюнинг моделей.\n",
        "5. Получение метрики accuracy."
      ]
    },
    {
      "cell_type": "markdown",
      "metadata": {
        "id": "ZuMvvD-NgScv"
      },
      "source": [
        "# Подготовка признаков закончена. Соберу все таблицы в одну для обучения моделей."
      ]
    },
    {
      "cell_type": "code",
      "metadata": {
        "id": "4qOR-GXqgScv"
      },
      "source": [
        "data = contract.merge(phone, on='customerid', how='outer', indicator=True)"
      ],
      "execution_count": 52,
      "outputs": []
    },
    {
      "cell_type": "code",
      "metadata": {
        "id": "zwKnZt8egSc0",
        "outputId": "4e8a59aa-ab45-4634-960b-a8d7d7868813",
        "colab": {
          "base_uri": "https://localhost:8080/",
          "height": 51
        }
      },
      "source": [
        "data['_merge'].unique()"
      ],
      "execution_count": 53,
      "outputs": [
        {
          "output_type": "execute_result",
          "data": {
            "text/plain": [
              "['left_only', 'both']\n",
              "Categories (2, object): ['left_only', 'both']"
            ]
          },
          "metadata": {
            "tags": []
          },
          "execution_count": 53
        }
      ]
    },
    {
      "cell_type": "markdown",
      "metadata": {
        "id": "upn1VkRcgSc4"
      },
      "source": [
        "##### Объединение прошло успешно. Заполним NaN и удалим столбец _merge."
      ]
    },
    {
      "cell_type": "code",
      "metadata": {
        "id": "E2aUiQBYgSc5"
      },
      "source": [
        "data['multiplelines'] = data['multiplelines'].fillna('No_phone')\n",
        "#data['multiplelines'] = data['multiplelines'].astype('int')\n",
        "data = data.drop('_merge',axis=1)"
      ],
      "execution_count": 54,
      "outputs": []
    },
    {
      "cell_type": "code",
      "metadata": {
        "id": "TWoj35iKgSc-"
      },
      "source": [
        "data = data.merge(personal, on='customerid', how='outer', indicator=True)"
      ],
      "execution_count": 55,
      "outputs": []
    },
    {
      "cell_type": "code",
      "metadata": {
        "id": "BrL2u9CQgSdC",
        "outputId": "ff38bafa-c109-4f65-9379-90baa6b5b2b5",
        "colab": {
          "base_uri": "https://localhost:8080/",
          "height": 51
        }
      },
      "source": [
        "print(data['_merge'].unique())\n",
        "data = data.drop('_merge',axis=1)"
      ],
      "execution_count": 56,
      "outputs": [
        {
          "output_type": "stream",
          "text": [
            "['both']\n",
            "Categories (1, object): ['both']\n"
          ],
          "name": "stdout"
        }
      ]
    },
    {
      "cell_type": "markdown",
      "metadata": {
        "id": "f4hSO1JDgSdH"
      },
      "source": [
        "##### Объединение прошло успешно."
      ]
    },
    {
      "cell_type": "code",
      "metadata": {
        "id": "kPeO8aBtgSdH",
        "outputId": "cb80a579-8765-4270-baca-f2d6869eb334",
        "colab": {
          "base_uri": "https://localhost:8080/",
          "height": 51
        }
      },
      "source": [
        "data = data.merge(internet, on='customerid', how='outer', indicator=True)\n",
        "print(data['_merge'].unique())\n",
        "data = data.drop('_merge',axis=1)"
      ],
      "execution_count": 57,
      "outputs": [
        {
          "output_type": "stream",
          "text": [
            "['both', 'left_only']\n",
            "Categories (2, object): ['both', 'left_only']\n"
          ],
          "name": "stdout"
        }
      ]
    },
    {
      "cell_type": "code",
      "metadata": {
        "id": "8SKvllNQgSdK",
        "outputId": "1c100bfd-0239-4272-c7d0-f52d94f98fd5",
        "colab": {
          "base_uri": "https://localhost:8080/",
          "height": 360
        }
      },
      "source": [
        "data.head()"
      ],
      "execution_count": 58,
      "outputs": [
        {
          "output_type": "execute_result",
          "data": {
            "text/html": [
              "<div>\n",
              "<style scoped>\n",
              "    .dataframe tbody tr th:only-of-type {\n",
              "        vertical-align: middle;\n",
              "    }\n",
              "\n",
              "    .dataframe tbody tr th {\n",
              "        vertical-align: top;\n",
              "    }\n",
              "\n",
              "    .dataframe thead th {\n",
              "        text-align: right;\n",
              "    }\n",
              "</style>\n",
              "<table border=\"1\" class=\"dataframe\">\n",
              "  <thead>\n",
              "    <tr style=\"text-align: right;\">\n",
              "      <th></th>\n",
              "      <th>customerid</th>\n",
              "      <th>begindate</th>\n",
              "      <th>enddate</th>\n",
              "      <th>type</th>\n",
              "      <th>paperlessbilling</th>\n",
              "      <th>paymentmethod</th>\n",
              "      <th>monthlycharges</th>\n",
              "      <th>totalcharges</th>\n",
              "      <th>contractclosed</th>\n",
              "      <th>usageperiod</th>\n",
              "      <th>newclient</th>\n",
              "      <th>multiplelines</th>\n",
              "      <th>seniorcitizen</th>\n",
              "      <th>partner</th>\n",
              "      <th>dependents</th>\n",
              "      <th>ismale</th>\n",
              "      <th>hasfamily</th>\n",
              "      <th>internetservice</th>\n",
              "      <th>onlinesecurity</th>\n",
              "      <th>onlinebackup</th>\n",
              "      <th>deviceprotection</th>\n",
              "      <th>techsupport</th>\n",
              "      <th>streamingtv</th>\n",
              "      <th>streamingmovies</th>\n",
              "      <th>numofservices</th>\n",
              "    </tr>\n",
              "  </thead>\n",
              "  <tbody>\n",
              "    <tr>\n",
              "      <th>0</th>\n",
              "      <td>7590-VHVEG</td>\n",
              "      <td>2020-01-01</td>\n",
              "      <td>No</td>\n",
              "      <td>month-to-month</td>\n",
              "      <td>1</td>\n",
              "      <td>electronic check</td>\n",
              "      <td>29.85</td>\n",
              "      <td>29.85</td>\n",
              "      <td>0</td>\n",
              "      <td>31</td>\n",
              "      <td>1</td>\n",
              "      <td>No_phone</td>\n",
              "      <td>0</td>\n",
              "      <td>1</td>\n",
              "      <td>0</td>\n",
              "      <td>0</td>\n",
              "      <td>0</td>\n",
              "      <td>DSL</td>\n",
              "      <td>0.0</td>\n",
              "      <td>1.0</td>\n",
              "      <td>0.0</td>\n",
              "      <td>0.0</td>\n",
              "      <td>0.0</td>\n",
              "      <td>0.0</td>\n",
              "      <td>1.0</td>\n",
              "    </tr>\n",
              "    <tr>\n",
              "      <th>1</th>\n",
              "      <td>5575-GNVDE</td>\n",
              "      <td>2017-04-01</td>\n",
              "      <td>No</td>\n",
              "      <td>one year</td>\n",
              "      <td>0</td>\n",
              "      <td>mailed check</td>\n",
              "      <td>56.95</td>\n",
              "      <td>1889.50</td>\n",
              "      <td>0</td>\n",
              "      <td>1036</td>\n",
              "      <td>0</td>\n",
              "      <td>No</td>\n",
              "      <td>0</td>\n",
              "      <td>0</td>\n",
              "      <td>0</td>\n",
              "      <td>1</td>\n",
              "      <td>0</td>\n",
              "      <td>DSL</td>\n",
              "      <td>1.0</td>\n",
              "      <td>0.0</td>\n",
              "      <td>1.0</td>\n",
              "      <td>0.0</td>\n",
              "      <td>0.0</td>\n",
              "      <td>0.0</td>\n",
              "      <td>2.0</td>\n",
              "    </tr>\n",
              "    <tr>\n",
              "      <th>2</th>\n",
              "      <td>3668-QPYBK</td>\n",
              "      <td>2019-10-01</td>\n",
              "      <td>2019-12-01 00:00:00</td>\n",
              "      <td>month-to-month</td>\n",
              "      <td>1</td>\n",
              "      <td>mailed check</td>\n",
              "      <td>53.85</td>\n",
              "      <td>108.15</td>\n",
              "      <td>1</td>\n",
              "      <td>61</td>\n",
              "      <td>1</td>\n",
              "      <td>No</td>\n",
              "      <td>0</td>\n",
              "      <td>0</td>\n",
              "      <td>0</td>\n",
              "      <td>1</td>\n",
              "      <td>0</td>\n",
              "      <td>DSL</td>\n",
              "      <td>1.0</td>\n",
              "      <td>1.0</td>\n",
              "      <td>0.0</td>\n",
              "      <td>0.0</td>\n",
              "      <td>0.0</td>\n",
              "      <td>0.0</td>\n",
              "      <td>2.0</td>\n",
              "    </tr>\n",
              "    <tr>\n",
              "      <th>3</th>\n",
              "      <td>7795-CFOCW</td>\n",
              "      <td>2016-05-01</td>\n",
              "      <td>No</td>\n",
              "      <td>one year</td>\n",
              "      <td>0</td>\n",
              "      <td>bank transfer (automatic)</td>\n",
              "      <td>42.30</td>\n",
              "      <td>1840.75</td>\n",
              "      <td>0</td>\n",
              "      <td>1371</td>\n",
              "      <td>0</td>\n",
              "      <td>No_phone</td>\n",
              "      <td>0</td>\n",
              "      <td>0</td>\n",
              "      <td>0</td>\n",
              "      <td>1</td>\n",
              "      <td>0</td>\n",
              "      <td>DSL</td>\n",
              "      <td>1.0</td>\n",
              "      <td>0.0</td>\n",
              "      <td>1.0</td>\n",
              "      <td>1.0</td>\n",
              "      <td>0.0</td>\n",
              "      <td>0.0</td>\n",
              "      <td>3.0</td>\n",
              "    </tr>\n",
              "    <tr>\n",
              "      <th>4</th>\n",
              "      <td>9237-HQITU</td>\n",
              "      <td>2019-09-01</td>\n",
              "      <td>2019-11-01 00:00:00</td>\n",
              "      <td>month-to-month</td>\n",
              "      <td>1</td>\n",
              "      <td>electronic check</td>\n",
              "      <td>70.70</td>\n",
              "      <td>151.65</td>\n",
              "      <td>1</td>\n",
              "      <td>61</td>\n",
              "      <td>1</td>\n",
              "      <td>No</td>\n",
              "      <td>0</td>\n",
              "      <td>0</td>\n",
              "      <td>0</td>\n",
              "      <td>0</td>\n",
              "      <td>0</td>\n",
              "      <td>Fiber optic</td>\n",
              "      <td>0.0</td>\n",
              "      <td>0.0</td>\n",
              "      <td>0.0</td>\n",
              "      <td>0.0</td>\n",
              "      <td>0.0</td>\n",
              "      <td>0.0</td>\n",
              "      <td>0.0</td>\n",
              "    </tr>\n",
              "  </tbody>\n",
              "</table>\n",
              "</div>"
            ],
            "text/plain": [
              "   customerid  begindate              enddate            type  \\\n",
              "0  7590-VHVEG 2020-01-01                   No  month-to-month   \n",
              "1  5575-GNVDE 2017-04-01                   No        one year   \n",
              "2  3668-QPYBK 2019-10-01  2019-12-01 00:00:00  month-to-month   \n",
              "3  7795-CFOCW 2016-05-01                   No        one year   \n",
              "4  9237-HQITU 2019-09-01  2019-11-01 00:00:00  month-to-month   \n",
              "\n",
              "   paperlessbilling              paymentmethod  monthlycharges  totalcharges  \\\n",
              "0                 1           electronic check           29.85         29.85   \n",
              "1                 0               mailed check           56.95       1889.50   \n",
              "2                 1               mailed check           53.85        108.15   \n",
              "3                 0  bank transfer (automatic)           42.30       1840.75   \n",
              "4                 1           electronic check           70.70        151.65   \n",
              "\n",
              "   contractclosed  usageperiod  newclient multiplelines  seniorcitizen  \\\n",
              "0               0           31          1      No_phone              0   \n",
              "1               0         1036          0            No              0   \n",
              "2               1           61          1            No              0   \n",
              "3               0         1371          0      No_phone              0   \n",
              "4               1           61          1            No              0   \n",
              "\n",
              "   partner  dependents  ismale  hasfamily internetservice  onlinesecurity  \\\n",
              "0        1           0       0          0             DSL             0.0   \n",
              "1        0           0       1          0             DSL             1.0   \n",
              "2        0           0       1          0             DSL             1.0   \n",
              "3        0           0       1          0             DSL             1.0   \n",
              "4        0           0       0          0     Fiber optic             0.0   \n",
              "\n",
              "   onlinebackup  deviceprotection  techsupport  streamingtv  streamingmovies  \\\n",
              "0           1.0               0.0          0.0          0.0              0.0   \n",
              "1           0.0               1.0          0.0          0.0              0.0   \n",
              "2           1.0               0.0          0.0          0.0              0.0   \n",
              "3           0.0               1.0          1.0          0.0              0.0   \n",
              "4           0.0               0.0          0.0          0.0              0.0   \n",
              "\n",
              "   numofservices  \n",
              "0            1.0  \n",
              "1            2.0  \n",
              "2            2.0  \n",
              "3            3.0  \n",
              "4            0.0  "
            ]
          },
          "metadata": {
            "tags": []
          },
          "execution_count": 58
        }
      ]
    },
    {
      "cell_type": "markdown",
      "metadata": {
        "id": "zFcQPNfRgSdM"
      },
      "source": [
        "##### Объединение прошло успешно. Таблицы contract, phone, internet, personal объединены в одну."
      ]
    },
    {
      "cell_type": "code",
      "metadata": {
        "id": "EZWyvmqOgSdN"
      },
      "source": [
        "data['internetservice'] = data['internetservice'].fillna('No_internet')"
      ],
      "execution_count": 59,
      "outputs": []
    },
    {
      "cell_type": "code",
      "metadata": {
        "id": "5hjH_uI6gSdP"
      },
      "source": [
        "data = data.fillna(0)"
      ],
      "execution_count": 60,
      "outputs": []
    },
    {
      "cell_type": "code",
      "metadata": {
        "id": "nx9zU-gUgSdR"
      },
      "source": [
        "cols = ['onlinesecurity','onlinebackup','deviceprotection','techsupport','streamingtv','streamingmovies','numofservices']\n",
        "data[cols] = data[cols].astype('int')"
      ],
      "execution_count": 61,
      "outputs": []
    },
    {
      "cell_type": "markdown",
      "metadata": {
        "id": "C_La0rR4gSdU"
      },
      "source": [
        "# Дополнительное задание:\n",
        "\n",
        "Телеком: исследование оттока клиентов\n",
        "Пока создаётся модель прогнозирования оттока клиентов, отдел маркетинга «Ниединогоразрыва.ком» приступает к проработке способов их удержания. Вам предстоит собрать нужную для этого информацию.\n",
        "\n",
        "1. Сравните распределения величин ежемесячных платежей (MonthlyCharges) всех действующих клиентов и тех, кто ушёл. Для каждой группы посчитайте статистики: средние, минимальные и максимальные значения, медиану и величины 25%- и 75%-квартилей. Постройте гистограммы распределения.  \n",
        "  \n",
        "  \n",
        "2. Сравните поведение клиентов этих двух групп. Для каждой постройте два любых графика, изображающих:\n",
        "    - долю пользователей телефонной связи;\n",
        "    - долю интернет-пользователей."
      ]
    },
    {
      "cell_type": "markdown",
      "metadata": {
        "id": "ZzXpAOZJgSdU"
      },
      "source": [
        "### 1. Сравнение распределения платежей всех клиентов."
      ]
    },
    {
      "cell_type": "code",
      "metadata": {
        "id": "kyBgxHtsgSdU",
        "outputId": "dc791742-56d0-41f8-9765-a58b986504fe",
        "colab": {
          "base_uri": "https://localhost:8080/",
          "height": 661
        }
      },
      "source": [
        "dicts = {0:'Действующий контракт',1:'Контракт закрыт'}\n",
        "for i in dicts.items():\n",
        "    ax[i[0]] = sns.distplot(data[data['contractclosed']==i[0]]['monthlycharges'], bins=50)\n",
        "    ax[i[0]].set_title(str(i[1]))\n",
        "    ax[i[0]].grid(True)\n",
        "    plt.show()"
      ],
      "execution_count": 62,
      "outputs": [
        {
          "output_type": "stream",
          "text": [
            "/usr/local/lib/python3.6/dist-packages/seaborn/distributions.py:2551: FutureWarning: `distplot` is a deprecated function and will be removed in a future version. Please adapt your code to use either `displot` (a figure-level function with similar flexibility) or `histplot` (an axes-level function for histograms).\n",
            "  warnings.warn(msg, FutureWarning)\n"
          ],
          "name": "stderr"
        },
        {
          "output_type": "display_data",
          "data": {
            "image/png": "[encoded data removed]",
            "text/plain": [
              "<Figure size 432x288 with 1 Axes>"
            ]
          },
          "metadata": {
            "tags": [],
            "needs_background": "light"
          }
        },
        {
          "output_type": "stream",
          "text": [
            "/usr/local/lib/python3.6/dist-packages/seaborn/distributions.py:2551: FutureWarning: `distplot` is a deprecated function and will be removed in a future version. Please adapt your code to use either `displot` (a figure-level function with similar flexibility) or `histplot` (an axes-level function for histograms).\n",
            "  warnings.warn(msg, FutureWarning)\n"
          ],
          "name": "stderr"
        },
        {
          "output_type": "display_data",
          "data": {
            "image/png": "[encoded data removed]",
            "text/plain": [
              "<Figure size 432x288 with 1 Axes>"
            ]
          },
          "metadata": {
            "tags": [],
            "needs_background": "light"
          }
        }
      ]
    },
    {
      "cell_type": "code",
      "metadata": {
        "id": "-e8eDUcDgSdc",
        "outputId": "bd7c9f7a-0c99-4216-b0f7-b109a76b604f",
        "colab": {
          "base_uri": "https://localhost:8080/",
          "height": 391
        }
      },
      "source": [
        "for i in dicts.items():\n",
        "    print(i[1])\n",
        "    print(data[data['contractclosed']==i[0]]['monthlycharges'].describe(),'\\n')"
      ],
      "execution_count": 63,
      "outputs": [
        {
          "output_type": "stream",
          "text": [
            "Действующий контракт\n",
            "count    5174.000000\n",
            "mean       61.265124\n",
            "std        31.092648\n",
            "min        18.250000\n",
            "25%        25.100000\n",
            "50%        64.425000\n",
            "75%        88.400000\n",
            "max       118.750000\n",
            "Name: monthlycharges, dtype: float64 \n",
            "\n",
            "Контракт закрыт\n",
            "count    1869.000000\n",
            "mean       74.441332\n",
            "std        24.666053\n",
            "min        18.850000\n",
            "25%        56.150000\n",
            "50%        79.650000\n",
            "75%        94.200000\n",
            "max       118.350000\n",
            "Name: monthlycharges, dtype: float64 \n",
            "\n"
          ],
          "name": "stdout"
        }
      ]
    },
    {
      "cell_type": "markdown",
      "metadata": {
        "id": "0f7stemagSdg"
      },
      "source": [
        "##### Выводы:\n",
        "1. На распределении ежемесячных платежей по контракту отчетливо видно, что среди ушедших абонентов преобладает стоимость услуг больше 60 единиц.  \n",
        "2. Среди действующих клиентов большинство имеют ежемесячную стоимость в районе 20 единиц.  \n",
        "3. Для обоих типов контракта минимальная и максимальная стоимость одинаковая.  \n",
        "4. Среднее значение, медиана, величины 25% и 75% квартилей ежемесячных затрат для ушедших клиентов выше, чем для действующих клиентов.  \n",
        "5. Таким образом, уходят в основном те, кто много платит ежемесячно."
      ]
    },
    {
      "cell_type": "markdown",
      "metadata": {
        "id": "nNtBYlh0gSdi"
      },
      "source": [
        "### Сравниваем поведение клиентов этих двух групп.\n",
        "\n",
        "Графики:  \n",
        "    - доля пользователей телефонной связи для обоих типов контракта;\n",
        "    - доля интернет-пользователей для обоих типов контракта."
      ]
    },
    {
      "cell_type": "markdown",
      "metadata": {
        "id": "cj6lWfD-gSdi"
      },
      "source": [
        "##### Доля пользователей интернетом для обоих типов контракта."
      ]
    },
    {
      "cell_type": "code",
      "metadata": {
        "id": "S1I5czRagSdj",
        "outputId": "838ab5d5-94ba-484b-aa22-9483338ced35",
        "colab": {
          "base_uri": "https://localhost:8080/",
          "height": 279
        }
      },
      "source": [
        "ax = sns.countplot(x=\"contractclosed\", hue=\"internetservice\", data=data)"
      ],
      "execution_count": 64,
      "outputs": [
        {
          "output_type": "display_data",
          "data": {
            "image/png": "[encoded data removed]",
            "text/plain": [
              "<Figure size 432x288 with 1 Axes>"
            ]
          },
          "metadata": {
            "tags": [],
            "needs_background": "light"
          }
        }
      ]
    },
    {
      "cell_type": "markdown",
      "metadata": {
        "id": "ZqJRRnbogSdn"
      },
      "source": [
        "##### Доля интернет-пользователей для обоих типов контракта."
      ]
    },
    {
      "cell_type": "code",
      "metadata": {
        "id": "GztIYdY4gSdo",
        "outputId": "81db289f-9406-4985-97c3-310f5deb99ea",
        "colab": {
          "base_uri": "https://localhost:8080/",
          "height": 279
        }
      },
      "source": [
        "ax = sns.countplot(x=\"contractclosed\", hue=\"multiplelines\", data=data)"
      ],
      "execution_count": 65,
      "outputs": [
        {
          "output_type": "display_data",
          "data": {
            "image/png": "[encoded data removed]",
            "text/plain": [
              "<Figure size 432x288 with 1 Axes>"
            ]
          },
          "metadata": {
            "tags": [],
            "needs_background": "light"
          }
        }
      ]
    },
    {
      "cell_type": "markdown",
      "metadata": {
        "id": "epQxvmT8gSdr"
      },
      "source": [
        "##### Выводы:\n",
        "1. Среди ушедших клиентов было примерно одинаковое количество пользователей телефонной связи и интернета.\n",
        "2. Среди действующих клиентов доля пользователей телефонной связью немного выше."
      ]
    },
    {
      "cell_type": "markdown",
      "metadata": {
        "id": "H7x-YR9RgSdt"
      },
      "source": [
        "# Подготовка данных для обучения моделей."
      ]
    },
    {
      "cell_type": "markdown",
      "metadata": {
        "id": "xhWxO_kOgSd1"
      },
      "source": [
        "### Разбиение на features и target выборки."
      ]
    },
    {
      "cell_type": "code",
      "metadata": {
        "id": "jWoKnXuBgSd1"
      },
      "source": [
        "data = data.reset_index(drop=True)\n",
        "x = data.drop(['customerid','begindate','enddate','contractclosed'], axis=1)\n",
        "y = data['contractclosed']"
      ],
      "execution_count": 66,
      "outputs": []
    },
    {
      "cell_type": "markdown",
      "metadata": {
        "id": "hPVyRczEgSd4"
      },
      "source": [
        "### Кодирование признаков."
      ]
    },
    {
      "cell_type": "code",
      "metadata": {
        "id": "VJRqopTQgSd6"
      },
      "source": [
        "from sklearn.preprocessing import OrdinalEncoder\n",
        "enc = OrdinalEncoder()\n",
        "cols=['internetservice','multiplelines','paymentmethod','type']\n",
        "x[cols] = enc.fit_transform(x[cols])\n",
        "x[cols] = x[cols].astype('int')"
      ],
      "execution_count": 67,
      "outputs": []
    },
    {
      "cell_type": "markdown",
      "metadata": {
        "id": "xQmZDHNVgSeB"
      },
      "source": [
        "### Узнаем необходимое количество категорий для сегментирования пользователей по totalcharges и monthlycharges."
      ]
    },
    {
      "cell_type": "code",
      "metadata": {
        "id": "yS2BLIfRgSeB"
      },
      "source": [
        "from sklearn.cluster import KMeans\n",
        "distortion = []\n",
        "K = range(1, 10)\n",
        "for k in K:\n",
        "    model = KMeans(n_clusters=k, random_state=12345)\n",
        "    model.fit(x[['totalcharges']])\n",
        "    distortion.append(model.inertia_) "
      ],
      "execution_count": 68,
      "outputs": []
    },
    {
      "cell_type": "code",
      "metadata": {
        "id": "gBCcJJh8gSeI",
        "outputId": "b1cc4e49-7621-42c4-c5ef-0c99f12cfb76",
        "colab": {
          "base_uri": "https://localhost:8080/",
          "height": 508
        }
      },
      "source": [
        "plt.figure(figsize=(12, 8))\n",
        "plt.plot(K, distortion, 'bx-')\n",
        "plt.xlabel('Число кластеров')\n",
        "plt.ylabel('Значение целевой функции')\n",
        "plt.grid(True)\n",
        "plt.show()"
      ],
      "execution_count": 69,
      "outputs": [
        {
          "output_type": "display_data",
          "data": {
            "image/png": "[encoded data removed]",
            "text/plain": [
              "<Figure size 864x576 with 1 Axes>"
            ]
          },
          "metadata": {
            "tags": [],
            "needs_background": "light"
          }
        }
      ]
    },
    {
      "cell_type": "code",
      "metadata": {
        "id": "PGUDm9GHgSeQ",
        "outputId": "7bffd0e4-8d48-4915-b820-e8e290b51baf",
        "colab": {
          "base_uri": "https://localhost:8080/",
          "height": 508
        }
      },
      "source": [
        "distortion = []\n",
        "K = range(1, 10)\n",
        "for k in K:\n",
        "    model = KMeans(n_clusters=k, random_state=12345)\n",
        "    model.fit(x[['monthlycharges']])\n",
        "    distortion.append(model.inertia_)\n",
        "plt.figure(figsize=(12, 8))\n",
        "plt.plot(K, distortion, 'bx-')\n",
        "plt.xlabel('Число кластеров')\n",
        "plt.ylabel('Значение целевой функции')\n",
        "plt.grid(True)\n",
        "plt.show()"
      ],
      "execution_count": 70,
      "outputs": [
        {
          "output_type": "display_data",
          "data": {
            "image/png": "[encoded data removed]",
            "text/plain": [
              "<Figure size 864x576 with 1 Axes>"
            ]
          },
          "metadata": {
            "tags": [],
            "needs_background": "light"
          }
        }
      ]
    },
    {
      "cell_type": "markdown",
      "metadata": {
        "id": "kN7qFv1KgSeS"
      },
      "source": [
        "### Разделим пользователей на 3 категории."
      ]
    },
    {
      "cell_type": "code",
      "metadata": {
        "id": "QFjQXHZwgSeT",
        "outputId": "2af9e37a-8225-454d-fc34-e74372ab2753",
        "colab": {
          "base_uri": "https://localhost:8080/",
          "height": 68
        }
      },
      "source": [
        "model = KMeans(n_clusters=3, random_state=12345)\n",
        "model.fit(x[['type','paymentmethod','totalcharges']])"
      ],
      "execution_count": 71,
      "outputs": [
        {
          "output_type": "execute_result",
          "data": {
            "text/plain": [
              "KMeans(algorithm='auto', copy_x=True, init='k-means++', max_iter=300,\n",
              "       n_clusters=3, n_init=10, n_jobs=None, precompute_distances='auto',\n",
              "       random_state=12345, tol=0.0001, verbose=0)"
            ]
          },
          "metadata": {
            "tags": []
          },
          "execution_count": 71
        }
      ]
    },
    {
      "cell_type": "code",
      "metadata": {
        "id": "LvKWnKsmgSeX"
      },
      "source": [
        "x['cluster_1'] = model.labels_"
      ],
      "execution_count": 72,
      "outputs": []
    },
    {
      "cell_type": "markdown",
      "metadata": {
        "id": "WGf5CoytgSeZ"
      },
      "source": [
        "### Масштабирование признаков."
      ]
    },
    {
      "cell_type": "code",
      "metadata": {
        "id": "OYIv6io3gSea"
      },
      "source": [
        "scaler = StandardScaler()\n",
        "cols = ['monthlycharges','totalcharges','usageperiod']\n",
        "x[cols] = scaler.fit_transform(x[cols])"
      ],
      "execution_count": 73,
      "outputs": []
    },
    {
      "cell_type": "markdown",
      "metadata": {
        "id": "PdAOdCmigSed"
      },
      "source": [
        "##### Уменьшение количества признаков - решил не применять."
      ]
    },
    {
      "cell_type": "code",
      "metadata": {
        "id": "FQmuQtDjgSed"
      },
      "source": [
        "#len(x.columns)"
      ],
      "execution_count": 74,
      "outputs": []
    },
    {
      "cell_type": "code",
      "metadata": {
        "id": "VW5rqxAPgSef"
      },
      "source": [
        "#pca = PCA(n_components = 20)\n",
        "#XPCAreduced = pca.fit_transform(x)"
      ],
      "execution_count": 75,
      "outputs": []
    },
    {
      "cell_type": "code",
      "metadata": {
        "id": "5nFP29rxgSeh"
      },
      "source": [
        "#XPCAreduced"
      ],
      "execution_count": 76,
      "outputs": []
    },
    {
      "cell_type": "markdown",
      "metadata": {
        "id": "tuGNFMYWgSem"
      },
      "source": [
        "##### Посмотрим на корреляцию признаков."
      ]
    },
    {
      "cell_type": "code",
      "metadata": {
        "id": "1FdbYMoEgSen"
      },
      "source": [
        "def color_values(val):\n",
        "    color = 'red' if ((val > 0.6) or (val < -0.6)) else 'black'\n",
        "    return 'color: %s' % color"
      ],
      "execution_count": 77,
      "outputs": []
    },
    {
      "cell_type": "code",
      "metadata": {
        "id": "Bx4QXhDBgSeq",
        "outputId": "d5d96fcc-1393-4927-a076-622eac3e78a3",
        "colab": {
          "base_uri": "https://localhost:8080/",
          "height": 522
        }
      },
      "source": [
        "x_corr = x.corr()\n",
        "x_corr.style.applymap(color_values)"
      ],
      "execution_count": 78,
      "outputs": [
        {
          "output_type": "execute_result",
          "data": {
            "text/html": [
              "<style  type=\"text/css\" >\n",
              "#T_840c972a_1867_11eb_be32_0242ac1c0002row0_col0,#T_840c972a_1867_11eb_be32_0242ac1c0002row0_col5,#T_840c972a_1867_11eb_be32_0242ac1c0002row1_col1,#T_840c972a_1867_11eb_be32_0242ac1c0002row2_col2,#T_840c972a_1867_11eb_be32_0242ac1c0002row3_col3,#T_840c972a_1867_11eb_be32_0242ac1c0002row3_col4,#T_840c972a_1867_11eb_be32_0242ac1c0002row3_col18,#T_840c972a_1867_11eb_be32_0242ac1c0002row3_col19,#T_840c972a_1867_11eb_be32_0242ac1c0002row3_col20,#T_840c972a_1867_11eb_be32_0242ac1c0002row4_col3,#T_840c972a_1867_11eb_be32_0242ac1c0002row4_col4,#T_840c972a_1867_11eb_be32_0242ac1c0002row4_col5,#T_840c972a_1867_11eb_be32_0242ac1c0002row4_col20,#T_840c972a_1867_11eb_be32_0242ac1c0002row4_col21,#T_840c972a_1867_11eb_be32_0242ac1c0002row5_col0,#T_840c972a_1867_11eb_be32_0242ac1c0002row5_col4,#T_840c972a_1867_11eb_be32_0242ac1c0002row5_col5,#T_840c972a_1867_11eb_be32_0242ac1c0002row6_col6,#T_840c972a_1867_11eb_be32_0242ac1c0002row7_col7,#T_840c972a_1867_11eb_be32_0242ac1c0002row8_col8,#T_840c972a_1867_11eb_be32_0242ac1c0002row9_col9,#T_840c972a_1867_11eb_be32_0242ac1c0002row10_col10,#T_840c972a_1867_11eb_be32_0242ac1c0002row10_col12,#T_840c972a_1867_11eb_be32_0242ac1c0002row11_col11,#T_840c972a_1867_11eb_be32_0242ac1c0002row12_col10,#T_840c972a_1867_11eb_be32_0242ac1c0002row12_col12,#T_840c972a_1867_11eb_be32_0242ac1c0002row13_col13,#T_840c972a_1867_11eb_be32_0242ac1c0002row14_col14,#T_840c972a_1867_11eb_be32_0242ac1c0002row15_col15,#T_840c972a_1867_11eb_be32_0242ac1c0002row15_col20,#T_840c972a_1867_11eb_be32_0242ac1c0002row16_col16,#T_840c972a_1867_11eb_be32_0242ac1c0002row16_col20,#T_840c972a_1867_11eb_be32_0242ac1c0002row17_col17,#T_840c972a_1867_11eb_be32_0242ac1c0002row17_col20,#T_840c972a_1867_11eb_be32_0242ac1c0002row18_col3,#T_840c972a_1867_11eb_be32_0242ac1c0002row18_col18,#T_840c972a_1867_11eb_be32_0242ac1c0002row18_col20,#T_840c972a_1867_11eb_be32_0242ac1c0002row19_col3,#T_840c972a_1867_11eb_be32_0242ac1c0002row19_col19,#T_840c972a_1867_11eb_be32_0242ac1c0002row19_col20,#T_840c972a_1867_11eb_be32_0242ac1c0002row20_col3,#T_840c972a_1867_11eb_be32_0242ac1c0002row20_col4,#T_840c972a_1867_11eb_be32_0242ac1c0002row20_col15,#T_840c972a_1867_11eb_be32_0242ac1c0002row20_col16,#T_840c972a_1867_11eb_be32_0242ac1c0002row20_col17,#T_840c972a_1867_11eb_be32_0242ac1c0002row20_col18,#T_840c972a_1867_11eb_be32_0242ac1c0002row20_col19,#T_840c972a_1867_11eb_be32_0242ac1c0002row20_col20,#T_840c972a_1867_11eb_be32_0242ac1c0002row21_col4,#T_840c972a_1867_11eb_be32_0242ac1c0002row21_col21{\n",
              "            color:  red;\n",
              "        }#T_840c972a_1867_11eb_be32_0242ac1c0002row0_col1,#T_840c972a_1867_11eb_be32_0242ac1c0002row0_col2,#T_840c972a_1867_11eb_be32_0242ac1c0002row0_col3,#T_840c972a_1867_11eb_be32_0242ac1c0002row0_col4,#T_840c972a_1867_11eb_be32_0242ac1c0002row0_col6,#T_840c972a_1867_11eb_be32_0242ac1c0002row0_col7,#T_840c972a_1867_11eb_be32_0242ac1c0002row0_col8,#T_840c972a_1867_11eb_be32_0242ac1c0002row0_col9,#T_840c972a_1867_11eb_be32_0242ac1c0002row0_col10,#T_840c972a_1867_11eb_be32_0242ac1c0002row0_col11,#T_840c972a_1867_11eb_be32_0242ac1c0002row0_col12,#T_840c972a_1867_11eb_be32_0242ac1c0002row0_col13,#T_840c972a_1867_11eb_be32_0242ac1c0002row0_col14,#T_840c972a_1867_11eb_be32_0242ac1c0002row0_col15,#T_840c972a_1867_11eb_be32_0242ac1c0002row0_col16,#T_840c972a_1867_11eb_be32_0242ac1c0002row0_col17,#T_840c972a_1867_11eb_be32_0242ac1c0002row0_col18,#T_840c972a_1867_11eb_be32_0242ac1c0002row0_col19,#T_840c972a_1867_11eb_be32_0242ac1c0002row0_col20,#T_840c972a_1867_11eb_be32_0242ac1c0002row0_col21,#T_840c972a_1867_11eb_be32_0242ac1c0002row1_col0,#T_840c972a_1867_11eb_be32_0242ac1c0002row1_col2,#T_840c972a_1867_11eb_be32_0242ac1c0002row1_col3,#T_840c972a_1867_11eb_be32_0242ac1c0002row1_col4,#T_840c972a_1867_11eb_be32_0242ac1c0002row1_col5,#T_840c972a_1867_11eb_be32_0242ac1c0002row1_col6,#T_840c972a_1867_11eb_be32_0242ac1c0002row1_col7,#T_840c972a_1867_11eb_be32_0242ac1c0002row1_col8,#T_840c972a_1867_11eb_be32_0242ac1c0002row1_col9,#T_840c972a_1867_11eb_be32_0242ac1c0002row1_col10,#T_840c972a_1867_11eb_be32_0242ac1c0002row1_col11,#T_840c972a_1867_11eb_be32_0242ac1c0002row1_col12,#T_840c972a_1867_11eb_be32_0242ac1c0002row1_col13,#T_840c972a_1867_11eb_be32_0242ac1c0002row1_col14,#T_840c972a_1867_11eb_be32_0242ac1c0002row1_col15,#T_840c972a_1867_11eb_be32_0242ac1c0002row1_col16,#T_840c972a_1867_11eb_be32_0242ac1c0002row1_col17,#T_840c972a_1867_11eb_be32_0242ac1c0002row1_col18,#T_840c972a_1867_11eb_be32_0242ac1c0002row1_col19,#T_840c972a_1867_11eb_be32_0242ac1c0002row1_col20,#T_840c972a_1867_11eb_be32_0242ac1c0002row1_col21,#T_840c972a_1867_11eb_be32_0242ac1c0002row2_col0,#T_840c972a_1867_11eb_be32_0242ac1c0002row2_col1,#T_840c972a_1867_11eb_be32_0242ac1c0002row2_col3,#T_840c972a_1867_11eb_be32_0242ac1c0002row2_col4,#T_840c972a_1867_11eb_be32_0242ac1c0002row2_col5,#T_840c972a_1867_11eb_be32_0242ac1c0002row2_col6,#T_840c972a_1867_11eb_be32_0242ac1c0002row2_col7,#T_840c972a_1867_11eb_be32_0242ac1c0002row2_col8,#T_840c972a_1867_11eb_be32_0242ac1c0002row2_col9,#T_840c972a_1867_11eb_be32_0242ac1c0002row2_col10,#T_840c972a_1867_11eb_be32_0242ac1c0002row2_col11,#T_840c972a_1867_11eb_be32_0242ac1c0002row2_col12,#T_840c972a_1867_11eb_be32_0242ac1c0002row2_col13,#T_840c972a_1867_11eb_be32_0242ac1c0002row2_col14,#T_840c972a_1867_11eb_be32_0242ac1c0002row2_col15,#T_840c972a_1867_11eb_be32_0242ac1c0002row2_col16,#T_840c972a_1867_11eb_be32_0242ac1c0002row2_col17,#T_840c972a_1867_11eb_be32_0242ac1c0002row2_col18,#T_840c972a_1867_11eb_be32_0242ac1c0002row2_col19,#T_840c972a_1867_11eb_be32_0242ac1c0002row2_col20,#T_840c972a_1867_11eb_be32_0242ac1c0002row2_col21,#T_840c972a_1867_11eb_be32_0242ac1c0002row3_col0,#T_840c972a_1867_11eb_be32_0242ac1c0002row3_col1,#T_840c972a_1867_11eb_be32_0242ac1c0002row3_col2,#T_840c972a_1867_11eb_be32_0242ac1c0002row3_col5,#T_840c972a_1867_11eb_be32_0242ac1c0002row3_col6,#T_840c972a_1867_11eb_be32_0242ac1c0002row3_col7,#T_840c972a_1867_11eb_be32_0242ac1c0002row3_col8,#T_840c972a_1867_11eb_be32_0242ac1c0002row3_col9,#T_840c972a_1867_11eb_be32_0242ac1c0002row3_col10,#T_840c972a_1867_11eb_be32_0242ac1c0002row3_col11,#T_840c972a_1867_11eb_be32_0242ac1c0002row3_col12,#T_840c972a_1867_11eb_be32_0242ac1c0002row3_col13,#T_840c972a_1867_11eb_be32_0242ac1c0002row3_col14,#T_840c972a_1867_11eb_be32_0242ac1c0002row3_col15,#T_840c972a_1867_11eb_be32_0242ac1c0002row3_col16,#T_840c972a_1867_11eb_be32_0242ac1c0002row3_col17,#T_840c972a_1867_11eb_be32_0242ac1c0002row3_col21,#T_840c972a_1867_11eb_be32_0242ac1c0002row4_col0,#T_840c972a_1867_11eb_be32_0242ac1c0002row4_col1,#T_840c972a_1867_11eb_be32_0242ac1c0002row4_col2,#T_840c972a_1867_11eb_be32_0242ac1c0002row4_col6,#T_840c972a_1867_11eb_be32_0242ac1c0002row4_col7,#T_840c972a_1867_11eb_be32_0242ac1c0002row4_col8,#T_840c972a_1867_11eb_be32_0242ac1c0002row4_col9,#T_840c972a_1867_11eb_be32_0242ac1c0002row4_col10,#T_840c972a_1867_11eb_be32_0242ac1c0002row4_col11,#T_840c972a_1867_11eb_be32_0242ac1c0002row4_col12,#T_840c972a_1867_11eb_be32_0242ac1c0002row4_col13,#T_840c972a_1867_11eb_be32_0242ac1c0002row4_col14,#T_840c972a_1867_11eb_be32_0242ac1c0002row4_col15,#T_840c972a_1867_11eb_be32_0242ac1c0002row4_col16,#T_840c972a_1867_11eb_be32_0242ac1c0002row4_col17,#T_840c972a_1867_11eb_be32_0242ac1c0002row4_col18,#T_840c972a_1867_11eb_be32_0242ac1c0002row4_col19,#T_840c972a_1867_11eb_be32_0242ac1c0002row5_col1,#T_840c972a_1867_11eb_be32_0242ac1c0002row5_col2,#T_840c972a_1867_11eb_be32_0242ac1c0002row5_col3,#T_840c972a_1867_11eb_be32_0242ac1c0002row5_col6,#T_840c972a_1867_11eb_be32_0242ac1c0002row5_col7,#T_840c972a_1867_11eb_be32_0242ac1c0002row5_col8,#T_840c972a_1867_11eb_be32_0242ac1c0002row5_col9,#T_840c972a_1867_11eb_be32_0242ac1c0002row5_col10,#T_840c972a_1867_11eb_be32_0242ac1c0002row5_col11,#T_840c972a_1867_11eb_be32_0242ac1c0002row5_col12,#T_840c972a_1867_11eb_be32_0242ac1c0002row5_col13,#T_840c972a_1867_11eb_be32_0242ac1c0002row5_col14,#T_840c972a_1867_11eb_be32_0242ac1c0002row5_col15,#T_840c972a_1867_11eb_be32_0242ac1c0002row5_col16,#T_840c972a_1867_11eb_be32_0242ac1c0002row5_col17,#T_840c972a_1867_11eb_be32_0242ac1c0002row5_col18,#T_840c972a_1867_11eb_be32_0242ac1c0002row5_col19,#T_840c972a_1867_11eb_be32_0242ac1c0002row5_col20,#T_840c972a_1867_11eb_be32_0242ac1c0002row5_col21,#T_840c972a_1867_11eb_be32_0242ac1c0002row6_col0,#T_840c972a_1867_11eb_be32_0242ac1c0002row6_col1,#T_840c972a_1867_11eb_be32_0242ac1c0002row6_col2,#T_840c972a_1867_11eb_be32_0242ac1c0002row6_col3,#T_840c972a_1867_11eb_be32_0242ac1c0002row6_col4,#T_840c972a_1867_11eb_be32_0242ac1c0002row6_col5,#T_840c972a_1867_11eb_be32_0242ac1c0002row6_col7,#T_840c972a_1867_11eb_be32_0242ac1c0002row6_col8,#T_840c972a_1867_11eb_be32_0242ac1c0002row6_col9,#T_840c972a_1867_11eb_be32_0242ac1c0002row6_col10,#T_840c972a_1867_11eb_be32_0242ac1c0002row6_col11,#T_840c972a_1867_11eb_be32_0242ac1c0002row6_col12,#T_840c972a_1867_11eb_be32_0242ac1c0002row6_col13,#T_840c972a_1867_11eb_be32_0242ac1c0002row6_col14,#T_840c972a_1867_11eb_be32_0242ac1c0002row6_col15,#T_840c972a_1867_11eb_be32_0242ac1c0002row6_col16,#T_840c972a_1867_11eb_be32_0242ac1c0002row6_col17,#T_840c972a_1867_11eb_be32_0242ac1c0002row6_col18,#T_840c972a_1867_11eb_be32_0242ac1c0002row6_col19,#T_840c972a_1867_11eb_be32_0242ac1c0002row6_col20,#T_840c972a_1867_11eb_be32_0242ac1c0002row6_col21,#T_840c972a_1867_11eb_be32_0242ac1c0002row7_col0,#T_840c972a_1867_11eb_be32_0242ac1c0002row7_col1,#T_840c972a_1867_11eb_be32_0242ac1c0002row7_col2,#T_840c972a_1867_11eb_be32_0242ac1c0002row7_col3,#T_840c972a_1867_11eb_be32_0242ac1c0002row7_col4,#T_840c972a_1867_11eb_be32_0242ac1c0002row7_col5,#T_840c972a_1867_11eb_be32_0242ac1c0002row7_col6,#T_840c972a_1867_11eb_be32_0242ac1c0002row7_col8,#T_840c972a_1867_11eb_be32_0242ac1c0002row7_col9,#T_840c972a_1867_11eb_be32_0242ac1c0002row7_col10,#T_840c972a_1867_11eb_be32_0242ac1c0002row7_col11,#T_840c972a_1867_11eb_be32_0242ac1c0002row7_col12,#T_840c972a_1867_11eb_be32_0242ac1c0002row7_col13,#T_840c972a_1867_11eb_be32_0242ac1c0002row7_col14,#T_840c972a_1867_11eb_be32_0242ac1c0002row7_col15,#T_840c972a_1867_11eb_be32_0242ac1c0002row7_col16,#T_840c972a_1867_11eb_be32_0242ac1c0002row7_col17,#T_840c972a_1867_11eb_be32_0242ac1c0002row7_col18,#T_840c972a_1867_11eb_be32_0242ac1c0002row7_col19,#T_840c972a_1867_11eb_be32_0242ac1c0002row7_col20,#T_840c972a_1867_11eb_be32_0242ac1c0002row7_col21,#T_840c972a_1867_11eb_be32_0242ac1c0002row8_col0,#T_840c972a_1867_11eb_be32_0242ac1c0002row8_col1,#T_840c972a_1867_11eb_be32_0242ac1c0002row8_col2,#T_840c972a_1867_11eb_be32_0242ac1c0002row8_col3,#T_840c972a_1867_11eb_be32_0242ac1c0002row8_col4,#T_840c972a_1867_11eb_be32_0242ac1c0002row8_col5,#T_840c972a_1867_11eb_be32_0242ac1c0002row8_col6,#T_840c972a_1867_11eb_be32_0242ac1c0002row8_col7,#T_840c972a_1867_11eb_be32_0242ac1c0002row8_col9,#T_840c972a_1867_11eb_be32_0242ac1c0002row8_col10,#T_840c972a_1867_11eb_be32_0242ac1c0002row8_col11,#T_840c972a_1867_11eb_be32_0242ac1c0002row8_col12,#T_840c972a_1867_11eb_be32_0242ac1c0002row8_col13,#T_840c972a_1867_11eb_be32_0242ac1c0002row8_col14,#T_840c972a_1867_11eb_be32_0242ac1c0002row8_col15,#T_840c972a_1867_11eb_be32_0242ac1c0002row8_col16,#T_840c972a_1867_11eb_be32_0242ac1c0002row8_col17,#T_840c972a_1867_11eb_be32_0242ac1c0002row8_col18,#T_840c972a_1867_11eb_be32_0242ac1c0002row8_col19,#T_840c972a_1867_11eb_be32_0242ac1c0002row8_col20,#T_840c972a_1867_11eb_be32_0242ac1c0002row8_col21,#T_840c972a_1867_11eb_be32_0242ac1c0002row9_col0,#T_840c972a_1867_11eb_be32_0242ac1c0002row9_col1,#T_840c972a_1867_11eb_be32_0242ac1c0002row9_col2,#T_840c972a_1867_11eb_be32_0242ac1c0002row9_col3,#T_840c972a_1867_11eb_be32_0242ac1c0002row9_col4,#T_840c972a_1867_11eb_be32_0242ac1c0002row9_col5,#T_840c972a_1867_11eb_be32_0242ac1c0002row9_col6,#T_840c972a_1867_11eb_be32_0242ac1c0002row9_col7,#T_840c972a_1867_11eb_be32_0242ac1c0002row9_col8,#T_840c972a_1867_11eb_be32_0242ac1c0002row9_col10,#T_840c972a_1867_11eb_be32_0242ac1c0002row9_col11,#T_840c972a_1867_11eb_be32_0242ac1c0002row9_col12,#T_840c972a_1867_11eb_be32_0242ac1c0002row9_col13,#T_840c972a_1867_11eb_be32_0242ac1c0002row9_col14,#T_840c972a_1867_11eb_be32_0242ac1c0002row9_col15,#T_840c972a_1867_11eb_be32_0242ac1c0002row9_col16,#T_840c972a_1867_11eb_be32_0242ac1c0002row9_col17,#T_840c972a_1867_11eb_be32_0242ac1c0002row9_col18,#T_840c972a_1867_11eb_be32_0242ac1c0002row9_col19,#T_840c972a_1867_11eb_be32_0242ac1c0002row9_col20,#T_840c972a_1867_11eb_be32_0242ac1c0002row9_col21,#T_840c972a_1867_11eb_be32_0242ac1c0002row10_col0,#T_840c972a_1867_11eb_be32_0242ac1c0002row10_col1,#T_840c972a_1867_11eb_be32_0242ac1c0002row10_col2,#T_840c972a_1867_11eb_be32_0242ac1c0002row10_col3,#T_840c972a_1867_11eb_be32_0242ac1c0002row10_col4,#T_840c972a_1867_11eb_be32_0242ac1c0002row10_col5,#T_840c972a_1867_11eb_be32_0242ac1c0002row10_col6,#T_840c972a_1867_11eb_be32_0242ac1c0002row10_col7,#T_840c972a_1867_11eb_be32_0242ac1c0002row10_col8,#T_840c972a_1867_11eb_be32_0242ac1c0002row10_col9,#T_840c972a_1867_11eb_be32_0242ac1c0002row10_col11,#T_840c972a_1867_11eb_be32_0242ac1c0002row10_col13,#T_840c972a_1867_11eb_be32_0242ac1c0002row10_col14,#T_840c972a_1867_11eb_be32_0242ac1c0002row10_col15,#T_840c972a_1867_11eb_be32_0242ac1c0002row10_col16,#T_840c972a_1867_11eb_be32_0242ac1c0002row10_col17,#T_840c972a_1867_11eb_be32_0242ac1c0002row10_col18,#T_840c972a_1867_11eb_be32_0242ac1c0002row10_col19,#T_840c972a_1867_11eb_be32_0242ac1c0002row10_col20,#T_840c972a_1867_11eb_be32_0242ac1c0002row10_col21,#T_840c972a_1867_11eb_be32_0242ac1c0002row11_col0,#T_840c972a_1867_11eb_be32_0242ac1c0002row11_col1,#T_840c972a_1867_11eb_be32_0242ac1c0002row11_col2,#T_840c972a_1867_11eb_be32_0242ac1c0002row11_col3,#T_840c972a_1867_11eb_be32_0242ac1c0002row11_col4,#T_840c972a_1867_11eb_be32_0242ac1c0002row11_col5,#T_840c972a_1867_11eb_be32_0242ac1c0002row11_col6,#T_840c972a_1867_11eb_be32_0242ac1c0002row11_col7,#T_840c972a_1867_11eb_be32_0242ac1c0002row11_col8,#T_840c972a_1867_11eb_be32_0242ac1c0002row11_col9,#T_840c972a_1867_11eb_be32_0242ac1c0002row11_col10,#T_840c972a_1867_11eb_be32_0242ac1c0002row11_col12,#T_840c972a_1867_11eb_be32_0242ac1c0002row11_col13,#T_840c972a_1867_11eb_be32_0242ac1c0002row11_col14,#T_840c972a_1867_11eb_be32_0242ac1c0002row11_col15,#T_840c972a_1867_11eb_be32_0242ac1c0002row11_col16,#T_840c972a_1867_11eb_be32_0242ac1c0002row11_col17,#T_840c972a_1867_11eb_be32_0242ac1c0002row11_col18,#T_840c972a_1867_11eb_be32_0242ac1c0002row11_col19,#T_840c972a_1867_11eb_be32_0242ac1c0002row11_col20,#T_840c972a_1867_11eb_be32_0242ac1c0002row11_col21,#T_840c972a_1867_11eb_be32_0242ac1c0002row12_col0,#T_840c972a_1867_11eb_be32_0242ac1c0002row12_col1,#T_840c972a_1867_11eb_be32_0242ac1c0002row12_col2,#T_840c972a_1867_11eb_be32_0242ac1c0002row12_col3,#T_840c972a_1867_11eb_be32_0242ac1c0002row12_col4,#T_840c972a_1867_11eb_be32_0242ac1c0002row12_col5,#T_840c972a_1867_11eb_be32_0242ac1c0002row12_col6,#T_840c972a_1867_11eb_be32_0242ac1c0002row12_col7,#T_840c972a_1867_11eb_be32_0242ac1c0002row12_col8,#T_840c972a_1867_11eb_be32_0242ac1c0002row12_col9,#T_840c972a_1867_11eb_be32_0242ac1c0002row12_col11,#T_840c972a_1867_11eb_be32_0242ac1c0002row12_col13,#T_840c972a_1867_11eb_be32_0242ac1c0002row12_col14,#T_840c972a_1867_11eb_be32_0242ac1c0002row12_col15,#T_840c972a_1867_11eb_be32_0242ac1c0002row12_col16,#T_840c972a_1867_11eb_be32_0242ac1c0002row12_col17,#T_840c972a_1867_11eb_be32_0242ac1c0002row12_col18,#T_840c972a_1867_11eb_be32_0242ac1c0002row12_col19,#T_840c972a_1867_11eb_be32_0242ac1c0002row12_col20,#T_840c972a_1867_11eb_be32_0242ac1c0002row12_col21,#T_840c972a_1867_11eb_be32_0242ac1c0002row13_col0,#T_840c972a_1867_11eb_be32_0242ac1c0002row13_col1,#T_840c972a_1867_11eb_be32_0242ac1c0002row13_col2,#T_840c972a_1867_11eb_be32_0242ac1c0002row13_col3,#T_840c972a_1867_11eb_be32_0242ac1c0002row13_col4,#T_840c972a_1867_11eb_be32_0242ac1c0002row13_col5,#T_840c972a_1867_11eb_be32_0242ac1c0002row13_col6,#T_840c972a_1867_11eb_be32_0242ac1c0002row13_col7,#T_840c972a_1867_11eb_be32_0242ac1c0002row13_col8,#T_840c972a_1867_11eb_be32_0242ac1c0002row13_col9,#T_840c972a_1867_11eb_be32_0242ac1c0002row13_col10,#T_840c972a_1867_11eb_be32_0242ac1c0002row13_col11,#T_840c972a_1867_11eb_be32_0242ac1c0002row13_col12,#T_840c972a_1867_11eb_be32_0242ac1c0002row13_col14,#T_840c972a_1867_11eb_be32_0242ac1c0002row13_col15,#T_840c972a_1867_11eb_be32_0242ac1c0002row13_col16,#T_840c972a_1867_11eb_be32_0242ac1c0002row13_col17,#T_840c972a_1867_11eb_be32_0242ac1c0002row13_col18,#T_840c972a_1867_11eb_be32_0242ac1c0002row13_col19,#T_840c972a_1867_11eb_be32_0242ac1c0002row13_col20,#T_840c972a_1867_11eb_be32_0242ac1c0002row13_col21,#T_840c972a_1867_11eb_be32_0242ac1c0002row14_col0,#T_840c972a_1867_11eb_be32_0242ac1c0002row14_col1,#T_840c972a_1867_11eb_be32_0242ac1c0002row14_col2,#T_840c972a_1867_11eb_be32_0242ac1c0002row14_col3,#T_840c972a_1867_11eb_be32_0242ac1c0002row14_col4,#T_840c972a_1867_11eb_be32_0242ac1c0002row14_col5,#T_840c972a_1867_11eb_be32_0242ac1c0002row14_col6,#T_840c972a_1867_11eb_be32_0242ac1c0002row14_col7,#T_840c972a_1867_11eb_be32_0242ac1c0002row14_col8,#T_840c972a_1867_11eb_be32_0242ac1c0002row14_col9,#T_840c972a_1867_11eb_be32_0242ac1c0002row14_col10,#T_840c972a_1867_11eb_be32_0242ac1c0002row14_col11,#T_840c972a_1867_11eb_be32_0242ac1c0002row14_col12,#T_840c972a_1867_11eb_be32_0242ac1c0002row14_col13,#T_840c972a_1867_11eb_be32_0242ac1c0002row14_col15,#T_840c972a_1867_11eb_be32_0242ac1c0002row14_col16,#T_840c972a_1867_11eb_be32_0242ac1c0002row14_col17,#T_840c972a_1867_11eb_be32_0242ac1c0002row14_col18,#T_840c972a_1867_11eb_be32_0242ac1c0002row14_col19,#T_840c972a_1867_11eb_be32_0242ac1c0002row14_col20,#T_840c972a_1867_11eb_be32_0242ac1c0002row14_col21,#T_840c972a_1867_11eb_be32_0242ac1c0002row15_col0,#T_840c972a_1867_11eb_be32_0242ac1c0002row15_col1,#T_840c972a_1867_11eb_be32_0242ac1c0002row15_col2,#T_840c972a_1867_11eb_be32_0242ac1c0002row15_col3,#T_840c972a_1867_11eb_be32_0242ac1c0002row15_col4,#T_840c972a_1867_11eb_be32_0242ac1c0002row15_col5,#T_840c972a_1867_11eb_be32_0242ac1c0002row15_col6,#T_840c972a_1867_11eb_be32_0242ac1c0002row15_col7,#T_840c972a_1867_11eb_be32_0242ac1c0002row15_col8,#T_840c972a_1867_11eb_be32_0242ac1c0002row15_col9,#T_840c972a_1867_11eb_be32_0242ac1c0002row15_col10,#T_840c972a_1867_11eb_be32_0242ac1c0002row15_col11,#T_840c972a_1867_11eb_be32_0242ac1c0002row15_col12,#T_840c972a_1867_11eb_be32_0242ac1c0002row15_col13,#T_840c972a_1867_11eb_be32_0242ac1c0002row15_col14,#T_840c972a_1867_11eb_be32_0242ac1c0002row15_col16,#T_840c972a_1867_11eb_be32_0242ac1c0002row15_col17,#T_840c972a_1867_11eb_be32_0242ac1c0002row15_col18,#T_840c972a_1867_11eb_be32_0242ac1c0002row15_col19,#T_840c972a_1867_11eb_be32_0242ac1c0002row15_col21,#T_840c972a_1867_11eb_be32_0242ac1c0002row16_col0,#T_840c972a_1867_11eb_be32_0242ac1c0002row16_col1,#T_840c972a_1867_11eb_be32_0242ac1c0002row16_col2,#T_840c972a_1867_11eb_be32_0242ac1c0002row16_col3,#T_840c972a_1867_11eb_be32_0242ac1c0002row16_col4,#T_840c972a_1867_11eb_be32_0242ac1c0002row16_col5,#T_840c972a_1867_11eb_be32_0242ac1c0002row16_col6,#T_840c972a_1867_11eb_be32_0242ac1c0002row16_col7,#T_840c972a_1867_11eb_be32_0242ac1c0002row16_col8,#T_840c972a_1867_11eb_be32_0242ac1c0002row16_col9,#T_840c972a_1867_11eb_be32_0242ac1c0002row16_col10,#T_840c972a_1867_11eb_be32_0242ac1c0002row16_col11,#T_840c972a_1867_11eb_be32_0242ac1c0002row16_col12,#T_840c972a_1867_11eb_be32_0242ac1c0002row16_col13,#T_840c972a_1867_11eb_be32_0242ac1c0002row16_col14,#T_840c972a_1867_11eb_be32_0242ac1c0002row16_col15,#T_840c972a_1867_11eb_be32_0242ac1c0002row16_col17,#T_840c972a_1867_11eb_be32_0242ac1c0002row16_col18,#T_840c972a_1867_11eb_be32_0242ac1c0002row16_col19,#T_840c972a_1867_11eb_be32_0242ac1c0002row16_col21,#T_840c972a_1867_11eb_be32_0242ac1c0002row17_col0,#T_840c972a_1867_11eb_be32_0242ac1c0002row17_col1,#T_840c972a_1867_11eb_be32_0242ac1c0002row17_col2,#T_840c972a_1867_11eb_be32_0242ac1c0002row17_col3,#T_840c972a_1867_11eb_be32_0242ac1c0002row17_col4,#T_840c972a_1867_11eb_be32_0242ac1c0002row17_col5,#T_840c972a_1867_11eb_be32_0242ac1c0002row17_col6,#T_840c972a_1867_11eb_be32_0242ac1c0002row17_col7,#T_840c972a_1867_11eb_be32_0242ac1c0002row17_col8,#T_840c972a_1867_11eb_be32_0242ac1c0002row17_col9,#T_840c972a_1867_11eb_be32_0242ac1c0002row17_col10,#T_840c972a_1867_11eb_be32_0242ac1c0002row17_col11,#T_840c972a_1867_11eb_be32_0242ac1c0002row17_col12,#T_840c972a_1867_11eb_be32_0242ac1c0002row17_col13,#T_840c972a_1867_11eb_be32_0242ac1c0002row17_col14,#T_840c972a_1867_11eb_be32_0242ac1c0002row17_col15,#T_840c972a_1867_11eb_be32_0242ac1c0002row17_col16,#T_840c972a_1867_11eb_be32_0242ac1c0002row17_col18,#T_840c972a_1867_11eb_be32_0242ac1c0002row17_col19,#T_840c972a_1867_11eb_be32_0242ac1c0002row17_col21,#T_840c972a_1867_11eb_be32_0242ac1c0002row18_col0,#T_840c972a_1867_11eb_be32_0242ac1c0002row18_col1,#T_840c972a_1867_11eb_be32_0242ac1c0002row18_col2,#T_840c972a_1867_11eb_be32_0242ac1c0002row18_col4,#T_840c972a_1867_11eb_be32_0242ac1c0002row18_col5,#T_840c972a_1867_11eb_be32_0242ac1c0002row18_col6,#T_840c972a_1867_11eb_be32_0242ac1c0002row18_col7,#T_840c972a_1867_11eb_be32_0242ac1c0002row18_col8,#T_840c972a_1867_11eb_be32_0242ac1c0002row18_col9,#T_840c972a_1867_11eb_be32_0242ac1c0002row18_col10,#T_840c972a_1867_11eb_be32_0242ac1c0002row18_col11,#T_840c972a_1867_11eb_be32_0242ac1c0002row18_col12,#T_840c972a_1867_11eb_be32_0242ac1c0002row18_col13,#T_840c972a_1867_11eb_be32_0242ac1c0002row18_col14,#T_840c972a_1867_11eb_be32_0242ac1c0002row18_col15,#T_840c972a_1867_11eb_be32_0242ac1c0002row18_col16,#T_840c972a_1867_11eb_be32_0242ac1c0002row18_col17,#T_840c972a_1867_11eb_be32_0242ac1c0002row18_col19,#T_840c972a_1867_11eb_be32_0242ac1c0002row18_col21,#T_840c972a_1867_11eb_be32_0242ac1c0002row19_col0,#T_840c972a_1867_11eb_be32_0242ac1c0002row19_col1,#T_840c972a_1867_11eb_be32_0242ac1c0002row19_col2,#T_840c972a_1867_11eb_be32_0242ac1c0002row19_col4,#T_840c972a_1867_11eb_be32_0242ac1c0002row19_col5,#T_840c972a_1867_11eb_be32_0242ac1c0002row19_col6,#T_840c972a_1867_11eb_be32_0242ac1c0002row19_col7,#T_840c972a_1867_11eb_be32_0242ac1c0002row19_col8,#T_840c972a_1867_11eb_be32_0242ac1c0002row19_col9,#T_840c972a_1867_11eb_be32_0242ac1c0002row19_col10,#T_840c972a_1867_11eb_be32_0242ac1c0002row19_col11,#T_840c972a_1867_11eb_be32_0242ac1c0002row19_col12,#T_840c972a_1867_11eb_be32_0242ac1c0002row19_col13,#T_840c972a_1867_11eb_be32_0242ac1c0002row19_col14,#T_840c972a_1867_11eb_be32_0242ac1c0002row19_col15,#T_840c972a_1867_11eb_be32_0242ac1c0002row19_col16,#T_840c972a_1867_11eb_be32_0242ac1c0002row19_col17,#T_840c972a_1867_11eb_be32_0242ac1c0002row19_col18,#T_840c972a_1867_11eb_be32_0242ac1c0002row19_col21,#T_840c972a_1867_11eb_be32_0242ac1c0002row20_col0,#T_840c972a_1867_11eb_be32_0242ac1c0002row20_col1,#T_840c972a_1867_11eb_be32_0242ac1c0002row20_col2,#T_840c972a_1867_11eb_be32_0242ac1c0002row20_col5,#T_840c972a_1867_11eb_be32_0242ac1c0002row20_col6,#T_840c972a_1867_11eb_be32_0242ac1c0002row20_col7,#T_840c972a_1867_11eb_be32_0242ac1c0002row20_col8,#T_840c972a_1867_11eb_be32_0242ac1c0002row20_col9,#T_840c972a_1867_11eb_be32_0242ac1c0002row20_col10,#T_840c972a_1867_11eb_be32_0242ac1c0002row20_col11,#T_840c972a_1867_11eb_be32_0242ac1c0002row20_col12,#T_840c972a_1867_11eb_be32_0242ac1c0002row20_col13,#T_840c972a_1867_11eb_be32_0242ac1c0002row20_col14,#T_840c972a_1867_11eb_be32_0242ac1c0002row20_col21,#T_840c972a_1867_11eb_be32_0242ac1c0002row21_col0,#T_840c972a_1867_11eb_be32_0242ac1c0002row21_col1,#T_840c972a_1867_11eb_be32_0242ac1c0002row21_col2,#T_840c972a_1867_11eb_be32_0242ac1c0002row21_col3,#T_840c972a_1867_11eb_be32_0242ac1c0002row21_col5,#T_840c972a_1867_11eb_be32_0242ac1c0002row21_col6,#T_840c972a_1867_11eb_be32_0242ac1c0002row21_col7,#T_840c972a_1867_11eb_be32_0242ac1c0002row21_col8,#T_840c972a_1867_11eb_be32_0242ac1c0002row21_col9,#T_840c972a_1867_11eb_be32_0242ac1c0002row21_col10,#T_840c972a_1867_11eb_be32_0242ac1c0002row21_col11,#T_840c972a_1867_11eb_be32_0242ac1c0002row21_col12,#T_840c972a_1867_11eb_be32_0242ac1c0002row21_col13,#T_840c972a_1867_11eb_be32_0242ac1c0002row21_col14,#T_840c972a_1867_11eb_be32_0242ac1c0002row21_col15,#T_840c972a_1867_11eb_be32_0242ac1c0002row21_col16,#T_840c972a_1867_11eb_be32_0242ac1c0002row21_col17,#T_840c972a_1867_11eb_be32_0242ac1c0002row21_col18,#T_840c972a_1867_11eb_be32_0242ac1c0002row21_col19,#T_840c972a_1867_11eb_be32_0242ac1c0002row21_col20{\n",
              "            color:  black;\n",
              "        }</style><table id=\"T_840c972a_1867_11eb_be32_0242ac1c0002\" ><thead>    <tr>        <th class=\"blank level0\" ></th>        <th class=\"col_heading level0 col0\" >type</th>        <th class=\"col_heading level0 col1\" >paperlessbilling</th>        <th class=\"col_heading level0 col2\" >paymentmethod</th>        <th class=\"col_heading level0 col3\" >monthlycharges</th>        <th class=\"col_heading level0 col4\" >totalcharges</th>        <th class=\"col_heading level0 col5\" >usageperiod</th>        <th class=\"col_heading level0 col6\" >newclient</th>        <th class=\"col_heading level0 col7\" >multiplelines</th>        <th class=\"col_heading level0 col8\" >seniorcitizen</th>        <th class=\"col_heading level0 col9\" >partner</th>        <th class=\"col_heading level0 col10\" >dependents</th>        <th class=\"col_heading level0 col11\" >ismale</th>        <th class=\"col_heading level0 col12\" >hasfamily</th>        <th class=\"col_heading level0 col13\" >internetservice</th>        <th class=\"col_heading level0 col14\" >onlinesecurity</th>        <th class=\"col_heading level0 col15\" >onlinebackup</th>        <th class=\"col_heading level0 col16\" >deviceprotection</th>        <th class=\"col_heading level0 col17\" >techsupport</th>        <th class=\"col_heading level0 col18\" >streamingtv</th>        <th class=\"col_heading level0 col19\" >streamingmovies</th>        <th class=\"col_heading level0 col20\" >numofservices</th>        <th class=\"col_heading level0 col21\" >cluster_1</th>    </tr></thead><tbody>\n",
              "                <tr>\n",
              "                        <th id=\"T_840c972a_1867_11eb_be32_0242ac1c0002level0_row0\" class=\"row_heading level0 row0\" >type</th>\n",
              "                        <td id=\"T_840c972a_1867_11eb_be32_0242ac1c0002row0_col0\" class=\"data row0 col0\" >1.000000</td>\n",
              "                        <td id=\"T_840c972a_1867_11eb_be32_0242ac1c0002row0_col1\" class=\"data row0 col1\" >-0.176733</td>\n",
              "                        <td id=\"T_840c972a_1867_11eb_be32_0242ac1c0002row0_col2\" class=\"data row0 col2\" >-0.227543</td>\n",
              "                        <td id=\"T_840c972a_1867_11eb_be32_0242ac1c0002row0_col3\" class=\"data row0 col3\" >-0.074195</td>\n",
              "                        <td id=\"T_840c972a_1867_11eb_be32_0242ac1c0002row0_col4\" class=\"data row0 col4\" >0.448106</td>\n",
              "                        <td id=\"T_840c972a_1867_11eb_be32_0242ac1c0002row0_col5\" class=\"data row0 col5\" >0.671657</td>\n",
              "                        <td id=\"T_840c972a_1867_11eb_be32_0242ac1c0002row0_col6\" class=\"data row0 col6\" >-0.356056</td>\n",
              "                        <td id=\"T_840c972a_1867_11eb_be32_0242ac1c0002row0_col7\" class=\"data row0 col7\" >0.110842</td>\n",
              "                        <td id=\"T_840c972a_1867_11eb_be32_0242ac1c0002row0_col8\" class=\"data row0 col8\" >-0.142554</td>\n",
              "                        <td id=\"T_840c972a_1867_11eb_be32_0242ac1c0002row0_col9\" class=\"data row0 col9\" >0.294806</td>\n",
              "                        <td id=\"T_840c972a_1867_11eb_be32_0242ac1c0002row0_col10\" class=\"data row0 col10\" >0.243187</td>\n",
              "                        <td id=\"T_840c972a_1867_11eb_be32_0242ac1c0002row0_col11\" class=\"data row0 col11\" >0.000126</td>\n",
              "                        <td id=\"T_840c972a_1867_11eb_be32_0242ac1c0002row0_col12\" class=\"data row0 col12\" >0.268192</td>\n",
              "                        <td id=\"T_840c972a_1867_11eb_be32_0242ac1c0002row0_col13\" class=\"data row0 col13\" >0.099721</td>\n",
              "                        <td id=\"T_840c972a_1867_11eb_be32_0242ac1c0002row0_col14\" class=\"data row0 col14\" >0.245530</td>\n",
              "                        <td id=\"T_840c972a_1867_11eb_be32_0242ac1c0002row0_col15\" class=\"data row0 col15\" >0.155085</td>\n",
              "                        <td id=\"T_840c972a_1867_11eb_be32_0242ac1c0002row0_col16\" class=\"data row0 col16\" >0.219310</td>\n",
              "                        <td id=\"T_840c972a_1867_11eb_be32_0242ac1c0002row0_col17\" class=\"data row0 col17\" >0.293691</td>\n",
              "                        <td id=\"T_840c972a_1867_11eb_be32_0242ac1c0002row0_col18\" class=\"data row0 col18\" >0.103944</td>\n",
              "                        <td id=\"T_840c972a_1867_11eb_be32_0242ac1c0002row0_col19\" class=\"data row0 col19\" >0.107520</td>\n",
              "                        <td id=\"T_840c972a_1867_11eb_be32_0242ac1c0002row0_col20\" class=\"data row0 col20\" >0.284251</td>\n",
              "                        <td id=\"T_840c972a_1867_11eb_be32_0242ac1c0002row0_col21\" class=\"data row0 col21\" >0.193009</td>\n",
              "            </tr>\n",
              "            <tr>\n",
              "                        <th id=\"T_840c972a_1867_11eb_be32_0242ac1c0002level0_row1\" class=\"row_heading level0 row1\" >paperlessbilling</th>\n",
              "                        <td id=\"T_840c972a_1867_11eb_be32_0242ac1c0002row1_col0\" class=\"data row1 col0\" >-0.176733</td>\n",
              "                        <td id=\"T_840c972a_1867_11eb_be32_0242ac1c0002row1_col1\" class=\"data row1 col1\" >1.000000</td>\n",
              "                        <td id=\"T_840c972a_1867_11eb_be32_0242ac1c0002row1_col2\" class=\"data row1 col2\" >-0.062904</td>\n",
              "                        <td id=\"T_840c972a_1867_11eb_be32_0242ac1c0002row1_col3\" class=\"data row1 col3\" >0.352150</td>\n",
              "                        <td id=\"T_840c972a_1867_11eb_be32_0242ac1c0002row1_col4\" class=\"data row1 col4\" >0.158223</td>\n",
              "                        <td id=\"T_840c972a_1867_11eb_be32_0242ac1c0002row1_col5\" class=\"data row1 col5\" >0.006059</td>\n",
              "                        <td id=\"T_840c972a_1867_11eb_be32_0242ac1c0002row1_col6\" class=\"data row1 col6\" >-0.035025</td>\n",
              "                        <td id=\"T_840c972a_1867_11eb_be32_0242ac1c0002row1_col7\" class=\"data row1 col7\" >0.165146</td>\n",
              "                        <td id=\"T_840c972a_1867_11eb_be32_0242ac1c0002row1_col8\" class=\"data row1 col8\" >0.156530</td>\n",
              "                        <td id=\"T_840c972a_1867_11eb_be32_0242ac1c0002row1_col9\" class=\"data row1 col9\" >-0.014877</td>\n",
              "                        <td id=\"T_840c972a_1867_11eb_be32_0242ac1c0002row1_col10\" class=\"data row1 col10\" >-0.111377</td>\n",
              "                        <td id=\"T_840c972a_1867_11eb_be32_0242ac1c0002row1_col11\" class=\"data row1 col11\" >-0.011754</td>\n",
              "                        <td id=\"T_840c972a_1867_11eb_be32_0242ac1c0002row1_col12\" class=\"data row1 col12\" >-0.096159</td>\n",
              "                        <td id=\"T_840c972a_1867_11eb_be32_0242ac1c0002row1_col13\" class=\"data row1 col13\" >-0.138625</td>\n",
              "                        <td id=\"T_840c972a_1867_11eb_be32_0242ac1c0002row1_col14\" class=\"data row1 col14\" >-0.003636</td>\n",
              "                        <td id=\"T_840c972a_1867_11eb_be32_0242ac1c0002row1_col15\" class=\"data row1 col15\" >0.126735</td>\n",
              "                        <td id=\"T_840c972a_1867_11eb_be32_0242ac1c0002row1_col16\" class=\"data row1 col16\" >0.103797</td>\n",
              "                        <td id=\"T_840c972a_1867_11eb_be32_0242ac1c0002row1_col17\" class=\"data row1 col17\" >0.037880</td>\n",
              "                        <td id=\"T_840c972a_1867_11eb_be32_0242ac1c0002row1_col18\" class=\"data row1 col18\" >0.223841</td>\n",
              "                        <td id=\"T_840c972a_1867_11eb_be32_0242ac1c0002row1_col19\" class=\"data row1 col19\" >0.211716</td>\n",
              "                        <td id=\"T_840c972a_1867_11eb_be32_0242ac1c0002row1_col20\" class=\"data row1 col20\" >0.182481</td>\n",
              "                        <td id=\"T_840c972a_1867_11eb_be32_0242ac1c0002row1_col21\" class=\"data row1 col21\" >0.140838</td>\n",
              "            </tr>\n",
              "            <tr>\n",
              "                        <th id=\"T_840c972a_1867_11eb_be32_0242ac1c0002level0_row2\" class=\"row_heading level0 row2\" >paymentmethod</th>\n",
              "                        <td id=\"T_840c972a_1867_11eb_be32_0242ac1c0002row2_col0\" class=\"data row2 col0\" >-0.227543</td>\n",
              "                        <td id=\"T_840c972a_1867_11eb_be32_0242ac1c0002row2_col1\" class=\"data row2 col1\" >-0.062904</td>\n",
              "                        <td id=\"T_840c972a_1867_11eb_be32_0242ac1c0002row2_col2\" class=\"data row2 col2\" >1.000000</td>\n",
              "                        <td id=\"T_840c972a_1867_11eb_be32_0242ac1c0002row2_col3\" class=\"data row2 col3\" >-0.193407</td>\n",
              "                        <td id=\"T_840c972a_1867_11eb_be32_0242ac1c0002row2_col4\" class=\"data row2 col4\" >-0.330824</td>\n",
              "                        <td id=\"T_840c972a_1867_11eb_be32_0242ac1c0002row2_col5\" class=\"data row2 col5\" >-0.370402</td>\n",
              "                        <td id=\"T_840c972a_1867_11eb_be32_0242ac1c0002row2_col6\" class=\"data row2 col6\" >0.266082</td>\n",
              "                        <td id=\"T_840c972a_1867_11eb_be32_0242ac1c0002row2_col7\" class=\"data row2 col7\" >-0.176793</td>\n",
              "                        <td id=\"T_840c972a_1867_11eb_be32_0242ac1c0002row2_col8\" class=\"data row2 col8\" >-0.038551</td>\n",
              "                        <td id=\"T_840c972a_1867_11eb_be32_0242ac1c0002row2_col9\" class=\"data row2 col9\" >-0.154798</td>\n",
              "                        <td id=\"T_840c972a_1867_11eb_be32_0242ac1c0002row2_col10\" class=\"data row2 col10\" >-0.040292</td>\n",
              "                        <td id=\"T_840c972a_1867_11eb_be32_0242ac1c0002row2_col11\" class=\"data row2 col11\" >0.017352</td>\n",
              "                        <td id=\"T_840c972a_1867_11eb_be32_0242ac1c0002row2_col12\" class=\"data row2 col12\" >-0.068157</td>\n",
              "                        <td id=\"T_840c972a_1867_11eb_be32_0242ac1c0002row2_col13\" class=\"data row2 col13\" >0.086140</td>\n",
              "                        <td id=\"T_840c972a_1867_11eb_be32_0242ac1c0002row2_col14\" class=\"data row2 col14\" >-0.150100</td>\n",
              "                        <td id=\"T_840c972a_1867_11eb_be32_0242ac1c0002row2_col15\" class=\"data row2 col15\" >-0.170898</td>\n",
              "                        <td id=\"T_840c972a_1867_11eb_be32_0242ac1c0002row2_col16\" class=\"data row2 col16\" >-0.181085</td>\n",
              "                        <td id=\"T_840c972a_1867_11eb_be32_0242ac1c0002row2_col17\" class=\"data row2 col17\" >-0.157272</td>\n",
              "                        <td id=\"T_840c972a_1867_11eb_be32_0242ac1c0002row2_col18\" class=\"data row2 col18\" >-0.148865</td>\n",
              "                        <td id=\"T_840c972a_1867_11eb_be32_0242ac1c0002row2_col19\" class=\"data row2 col19\" >-0.154984</td>\n",
              "                        <td id=\"T_840c972a_1867_11eb_be32_0242ac1c0002row2_col20\" class=\"data row2 col20\" >-0.245968</td>\n",
              "                        <td id=\"T_840c972a_1867_11eb_be32_0242ac1c0002row2_col21\" class=\"data row2 col21\" >-0.241871</td>\n",
              "            </tr>\n",
              "            <tr>\n",
              "                        <th id=\"T_840c972a_1867_11eb_be32_0242ac1c0002level0_row3\" class=\"row_heading level0 row3\" >monthlycharges</th>\n",
              "                        <td id=\"T_840c972a_1867_11eb_be32_0242ac1c0002row3_col0\" class=\"data row3 col0\" >-0.074195</td>\n",
              "                        <td id=\"T_840c972a_1867_11eb_be32_0242ac1c0002row3_col1\" class=\"data row3 col1\" >0.352150</td>\n",
              "                        <td id=\"T_840c972a_1867_11eb_be32_0242ac1c0002row3_col2\" class=\"data row3 col2\" >-0.193407</td>\n",
              "                        <td id=\"T_840c972a_1867_11eb_be32_0242ac1c0002row3_col3\" class=\"data row3 col3\" >1.000000</td>\n",
              "                        <td id=\"T_840c972a_1867_11eb_be32_0242ac1c0002row3_col4\" class=\"data row3 col4\" >0.651262</td>\n",
              "                        <td id=\"T_840c972a_1867_11eb_be32_0242ac1c0002row3_col5\" class=\"data row3 col5\" >0.247754</td>\n",
              "                        <td id=\"T_840c972a_1867_11eb_be32_0242ac1c0002row3_col6\" class=\"data row3 col6\" >-0.196264</td>\n",
              "                        <td id=\"T_840c972a_1867_11eb_be32_0242ac1c0002row3_col7\" class=\"data row3 col7\" >0.433576</td>\n",
              "                        <td id=\"T_840c972a_1867_11eb_be32_0242ac1c0002row3_col8\" class=\"data row3 col8\" >0.220173</td>\n",
              "                        <td id=\"T_840c972a_1867_11eb_be32_0242ac1c0002row3_col9\" class=\"data row3 col9\" >0.096848</td>\n",
              "                        <td id=\"T_840c972a_1867_11eb_be32_0242ac1c0002row3_col10\" class=\"data row3 col10\" >-0.113890</td>\n",
              "                        <td id=\"T_840c972a_1867_11eb_be32_0242ac1c0002row3_col11\" class=\"data row3 col11\" >-0.014569</td>\n",
              "                        <td id=\"T_840c972a_1867_11eb_be32_0242ac1c0002row3_col12\" class=\"data row3 col12\" >-0.072433</td>\n",
              "                        <td id=\"T_840c972a_1867_11eb_be32_0242ac1c0002row3_col13\" class=\"data row3 col13\" >-0.323260</td>\n",
              "                        <td id=\"T_840c972a_1867_11eb_be32_0242ac1c0002row3_col14\" class=\"data row3 col14\" >0.296594</td>\n",
              "                        <td id=\"T_840c972a_1867_11eb_be32_0242ac1c0002row3_col15\" class=\"data row3 col15\" >0.441780</td>\n",
              "                        <td id=\"T_840c972a_1867_11eb_be32_0242ac1c0002row3_col16\" class=\"data row3 col16\" >0.482692</td>\n",
              "                        <td id=\"T_840c972a_1867_11eb_be32_0242ac1c0002row3_col17\" class=\"data row3 col17\" >0.338304</td>\n",
              "                        <td id=\"T_840c972a_1867_11eb_be32_0242ac1c0002row3_col18\" class=\"data row3 col18\" >0.629603</td>\n",
              "                        <td id=\"T_840c972a_1867_11eb_be32_0242ac1c0002row3_col19\" class=\"data row3 col19\" >0.627429</td>\n",
              "                        <td id=\"T_840c972a_1867_11eb_be32_0242ac1c0002row3_col20\" class=\"data row3 col20\" >0.724706</td>\n",
              "                        <td id=\"T_840c972a_1867_11eb_be32_0242ac1c0002row3_col21\" class=\"data row3 col21\" >0.476154</td>\n",
              "            </tr>\n",
              "            <tr>\n",
              "                        <th id=\"T_840c972a_1867_11eb_be32_0242ac1c0002level0_row4\" class=\"row_heading level0 row4\" >totalcharges</th>\n",
              "                        <td id=\"T_840c972a_1867_11eb_be32_0242ac1c0002row4_col0\" class=\"data row4 col0\" >0.448106</td>\n",
              "                        <td id=\"T_840c972a_1867_11eb_be32_0242ac1c0002row4_col1\" class=\"data row4 col1\" >0.158223</td>\n",
              "                        <td id=\"T_840c972a_1867_11eb_be32_0242ac1c0002row4_col2\" class=\"data row4 col2\" >-0.330824</td>\n",
              "                        <td id=\"T_840c972a_1867_11eb_be32_0242ac1c0002row4_col3\" class=\"data row4 col3\" >0.651262</td>\n",
              "                        <td id=\"T_840c972a_1867_11eb_be32_0242ac1c0002row4_col4\" class=\"data row4 col4\" >1.000000</td>\n",
              "                        <td id=\"T_840c972a_1867_11eb_be32_0242ac1c0002row4_col5\" class=\"data row4 col5\" >0.825622</td>\n",
              "                        <td id=\"T_840c972a_1867_11eb_be32_0242ac1c0002row4_col6\" class=\"data row4 col6\" >-0.457107</td>\n",
              "                        <td id=\"T_840c972a_1867_11eb_be32_0242ac1c0002row4_col7\" class=\"data row4 col7\" >0.452893</td>\n",
              "                        <td id=\"T_840c972a_1867_11eb_be32_0242ac1c0002row4_col8\" class=\"data row4 col8\" >0.102761</td>\n",
              "                        <td id=\"T_840c972a_1867_11eb_be32_0242ac1c0002row4_col9\" class=\"data row4 col9\" >0.318103</td>\n",
              "                        <td id=\"T_840c972a_1867_11eb_be32_0242ac1c0002row4_col10\" class=\"data row4 col10\" >0.063133</td>\n",
              "                        <td id=\"T_840c972a_1867_11eb_be32_0242ac1c0002row4_col11\" class=\"data row4 col11\" >-0.000267</td>\n",
              "                        <td id=\"T_840c972a_1867_11eb_be32_0242ac1c0002row4_col12\" class=\"data row4 col12\" >0.115821</td>\n",
              "                        <td id=\"T_840c972a_1867_11eb_be32_0242ac1c0002row4_col13\" class=\"data row4 col13\" >-0.176139</td>\n",
              "                        <td id=\"T_840c972a_1867_11eb_be32_0242ac1c0002row4_col14\" class=\"data row4 col14\" >0.412260</td>\n",
              "                        <td id=\"T_840c972a_1867_11eb_be32_0242ac1c0002row4_col15\" class=\"data row4 col15\" >0.509846</td>\n",
              "                        <td id=\"T_840c972a_1867_11eb_be32_0242ac1c0002row4_col16\" class=\"data row4 col16\" >0.522581</td>\n",
              "                        <td id=\"T_840c972a_1867_11eb_be32_0242ac1c0002row4_col17\" class=\"data row4 col17\" >0.432470</td>\n",
              "                        <td id=\"T_840c972a_1867_11eb_be32_0242ac1c0002row4_col18\" class=\"data row4 col18\" >0.515504</td>\n",
              "                        <td id=\"T_840c972a_1867_11eb_be32_0242ac1c0002row4_col19\" class=\"data row4 col19\" >0.520088</td>\n",
              "                        <td id=\"T_840c972a_1867_11eb_be32_0242ac1c0002row4_col20\" class=\"data row4 col20\" >0.745565</td>\n",
              "                        <td id=\"T_840c972a_1867_11eb_be32_0242ac1c0002row4_col21\" class=\"data row4 col21\" >0.623803</td>\n",
              "            </tr>\n",
              "            <tr>\n",
              "                        <th id=\"T_840c972a_1867_11eb_be32_0242ac1c0002level0_row5\" class=\"row_heading level0 row5\" >usageperiod</th>\n",
              "                        <td id=\"T_840c972a_1867_11eb_be32_0242ac1c0002row5_col0\" class=\"data row5 col0\" >0.671657</td>\n",
              "                        <td id=\"T_840c972a_1867_11eb_be32_0242ac1c0002row5_col1\" class=\"data row5 col1\" >0.006059</td>\n",
              "                        <td id=\"T_840c972a_1867_11eb_be32_0242ac1c0002row5_col2\" class=\"data row5 col2\" >-0.370402</td>\n",
              "                        <td id=\"T_840c972a_1867_11eb_be32_0242ac1c0002row5_col3\" class=\"data row5 col3\" >0.247754</td>\n",
              "                        <td id=\"T_840c972a_1867_11eb_be32_0242ac1c0002row5_col4\" class=\"data row5 col4\" >0.825622</td>\n",
              "                        <td id=\"T_840c972a_1867_11eb_be32_0242ac1c0002row5_col5\" class=\"data row5 col5\" >1.000000</td>\n",
              "                        <td id=\"T_840c972a_1867_11eb_be32_0242ac1c0002row5_col6\" class=\"data row5 col6\" >-0.589555</td>\n",
              "                        <td id=\"T_840c972a_1867_11eb_be32_0242ac1c0002row5_col7\" class=\"data row5 col7\" >0.342921</td>\n",
              "                        <td id=\"T_840c972a_1867_11eb_be32_0242ac1c0002row5_col8\" class=\"data row5 col8\" >0.016514</td>\n",
              "                        <td id=\"T_840c972a_1867_11eb_be32_0242ac1c0002row5_col9\" class=\"data row5 col9\" >0.379709</td>\n",
              "                        <td id=\"T_840c972a_1867_11eb_be32_0242ac1c0002row5_col10\" class=\"data row5 col10\" >0.159766</td>\n",
              "                        <td id=\"T_840c972a_1867_11eb_be32_0242ac1c0002row5_col11\" class=\"data row5 col11\" >0.005111</td>\n",
              "                        <td id=\"T_840c972a_1867_11eb_be32_0242ac1c0002row5_col12\" class=\"data row5 col12\" >0.210531</td>\n",
              "                        <td id=\"T_840c972a_1867_11eb_be32_0242ac1c0002row5_col13\" class=\"data row5 col13\" >-0.030334</td>\n",
              "                        <td id=\"T_840c972a_1867_11eb_be32_0242ac1c0002row5_col14\" class=\"data row5 col14\" >0.327203</td>\n",
              "                        <td id=\"T_840c972a_1867_11eb_be32_0242ac1c0002row5_col15\" class=\"data row5 col15\" >0.360238</td>\n",
              "                        <td id=\"T_840c972a_1867_11eb_be32_0242ac1c0002row5_col16\" class=\"data row5 col16\" >0.360602</td>\n",
              "                        <td id=\"T_840c972a_1867_11eb_be32_0242ac1c0002row5_col17\" class=\"data row5 col17\" >0.324238</td>\n",
              "                        <td id=\"T_840c972a_1867_11eb_be32_0242ac1c0002row5_col18\" class=\"data row5 col18\" >0.279657</td>\n",
              "                        <td id=\"T_840c972a_1867_11eb_be32_0242ac1c0002row5_col19\" class=\"data row5 col19\" >0.286007</td>\n",
              "                        <td id=\"T_840c972a_1867_11eb_be32_0242ac1c0002row5_col20\" class=\"data row5 col20\" >0.494190</td>\n",
              "                        <td id=\"T_840c972a_1867_11eb_be32_0242ac1c0002row5_col21\" class=\"data row5 col21\" >0.543697</td>\n",
              "            </tr>\n",
              "            <tr>\n",
              "                        <th id=\"T_840c972a_1867_11eb_be32_0242ac1c0002level0_row6\" class=\"row_heading level0 row6\" >newclient</th>\n",
              "                        <td id=\"T_840c972a_1867_11eb_be32_0242ac1c0002row6_col0\" class=\"data row6 col0\" >-0.356056</td>\n",
              "                        <td id=\"T_840c972a_1867_11eb_be32_0242ac1c0002row6_col1\" class=\"data row6 col1\" >-0.035025</td>\n",
              "                        <td id=\"T_840c972a_1867_11eb_be32_0242ac1c0002row6_col2\" class=\"data row6 col2\" >0.266082</td>\n",
              "                        <td id=\"T_840c972a_1867_11eb_be32_0242ac1c0002row6_col3\" class=\"data row6 col3\" >-0.196264</td>\n",
              "                        <td id=\"T_840c972a_1867_11eb_be32_0242ac1c0002row6_col4\" class=\"data row6 col4\" >-0.457107</td>\n",
              "                        <td id=\"T_840c972a_1867_11eb_be32_0242ac1c0002row6_col5\" class=\"data row6 col5\" >-0.589555</td>\n",
              "                        <td id=\"T_840c972a_1867_11eb_be32_0242ac1c0002row6_col6\" class=\"data row6 col6\" >1.000000</td>\n",
              "                        <td id=\"T_840c972a_1867_11eb_be32_0242ac1c0002row6_col7\" class=\"data row6 col7\" >-0.246736</td>\n",
              "                        <td id=\"T_840c972a_1867_11eb_be32_0242ac1c0002row6_col8\" class=\"data row6 col8\" >-0.027824</td>\n",
              "                        <td id=\"T_840c972a_1867_11eb_be32_0242ac1c0002row6_col9\" class=\"data row6 col9\" >-0.262825</td>\n",
              "                        <td id=\"T_840c972a_1867_11eb_be32_0242ac1c0002row6_col10\" class=\"data row6 col10\" >-0.119704</td>\n",
              "                        <td id=\"T_840c972a_1867_11eb_be32_0242ac1c0002row6_col11\" class=\"data row6 col11\" >0.000158</td>\n",
              "                        <td id=\"T_840c972a_1867_11eb_be32_0242ac1c0002row6_col12\" class=\"data row6 col12\" >-0.150734</td>\n",
              "                        <td id=\"T_840c972a_1867_11eb_be32_0242ac1c0002row6_col13\" class=\"data row6 col13\" >0.020642</td>\n",
              "                        <td id=\"T_840c972a_1867_11eb_be32_0242ac1c0002row6_col14\" class=\"data row6 col14\" >-0.198421</td>\n",
              "                        <td id=\"T_840c972a_1867_11eb_be32_0242ac1c0002row6_col15\" class=\"data row6 col15\" >-0.220830</td>\n",
              "                        <td id=\"T_840c972a_1867_11eb_be32_0242ac1c0002row6_col16\" class=\"data row6 col16\" >-0.240651</td>\n",
              "                        <td id=\"T_840c972a_1867_11eb_be32_0242ac1c0002row6_col17\" class=\"data row6 col17\" >-0.200653</td>\n",
              "                        <td id=\"T_840c972a_1867_11eb_be32_0242ac1c0002row6_col18\" class=\"data row6 col18\" >-0.208415</td>\n",
              "                        <td id=\"T_840c972a_1867_11eb_be32_0242ac1c0002row6_col19\" class=\"data row6 col19\" >-0.212306</td>\n",
              "                        <td id=\"T_840c972a_1867_11eb_be32_0242ac1c0002row6_col20\" class=\"data row6 col20\" >-0.327409</td>\n",
              "                        <td id=\"T_840c972a_1867_11eb_be32_0242ac1c0002row6_col21\" class=\"data row6 col21\" >-0.367938</td>\n",
              "            </tr>\n",
              "            <tr>\n",
              "                        <th id=\"T_840c972a_1867_11eb_be32_0242ac1c0002level0_row7\" class=\"row_heading level0 row7\" >multiplelines</th>\n",
              "                        <td id=\"T_840c972a_1867_11eb_be32_0242ac1c0002row7_col0\" class=\"data row7 col0\" >0.110842</td>\n",
              "                        <td id=\"T_840c972a_1867_11eb_be32_0242ac1c0002row7_col1\" class=\"data row7 col1\" >0.165146</td>\n",
              "                        <td id=\"T_840c972a_1867_11eb_be32_0242ac1c0002row7_col2\" class=\"data row7 col2\" >-0.176793</td>\n",
              "                        <td id=\"T_840c972a_1867_11eb_be32_0242ac1c0002row7_col3\" class=\"data row7 col3\" >0.433576</td>\n",
              "                        <td id=\"T_840c972a_1867_11eb_be32_0242ac1c0002row7_col4\" class=\"data row7 col4\" >0.452893</td>\n",
              "                        <td id=\"T_840c972a_1867_11eb_be32_0242ac1c0002row7_col5\" class=\"data row7 col5\" >0.342921</td>\n",
              "                        <td id=\"T_840c972a_1867_11eb_be32_0242ac1c0002row7_col6\" class=\"data row7 col6\" >-0.246736</td>\n",
              "                        <td id=\"T_840c972a_1867_11eb_be32_0242ac1c0002row7_col7\" class=\"data row7 col7\" >1.000000</td>\n",
              "                        <td id=\"T_840c972a_1867_11eb_be32_0242ac1c0002row7_col8\" class=\"data row7 col8\" >0.146185</td>\n",
              "                        <td id=\"T_840c972a_1867_11eb_be32_0242ac1c0002row7_col9\" class=\"data row7 col9\" >0.142410</td>\n",
              "                        <td id=\"T_840c972a_1867_11eb_be32_0242ac1c0002row7_col10\" class=\"data row7 col10\" >-0.024991</td>\n",
              "                        <td id=\"T_840c972a_1867_11eb_be32_0242ac1c0002row7_col11\" class=\"data row7 col11\" >-0.006739</td>\n",
              "                        <td id=\"T_840c972a_1867_11eb_be32_0242ac1c0002row7_col12\" class=\"data row7 col12\" >0.004522</td>\n",
              "                        <td id=\"T_840c972a_1867_11eb_be32_0242ac1c0002row7_col13\" class=\"data row7 col13\" >-0.109216</td>\n",
              "                        <td id=\"T_840c972a_1867_11eb_be32_0242ac1c0002row7_col14\" class=\"data row7 col14\" >0.131128</td>\n",
              "                        <td id=\"T_840c972a_1867_11eb_be32_0242ac1c0002row7_col15\" class=\"data row7 col15\" >0.226910</td>\n",
              "                        <td id=\"T_840c972a_1867_11eb_be32_0242ac1c0002row7_col16\" class=\"data row7 col16\" >0.231661</td>\n",
              "                        <td id=\"T_840c972a_1867_11eb_be32_0242ac1c0002row7_col17\" class=\"data row7 col17\" >0.134768</td>\n",
              "                        <td id=\"T_840c972a_1867_11eb_be32_0242ac1c0002row7_col18\" class=\"data row7 col18\" >0.274823</td>\n",
              "                        <td id=\"T_840c972a_1867_11eb_be32_0242ac1c0002row7_col19\" class=\"data row7 col19\" >0.279727</td>\n",
              "                        <td id=\"T_840c972a_1867_11eb_be32_0242ac1c0002row7_col20\" class=\"data row7 col20\" >0.329273</td>\n",
              "                        <td id=\"T_840c972a_1867_11eb_be32_0242ac1c0002row7_col21\" class=\"data row7 col21\" >0.276155</td>\n",
              "            </tr>\n",
              "            <tr>\n",
              "                        <th id=\"T_840c972a_1867_11eb_be32_0242ac1c0002level0_row8\" class=\"row_heading level0 row8\" >seniorcitizen</th>\n",
              "                        <td id=\"T_840c972a_1867_11eb_be32_0242ac1c0002row8_col0\" class=\"data row8 col0\" >-0.142554</td>\n",
              "                        <td id=\"T_840c972a_1867_11eb_be32_0242ac1c0002row8_col1\" class=\"data row8 col1\" >0.156530</td>\n",
              "                        <td id=\"T_840c972a_1867_11eb_be32_0242ac1c0002row8_col2\" class=\"data row8 col2\" >-0.038551</td>\n",
              "                        <td id=\"T_840c972a_1867_11eb_be32_0242ac1c0002row8_col3\" class=\"data row8 col3\" >0.220173</td>\n",
              "                        <td id=\"T_840c972a_1867_11eb_be32_0242ac1c0002row8_col4\" class=\"data row8 col4\" >0.102761</td>\n",
              "                        <td id=\"T_840c972a_1867_11eb_be32_0242ac1c0002row8_col5\" class=\"data row8 col5\" >0.016514</td>\n",
              "                        <td id=\"T_840c972a_1867_11eb_be32_0242ac1c0002row8_col6\" class=\"data row8 col6\" >-0.027824</td>\n",
              "                        <td id=\"T_840c972a_1867_11eb_be32_0242ac1c0002row8_col7\" class=\"data row8 col7\" >0.146185</td>\n",
              "                        <td id=\"T_840c972a_1867_11eb_be32_0242ac1c0002row8_col8\" class=\"data row8 col8\" >1.000000</td>\n",
              "                        <td id=\"T_840c972a_1867_11eb_be32_0242ac1c0002row8_col9\" class=\"data row8 col9\" >0.016479</td>\n",
              "                        <td id=\"T_840c972a_1867_11eb_be32_0242ac1c0002row8_col10\" class=\"data row8 col10\" >-0.211185</td>\n",
              "                        <td id=\"T_840c972a_1867_11eb_be32_0242ac1c0002row8_col11\" class=\"data row8 col11\" >-0.001874</td>\n",
              "                        <td id=\"T_840c972a_1867_11eb_be32_0242ac1c0002row8_col12\" class=\"data row8 col12\" >-0.178852</td>\n",
              "                        <td id=\"T_840c972a_1867_11eb_be32_0242ac1c0002row8_col13\" class=\"data row8 col13\" >-0.032310</td>\n",
              "                        <td id=\"T_840c972a_1867_11eb_be32_0242ac1c0002row8_col14\" class=\"data row8 col14\" >-0.038653</td>\n",
              "                        <td id=\"T_840c972a_1867_11eb_be32_0242ac1c0002row8_col15\" class=\"data row8 col15\" >0.066572</td>\n",
              "                        <td id=\"T_840c972a_1867_11eb_be32_0242ac1c0002row8_col16\" class=\"data row8 col16\" >0.059428</td>\n",
              "                        <td id=\"T_840c972a_1867_11eb_be32_0242ac1c0002row8_col17\" class=\"data row8 col17\" >-0.060625</td>\n",
              "                        <td id=\"T_840c972a_1867_11eb_be32_0242ac1c0002row8_col18\" class=\"data row8 col18\" >0.105378</td>\n",
              "                        <td id=\"T_840c972a_1867_11eb_be32_0242ac1c0002row8_col19\" class=\"data row8 col19\" >0.120176</td>\n",
              "                        <td id=\"T_840c972a_1867_11eb_be32_0242ac1c0002row8_col20\" class=\"data row8 col20\" >0.067493</td>\n",
              "                        <td id=\"T_840c972a_1867_11eb_be32_0242ac1c0002row8_col21\" class=\"data row8 col21\" >0.099340</td>\n",
              "            </tr>\n",
              "            <tr>\n",
              "                        <th id=\"T_840c972a_1867_11eb_be32_0242ac1c0002level0_row9\" class=\"row_heading level0 row9\" >partner</th>\n",
              "                        <td id=\"T_840c972a_1867_11eb_be32_0242ac1c0002row9_col0\" class=\"data row9 col0\" >0.294806</td>\n",
              "                        <td id=\"T_840c972a_1867_11eb_be32_0242ac1c0002row9_col1\" class=\"data row9 col1\" >-0.014877</td>\n",
              "                        <td id=\"T_840c972a_1867_11eb_be32_0242ac1c0002row9_col2\" class=\"data row9 col2\" >-0.154798</td>\n",
              "                        <td id=\"T_840c972a_1867_11eb_be32_0242ac1c0002row9_col3\" class=\"data row9 col3\" >0.096848</td>\n",
              "                        <td id=\"T_840c972a_1867_11eb_be32_0242ac1c0002row9_col4\" class=\"data row9 col4\" >0.318103</td>\n",
              "                        <td id=\"T_840c972a_1867_11eb_be32_0242ac1c0002row9_col5\" class=\"data row9 col5\" >0.379709</td>\n",
              "                        <td id=\"T_840c972a_1867_11eb_be32_0242ac1c0002row9_col6\" class=\"data row9 col6\" >-0.262825</td>\n",
              "                        <td id=\"T_840c972a_1867_11eb_be32_0242ac1c0002row9_col7\" class=\"data row9 col7\" >0.142410</td>\n",
              "                        <td id=\"T_840c972a_1867_11eb_be32_0242ac1c0002row9_col8\" class=\"data row9 col8\" >0.016479</td>\n",
              "                        <td id=\"T_840c972a_1867_11eb_be32_0242ac1c0002row9_col9\" class=\"data row9 col9\" >1.000000</td>\n",
              "                        <td id=\"T_840c972a_1867_11eb_be32_0242ac1c0002row9_col10\" class=\"data row9 col10\" >0.452676</td>\n",
              "                        <td id=\"T_840c972a_1867_11eb_be32_0242ac1c0002row9_col11\" class=\"data row9 col11\" >-0.001808</td>\n",
              "                        <td id=\"T_840c972a_1867_11eb_be32_0242ac1c0002row9_col12\" class=\"data row9 col12\" >0.594629</td>\n",
              "                        <td id=\"T_840c972a_1867_11eb_be32_0242ac1c0002row9_col13\" class=\"data row9 col13\" >0.000891</td>\n",
              "                        <td id=\"T_840c972a_1867_11eb_be32_0242ac1c0002row9_col14\" class=\"data row9 col14\" >0.143106</td>\n",
              "                        <td id=\"T_840c972a_1867_11eb_be32_0242ac1c0002row9_col15\" class=\"data row9 col15\" >0.141498</td>\n",
              "                        <td id=\"T_840c972a_1867_11eb_be32_0242ac1c0002row9_col16\" class=\"data row9 col16\" >0.153786</td>\n",
              "                        <td id=\"T_840c972a_1867_11eb_be32_0242ac1c0002row9_col17\" class=\"data row9 col17\" >0.119999</td>\n",
              "                        <td id=\"T_840c972a_1867_11eb_be32_0242ac1c0002row9_col18\" class=\"data row9 col18\" >0.124666</td>\n",
              "                        <td id=\"T_840c972a_1867_11eb_be32_0242ac1c0002row9_col19\" class=\"data row9 col19\" >0.117412</td>\n",
              "                        <td id=\"T_840c972a_1867_11eb_be32_0242ac1c0002row9_col20\" class=\"data row9 col20\" >0.204237</td>\n",
              "                        <td id=\"T_840c972a_1867_11eb_be32_0242ac1c0002row9_col21\" class=\"data row9 col21\" >0.191839</td>\n",
              "            </tr>\n",
              "            <tr>\n",
              "                        <th id=\"T_840c972a_1867_11eb_be32_0242ac1c0002level0_row10\" class=\"row_heading level0 row10\" >dependents</th>\n",
              "                        <td id=\"T_840c972a_1867_11eb_be32_0242ac1c0002row10_col0\" class=\"data row10 col0\" >0.243187</td>\n",
              "                        <td id=\"T_840c972a_1867_11eb_be32_0242ac1c0002row10_col1\" class=\"data row10 col1\" >-0.111377</td>\n",
              "                        <td id=\"T_840c972a_1867_11eb_be32_0242ac1c0002row10_col2\" class=\"data row10 col2\" >-0.040292</td>\n",
              "                        <td id=\"T_840c972a_1867_11eb_be32_0242ac1c0002row10_col3\" class=\"data row10 col3\" >-0.113890</td>\n",
              "                        <td id=\"T_840c972a_1867_11eb_be32_0242ac1c0002row10_col4\" class=\"data row10 col4\" >0.063133</td>\n",
              "                        <td id=\"T_840c972a_1867_11eb_be32_0242ac1c0002row10_col5\" class=\"data row10 col5\" >0.159766</td>\n",
              "                        <td id=\"T_840c972a_1867_11eb_be32_0242ac1c0002row10_col6\" class=\"data row10 col6\" >-0.119704</td>\n",
              "                        <td id=\"T_840c972a_1867_11eb_be32_0242ac1c0002row10_col7\" class=\"data row10 col7\" >-0.024991</td>\n",
              "                        <td id=\"T_840c972a_1867_11eb_be32_0242ac1c0002row10_col8\" class=\"data row10 col8\" >-0.211185</td>\n",
              "                        <td id=\"T_840c972a_1867_11eb_be32_0242ac1c0002row10_col9\" class=\"data row10 col9\" >0.452676</td>\n",
              "                        <td id=\"T_840c972a_1867_11eb_be32_0242ac1c0002row10_col10\" class=\"data row10 col10\" >1.000000</td>\n",
              "                        <td id=\"T_840c972a_1867_11eb_be32_0242ac1c0002row10_col11\" class=\"data row10 col11\" >0.010517</td>\n",
              "                        <td id=\"T_840c972a_1867_11eb_be32_0242ac1c0002row10_col12\" class=\"data row10 col12\" >0.878855</td>\n",
              "                        <td id=\"T_840c972a_1867_11eb_be32_0242ac1c0002row10_col13\" class=\"data row10 col13\" >0.044590</td>\n",
              "                        <td id=\"T_840c972a_1867_11eb_be32_0242ac1c0002row10_col14\" class=\"data row10 col14\" >0.080972</td>\n",
              "                        <td id=\"T_840c972a_1867_11eb_be32_0242ac1c0002row10_col15\" class=\"data row10 col15\" >0.023671</td>\n",
              "                        <td id=\"T_840c972a_1867_11eb_be32_0242ac1c0002row10_col16\" class=\"data row10 col16\" >0.013963</td>\n",
              "                        <td id=\"T_840c972a_1867_11eb_be32_0242ac1c0002row10_col17\" class=\"data row10 col17\" >0.063268</td>\n",
              "                        <td id=\"T_840c972a_1867_11eb_be32_0242ac1c0002row10_col18\" class=\"data row10 col18\" >-0.016558</td>\n",
              "                        <td id=\"T_840c972a_1867_11eb_be32_0242ac1c0002row10_col19\" class=\"data row10 col19\" >-0.039741</td>\n",
              "                        <td id=\"T_840c972a_1867_11eb_be32_0242ac1c0002row10_col20\" class=\"data row10 col20\" >0.030200</td>\n",
              "                        <td id=\"T_840c972a_1867_11eb_be32_0242ac1c0002row10_col21\" class=\"data row10 col21\" >0.021935</td>\n",
              "            </tr>\n",
              "            <tr>\n",
              "                        <th id=\"T_840c972a_1867_11eb_be32_0242ac1c0002level0_row11\" class=\"row_heading level0 row11\" >ismale</th>\n",
              "                        <td id=\"T_840c972a_1867_11eb_be32_0242ac1c0002row11_col0\" class=\"data row11 col0\" >0.000126</td>\n",
              "                        <td id=\"T_840c972a_1867_11eb_be32_0242ac1c0002row11_col1\" class=\"data row11 col1\" >-0.011754</td>\n",
              "                        <td id=\"T_840c972a_1867_11eb_be32_0242ac1c0002row11_col2\" class=\"data row11 col2\" >0.017352</td>\n",
              "                        <td id=\"T_840c972a_1867_11eb_be32_0242ac1c0002row11_col3\" class=\"data row11 col3\" >-0.014569</td>\n",
              "                        <td id=\"T_840c972a_1867_11eb_be32_0242ac1c0002row11_col4\" class=\"data row11 col4\" >-0.000267</td>\n",
              "                        <td id=\"T_840c972a_1867_11eb_be32_0242ac1c0002row11_col5\" class=\"data row11 col5\" >0.005111</td>\n",
              "                        <td id=\"T_840c972a_1867_11eb_be32_0242ac1c0002row11_col6\" class=\"data row11 col6\" >0.000158</td>\n",
              "                        <td id=\"T_840c972a_1867_11eb_be32_0242ac1c0002row11_col7\" class=\"data row11 col7\" >-0.006739</td>\n",
              "                        <td id=\"T_840c972a_1867_11eb_be32_0242ac1c0002row11_col8\" class=\"data row11 col8\" >-0.001874</td>\n",
              "                        <td id=\"T_840c972a_1867_11eb_be32_0242ac1c0002row11_col9\" class=\"data row11 col9\" >-0.001808</td>\n",
              "                        <td id=\"T_840c972a_1867_11eb_be32_0242ac1c0002row11_col10\" class=\"data row11 col10\" >0.010517</td>\n",
              "                        <td id=\"T_840c972a_1867_11eb_be32_0242ac1c0002row11_col11\" class=\"data row11 col11\" >1.000000</td>\n",
              "                        <td id=\"T_840c972a_1867_11eb_be32_0242ac1c0002row11_col12\" class=\"data row11 col12\" >-0.011055</td>\n",
              "                        <td id=\"T_840c972a_1867_11eb_be32_0242ac1c0002row11_col13\" class=\"data row11 col13\" >-0.000863</td>\n",
              "                        <td id=\"T_840c972a_1867_11eb_be32_0242ac1c0002row11_col14\" class=\"data row11 col14\" >-0.017021</td>\n",
              "                        <td id=\"T_840c972a_1867_11eb_be32_0242ac1c0002row11_col15\" class=\"data row11 col15\" >-0.013773</td>\n",
              "                        <td id=\"T_840c972a_1867_11eb_be32_0242ac1c0002row11_col16\" class=\"data row11 col16\" >-0.002105</td>\n",
              "                        <td id=\"T_840c972a_1867_11eb_be32_0242ac1c0002row11_col17\" class=\"data row11 col17\" >-0.009212</td>\n",
              "                        <td id=\"T_840c972a_1867_11eb_be32_0242ac1c0002row11_col18\" class=\"data row11 col18\" >-0.008393</td>\n",
              "                        <td id=\"T_840c972a_1867_11eb_be32_0242ac1c0002row11_col19\" class=\"data row11 col19\" >-0.010487</td>\n",
              "                        <td id=\"T_840c972a_1867_11eb_be32_0242ac1c0002row11_col20\" class=\"data row11 col20\" >-0.015489</td>\n",
              "                        <td id=\"T_840c972a_1867_11eb_be32_0242ac1c0002row11_col21\" class=\"data row11 col21\" >0.012044</td>\n",
              "            </tr>\n",
              "            <tr>\n",
              "                        <th id=\"T_840c972a_1867_11eb_be32_0242ac1c0002level0_row12\" class=\"row_heading level0 row12\" >hasfamily</th>\n",
              "                        <td id=\"T_840c972a_1867_11eb_be32_0242ac1c0002row12_col0\" class=\"data row12 col0\" >0.268192</td>\n",
              "                        <td id=\"T_840c972a_1867_11eb_be32_0242ac1c0002row12_col1\" class=\"data row12 col1\" >-0.096159</td>\n",
              "                        <td id=\"T_840c972a_1867_11eb_be32_0242ac1c0002row12_col2\" class=\"data row12 col2\" >-0.068157</td>\n",
              "                        <td id=\"T_840c972a_1867_11eb_be32_0242ac1c0002row12_col3\" class=\"data row12 col3\" >-0.072433</td>\n",
              "                        <td id=\"T_840c972a_1867_11eb_be32_0242ac1c0002row12_col4\" class=\"data row12 col4\" >0.115821</td>\n",
              "                        <td id=\"T_840c972a_1867_11eb_be32_0242ac1c0002row12_col5\" class=\"data row12 col5\" >0.210531</td>\n",
              "                        <td id=\"T_840c972a_1867_11eb_be32_0242ac1c0002row12_col6\" class=\"data row12 col6\" >-0.150734</td>\n",
              "                        <td id=\"T_840c972a_1867_11eb_be32_0242ac1c0002row12_col7\" class=\"data row12 col7\" >0.004522</td>\n",
              "                        <td id=\"T_840c972a_1867_11eb_be32_0242ac1c0002row12_col8\" class=\"data row12 col8\" >-0.178852</td>\n",
              "                        <td id=\"T_840c972a_1867_11eb_be32_0242ac1c0002row12_col9\" class=\"data row12 col9\" >0.594629</td>\n",
              "                        <td id=\"T_840c972a_1867_11eb_be32_0242ac1c0002row12_col10\" class=\"data row12 col10\" >0.878855</td>\n",
              "                        <td id=\"T_840c972a_1867_11eb_be32_0242ac1c0002row12_col11\" class=\"data row12 col11\" >-0.011055</td>\n",
              "                        <td id=\"T_840c972a_1867_11eb_be32_0242ac1c0002row12_col12\" class=\"data row12 col12\" >1.000000</td>\n",
              "                        <td id=\"T_840c972a_1867_11eb_be32_0242ac1c0002row12_col13\" class=\"data row12 col13\" >0.041988</td>\n",
              "                        <td id=\"T_840c972a_1867_11eb_be32_0242ac1c0002row12_col14\" class=\"data row12 col14\" >0.090565</td>\n",
              "                        <td id=\"T_840c972a_1867_11eb_be32_0242ac1c0002row12_col15\" class=\"data row12 col15\" >0.044112</td>\n",
              "                        <td id=\"T_840c972a_1867_11eb_be32_0242ac1c0002row12_col16\" class=\"data row12 col16\" >0.046728</td>\n",
              "                        <td id=\"T_840c972a_1867_11eb_be32_0242ac1c0002row12_col17\" class=\"data row12 col17\" >0.074153</td>\n",
              "                        <td id=\"T_840c972a_1867_11eb_be32_0242ac1c0002row12_col18\" class=\"data row12 col18\" >0.014029</td>\n",
              "                        <td id=\"T_840c972a_1867_11eb_be32_0242ac1c0002row12_col19\" class=\"data row12 col19\" >-0.008391</td>\n",
              "                        <td id=\"T_840c972a_1867_11eb_be32_0242ac1c0002row12_col20\" class=\"data row12 col20\" >0.065226</td>\n",
              "                        <td id=\"T_840c972a_1867_11eb_be32_0242ac1c0002row12_col21\" class=\"data row12 col21\" >0.058679</td>\n",
              "            </tr>\n",
              "            <tr>\n",
              "                        <th id=\"T_840c972a_1867_11eb_be32_0242ac1c0002level0_row13\" class=\"row_heading level0 row13\" >internetservice</th>\n",
              "                        <td id=\"T_840c972a_1867_11eb_be32_0242ac1c0002row13_col0\" class=\"data row13 col0\" >0.099721</td>\n",
              "                        <td id=\"T_840c972a_1867_11eb_be32_0242ac1c0002row13_col1\" class=\"data row13 col1\" >-0.138625</td>\n",
              "                        <td id=\"T_840c972a_1867_11eb_be32_0242ac1c0002row13_col2\" class=\"data row13 col2\" >0.086140</td>\n",
              "                        <td id=\"T_840c972a_1867_11eb_be32_0242ac1c0002row13_col3\" class=\"data row13 col3\" >-0.323260</td>\n",
              "                        <td id=\"T_840c972a_1867_11eb_be32_0242ac1c0002row13_col4\" class=\"data row13 col4\" >-0.176139</td>\n",
              "                        <td id=\"T_840c972a_1867_11eb_be32_0242ac1c0002row13_col5\" class=\"data row13 col5\" >-0.030334</td>\n",
              "                        <td id=\"T_840c972a_1867_11eb_be32_0242ac1c0002row13_col6\" class=\"data row13 col6\" >0.020642</td>\n",
              "                        <td id=\"T_840c972a_1867_11eb_be32_0242ac1c0002row13_col7\" class=\"data row13 col7\" >-0.109216</td>\n",
              "                        <td id=\"T_840c972a_1867_11eb_be32_0242ac1c0002row13_col8\" class=\"data row13 col8\" >-0.032310</td>\n",
              "                        <td id=\"T_840c972a_1867_11eb_be32_0242ac1c0002row13_col9\" class=\"data row13 col9\" >0.000891</td>\n",
              "                        <td id=\"T_840c972a_1867_11eb_be32_0242ac1c0002row13_col10\" class=\"data row13 col10\" >0.044590</td>\n",
              "                        <td id=\"T_840c972a_1867_11eb_be32_0242ac1c0002row13_col11\" class=\"data row13 col11\" >-0.000863</td>\n",
              "                        <td id=\"T_840c972a_1867_11eb_be32_0242ac1c0002row13_col12\" class=\"data row13 col12\" >0.041988</td>\n",
              "                        <td id=\"T_840c972a_1867_11eb_be32_0242ac1c0002row13_col13\" class=\"data row13 col13\" >1.000000</td>\n",
              "                        <td id=\"T_840c972a_1867_11eb_be32_0242ac1c0002row13_col14\" class=\"data row13 col14\" >-0.393013</td>\n",
              "                        <td id=\"T_840c972a_1867_11eb_be32_0242ac1c0002row13_col15\" class=\"data row13 col15\" >-0.314737</td>\n",
              "                        <td id=\"T_840c972a_1867_11eb_be32_0242ac1c0002row13_col16\" class=\"data row13 col16\" >-0.306805</td>\n",
              "                        <td id=\"T_840c972a_1867_11eb_be32_0242ac1c0002row13_col17\" class=\"data row13 col17\" >-0.389382</td>\n",
              "                        <td id=\"T_840c972a_1867_11eb_be32_0242ac1c0002row13_col18\" class=\"data row13 col18\" >-0.242532</td>\n",
              "                        <td id=\"T_840c972a_1867_11eb_be32_0242ac1c0002row13_col19\" class=\"data row13 col19\" >-0.250343</td>\n",
              "                        <td id=\"T_840c972a_1867_11eb_be32_0242ac1c0002row13_col20\" class=\"data row13 col20\" >-0.481583</td>\n",
              "                        <td id=\"T_840c972a_1867_11eb_be32_0242ac1c0002row13_col21\" class=\"data row13 col21\" >-0.299799</td>\n",
              "            </tr>\n",
              "            <tr>\n",
              "                        <th id=\"T_840c972a_1867_11eb_be32_0242ac1c0002level0_row14\" class=\"row_heading level0 row14\" >onlinesecurity</th>\n",
              "                        <td id=\"T_840c972a_1867_11eb_be32_0242ac1c0002row14_col0\" class=\"data row14 col0\" >0.245530</td>\n",
              "                        <td id=\"T_840c972a_1867_11eb_be32_0242ac1c0002row14_col1\" class=\"data row14 col1\" >-0.003636</td>\n",
              "                        <td id=\"T_840c972a_1867_11eb_be32_0242ac1c0002row14_col2\" class=\"data row14 col2\" >-0.150100</td>\n",
              "                        <td id=\"T_840c972a_1867_11eb_be32_0242ac1c0002row14_col3\" class=\"data row14 col3\" >0.296594</td>\n",
              "                        <td id=\"T_840c972a_1867_11eb_be32_0242ac1c0002row14_col4\" class=\"data row14 col4\" >0.412260</td>\n",
              "                        <td id=\"T_840c972a_1867_11eb_be32_0242ac1c0002row14_col5\" class=\"data row14 col5\" >0.327203</td>\n",
              "                        <td id=\"T_840c972a_1867_11eb_be32_0242ac1c0002row14_col6\" class=\"data row14 col6\" >-0.198421</td>\n",
              "                        <td id=\"T_840c972a_1867_11eb_be32_0242ac1c0002row14_col7\" class=\"data row14 col7\" >0.131128</td>\n",
              "                        <td id=\"T_840c972a_1867_11eb_be32_0242ac1c0002row14_col8\" class=\"data row14 col8\" >-0.038653</td>\n",
              "                        <td id=\"T_840c972a_1867_11eb_be32_0242ac1c0002row14_col9\" class=\"data row14 col9\" >0.143106</td>\n",
              "                        <td id=\"T_840c972a_1867_11eb_be32_0242ac1c0002row14_col10\" class=\"data row14 col10\" >0.080972</td>\n",
              "                        <td id=\"T_840c972a_1867_11eb_be32_0242ac1c0002row14_col11\" class=\"data row14 col11\" >-0.017021</td>\n",
              "                        <td id=\"T_840c972a_1867_11eb_be32_0242ac1c0002row14_col12\" class=\"data row14 col12\" >0.090565</td>\n",
              "                        <td id=\"T_840c972a_1867_11eb_be32_0242ac1c0002row14_col13\" class=\"data row14 col13\" >-0.393013</td>\n",
              "                        <td id=\"T_840c972a_1867_11eb_be32_0242ac1c0002row14_col14\" class=\"data row14 col14\" >1.000000</td>\n",
              "                        <td id=\"T_840c972a_1867_11eb_be32_0242ac1c0002row14_col15\" class=\"data row14 col15\" >0.283832</td>\n",
              "                        <td id=\"T_840c972a_1867_11eb_be32_0242ac1c0002row14_col16\" class=\"data row14 col16\" >0.275438</td>\n",
              "                        <td id=\"T_840c972a_1867_11eb_be32_0242ac1c0002row14_col17\" class=\"data row14 col17\" >0.354931</td>\n",
              "                        <td id=\"T_840c972a_1867_11eb_be32_0242ac1c0002row14_col18\" class=\"data row14 col18\" >0.176207</td>\n",
              "                        <td id=\"T_840c972a_1867_11eb_be32_0242ac1c0002row14_col19\" class=\"data row14 col19\" >0.187398</td>\n",
              "                        <td id=\"T_840c972a_1867_11eb_be32_0242ac1c0002row14_col20\" class=\"data row14 col20\" >0.571606</td>\n",
              "                        <td id=\"T_840c972a_1867_11eb_be32_0242ac1c0002row14_col21\" class=\"data row14 col21\" >0.311520</td>\n",
              "            </tr>\n",
              "            <tr>\n",
              "                        <th id=\"T_840c972a_1867_11eb_be32_0242ac1c0002level0_row15\" class=\"row_heading level0 row15\" >onlinebackup</th>\n",
              "                        <td id=\"T_840c972a_1867_11eb_be32_0242ac1c0002row15_col0\" class=\"data row15 col0\" >0.155085</td>\n",
              "                        <td id=\"T_840c972a_1867_11eb_be32_0242ac1c0002row15_col1\" class=\"data row15 col1\" >0.126735</td>\n",
              "                        <td id=\"T_840c972a_1867_11eb_be32_0242ac1c0002row15_col2\" class=\"data row15 col2\" >-0.170898</td>\n",
              "                        <td id=\"T_840c972a_1867_11eb_be32_0242ac1c0002row15_col3\" class=\"data row15 col3\" >0.441780</td>\n",
              "                        <td id=\"T_840c972a_1867_11eb_be32_0242ac1c0002row15_col4\" class=\"data row15 col4\" >0.509846</td>\n",
              "                        <td id=\"T_840c972a_1867_11eb_be32_0242ac1c0002row15_col5\" class=\"data row15 col5\" >0.360238</td>\n",
              "                        <td id=\"T_840c972a_1867_11eb_be32_0242ac1c0002row15_col6\" class=\"data row15 col6\" >-0.220830</td>\n",
              "                        <td id=\"T_840c972a_1867_11eb_be32_0242ac1c0002row15_col7\" class=\"data row15 col7\" >0.226910</td>\n",
              "                        <td id=\"T_840c972a_1867_11eb_be32_0242ac1c0002row15_col8\" class=\"data row15 col8\" >0.066572</td>\n",
              "                        <td id=\"T_840c972a_1867_11eb_be32_0242ac1c0002row15_col9\" class=\"data row15 col9\" >0.141498</td>\n",
              "                        <td id=\"T_840c972a_1867_11eb_be32_0242ac1c0002row15_col10\" class=\"data row15 col10\" >0.023671</td>\n",
              "                        <td id=\"T_840c972a_1867_11eb_be32_0242ac1c0002row15_col11\" class=\"data row15 col11\" >-0.013773</td>\n",
              "                        <td id=\"T_840c972a_1867_11eb_be32_0242ac1c0002row15_col12\" class=\"data row15 col12\" >0.044112</td>\n",
              "                        <td id=\"T_840c972a_1867_11eb_be32_0242ac1c0002row15_col13\" class=\"data row15 col13\" >-0.314737</td>\n",
              "                        <td id=\"T_840c972a_1867_11eb_be32_0242ac1c0002row15_col14\" class=\"data row15 col14\" >0.283832</td>\n",
              "                        <td id=\"T_840c972a_1867_11eb_be32_0242ac1c0002row15_col15\" class=\"data row15 col15\" >1.000000</td>\n",
              "                        <td id=\"T_840c972a_1867_11eb_be32_0242ac1c0002row15_col16\" class=\"data row15 col16\" >0.303546</td>\n",
              "                        <td id=\"T_840c972a_1867_11eb_be32_0242ac1c0002row15_col17\" class=\"data row15 col17\" >0.294233</td>\n",
              "                        <td id=\"T_840c972a_1867_11eb_be32_0242ac1c0002row15_col18\" class=\"data row15 col18\" >0.282106</td>\n",
              "                        <td id=\"T_840c972a_1867_11eb_be32_0242ac1c0002row15_col19\" class=\"data row15 col19\" >0.274501</td>\n",
              "                        <td id=\"T_840c972a_1867_11eb_be32_0242ac1c0002row15_col20\" class=\"data row15 col20\" >0.623741</td>\n",
              "                        <td id=\"T_840c972a_1867_11eb_be32_0242ac1c0002row15_col21\" class=\"data row15 col21\" >0.374946</td>\n",
              "            </tr>\n",
              "            <tr>\n",
              "                        <th id=\"T_840c972a_1867_11eb_be32_0242ac1c0002level0_row16\" class=\"row_heading level0 row16\" >deviceprotection</th>\n",
              "                        <td id=\"T_840c972a_1867_11eb_be32_0242ac1c0002row16_col0\" class=\"data row16 col0\" >0.219310</td>\n",
              "                        <td id=\"T_840c972a_1867_11eb_be32_0242ac1c0002row16_col1\" class=\"data row16 col1\" >0.103797</td>\n",
              "                        <td id=\"T_840c972a_1867_11eb_be32_0242ac1c0002row16_col2\" class=\"data row16 col2\" >-0.181085</td>\n",
              "                        <td id=\"T_840c972a_1867_11eb_be32_0242ac1c0002row16_col3\" class=\"data row16 col3\" >0.482692</td>\n",
              "                        <td id=\"T_840c972a_1867_11eb_be32_0242ac1c0002row16_col4\" class=\"data row16 col4\" >0.522581</td>\n",
              "                        <td id=\"T_840c972a_1867_11eb_be32_0242ac1c0002row16_col5\" class=\"data row16 col5\" >0.360602</td>\n",
              "                        <td id=\"T_840c972a_1867_11eb_be32_0242ac1c0002row16_col6\" class=\"data row16 col6\" >-0.240651</td>\n",
              "                        <td id=\"T_840c972a_1867_11eb_be32_0242ac1c0002row16_col7\" class=\"data row16 col7\" >0.231661</td>\n",
              "                        <td id=\"T_840c972a_1867_11eb_be32_0242ac1c0002row16_col8\" class=\"data row16 col8\" >0.059428</td>\n",
              "                        <td id=\"T_840c972a_1867_11eb_be32_0242ac1c0002row16_col9\" class=\"data row16 col9\" >0.153786</td>\n",
              "                        <td id=\"T_840c972a_1867_11eb_be32_0242ac1c0002row16_col10\" class=\"data row16 col10\" >0.013963</td>\n",
              "                        <td id=\"T_840c972a_1867_11eb_be32_0242ac1c0002row16_col11\" class=\"data row16 col11\" >-0.002105</td>\n",
              "                        <td id=\"T_840c972a_1867_11eb_be32_0242ac1c0002row16_col12\" class=\"data row16 col12\" >0.046728</td>\n",
              "                        <td id=\"T_840c972a_1867_11eb_be32_0242ac1c0002row16_col13\" class=\"data row16 col13\" >-0.306805</td>\n",
              "                        <td id=\"T_840c972a_1867_11eb_be32_0242ac1c0002row16_col14\" class=\"data row16 col14\" >0.275438</td>\n",
              "                        <td id=\"T_840c972a_1867_11eb_be32_0242ac1c0002row16_col15\" class=\"data row16 col15\" >0.303546</td>\n",
              "                        <td id=\"T_840c972a_1867_11eb_be32_0242ac1c0002row16_col16\" class=\"data row16 col16\" >1.000000</td>\n",
              "                        <td id=\"T_840c972a_1867_11eb_be32_0242ac1c0002row16_col17\" class=\"data row16 col17\" >0.333313</td>\n",
              "                        <td id=\"T_840c972a_1867_11eb_be32_0242ac1c0002row16_col18\" class=\"data row16 col18\" >0.390874</td>\n",
              "                        <td id=\"T_840c972a_1867_11eb_be32_0242ac1c0002row16_col19\" class=\"data row16 col19\" >0.402111</td>\n",
              "                        <td id=\"T_840c972a_1867_11eb_be32_0242ac1c0002row16_col20\" class=\"data row16 col20\" >0.693457</td>\n",
              "                        <td id=\"T_840c972a_1867_11eb_be32_0242ac1c0002row16_col21\" class=\"data row16 col21\" >0.389049</td>\n",
              "            </tr>\n",
              "            <tr>\n",
              "                        <th id=\"T_840c972a_1867_11eb_be32_0242ac1c0002level0_row17\" class=\"row_heading level0 row17\" >techsupport</th>\n",
              "                        <td id=\"T_840c972a_1867_11eb_be32_0242ac1c0002row17_col0\" class=\"data row17 col0\" >0.293691</td>\n",
              "                        <td id=\"T_840c972a_1867_11eb_be32_0242ac1c0002row17_col1\" class=\"data row17 col1\" >0.037880</td>\n",
              "                        <td id=\"T_840c972a_1867_11eb_be32_0242ac1c0002row17_col2\" class=\"data row17 col2\" >-0.157272</td>\n",
              "                        <td id=\"T_840c972a_1867_11eb_be32_0242ac1c0002row17_col3\" class=\"data row17 col3\" >0.338304</td>\n",
              "                        <td id=\"T_840c972a_1867_11eb_be32_0242ac1c0002row17_col4\" class=\"data row17 col4\" >0.432470</td>\n",
              "                        <td id=\"T_840c972a_1867_11eb_be32_0242ac1c0002row17_col5\" class=\"data row17 col5\" >0.324238</td>\n",
              "                        <td id=\"T_840c972a_1867_11eb_be32_0242ac1c0002row17_col6\" class=\"data row17 col6\" >-0.200653</td>\n",
              "                        <td id=\"T_840c972a_1867_11eb_be32_0242ac1c0002row17_col7\" class=\"data row17 col7\" >0.134768</td>\n",
              "                        <td id=\"T_840c972a_1867_11eb_be32_0242ac1c0002row17_col8\" class=\"data row17 col8\" >-0.060625</td>\n",
              "                        <td id=\"T_840c972a_1867_11eb_be32_0242ac1c0002row17_col9\" class=\"data row17 col9\" >0.119999</td>\n",
              "                        <td id=\"T_840c972a_1867_11eb_be32_0242ac1c0002row17_col10\" class=\"data row17 col10\" >0.063268</td>\n",
              "                        <td id=\"T_840c972a_1867_11eb_be32_0242ac1c0002row17_col11\" class=\"data row17 col11\" >-0.009212</td>\n",
              "                        <td id=\"T_840c972a_1867_11eb_be32_0242ac1c0002row17_col12\" class=\"data row17 col12\" >0.074153</td>\n",
              "                        <td id=\"T_840c972a_1867_11eb_be32_0242ac1c0002row17_col13\" class=\"data row17 col13\" >-0.389382</td>\n",
              "                        <td id=\"T_840c972a_1867_11eb_be32_0242ac1c0002row17_col14\" class=\"data row17 col14\" >0.354931</td>\n",
              "                        <td id=\"T_840c972a_1867_11eb_be32_0242ac1c0002row17_col15\" class=\"data row17 col15\" >0.294233</td>\n",
              "                        <td id=\"T_840c972a_1867_11eb_be32_0242ac1c0002row17_col16\" class=\"data row17 col16\" >0.333313</td>\n",
              "                        <td id=\"T_840c972a_1867_11eb_be32_0242ac1c0002row17_col17\" class=\"data row17 col17\" >1.000000</td>\n",
              "                        <td id=\"T_840c972a_1867_11eb_be32_0242ac1c0002row17_col18\" class=\"data row17 col18\" >0.278070</td>\n",
              "                        <td id=\"T_840c972a_1867_11eb_be32_0242ac1c0002row17_col19\" class=\"data row17 col19\" >0.279358</td>\n",
              "                        <td id=\"T_840c972a_1867_11eb_be32_0242ac1c0002row17_col20\" class=\"data row17 col20\" >0.640813</td>\n",
              "                        <td id=\"T_840c972a_1867_11eb_be32_0242ac1c0002row17_col21\" class=\"data row17 col21\" >0.322483</td>\n",
              "            </tr>\n",
              "            <tr>\n",
              "                        <th id=\"T_840c972a_1867_11eb_be32_0242ac1c0002level0_row18\" class=\"row_heading level0 row18\" >streamingtv</th>\n",
              "                        <td id=\"T_840c972a_1867_11eb_be32_0242ac1c0002row18_col0\" class=\"data row18 col0\" >0.103944</td>\n",
              "                        <td id=\"T_840c972a_1867_11eb_be32_0242ac1c0002row18_col1\" class=\"data row18 col1\" >0.223841</td>\n",
              "                        <td id=\"T_840c972a_1867_11eb_be32_0242ac1c0002row18_col2\" class=\"data row18 col2\" >-0.148865</td>\n",
              "                        <td id=\"T_840c972a_1867_11eb_be32_0242ac1c0002row18_col3\" class=\"data row18 col3\" >0.629603</td>\n",
              "                        <td id=\"T_840c972a_1867_11eb_be32_0242ac1c0002row18_col4\" class=\"data row18 col4\" >0.515504</td>\n",
              "                        <td id=\"T_840c972a_1867_11eb_be32_0242ac1c0002row18_col5\" class=\"data row18 col5\" >0.279657</td>\n",
              "                        <td id=\"T_840c972a_1867_11eb_be32_0242ac1c0002row18_col6\" class=\"data row18 col6\" >-0.208415</td>\n",
              "                        <td id=\"T_840c972a_1867_11eb_be32_0242ac1c0002row18_col7\" class=\"data row18 col7\" >0.274823</td>\n",
              "                        <td id=\"T_840c972a_1867_11eb_be32_0242ac1c0002row18_col8\" class=\"data row18 col8\" >0.105378</td>\n",
              "                        <td id=\"T_840c972a_1867_11eb_be32_0242ac1c0002row18_col9\" class=\"data row18 col9\" >0.124666</td>\n",
              "                        <td id=\"T_840c972a_1867_11eb_be32_0242ac1c0002row18_col10\" class=\"data row18 col10\" >-0.016558</td>\n",
              "                        <td id=\"T_840c972a_1867_11eb_be32_0242ac1c0002row18_col11\" class=\"data row18 col11\" >-0.008393</td>\n",
              "                        <td id=\"T_840c972a_1867_11eb_be32_0242ac1c0002row18_col12\" class=\"data row18 col12\" >0.014029</td>\n",
              "                        <td id=\"T_840c972a_1867_11eb_be32_0242ac1c0002row18_col13\" class=\"data row18 col13\" >-0.242532</td>\n",
              "                        <td id=\"T_840c972a_1867_11eb_be32_0242ac1c0002row18_col14\" class=\"data row18 col14\" >0.176207</td>\n",
              "                        <td id=\"T_840c972a_1867_11eb_be32_0242ac1c0002row18_col15\" class=\"data row18 col15\" >0.282106</td>\n",
              "                        <td id=\"T_840c972a_1867_11eb_be32_0242ac1c0002row18_col16\" class=\"data row18 col16\" >0.390874</td>\n",
              "                        <td id=\"T_840c972a_1867_11eb_be32_0242ac1c0002row18_col17\" class=\"data row18 col17\" >0.278070</td>\n",
              "                        <td id=\"T_840c972a_1867_11eb_be32_0242ac1c0002row18_col18\" class=\"data row18 col18\" >1.000000</td>\n",
              "                        <td id=\"T_840c972a_1867_11eb_be32_0242ac1c0002row18_col19\" class=\"data row18 col19\" >0.533094</td>\n",
              "                        <td id=\"T_840c972a_1867_11eb_be32_0242ac1c0002row18_col20\" class=\"data row18 col20\" >0.688399</td>\n",
              "                        <td id=\"T_840c972a_1867_11eb_be32_0242ac1c0002row18_col21\" class=\"data row18 col21\" >0.368591</td>\n",
              "            </tr>\n",
              "            <tr>\n",
              "                        <th id=\"T_840c972a_1867_11eb_be32_0242ac1c0002level0_row19\" class=\"row_heading level0 row19\" >streamingmovies</th>\n",
              "                        <td id=\"T_840c972a_1867_11eb_be32_0242ac1c0002row19_col0\" class=\"data row19 col0\" >0.107520</td>\n",
              "                        <td id=\"T_840c972a_1867_11eb_be32_0242ac1c0002row19_col1\" class=\"data row19 col1\" >0.211716</td>\n",
              "                        <td id=\"T_840c972a_1867_11eb_be32_0242ac1c0002row19_col2\" class=\"data row19 col2\" >-0.154984</td>\n",
              "                        <td id=\"T_840c972a_1867_11eb_be32_0242ac1c0002row19_col3\" class=\"data row19 col3\" >0.627429</td>\n",
              "                        <td id=\"T_840c972a_1867_11eb_be32_0242ac1c0002row19_col4\" class=\"data row19 col4\" >0.520088</td>\n",
              "                        <td id=\"T_840c972a_1867_11eb_be32_0242ac1c0002row19_col5\" class=\"data row19 col5\" >0.286007</td>\n",
              "                        <td id=\"T_840c972a_1867_11eb_be32_0242ac1c0002row19_col6\" class=\"data row19 col6\" >-0.212306</td>\n",
              "                        <td id=\"T_840c972a_1867_11eb_be32_0242ac1c0002row19_col7\" class=\"data row19 col7\" >0.279727</td>\n",
              "                        <td id=\"T_840c972a_1867_11eb_be32_0242ac1c0002row19_col8\" class=\"data row19 col8\" >0.120176</td>\n",
              "                        <td id=\"T_840c972a_1867_11eb_be32_0242ac1c0002row19_col9\" class=\"data row19 col9\" >0.117412</td>\n",
              "                        <td id=\"T_840c972a_1867_11eb_be32_0242ac1c0002row19_col10\" class=\"data row19 col10\" >-0.039741</td>\n",
              "                        <td id=\"T_840c972a_1867_11eb_be32_0242ac1c0002row19_col11\" class=\"data row19 col11\" >-0.010487</td>\n",
              "                        <td id=\"T_840c972a_1867_11eb_be32_0242ac1c0002row19_col12\" class=\"data row19 col12\" >-0.008391</td>\n",
              "                        <td id=\"T_840c972a_1867_11eb_be32_0242ac1c0002row19_col13\" class=\"data row19 col13\" >-0.250343</td>\n",
              "                        <td id=\"T_840c972a_1867_11eb_be32_0242ac1c0002row19_col14\" class=\"data row19 col14\" >0.187398</td>\n",
              "                        <td id=\"T_840c972a_1867_11eb_be32_0242ac1c0002row19_col15\" class=\"data row19 col15\" >0.274501</td>\n",
              "                        <td id=\"T_840c972a_1867_11eb_be32_0242ac1c0002row19_col16\" class=\"data row19 col16\" >0.402111</td>\n",
              "                        <td id=\"T_840c972a_1867_11eb_be32_0242ac1c0002row19_col17\" class=\"data row19 col17\" >0.279358</td>\n",
              "                        <td id=\"T_840c972a_1867_11eb_be32_0242ac1c0002row19_col18\" class=\"data row19 col18\" >0.533094</td>\n",
              "                        <td id=\"T_840c972a_1867_11eb_be32_0242ac1c0002row19_col19\" class=\"data row19 col19\" >1.000000</td>\n",
              "                        <td id=\"T_840c972a_1867_11eb_be32_0242ac1c0002row19_col20\" class=\"data row19 col20\" >0.692596</td>\n",
              "                        <td id=\"T_840c972a_1867_11eb_be32_0242ac1c0002row19_col21\" class=\"data row19 col21\" >0.376074</td>\n",
              "            </tr>\n",
              "            <tr>\n",
              "                        <th id=\"T_840c972a_1867_11eb_be32_0242ac1c0002level0_row20\" class=\"row_heading level0 row20\" >numofservices</th>\n",
              "                        <td id=\"T_840c972a_1867_11eb_be32_0242ac1c0002row20_col0\" class=\"data row20 col0\" >0.284251</td>\n",
              "                        <td id=\"T_840c972a_1867_11eb_be32_0242ac1c0002row20_col1\" class=\"data row20 col1\" >0.182481</td>\n",
              "                        <td id=\"T_840c972a_1867_11eb_be32_0242ac1c0002row20_col2\" class=\"data row20 col2\" >-0.245968</td>\n",
              "                        <td id=\"T_840c972a_1867_11eb_be32_0242ac1c0002row20_col3\" class=\"data row20 col3\" >0.724706</td>\n",
              "                        <td id=\"T_840c972a_1867_11eb_be32_0242ac1c0002row20_col4\" class=\"data row20 col4\" >0.745565</td>\n",
              "                        <td id=\"T_840c972a_1867_11eb_be32_0242ac1c0002row20_col5\" class=\"data row20 col5\" >0.494190</td>\n",
              "                        <td id=\"T_840c972a_1867_11eb_be32_0242ac1c0002row20_col6\" class=\"data row20 col6\" >-0.327409</td>\n",
              "                        <td id=\"T_840c972a_1867_11eb_be32_0242ac1c0002row20_col7\" class=\"data row20 col7\" >0.329273</td>\n",
              "                        <td id=\"T_840c972a_1867_11eb_be32_0242ac1c0002row20_col8\" class=\"data row20 col8\" >0.067493</td>\n",
              "                        <td id=\"T_840c972a_1867_11eb_be32_0242ac1c0002row20_col9\" class=\"data row20 col9\" >0.204237</td>\n",
              "                        <td id=\"T_840c972a_1867_11eb_be32_0242ac1c0002row20_col10\" class=\"data row20 col10\" >0.030200</td>\n",
              "                        <td id=\"T_840c972a_1867_11eb_be32_0242ac1c0002row20_col11\" class=\"data row20 col11\" >-0.015489</td>\n",
              "                        <td id=\"T_840c972a_1867_11eb_be32_0242ac1c0002row20_col12\" class=\"data row20 col12\" >0.065226</td>\n",
              "                        <td id=\"T_840c972a_1867_11eb_be32_0242ac1c0002row20_col13\" class=\"data row20 col13\" >-0.481583</td>\n",
              "                        <td id=\"T_840c972a_1867_11eb_be32_0242ac1c0002row20_col14\" class=\"data row20 col14\" >0.571606</td>\n",
              "                        <td id=\"T_840c972a_1867_11eb_be32_0242ac1c0002row20_col15\" class=\"data row20 col15\" >0.623741</td>\n",
              "                        <td id=\"T_840c972a_1867_11eb_be32_0242ac1c0002row20_col16\" class=\"data row20 col16\" >0.693457</td>\n",
              "                        <td id=\"T_840c972a_1867_11eb_be32_0242ac1c0002row20_col17\" class=\"data row20 col17\" >0.640813</td>\n",
              "                        <td id=\"T_840c972a_1867_11eb_be32_0242ac1c0002row20_col18\" class=\"data row20 col18\" >0.688399</td>\n",
              "                        <td id=\"T_840c972a_1867_11eb_be32_0242ac1c0002row20_col19\" class=\"data row20 col19\" >0.692596</td>\n",
              "                        <td id=\"T_840c972a_1867_11eb_be32_0242ac1c0002row20_col20\" class=\"data row20 col20\" >1.000000</td>\n",
              "                        <td id=\"T_840c972a_1867_11eb_be32_0242ac1c0002row20_col21\" class=\"data row20 col21\" >0.548188</td>\n",
              "            </tr>\n",
              "            <tr>\n",
              "                        <th id=\"T_840c972a_1867_11eb_be32_0242ac1c0002level0_row21\" class=\"row_heading level0 row21\" >cluster_1</th>\n",
              "                        <td id=\"T_840c972a_1867_11eb_be32_0242ac1c0002row21_col0\" class=\"data row21 col0\" >0.193009</td>\n",
              "                        <td id=\"T_840c972a_1867_11eb_be32_0242ac1c0002row21_col1\" class=\"data row21 col1\" >0.140838</td>\n",
              "                        <td id=\"T_840c972a_1867_11eb_be32_0242ac1c0002row21_col2\" class=\"data row21 col2\" >-0.241871</td>\n",
              "                        <td id=\"T_840c972a_1867_11eb_be32_0242ac1c0002row21_col3\" class=\"data row21 col3\" >0.476154</td>\n",
              "                        <td id=\"T_840c972a_1867_11eb_be32_0242ac1c0002row21_col4\" class=\"data row21 col4\" >0.623803</td>\n",
              "                        <td id=\"T_840c972a_1867_11eb_be32_0242ac1c0002row21_col5\" class=\"data row21 col5\" >0.543697</td>\n",
              "                        <td id=\"T_840c972a_1867_11eb_be32_0242ac1c0002row21_col6\" class=\"data row21 col6\" >-0.367938</td>\n",
              "                        <td id=\"T_840c972a_1867_11eb_be32_0242ac1c0002row21_col7\" class=\"data row21 col7\" >0.276155</td>\n",
              "                        <td id=\"T_840c972a_1867_11eb_be32_0242ac1c0002row21_col8\" class=\"data row21 col8\" >0.099340</td>\n",
              "                        <td id=\"T_840c972a_1867_11eb_be32_0242ac1c0002row21_col9\" class=\"data row21 col9\" >0.191839</td>\n",
              "                        <td id=\"T_840c972a_1867_11eb_be32_0242ac1c0002row21_col10\" class=\"data row21 col10\" >0.021935</td>\n",
              "                        <td id=\"T_840c972a_1867_11eb_be32_0242ac1c0002row21_col11\" class=\"data row21 col11\" >0.012044</td>\n",
              "                        <td id=\"T_840c972a_1867_11eb_be32_0242ac1c0002row21_col12\" class=\"data row21 col12\" >0.058679</td>\n",
              "                        <td id=\"T_840c972a_1867_11eb_be32_0242ac1c0002row21_col13\" class=\"data row21 col13\" >-0.299799</td>\n",
              "                        <td id=\"T_840c972a_1867_11eb_be32_0242ac1c0002row21_col14\" class=\"data row21 col14\" >0.311520</td>\n",
              "                        <td id=\"T_840c972a_1867_11eb_be32_0242ac1c0002row21_col15\" class=\"data row21 col15\" >0.374946</td>\n",
              "                        <td id=\"T_840c972a_1867_11eb_be32_0242ac1c0002row21_col16\" class=\"data row21 col16\" >0.389049</td>\n",
              "                        <td id=\"T_840c972a_1867_11eb_be32_0242ac1c0002row21_col17\" class=\"data row21 col17\" >0.322483</td>\n",
              "                        <td id=\"T_840c972a_1867_11eb_be32_0242ac1c0002row21_col18\" class=\"data row21 col18\" >0.368591</td>\n",
              "                        <td id=\"T_840c972a_1867_11eb_be32_0242ac1c0002row21_col19\" class=\"data row21 col19\" >0.376074</td>\n",
              "                        <td id=\"T_840c972a_1867_11eb_be32_0242ac1c0002row21_col20\" class=\"data row21 col20\" >0.548188</td>\n",
              "                        <td id=\"T_840c972a_1867_11eb_be32_0242ac1c0002row21_col21\" class=\"data row21 col21\" >1.000000</td>\n",
              "            </tr>\n",
              "    </tbody></table>"
            ],
            "text/plain": [
              "<pandas.io.formats.style.Styler at 0x7f195bb0b198>"
            ]
          },
          "metadata": {
            "tags": []
          },
          "execution_count": 78
        }
      ]
    },
    {
      "cell_type": "markdown",
      "metadata": {
        "id": "aLMHlHysgSey"
      },
      "source": [
        "Выводы:\n",
        "1. По результатам её исследования я удалил добавленные ранее признаки, которые ухудшили обучение модели.\n",
        "2. Удаление любого из представленных тут коррелирующих признаков приводит к ухудшению показателей модели.\n",
        "3. Получилось, что корреляция хоть и есть, но \"из песни слов не выкинешь\". Все признаки нужны и важны для результата модели.</font>"
      ]
    },
    {
      "cell_type": "markdown",
      "metadata": {
        "id": "-f6bZlnMgSez"
      },
      "source": [
        "### Разбиение на train, valid, test выборки."
      ]
    },
    {
      "cell_type": "code",
      "metadata": {
        "id": "7UhESJvngSez"
      },
      "source": [
        "x_train, x_tosplit, y_train, y_tosplit = train_test_split(x, y, test_size=0.4, random_state=12345)\n",
        "x_valid, x_test, y_valid, y_test = train_test_split(x_tosplit, y_tosplit, test_size=0.5, random_state=12345)"
      ],
      "execution_count": 79,
      "outputs": []
    },
    {
      "cell_type": "code",
      "metadata": {
        "id": "XUU15XgxgSe3",
        "outputId": "a25e8cf9-e46b-4d82-a2a2-a9c2e7014dc9",
        "colab": {
          "base_uri": "https://localhost:8080/",
          "height": 119
        }
      },
      "source": [
        "print(x_train.shape)\n",
        "print(x_valid.shape)\n",
        "print(x_test.shape)\n",
        "print(y_train.shape)\n",
        "print(y_valid.shape)\n",
        "print(y_test.shape)"
      ],
      "execution_count": 80,
      "outputs": [
        {
          "output_type": "stream",
          "text": [
            "(4225, 22)\n",
            "(1409, 22)\n",
            "(1409, 22)\n",
            "(4225,)\n",
            "(1409,)\n",
            "(1409,)\n"
          ],
          "name": "stdout"
        }
      ]
    },
    {
      "cell_type": "markdown",
      "metadata": {
        "id": "o7Rg1ILYgSe5"
      },
      "source": [
        "### RandomForest Classifier"
      ]
    },
    {
      "cell_type": "code",
      "metadata": {
        "id": "Bn91rpFrgSe9"
      },
      "source": [
        "def trainrfc(x_train, y_train, n_estimators, criterion, max_depth, min_samples_split, min_samples_leaf,random_state):\n",
        "    model = RandomForestClassifier(n_jobs=-1,class_weight='balanced',n_estimators=n_estimators,criterion=criterion,max_depth=max_depth,min_samples_split=min_samples_split,min_samples_leaf=min_samples_leaf,random_state=random_state)\n",
        "    model.fit(x_train,y_train)\n",
        "    return model"
      ],
      "execution_count": 81,
      "outputs": []
    },
    {
      "cell_type": "code",
      "metadata": {
        "id": "niYrpjXNgSfA"
      },
      "source": [
        "#n_estimators = [250,260]\n",
        "##criterion = ['gini','entropy']\n",
        "#rst = [100,110,120,130]\n",
        "#max_depth = [100,180,200,220]\n",
        "#min_samples_split = [4,5,6,7,8]\n",
        "#min_samples_leaf = [6,7,8,9,10]"
      ],
      "execution_count": 82,
      "outputs": []
    },
    {
      "cell_type": "code",
      "metadata": {
        "scrolled": true,
        "id": "p_hCXm9ygSfD"
      },
      "source": [
        "#%%time\n",
        "#tab = pd.DataFrame(columns = ['n_estimators','random_state','max_depth','min_samples_split','min_samples_leaf','accuracy','ROC_AUC'])\n",
        "#counter=0\n",
        "#for a in n_estimators:\n",
        "#    for b in rst:\n",
        "#        for c in max_depth:\n",
        "#            for d in min_samples_split:\n",
        "#                for e in min_samples_leaf:\n",
        "#                    model = trainrfc(x_train, y_train, a,'entropy', c, d, e, b)\n",
        "#                    scoring = accuracy_score(y_valid, model.predict(x_valid))\n",
        "#                    probabilities_valid = model.predict_proba(x_valid)[:, 1]\n",
        "#                    roc_auc = roc_auc_score(y_valid, probabilities_valid) \n",
        "#                    tab = tab.append({'n_estimators':a,'random_state':b,'max_depth':c,'min_samples_split':d,'min_samples_leaf':e,'accuracy':scoring,'ROC_AUC':roc_auc}, ignore_index=True)\n",
        "#                    print(counter,a,b,c,d,e,scoring,roc_auc)\n",
        "#                    counter += 1\n",
        "#print(tab.sort_values('ROC_AUC', ascending=False).head(20))"
      ],
      "execution_count": 83,
      "outputs": []
    },
    {
      "cell_type": "code",
      "metadata": {
        "id": "5DHfqpb0gSfH"
      },
      "source": [
        "#tab.sort_values('ROC_AUC', ascending=False).head(50)"
      ],
      "execution_count": 84,
      "outputs": []
    },
    {
      "cell_type": "code",
      "metadata": {
        "id": "DcDGhqs2gSfJ"
      },
      "source": [
        "#n_estimators = [150,160,170,180,200,250,260]\n",
        "#max_depth = [100,150,180,190,200]\n",
        "#min_samples_split = [2,3,4,5,6,7]"
      ],
      "execution_count": 85,
      "outputs": []
    },
    {
      "cell_type": "code",
      "metadata": {
        "scrolled": false,
        "id": "FkMc9X7XgSfN"
      },
      "source": [
        "#%%time\n",
        "#tab = pd.DataFrame(columns = ['n_estimators','max_depth','min_samples_split','accuracy','ROC_AUC'])\n",
        "#counter=0\n",
        "#for a in n_estimators:\n",
        "#    for c in max_depth:\n",
        "#        for d in min_samples_split:\n",
        "#            model = trainrfc(x_train, y_train, a,'entropy', c, d, 7, 100)\n",
        "#            scoring = accuracy_score(y_valid, model.predict(x_valid))\n",
        "#            probabilities_valid = model.predict_proba(x_valid)[:, 1]\n",
        "#            roc_auc = roc_auc_score(y_valid, probabilities_valid) \n",
        "#            tab = tab.append({'n_estimators':a,'max_depth':c,'min_samples_split':d,'accuracy':scoring,'ROC_AUC':roc_auc}, ignore_index=True)\n",
        "#            print(counter,a,c,d,scoring,roc_auc)\n",
        "#            counter += 1\n",
        "#print(tab.sort_values('ROC_AUC', ascending=False).head(20))"
      ],
      "execution_count": 86,
      "outputs": []
    },
    {
      "cell_type": "code",
      "metadata": {
        "id": "u75_gfuLgSfP"
      },
      "source": [
        "#print(tab.sort_values('ROC_AUC', ascending=False).head(50))"
      ],
      "execution_count": 87,
      "outputs": []
    },
    {
      "cell_type": "markdown",
      "metadata": {
        "id": "kl2KJflLgSfR"
      },
      "source": [
        "### KNeighborsClassifier"
      ]
    },
    {
      "cell_type": "code",
      "metadata": {
        "id": "0Qz_hIKPgSfS"
      },
      "source": [
        "#n_neighbors = [5,10,15,20,50,70,100]"
      ],
      "execution_count": 88,
      "outputs": []
    },
    {
      "cell_type": "code",
      "metadata": {
        "id": "3c7GCZcVgSfU"
      },
      "source": [
        "#acc = pd.DataFrame(columns = ['n_neighbors','accuracy','ROC_AUC'])\n",
        "#counter=0\n",
        "#for i in n_neighbors:\n",
        "#    knn = KNeighborsClassifier(n_neighbors=i, n_jobs=-1)\n",
        "#    knn.fit(x_train, y_train)\n",
        "#    scoring = accuracy_score(y_valid, knn.predict(x_valid))\n",
        "#    probabilities_valid = knn.predict_proba(x_valid)[:, 1]\n",
        "#    roc_auc = roc_auc_score(y_valid, probabilities_valid) \n",
        "#    acc = acc.append({'n_neighbors':i,'accuracy':scoring,'ROC_AUC':roc_auc}, ignore_index=True)\n",
        "#    print(counter,i,scoring,roc_auc)\n",
        "#    counter += 1\n",
        "#print(acc.sort_values('ROC_AUC', ascending=False).head(10))"
      ],
      "execution_count": 89,
      "outputs": []
    },
    {
      "cell_type": "markdown",
      "metadata": {
        "id": "n4mgWGqygSfX"
      },
      "source": [
        "### SVM.svc"
      ]
    },
    {
      "cell_type": "code",
      "metadata": {
        "id": "MBYetghegSfY"
      },
      "source": [
        "#C = [1,2,3,4,5,6,7,8,9,10]\n",
        "#kernel = ['linear', 'poly', 'rbf', 'sigmoid', 'precomputed']"
      ],
      "execution_count": 90,
      "outputs": []
    },
    {
      "cell_type": "code",
      "metadata": {
        "id": "TUTKcfn0gSfa"
      },
      "source": [
        "#best = pd.DataFrame(columns = ['C','kernel','accuracy','ROC_AUC'])\n",
        "#counter=0\n",
        "#for i in C:\n",
        "#    for k in kernel:\n",
        "#        clf = SVC(class_weight='balanced',probability=True,random_state=12345)\n",
        "#        clf.fit(x_train, y_train)\n",
        "#        scoring = accuracy_score(y_valid, clf.predict(x_valid))\n",
        "#        probabilities_valid = clf.predict_proba(x_valid)[:, 1]\n",
        "#        roc_auc = roc_auc_score(y_valid, probabilities_valid) \n",
        "#        best = best.append({'C':i,'kernel':k,'accuracy':scoring,'ROC_AUC':roc_auc}, ignore_index=True)\n",
        "#        print(counter,i,k,scoring,roc_auc)\n",
        "#        counter += 1\n",
        "#print(best.sort_values('ROC_AUC', ascending=False).head(20))"
      ],
      "execution_count": 91,
      "outputs": []
    },
    {
      "cell_type": "markdown",
      "metadata": {
        "id": "f6YaOWcAgSfc"
      },
      "source": [
        "### CatBoost"
      ]
    },
    {
      "cell_type": "code",
      "metadata": {
        "id": "bC0xIYJJgSfc"
      },
      "source": [
        "def catbst(x_train,y_train,x_valid,y_valid,iterations,depth,l2_leaf_reg):\n",
        "    model = CatBoostClassifier(verbose=1000,iterations=iterations, depth=depth, l2_leaf_reg=l2_leaf_reg, random_state=100)\n",
        "    model.fit(x_train, y_train, use_best_model=True, eval_set=(x_valid,y_valid))\n",
        "    return model"
      ],
      "execution_count": 92,
      "outputs": []
    },
    {
      "cell_type": "code",
      "metadata": {
        "id": "-OEU2g5IgSff"
      },
      "source": [
        "#iterations = [400,500]\n",
        "#depth = [2,3,4,5]\n",
        "#min_data_in_leaf = [1,3,5,7]\n",
        "#l2_leaf_reg = [3,4,5,6]"
      ],
      "execution_count": 93,
      "outputs": []
    },
    {
      "cell_type": "code",
      "metadata": {
        "id": "nWHt-BORgSfh"
      },
      "source": [
        "#%%time\n",
        "#acc = pd.DataFrame(columns = ['depth','iterations','l2_leaf_reg','accuracy','ROC_AUC'])\n",
        "#counter = 0\n",
        "#for i in iterations:\n",
        "#    for j in depth:\n",
        "#        for l in l2_leaf_reg:\n",
        "#            model = catbst(x_train, y_train, x_valid, y_valid, i, j, l)\n",
        "#            scoring = accuracy_score(y_valid, model.predict(x_valid))\n",
        "#            probabilities_valid = model.predict_proba(x_valid)[:, 1]\n",
        "#            roc_auc = roc_auc_score(y_valid, probabilities_valid) \n",
        "#            acc = acc.append({'depth':j,'iterations':i,'l2_leaf_reg':l,'accuracy':scoring,'ROC_AUC':roc_auc}, ignore_index=True)\n",
        "#            print(counter,i,j,l,scoring,roc_auc)\n",
        "#            counter += 1\n",
        "#print(acc.sort_values('ROC_AUC', ascending=False))"
      ],
      "execution_count": 94,
      "outputs": []
    },
    {
      "cell_type": "code",
      "metadata": {
        "id": "wj8atcnCgSfj"
      },
      "source": [
        "#print(acc.sort_values('ROC_AUC', ascending=False))"
      ],
      "execution_count": 95,
      "outputs": []
    },
    {
      "cell_type": "markdown",
      "metadata": {
        "id": "vT8izlgUgSfo"
      },
      "source": [
        "##### Лучший результат по сравнению с другими показала модель CatBoost с параметрами iterations=3000, depth=5, l2_leaf_reg = 3.  \n",
        "Accuracy = 0.899929  \n",
        "ROC_AUC = 0.947246"
      ]
    },
    {
      "cell_type": "markdown",
      "metadata": {
        "id": "ojtZgDgzgSfp"
      },
      "source": [
        "# Проверка модели."
      ]
    },
    {
      "cell_type": "code",
      "metadata": {
        "id": "utz0LEgXgSfu"
      },
      "source": [
        "def catbst(x_train,y_train,x_valid,y_valid,iterations,depth,l2_leaf_reg):\n",
        "    model = CatBoostClassifier(verbose=1000,iterations=iterations, depth=depth, l2_leaf_reg=l2_leaf_reg, random_state=100)\n",
        "    model.fit(x_train, y_train, use_best_model=True, eval_set=(x_valid,y_valid))\n",
        "    return model"
      ],
      "execution_count": 96,
      "outputs": []
    },
    {
      "cell_type": "code",
      "metadata": {
        "id": "YvKkKNMhgSfw",
        "outputId": "669cfa26-4b5a-43de-a8c1-853fc9b29f24",
        "colab": {
          "base_uri": "https://localhost:8080/",
          "height": 170
        }
      },
      "source": [
        "model = catbst(x_train, y_train, x_valid, y_valid, 3000, 3, 5)"
      ],
      "execution_count": 97,
      "outputs": [
        {
          "output_type": "stream",
          "text": [
            "0:\tlearn: 0.6775986\ttest: 0.6779310\tbest: 0.6779310 (0)\ttotal: 50ms\tremaining: 2m 29s\n",
            "1000:\tlearn: 0.2693167\ttest: 0.3167477\tbest: 0.3167477 (1000)\ttotal: 2.28s\tremaining: 4.55s\n",
            "2000:\tlearn: 0.2225352\ttest: 0.2979193\tbest: 0.2978752 (1997)\ttotal: 4.48s\tremaining: 2.24s\n",
            "2999:\tlearn: 0.1941406\ttest: 0.2932414\tbest: 0.2927445 (2912)\ttotal: 6.72s\tremaining: 0us\n",
            "\n",
            "bestTest = 0.2927444515\n",
            "bestIteration = 2912\n",
            "\n",
            "Shrink model to first 2913 iterations.\n"
          ],
          "name": "stdout"
        }
      ]
    },
    {
      "cell_type": "code",
      "metadata": {
        "id": "u_6V2PiNgSfy",
        "outputId": "1e168aa2-825e-4488-af72-fd2cfa4bfb21",
        "colab": {
          "base_uri": "https://localhost:8080/",
          "height": 34
        }
      },
      "source": [
        "scoring = accuracy_score(y_valid, model.predict(x_valid))\n",
        "probabilities_valid = model.predict_proba(x_valid)[:, 1]\n",
        "roc_auc = roc_auc_score(y_valid, probabilities_valid)\n",
        "print(scoring, roc_auc)"
      ],
      "execution_count": 98,
      "outputs": [
        {
          "output_type": "stream",
          "text": [
            "0.8757984386089425 0.9237778921985962\n"
          ],
          "name": "stdout"
        }
      ]
    },
    {
      "cell_type": "markdown",
      "metadata": {
        "id": "SDushxf5gSf0"
      },
      "source": [
        "##### На валидационной выборке ROC_AUC получился 0.9237778921985962."
      ]
    },
    {
      "cell_type": "markdown",
      "metadata": {
        "id": "CBP4CAfVgSf0"
      },
      "source": [
        "### Применю обучение модели на объединённой тренировочной + валидационной выборках для проверки показателей на тестовой выборке."
      ]
    },
    {
      "cell_type": "code",
      "metadata": {
        "id": "YAXwjVsWgSf1"
      },
      "source": [
        "x_new = pd.concat([x_train, x_valid], ignore_index=True)\n",
        "y_new = pd.concat([y_train, y_valid], ignore_index=True)"
      ],
      "execution_count": 99,
      "outputs": []
    },
    {
      "cell_type": "code",
      "metadata": {
        "id": "V4V7lWXSgSf4",
        "outputId": "acc316ec-2802-4730-d1de-c8b5463d8524",
        "colab": {
          "base_uri": "https://localhost:8080/",
          "height": 119
        }
      },
      "source": [
        "cols=['internetservice','multiplelines','paymentmethod','type']\n",
        "x_new[cols] = x_new[cols].astype('int')\n",
        "x_test[cols] = x_test[cols].astype('int')"
      ],
      "execution_count": 100,
      "outputs": [
        {
          "output_type": "stream",
          "text": [
            "/usr/local/lib/python3.6/dist-packages/pandas/core/frame.py:3065: SettingWithCopyWarning: \n",
            "A value is trying to be set on a copy of a slice from a DataFrame.\n",
            "Try using .loc[row_indexer,col_indexer] = value instead\n",
            "\n",
            "See the caveats in the documentation: https://pandas.pydata.org/pandas-docs/stable/user_guide/indexing.html#returning-a-view-versus-a-copy\n",
            "  self[k1] = value[k2]\n"
          ],
          "name": "stderr"
        }
      ]
    },
    {
      "cell_type": "code",
      "metadata": {
        "id": "h3nWK1BrgSf9"
      },
      "source": [
        "def catbst_new(x_train,y_train,iterations,depth,l2_leaf_reg):\n",
        "    model = CatBoostClassifier(cat_features=['paymentmethod','internetservice','type','multiplelines'],verbose=1000,iterations=iterations, depth=depth, l2_leaf_reg=l2_leaf_reg, random_state=100)\n",
        "    model.fit(x_train, y_train)\n",
        "    return model"
      ],
      "execution_count": 101,
      "outputs": []
    },
    {
      "cell_type": "code",
      "metadata": {
        "id": "FiEBqdjSgSf_",
        "outputId": "1e4d4729-a126-4a4d-9370-c8d4fabb68ad",
        "colab": {
          "base_uri": "https://localhost:8080/",
          "height": 85
        }
      },
      "source": [
        "c_boost = catbst_new(x_new, y_new, 3000, 3, 5)"
      ],
      "execution_count": 102,
      "outputs": [
        {
          "output_type": "stream",
          "text": [
            "0:\tlearn: 0.6780332\ttotal: 5.91ms\tremaining: 17.7s\n",
            "1000:\tlearn: 0.2964864\ttotal: 5.39s\tremaining: 10.8s\n",
            "2000:\tlearn: 0.2588238\ttotal: 11s\tremaining: 5.47s\n",
            "2999:\tlearn: 0.2325561\ttotal: 16.7s\tremaining: 0us\n"
          ],
          "name": "stdout"
        }
      ]
    },
    {
      "cell_type": "code",
      "metadata": {
        "id": "2UbX3kINgSgB",
        "outputId": "b589b980-8c8d-45a6-c352-06677b1f7598",
        "colab": {
          "base_uri": "https://localhost:8080/",
          "height": 34
        }
      },
      "source": [
        "scoring = accuracy_score(y_test, c_boost.predict(x_test))\n",
        "probabilities_valid = c_boost.predict_proba(x_test)[:, 1]\n",
        "roc_auc = roc_auc_score(y_test, probabilities_valid)\n",
        "print(scoring, roc_auc)"
      ],
      "execution_count": 103,
      "outputs": [
        {
          "output_type": "stream",
          "text": [
            "0.8821859474804826 0.9225456976585173\n"
          ],
          "name": "stdout"
        }
      ]
    },
    {
      "cell_type": "markdown",
      "metadata": {
        "id": "qvTlSgnqgSgD"
      },
      "source": [
        "##### А на тестовой ROC_AUC - 0.9225456976585173, accuracy - 0.8821859474804826."
      ]
    },
    {
      "cell_type": "markdown",
      "metadata": {
        "id": "PVupWYulgSgD"
      },
      "source": [
        "# Общий вывод:\n",
        "1. У провайдера наблюдается существенный спад по новым клиентам. Многие из тех, кто подключился за последние пять месяцев, закрыли контракт.\n",
        "2. В 2019 году начался активный прикток новых клиентов, которые, возможно, привели к ухудшению качества предоставляемых услуг.\n",
        "3. Исходные данные были изучены и предобработаны.\n",
        "4. Были созданы дополнительные признаки, исходя из анализа представленных материалов.\n",
        "5. Были опробованы модели машинного обучения RandomForestClassifier, KNeighborsClassifier, SVM.svc, CatBoost.\n",
        "6. Наилучший результат с большим отрывом показала модель CatBoost.\n",
        "7. Удалось достигнуть значений accuracy 0.8821859474804826 и ROC_AUC 0.9225456976585173 на тестовой выборке."
      ]
    },
    {
      "cell_type": "markdown",
      "metadata": {
        "id": "b5GR9i-ZgSgE"
      },
      "source": [
        "### Вывод графика важности признаков для обучения модели."
      ]
    },
    {
      "cell_type": "code",
      "metadata": {
        "id": "g_uiDtyNgSgE"
      },
      "source": [
        "features = pd.DataFrame(columns=['name','importance'])\n",
        "features['importance'] = c_boost.get_feature_importance()\n",
        "features['name'] = x_train.columns\n",
        "features = features.sort_values('importance',ascending=False)"
      ],
      "execution_count": 104,
      "outputs": []
    },
    {
      "cell_type": "code",
      "metadata": {
        "id": "DSO4goTSgSgG",
        "outputId": "84866229-e378-4932-c307-688535131923",
        "colab": {
          "base_uri": "https://localhost:8080/",
          "height": 525
        }
      },
      "source": [
        "fig, ax = plt.subplots(1, 1, figsize=(14, 7))\n",
        "ax.bar(x=np.arange(len(features)), height=features['importance'])\n",
        "ax.set_xticklabels(features['name'], rotation=90)\n",
        "ax.set_xticks(np.arange(len(features)))\n",
        "ax.set_ylabel('Feature importance')"
      ],
      "execution_count": 105,
      "outputs": [
        {
          "output_type": "execute_result",
          "data": {
            "text/plain": [
              "Text(0, 0.5, 'Feature importance')"
            ]
          },
          "metadata": {
            "tags": []
          },
          "execution_count": 105
        },
        {
          "output_type": "display_data",
          "data": {
            "image/png": "[encoded data removed]",
            "text/plain": [
              "<Figure size 1008x504 with 1 Axes>"
            ]
          },
          "metadata": {
            "tags": [],
            "needs_background": "light"
          }
        }
      ]
    }
  ]
}