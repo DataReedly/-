{
  "nbformat": 4,
  "nbformat_minor": 0,
  "metadata": {
    "kernelspec": {
      "display_name": "Python 3",
      "language": "python",
      "name": "python3"
    },
    "language_info": {
      "codemirror_mode": {
        "name": "ipython",
        "version": 3
      },
      "file_extension": ".py",
      "mimetype": "text/x-python",
      "name": "python",
      "nbconvert_exporter": "python",
      "pygments_lexer": "ipython3",
      "version": "3.7.6"
    },
    "colab": {
      "name": "Проект 14. Задание 2.ipynb",
      "provenance": []
    }
  },
  "cells": [
    {
      "cell_type": "markdown",
      "metadata": {
        "id": "mbRbpR5hzDpZ"
      },
      "source": [
        "# 1. Аналитика"
      ]
    },
    {
      "cell_type": "markdown",
      "metadata": {
        "id": "_kEU1kIOzDpa"
      },
      "source": [
        "### Импорт библиотек и чтение данных"
      ]
    },
    {
      "cell_type": "code",
      "metadata": {
        "id": "OXE5FOGyzDpb"
      },
      "source": [
        "import pandas as pd\n",
        "from scipy import stats as st\n",
        "import numpy as np"
      ],
      "execution_count": 1,
      "outputs": []
    },
    {
      "cell_type": "code",
      "metadata": {
        "id": "CvVy5KzOzuQ4",
        "outputId": "c5f95a7b-4083-4e55-f686-08f826cf4547",
        "colab": {
          "base_uri": "https://localhost:8080/",
          "height": 34
        }
      },
      "source": [
        "from google.colab import drive\n",
        "drive.mount('/content/drive')"
      ],
      "execution_count": 2,
      "outputs": [
        {
          "output_type": "stream",
          "text": [
            "Drive already mounted at /content/drive; to attempt to forcibly remount, call drive.mount(\"/content/drive\", force_remount=True).\n"
          ],
          "name": "stdout"
        }
      ]
    },
    {
      "cell_type": "code",
      "metadata": {
        "id": "K-e5PTHyzDpg"
      },
      "source": [
        "q1 = pd.read_csv('/content/drive/My Drive/Colab Notebooks/query_1.csv')\n",
        "q3 = pd.read_csv('/content/drive/My Drive/Colab Notebooks/query_3.csv')"
      ],
      "execution_count": 3,
      "outputs": []
    },
    {
      "cell_type": "markdown",
      "metadata": {
        "id": "s-K3QIRozDpk"
      },
      "source": [
        "### Ознакомление с данными"
      ]
    },
    {
      "cell_type": "code",
      "metadata": {
        "id": "ejDHgsHJzDpl",
        "outputId": "3d0018b6-dc11-4ca9-9eab-0405b51a3b76",
        "colab": {
          "base_uri": "https://localhost:8080/",
          "height": 297
        }
      },
      "source": [
        "q1"
      ],
      "execution_count": 4,
      "outputs": [
        {
          "output_type": "execute_result",
          "data": {
            "text/html": [
              "<div>\n",
              "<style scoped>\n",
              "    .dataframe tbody tr th:only-of-type {\n",
              "        vertical-align: middle;\n",
              "    }\n",
              "\n",
              "    .dataframe tbody tr th {\n",
              "        vertical-align: top;\n",
              "    }\n",
              "\n",
              "    .dataframe thead th {\n",
              "        text-align: right;\n",
              "    }\n",
              "</style>\n",
              "<table border=\"1\" class=\"dataframe\">\n",
              "  <thead>\n",
              "    <tr style=\"text-align: right;\">\n",
              "      <th></th>\n",
              "      <th>model</th>\n",
              "      <th>flights_amount</th>\n",
              "    </tr>\n",
              "  </thead>\n",
              "  <tbody>\n",
              "    <tr>\n",
              "      <th>0</th>\n",
              "      <td>Airbus A319-100</td>\n",
              "      <td>607</td>\n",
              "    </tr>\n",
              "    <tr>\n",
              "      <th>1</th>\n",
              "      <td>Airbus A321-200</td>\n",
              "      <td>960</td>\n",
              "    </tr>\n",
              "    <tr>\n",
              "      <th>2</th>\n",
              "      <td>Boeing 737-300</td>\n",
              "      <td>630</td>\n",
              "    </tr>\n",
              "    <tr>\n",
              "      <th>3</th>\n",
              "      <td>Boeing 767-300</td>\n",
              "      <td>600</td>\n",
              "    </tr>\n",
              "    <tr>\n",
              "      <th>4</th>\n",
              "      <td>Boeing 777-300</td>\n",
              "      <td>300</td>\n",
              "    </tr>\n",
              "    <tr>\n",
              "      <th>5</th>\n",
              "      <td>Bombardier CRJ-200</td>\n",
              "      <td>4446</td>\n",
              "    </tr>\n",
              "    <tr>\n",
              "      <th>6</th>\n",
              "      <td>Cessna 208 Caravan</td>\n",
              "      <td>4557</td>\n",
              "    </tr>\n",
              "    <tr>\n",
              "      <th>7</th>\n",
              "      <td>Sukhoi SuperJet-100</td>\n",
              "      <td>4185</td>\n",
              "    </tr>\n",
              "  </tbody>\n",
              "</table>\n",
              "</div>"
            ],
            "text/plain": [
              "                 model  flights_amount\n",
              "0      Airbus A319-100             607\n",
              "1      Airbus A321-200             960\n",
              "2       Boeing 737-300             630\n",
              "3       Boeing 767-300             600\n",
              "4       Boeing 777-300             300\n",
              "5   Bombardier CRJ-200            4446\n",
              "6   Cessna 208 Caravan            4557\n",
              "7  Sukhoi SuperJet-100            4185"
            ]
          },
          "metadata": {
            "tags": []
          },
          "execution_count": 4
        }
      ]
    },
    {
      "cell_type": "code",
      "metadata": {
        "id": "ZBsMBM3VzDpr",
        "outputId": "462660e4-bc81-4ff5-967c-d461bb8e0f95",
        "colab": {
          "base_uri": "https://localhost:8080/",
          "height": 204
        }
      },
      "source": [
        "q3.head()"
      ],
      "execution_count": 5,
      "outputs": [
        {
          "output_type": "execute_result",
          "data": {
            "text/html": [
              "<div>\n",
              "<style scoped>\n",
              "    .dataframe tbody tr th:only-of-type {\n",
              "        vertical-align: middle;\n",
              "    }\n",
              "\n",
              "    .dataframe tbody tr th {\n",
              "        vertical-align: top;\n",
              "    }\n",
              "\n",
              "    .dataframe thead th {\n",
              "        text-align: right;\n",
              "    }\n",
              "</style>\n",
              "<table border=\"1\" class=\"dataframe\">\n",
              "  <thead>\n",
              "    <tr style=\"text-align: right;\">\n",
              "      <th></th>\n",
              "      <th>city</th>\n",
              "      <th>average_flights</th>\n",
              "    </tr>\n",
              "  </thead>\n",
              "  <tbody>\n",
              "    <tr>\n",
              "      <th>0</th>\n",
              "      <td>Абакан</td>\n",
              "      <td>3.870968</td>\n",
              "    </tr>\n",
              "    <tr>\n",
              "      <th>1</th>\n",
              "      <td>Анадырь</td>\n",
              "      <td>1.000000</td>\n",
              "    </tr>\n",
              "    <tr>\n",
              "      <th>2</th>\n",
              "      <td>Анапа</td>\n",
              "      <td>2.161290</td>\n",
              "    </tr>\n",
              "    <tr>\n",
              "      <th>3</th>\n",
              "      <td>Архангельск</td>\n",
              "      <td>5.354839</td>\n",
              "    </tr>\n",
              "    <tr>\n",
              "      <th>4</th>\n",
              "      <td>Астрахань</td>\n",
              "      <td>2.451613</td>\n",
              "    </tr>\n",
              "  </tbody>\n",
              "</table>\n",
              "</div>"
            ],
            "text/plain": [
              "          city  average_flights\n",
              "0       Абакан         3.870968\n",
              "1      Анадырь         1.000000\n",
              "2        Анапа         2.161290\n",
              "3  Архангельск         5.354839\n",
              "4    Астрахань         2.451613"
            ]
          },
          "metadata": {
            "tags": []
          },
          "execution_count": 5
        }
      ]
    },
    {
      "cell_type": "code",
      "metadata": {
        "id": "9NCtnldmzDpv",
        "outputId": "83346a06-f99d-453a-cf18-1b1d35c810c3",
        "colab": {
          "base_uri": "https://localhost:8080/",
          "height": 170
        }
      },
      "source": [
        "q1.info()"
      ],
      "execution_count": 6,
      "outputs": [
        {
          "output_type": "stream",
          "text": [
            "<class 'pandas.core.frame.DataFrame'>\n",
            "RangeIndex: 8 entries, 0 to 7\n",
            "Data columns (total 2 columns):\n",
            " #   Column          Non-Null Count  Dtype \n",
            "---  ------          --------------  ----- \n",
            " 0   model           8 non-null      object\n",
            " 1   flights_amount  8 non-null      int64 \n",
            "dtypes: int64(1), object(1)\n",
            "memory usage: 256.0+ bytes\n"
          ],
          "name": "stdout"
        }
      ]
    },
    {
      "cell_type": "code",
      "metadata": {
        "id": "ZBnJB2cdzDp0",
        "outputId": "35778bab-a3f4-487a-ead6-bb728021aa29",
        "colab": {
          "base_uri": "https://localhost:8080/",
          "height": 170
        }
      },
      "source": [
        "q3.info()"
      ],
      "execution_count": 7,
      "outputs": [
        {
          "output_type": "stream",
          "text": [
            "<class 'pandas.core.frame.DataFrame'>\n",
            "RangeIndex: 101 entries, 0 to 100\n",
            "Data columns (total 2 columns):\n",
            " #   Column           Non-Null Count  Dtype  \n",
            "---  ------           --------------  -----  \n",
            " 0   city             101 non-null    object \n",
            " 1   average_flights  101 non-null    float64\n",
            "dtypes: float64(1), object(1)\n",
            "memory usage: 1.7+ KB\n"
          ],
          "name": "stdout"
        }
      ]
    },
    {
      "cell_type": "markdown",
      "metadata": {
        "id": "O8BMtfGZzDp4"
      },
      "source": [
        "##### Пропущенные значения отсутствуют. Типы данных определены корректно."
      ]
    },
    {
      "cell_type": "markdown",
      "metadata": {
        "id": "2N1cr2T2zDp5"
      },
      "source": [
        "### Приведём названия городов к нижнему регистру"
      ]
    },
    {
      "cell_type": "code",
      "metadata": {
        "id": "mZHVxD-0zDp6"
      },
      "source": [
        "q3['city'] = q3['city'].str.lower()"
      ],
      "execution_count": 8,
      "outputs": []
    },
    {
      "cell_type": "code",
      "metadata": {
        "id": "WtUW2_iBzDp-",
        "outputId": "4e5d6fc9-f79a-4ecf-8936-879aec0a2a6c",
        "colab": {
          "base_uri": "https://localhost:8080/",
          "height": 51
        }
      },
      "source": [
        "print(q1.duplicated().sum())\n",
        "print(q3.duplicated().sum())"
      ],
      "execution_count": 9,
      "outputs": [
        {
          "output_type": "stream",
          "text": [
            "0\n",
            "0\n"
          ],
          "name": "stdout"
        }
      ]
    },
    {
      "cell_type": "markdown",
      "metadata": {
        "id": "ETau9EqXzDqC"
      },
      "source": [
        "##### Дубликаты отсутсвуют."
      ]
    },
    {
      "cell_type": "markdown",
      "metadata": {
        "id": "b2xrQmXMzDqD"
      },
      "source": [
        "### Топ-10 городов по количеству рейсов"
      ]
    },
    {
      "cell_type": "code",
      "metadata": {
        "id": "9go3JMNHzDqD",
        "outputId": "805ef792-2af1-4143-e2a8-122a2440ed68",
        "colab": {
          "base_uri": "https://localhost:8080/",
          "height": 359
        }
      },
      "source": [
        "q3.sort_values('average_flights', ascending=False).head(10)"
      ],
      "execution_count": 10,
      "outputs": [
        {
          "output_type": "execute_result",
          "data": {
            "text/html": [
              "<div>\n",
              "<style scoped>\n",
              "    .dataframe tbody tr th:only-of-type {\n",
              "        vertical-align: middle;\n",
              "    }\n",
              "\n",
              "    .dataframe tbody tr th {\n",
              "        vertical-align: top;\n",
              "    }\n",
              "\n",
              "    .dataframe thead th {\n",
              "        text-align: right;\n",
              "    }\n",
              "</style>\n",
              "<table border=\"1\" class=\"dataframe\">\n",
              "  <thead>\n",
              "    <tr style=\"text-align: right;\">\n",
              "      <th></th>\n",
              "      <th>city</th>\n",
              "      <th>average_flights</th>\n",
              "    </tr>\n",
              "  </thead>\n",
              "  <tbody>\n",
              "    <tr>\n",
              "      <th>43</th>\n",
              "      <td>москва</td>\n",
              "      <td>129.774194</td>\n",
              "    </tr>\n",
              "    <tr>\n",
              "      <th>70</th>\n",
              "      <td>санкт-петербург</td>\n",
              "      <td>31.161290</td>\n",
              "    </tr>\n",
              "    <tr>\n",
              "      <th>54</th>\n",
              "      <td>новосибирск</td>\n",
              "      <td>17.322581</td>\n",
              "    </tr>\n",
              "    <tr>\n",
              "      <th>33</th>\n",
              "      <td>красноярск</td>\n",
              "      <td>11.580645</td>\n",
              "    </tr>\n",
              "    <tr>\n",
              "      <th>20</th>\n",
              "      <td>екатеринбург</td>\n",
              "      <td>11.322581</td>\n",
              "    </tr>\n",
              "    <tr>\n",
              "      <th>67</th>\n",
              "      <td>ростов-на-дону</td>\n",
              "      <td>10.193548</td>\n",
              "    </tr>\n",
              "    <tr>\n",
              "      <th>63</th>\n",
              "      <td>пермь</td>\n",
              "      <td>10.129032</td>\n",
              "    </tr>\n",
              "    <tr>\n",
              "      <th>10</th>\n",
              "      <td>брянск</td>\n",
              "      <td>10.000000</td>\n",
              "    </tr>\n",
              "    <tr>\n",
              "      <th>74</th>\n",
              "      <td>сочи</td>\n",
              "      <td>9.612903</td>\n",
              "    </tr>\n",
              "    <tr>\n",
              "      <th>84</th>\n",
              "      <td>ульяновск</td>\n",
              "      <td>9.580645</td>\n",
              "    </tr>\n",
              "  </tbody>\n",
              "</table>\n",
              "</div>"
            ],
            "text/plain": [
              "               city  average_flights\n",
              "43           москва       129.774194\n",
              "70  санкт-петербург        31.161290\n",
              "54      новосибирск        17.322581\n",
              "33       красноярск        11.580645\n",
              "20     екатеринбург        11.322581\n",
              "67   ростов-на-дону        10.193548\n",
              "63            пермь        10.129032\n",
              "10           брянск        10.000000\n",
              "74             сочи         9.612903\n",
              "84        ульяновск         9.580645"
            ]
          },
          "metadata": {
            "tags": []
          },
          "execution_count": 10
        }
      ]
    },
    {
      "cell_type": "markdown",
      "metadata": {
        "id": "vBxh4iFnzDqH"
      },
      "source": [
        "## Графики"
      ]
    },
    {
      "cell_type": "markdown",
      "metadata": {
        "id": "hw5_I2RdzDqI"
      },
      "source": [
        "### ТОП-10 городов по количеству рейсов"
      ]
    },
    {
      "cell_type": "code",
      "metadata": {
        "id": "Ugg_cd8NzDqJ",
        "outputId": "6d395dfe-61a0-41ca-b101-0f0201539bd3",
        "colab": {
          "base_uri": "https://localhost:8080/",
          "height": 468
        }
      },
      "source": [
        "q3.sort_values('average_flights', ascending=False).head(10).plot(x='city',y='average_flights',kind='bar',ylim=(0, 140),yticks=[0 + i for i in range(0, 150, 10)],rot=45,grid=True,figsize=(10, 6))"
      ],
      "execution_count": 11,
      "outputs": [
        {
          "output_type": "execute_result",
          "data": {
            "text/plain": [
              "<matplotlib.axes._subplots.AxesSubplot at 0x7f7db0127978>"
            ]
          },
          "metadata": {
            "tags": []
          },
          "execution_count": 11
        },
        {
          "output_type": "display_data",
          "data": {
            "image/png": "[encoded data removed]",
            "text/plain": [
              "<Figure size 720x432 with 1 Axes>"
            ]
          },
          "metadata": {
            "tags": [],
            "needs_background": "light"
          }
        }
      ]
    },
    {
      "cell_type": "markdown",
      "metadata": {
        "id": "0OGL8ArzzDqN"
      },
      "source": [
        "##### Вывод: видим, что наибольшее количество рейсов приходится в столицу страны, на города-миллионники, курортный город и крупные города местного значения."
      ]
    },
    {
      "cell_type": "markdown",
      "metadata": {
        "id": "0W0D6tg2zDqN"
      },
      "source": [
        "### Модели самолетов и количество рейсов"
      ]
    },
    {
      "cell_type": "code",
      "metadata": {
        "id": "htq6EWowzDqO",
        "outputId": "d8a9d679-2cc6-4bb0-954b-8aa0160982de",
        "colab": {
          "base_uri": "https://localhost:8080/",
          "height": 475
        }
      },
      "source": [
        "q1.sort_values('flights_amount',ascending=False).plot(x='model',y='flights_amount',kind='bar',yticks=[0 + i for i in range(0, 4800, 200)],rot=45,grid=True,figsize=(10, 6))"
      ],
      "execution_count": 12,
      "outputs": [
        {
          "output_type": "execute_result",
          "data": {
            "text/plain": [
              "<matplotlib.axes._subplots.AxesSubplot at 0x7f7db00a1e80>"
            ]
          },
          "metadata": {
            "tags": []
          },
          "execution_count": 12
        },
        {
          "output_type": "display_data",
          "data": {
            "image/png": "[encoded data removed]",
            "text/plain": [
              "<Figure size 720x432 with 1 Axes>"
            ]
          },
          "metadata": {
            "tags": [],
            "needs_background": "light"
          }
        }
      ]
    },
    {
      "cell_type": "markdown",
      "metadata": {
        "id": "PqbVE0DFzDqS"
      },
      "source": [
        "##### Вывод: Количество полётов для каждой модели отсортировано по убыванию. Из графика также видно, что модели самолётов выстроились по возрастанию количества пассажиров на борту. Cessna 208 Caravan - вместимость порядка 9 пассажиров - 4557 полётов, Bombardier CRJ-200 - около 50 пассижиров - 4446 полётов,  Boeing 767-300 - от 218 до 350 пассажиров - 600 полётов, Boeing 777-300\t- от 305 до 550 пассажиров - 300 полётов."
      ]
    },
    {
      "cell_type": "code",
      "metadata": {
        "id": "ywuWvJNkzDqT",
        "outputId": "1ea767b9-f82a-4156-db5e-afe62d67c9ee",
        "colab": {
          "base_uri": "https://localhost:8080/",
          "height": 649
        }
      },
      "source": [
        "q3.sort_values('average_flights',ascending=False).plot(x='city',y='average_flights',kind='bar',grid=True,figsize=(20, 8))"
      ],
      "execution_count": 13,
      "outputs": [
        {
          "output_type": "execute_result",
          "data": {
            "text/plain": [
              "<matplotlib.axes._subplots.AxesSubplot at 0x7f7db00a1518>"
            ]
          },
          "metadata": {
            "tags": []
          },
          "execution_count": 13
        },
        {
          "output_type": "display_data",
          "data": {
            "image/png": "[encoded data removed]",
            "text/plain": [
              "<Figure size 1440x576 with 1 Axes>"
            ]
          },
          "metadata": {
            "tags": [],
            "needs_background": "light"
          }
        }
      ]
    },
    {
      "cell_type": "markdown",
      "metadata": {
        "id": "D7LkXE53zDqX"
      },
      "source": [
        "##### Вывод: Среднее количество рейсов в столицу страны максимальное и больше в несколько раз. Из графика видно, что среднее количество снижается по мере географического удаления от столицы на восток."
      ]
    },
    {
      "cell_type": "markdown",
      "metadata": {
        "id": "Y2kDp45azDqZ"
      },
      "source": [
        "# 2. Проверка гипотезы"
      ]
    },
    {
      "cell_type": "code",
      "metadata": {
        "id": "LHN2zzWpzDqa"
      },
      "source": [
        "df = pd.read_csv('/content/drive/My Drive/Colab Notebooks/query_last.csv')"
      ],
      "execution_count": 14,
      "outputs": []
    },
    {
      "cell_type": "code",
      "metadata": {
        "id": "mdzrw6qkzDqe",
        "outputId": "350abce7-0db7-4bef-efcd-79d9ca343538",
        "colab": {
          "base_uri": "https://localhost:8080/",
          "height": 204
        }
      },
      "source": [
        "df.head()"
      ],
      "execution_count": 15,
      "outputs": [
        {
          "output_type": "execute_result",
          "data": {
            "text/html": [
              "<div>\n",
              "<style scoped>\n",
              "    .dataframe tbody tr th:only-of-type {\n",
              "        vertical-align: middle;\n",
              "    }\n",
              "\n",
              "    .dataframe tbody tr th {\n",
              "        vertical-align: top;\n",
              "    }\n",
              "\n",
              "    .dataframe thead th {\n",
              "        text-align: right;\n",
              "    }\n",
              "</style>\n",
              "<table border=\"1\" class=\"dataframe\">\n",
              "  <thead>\n",
              "    <tr style=\"text-align: right;\">\n",
              "      <th></th>\n",
              "      <th>week_number</th>\n",
              "      <th>ticket_amount</th>\n",
              "      <th>festival_week</th>\n",
              "      <th>festival_name</th>\n",
              "    </tr>\n",
              "  </thead>\n",
              "  <tbody>\n",
              "    <tr>\n",
              "      <th>0</th>\n",
              "      <td>30</td>\n",
              "      <td>43568</td>\n",
              "      <td>30.0</td>\n",
              "      <td>Park Live</td>\n",
              "    </tr>\n",
              "    <tr>\n",
              "      <th>1</th>\n",
              "      <td>31</td>\n",
              "      <td>51034</td>\n",
              "      <td>31.0</td>\n",
              "      <td>Пикник Афиши</td>\n",
              "    </tr>\n",
              "    <tr>\n",
              "      <th>2</th>\n",
              "      <td>32</td>\n",
              "      <td>51675</td>\n",
              "      <td>NaN</td>\n",
              "      <td>NaN</td>\n",
              "    </tr>\n",
              "    <tr>\n",
              "      <th>3</th>\n",
              "      <td>33</td>\n",
              "      <td>51378</td>\n",
              "      <td>NaN</td>\n",
              "      <td>NaN</td>\n",
              "    </tr>\n",
              "    <tr>\n",
              "      <th>4</th>\n",
              "      <td>34</td>\n",
              "      <td>51492</td>\n",
              "      <td>NaN</td>\n",
              "      <td>NaN</td>\n",
              "    </tr>\n",
              "  </tbody>\n",
              "</table>\n",
              "</div>"
            ],
            "text/plain": [
              "   week_number  ticket_amount  festival_week festival_name\n",
              "0           30          43568           30.0     Park Live\n",
              "1           31          51034           31.0  Пикник Афиши\n",
              "2           32          51675            NaN           NaN\n",
              "3           33          51378            NaN           NaN\n",
              "4           34          51492            NaN           NaN"
            ]
          },
          "metadata": {
            "tags": []
          },
          "execution_count": 15
        }
      ]
    },
    {
      "cell_type": "code",
      "metadata": {
        "id": "ghoyLadkzDqi",
        "outputId": "7167c7b5-bd94-475b-91d6-9f91e1fb0eee",
        "colab": {
          "base_uri": "https://localhost:8080/",
          "height": 34
        }
      },
      "source": [
        "df[df['festival_name'].isna()]['ticket_amount'].count()"
      ],
      "execution_count": 16,
      "outputs": [
        {
          "output_type": "execute_result",
          "data": {
            "text/plain": [
              "7"
            ]
          },
          "metadata": {
            "tags": []
          },
          "execution_count": 16
        }
      ]
    },
    {
      "cell_type": "code",
      "metadata": {
        "id": "HYlgHcsOzDqm",
        "outputId": "34395a39-f052-41cc-f460-b65301919f25",
        "colab": {
          "base_uri": "https://localhost:8080/",
          "height": 34
        }
      },
      "source": [
        "df[~df['festival_name'].isna()]['ticket_amount'].count()"
      ],
      "execution_count": 17,
      "outputs": [
        {
          "output_type": "execute_result",
          "data": {
            "text/plain": [
              "3"
            ]
          },
          "metadata": {
            "tags": []
          },
          "execution_count": 17
        }
      ]
    },
    {
      "cell_type": "markdown",
      "metadata": {
        "id": "6H27mkRvzDqq"
      },
      "source": [
        "##### 7 недель без фестивалей и 3 недели с фестивалями. Выборки, слишком маленькие и достоверно понять по ним что-то трудно. Не уверен в правильности, на мой взгляд надо использовать bootstrap для создания достаточной величины выборок, предположим, по 1000 значений."
      ]
    },
    {
      "cell_type": "markdown",
      "metadata": {
        "id": "unUK2MMlzDqr"
      },
      "source": [
        "### Рассчитаем средний спрос."
      ]
    },
    {
      "cell_type": "code",
      "metadata": {
        "id": "ZebpXP24zDqs",
        "outputId": "fb3f8157-892e-4a84-faa3-deb27a6dc35b",
        "colab": {
          "base_uri": "https://localhost:8080/",
          "height": 34
        }
      },
      "source": [
        "avg_ordinary = df[df['festival_name'].isna()]['ticket_amount'].mean()\n",
        "avg_ordinary"
      ],
      "execution_count": 18,
      "outputs": [
        {
          "output_type": "execute_result",
          "data": {
            "text/plain": [
              "51530.857142857145"
            ]
          },
          "metadata": {
            "tags": []
          },
          "execution_count": 18
        }
      ]
    },
    {
      "cell_type": "code",
      "metadata": {
        "id": "RdL6m2DUzDqx",
        "outputId": "b2f6d37b-32fd-4f35-c816-fc88027bfbc0",
        "colab": {
          "base_uri": "https://localhost:8080/",
          "height": 34
        }
      },
      "source": [
        "avg_festival = df[~df['festival_name'].isna()]['ticket_amount'].mean()\n",
        "avg_festival"
      ],
      "execution_count": 19,
      "outputs": [
        {
          "output_type": "execute_result",
          "data": {
            "text/plain": [
              "48662.666666666664"
            ]
          },
          "metadata": {
            "tags": []
          },
          "execution_count": 19
        }
      ]
    },
    {
      "cell_type": "markdown",
      "metadata": {
        "id": "J_FdfQstzDq0"
      },
      "source": [
        "### Подготовим данные для сравнения выборок."
      ]
    },
    {
      "cell_type": "code",
      "metadata": {
        "id": "CNE_nyzlzDq1"
      },
      "source": [
        "ordinary = df[df['festival_name'].isna()]['ticket_amount']\n",
        "festival = df[~df['festival_name'].isna()]['ticket_amount']"
      ],
      "execution_count": 20,
      "outputs": []
    },
    {
      "cell_type": "markdown",
      "metadata": {
        "id": "X10LBbjizDq4"
      },
      "source": [
        "### Видим, что среднее значение количества билетов во время фестивалей меньше, чем когда фестивалей нет."
      ]
    },
    {
      "cell_type": "markdown",
      "metadata": {
        "id": "rZ_mcDfGzDq5"
      },
      "source": [
        "### Формулирование гипотезы:\n",
        "H0 - Средний спрос на билеты во время фестивалей равен среднему спросу на билеты в обычное время.  \n",
        "H1 - Средний спрос на билеты во время фестивалей отличается от среднего спроса на билеты в обычное время (уменьшился).  \n",
        "  \n",
        "Формулирование нулевой гипотезы H0 происходит в соответствии с правилом, что средние двух выборок равные. H1, соответственно, отличаются. Для проверки гипотез будем использовать t-test Стьюдента."
      ]
    },
    {
      "cell_type": "markdown",
      "metadata": {
        "id": "MPOVqQ6HzDrA"
      },
      "source": [
        "### Проверяем гипотезу о равенстве средних значений двух выборок, используя bootstrap."
      ]
    },
    {
      "cell_type": "code",
      "metadata": {
        "id": "H3xXqnPxzDrA",
        "outputId": "efae8d2d-f391-400f-bc8c-aeb951f20d43",
        "colab": {
          "base_uri": "https://localhost:8080/",
          "height": 34
        }
      },
      "source": [
        "ordinary_btsrp = ordinary.sample(n=1000, replace=True, random_state=12345)\n",
        "len(ordinary_btsrp)"
      ],
      "execution_count": 22,
      "outputs": [
        {
          "output_type": "execute_result",
          "data": {
            "text/plain": [
              "1000"
            ]
          },
          "metadata": {
            "tags": []
          },
          "execution_count": 22
        }
      ]
    },
    {
      "cell_type": "code",
      "metadata": {
        "id": "amPnSMeozDrE",
        "outputId": "ab1956bb-04bd-4669-89e5-112b3a485345",
        "colab": {
          "base_uri": "https://localhost:8080/",
          "height": 34
        }
      },
      "source": [
        "festival_btsrp = festival.sample(n=1000, replace=True, random_state=12345)\n",
        "len(festival_btsrp)"
      ],
      "execution_count": 23,
      "outputs": [
        {
          "output_type": "execute_result",
          "data": {
            "text/plain": [
              "1000"
            ]
          },
          "metadata": {
            "tags": []
          },
          "execution_count": 23
        }
      ]
    },
    {
      "cell_type": "markdown",
      "metadata": {
        "id": "8YI8C-cKzDrI"
      },
      "source": [
        "##### Уровень значимости принимаем равным 0.05"
      ]
    },
    {
      "cell_type": "code",
      "metadata": {
        "id": "1gM1iCtDzDrJ",
        "outputId": "ce984e98-76f6-43de-9283-01eb36b3b264",
        "colab": {
          "base_uri": "https://localhost:8080/",
          "height": 51
        }
      },
      "source": [
        "alpha = 0.05\n",
        "\n",
        "results = st.ttest_ind(ordinary_btsrp,festival_btsrp)\n",
        "\n",
        "pvalue = results.pvalue\n",
        "\n",
        "print('p-значение: ', pvalue)\n",
        "\n",
        "if pvalue < alpha:\n",
        "    print(\"Отвергаем нулевую гипотезу: скорее всего средний спрос изменился (уменьшился)\")\n",
        "else:\n",
        "    print(\"Не получилось отвергнуть нулевую гипотезу: скорее всего средний спрос не изменился\")"
      ],
      "execution_count": 24,
      "outputs": [
        {
          "output_type": "stream",
          "text": [
            "p-значение:  1.939588854921057e-118\n",
            "Отвергаем нулевую гипотезу: скорее всего средний спрос изменился (уменьшился)\n"
          ],
          "name": "stdout"
        }
      ]
    },
    {
      "cell_type": "markdown",
      "metadata": {
        "id": "BS4ueURKzDrM"
      },
      "source": [
        "### Проверяем гипотезу о равенстве средних значений двух выборок, используя критерий Манна - Уитни."
      ]
    },
    {
      "cell_type": "code",
      "metadata": {
        "id": "3tESr2-qzDrN",
        "outputId": "c97093fc-b715-489b-d665-7d40b3c03313",
        "colab": {
          "base_uri": "https://localhost:8080/",
          "height": 51
        }
      },
      "source": [
        "alpha = 0.05\n",
        "\n",
        "stat, pvalue = st.mannwhitneyu(ordinary, festival)\n",
        "\n",
        "print('p-значение: ', pvalue)\n",
        "\n",
        "if pvalue < alpha:\n",
        "    print(\"Отвергаем нулевую гипотезу: скорее всего средний спрос изменился (уменьшился)\")\n",
        "else:\n",
        "    print(\"Не получилось отвергнуть нулевую гипотезу: скорее всего средний спрос не изменился\")"
      ],
      "execution_count": 25,
      "outputs": [
        {
          "output_type": "stream",
          "text": [
            "p-значение:  0.03412374418900064\n",
            "Отвергаем нулевую гипотезу: скорее всего средний спрос изменился (уменьшился)\n"
          ],
          "name": "stdout"
        }
      ]
    },
    {
      "cell_type": "markdown",
      "metadata": {
        "id": "jSpTDnFbzDrQ"
      },
      "source": [
        "# Выводы:\n",
        "1. Прповедено ознакомление с данными. Предобработка не потребовалась.\n",
        "2. Построены графики:\n",
        "    * ТОП-10 городов по количеству рейсов. Лидирует столица и города европейской части страны.\n",
        "    * Модели самолётов и количество рейсовна них. Количество рейсов уменьшается обратно пропорционально вместимости пассажиров.\n",
        "    * График городов и среднего количества рейсов в них. Чем дальше на восток от столицы, тем количество рейсов уменьшается.\n",
        "3. Проверена нулевая гипотеза - среднее количество билетов во время проведения фестивалей равно среднему количеству во время без фестивалей.\n",
        "    * При использовании техники bootstrap и увеличении выборок до 1000 единиц статистический тест показал, что среднее, скорее всего, изменилось. P-value было очень низким.\n",
        "    * Использовании критерия Манна-Уитни показывает, что средний спрос, скорее всего изменился. P-value был ниже уровня значимости."
      ]
    },
    {
      "cell_type": "code",
      "metadata": {
        "id": "YDWGc26N5Skl"
      },
      "source": [
        ""
      ],
      "execution_count": null,
      "outputs": []
    }
  ]
}